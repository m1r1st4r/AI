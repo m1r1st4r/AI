{
 "cells": [
  {
   "cell_type": "markdown",
   "id": "076b4dda",
   "metadata": {},
   "source": [
    "### Load required libraries"
   ]
  },
  {
   "cell_type": "code",
   "execution_count": 77,
   "id": "e8452b24",
   "metadata": {},
   "outputs": [],
   "source": [
    "import numpy as np\n",
    "import pandas as pd\n",
    "import seaborn as sns\n",
    "\n",
    "import tensorflow as tf\n",
    "import keras\n",
    "from tensorflow.keras import regularizers\n",
    "from keras.models import Sequential, Model, load_model\n",
    "from keras.layers import Dense, Input\n",
    "from keras.callbacks import ModelCheckpoint\n",
    "from sklearn.model_selection import train_test_split\n",
    "\n",
    "from sklearn.manifold import TSNE\n",
    "from sklearn.decomposition import PCA\n",
    "\n",
    "import matplotlib.pyplot as plt\n",
    "%matplotlib inline\n",
    "\n",
    "import warnings\n",
    "warnings.filterwarnings(\"ignore\")"
   ]
  },
  {
   "cell_type": "markdown",
   "id": "f992f32f",
   "metadata": {},
   "source": [
    "### Load the data"
   ]
  },
  {
   "cell_type": "code",
   "execution_count": 78,
   "id": "cb25d899",
   "metadata": {},
   "outputs": [
    {
     "name": "stdout",
     "output_type": "stream",
     "text": [
      "(284807, 30)\n"
     ]
    },
    {
     "data": {
      "text/html": [
       "<div>\n",
       "<style scoped>\n",
       "    .dataframe tbody tr th:only-of-type {\n",
       "        vertical-align: middle;\n",
       "    }\n",
       "\n",
       "    .dataframe tbody tr th {\n",
       "        vertical-align: top;\n",
       "    }\n",
       "\n",
       "    .dataframe thead th {\n",
       "        text-align: right;\n",
       "    }\n",
       "</style>\n",
       "<table border=\"1\" class=\"dataframe\">\n",
       "  <thead>\n",
       "    <tr style=\"text-align: right;\">\n",
       "      <th></th>\n",
       "      <th>V1</th>\n",
       "      <th>V2</th>\n",
       "      <th>V3</th>\n",
       "      <th>V4</th>\n",
       "      <th>V5</th>\n",
       "      <th>V6</th>\n",
       "      <th>V7</th>\n",
       "      <th>V8</th>\n",
       "      <th>V9</th>\n",
       "      <th>V10</th>\n",
       "      <th>...</th>\n",
       "      <th>V21</th>\n",
       "      <th>V22</th>\n",
       "      <th>V23</th>\n",
       "      <th>V24</th>\n",
       "      <th>V25</th>\n",
       "      <th>V26</th>\n",
       "      <th>V27</th>\n",
       "      <th>V28</th>\n",
       "      <th>Amount</th>\n",
       "      <th>Class</th>\n",
       "    </tr>\n",
       "    <tr>\n",
       "      <th>Time</th>\n",
       "      <th></th>\n",
       "      <th></th>\n",
       "      <th></th>\n",
       "      <th></th>\n",
       "      <th></th>\n",
       "      <th></th>\n",
       "      <th></th>\n",
       "      <th></th>\n",
       "      <th></th>\n",
       "      <th></th>\n",
       "      <th></th>\n",
       "      <th></th>\n",
       "      <th></th>\n",
       "      <th></th>\n",
       "      <th></th>\n",
       "      <th></th>\n",
       "      <th></th>\n",
       "      <th></th>\n",
       "      <th></th>\n",
       "      <th></th>\n",
       "      <th></th>\n",
       "    </tr>\n",
       "  </thead>\n",
       "  <tbody>\n",
       "    <tr>\n",
       "      <th>0.0</th>\n",
       "      <td>-1.359807</td>\n",
       "      <td>-0.072781</td>\n",
       "      <td>2.536347</td>\n",
       "      <td>1.378155</td>\n",
       "      <td>-0.338321</td>\n",
       "      <td>0.462388</td>\n",
       "      <td>0.239599</td>\n",
       "      <td>0.098698</td>\n",
       "      <td>0.363787</td>\n",
       "      <td>0.090794</td>\n",
       "      <td>...</td>\n",
       "      <td>-0.018307</td>\n",
       "      <td>0.277838</td>\n",
       "      <td>-0.110474</td>\n",
       "      <td>0.066928</td>\n",
       "      <td>0.128539</td>\n",
       "      <td>-0.189115</td>\n",
       "      <td>0.133558</td>\n",
       "      <td>-0.021053</td>\n",
       "      <td>149.62</td>\n",
       "      <td>0</td>\n",
       "    </tr>\n",
       "    <tr>\n",
       "      <th>0.0</th>\n",
       "      <td>1.191857</td>\n",
       "      <td>0.266151</td>\n",
       "      <td>0.166480</td>\n",
       "      <td>0.448154</td>\n",
       "      <td>0.060018</td>\n",
       "      <td>-0.082361</td>\n",
       "      <td>-0.078803</td>\n",
       "      <td>0.085102</td>\n",
       "      <td>-0.255425</td>\n",
       "      <td>-0.166974</td>\n",
       "      <td>...</td>\n",
       "      <td>-0.225775</td>\n",
       "      <td>-0.638672</td>\n",
       "      <td>0.101288</td>\n",
       "      <td>-0.339846</td>\n",
       "      <td>0.167170</td>\n",
       "      <td>0.125895</td>\n",
       "      <td>-0.008983</td>\n",
       "      <td>0.014724</td>\n",
       "      <td>2.69</td>\n",
       "      <td>0</td>\n",
       "    </tr>\n",
       "    <tr>\n",
       "      <th>1.0</th>\n",
       "      <td>-1.358354</td>\n",
       "      <td>-1.340163</td>\n",
       "      <td>1.773209</td>\n",
       "      <td>0.379780</td>\n",
       "      <td>-0.503198</td>\n",
       "      <td>1.800499</td>\n",
       "      <td>0.791461</td>\n",
       "      <td>0.247676</td>\n",
       "      <td>-1.514654</td>\n",
       "      <td>0.207643</td>\n",
       "      <td>...</td>\n",
       "      <td>0.247998</td>\n",
       "      <td>0.771679</td>\n",
       "      <td>0.909412</td>\n",
       "      <td>-0.689281</td>\n",
       "      <td>-0.327642</td>\n",
       "      <td>-0.139097</td>\n",
       "      <td>-0.055353</td>\n",
       "      <td>-0.059752</td>\n",
       "      <td>378.66</td>\n",
       "      <td>0</td>\n",
       "    </tr>\n",
       "    <tr>\n",
       "      <th>1.0</th>\n",
       "      <td>-0.966272</td>\n",
       "      <td>-0.185226</td>\n",
       "      <td>1.792993</td>\n",
       "      <td>-0.863291</td>\n",
       "      <td>-0.010309</td>\n",
       "      <td>1.247203</td>\n",
       "      <td>0.237609</td>\n",
       "      <td>0.377436</td>\n",
       "      <td>-1.387024</td>\n",
       "      <td>-0.054952</td>\n",
       "      <td>...</td>\n",
       "      <td>-0.108300</td>\n",
       "      <td>0.005274</td>\n",
       "      <td>-0.190321</td>\n",
       "      <td>-1.175575</td>\n",
       "      <td>0.647376</td>\n",
       "      <td>-0.221929</td>\n",
       "      <td>0.062723</td>\n",
       "      <td>0.061458</td>\n",
       "      <td>123.50</td>\n",
       "      <td>0</td>\n",
       "    </tr>\n",
       "    <tr>\n",
       "      <th>2.0</th>\n",
       "      <td>-1.158233</td>\n",
       "      <td>0.877737</td>\n",
       "      <td>1.548718</td>\n",
       "      <td>0.403034</td>\n",
       "      <td>-0.407193</td>\n",
       "      <td>0.095921</td>\n",
       "      <td>0.592941</td>\n",
       "      <td>-0.270533</td>\n",
       "      <td>0.817739</td>\n",
       "      <td>0.753074</td>\n",
       "      <td>...</td>\n",
       "      <td>-0.009431</td>\n",
       "      <td>0.798278</td>\n",
       "      <td>-0.137458</td>\n",
       "      <td>0.141267</td>\n",
       "      <td>-0.206010</td>\n",
       "      <td>0.502292</td>\n",
       "      <td>0.219422</td>\n",
       "      <td>0.215153</td>\n",
       "      <td>69.99</td>\n",
       "      <td>0</td>\n",
       "    </tr>\n",
       "  </tbody>\n",
       "</table>\n",
       "<p>5 rows × 30 columns</p>\n",
       "</div>"
      ],
      "text/plain": [
       "            V1        V2        V3        V4        V5        V6        V7  \\\n",
       "Time                                                                         \n",
       "0.0  -1.359807 -0.072781  2.536347  1.378155 -0.338321  0.462388  0.239599   \n",
       "0.0   1.191857  0.266151  0.166480  0.448154  0.060018 -0.082361 -0.078803   \n",
       "1.0  -1.358354 -1.340163  1.773209  0.379780 -0.503198  1.800499  0.791461   \n",
       "1.0  -0.966272 -0.185226  1.792993 -0.863291 -0.010309  1.247203  0.237609   \n",
       "2.0  -1.158233  0.877737  1.548718  0.403034 -0.407193  0.095921  0.592941   \n",
       "\n",
       "            V8        V9       V10  ...       V21       V22       V23  \\\n",
       "Time                                ...                                 \n",
       "0.0   0.098698  0.363787  0.090794  ... -0.018307  0.277838 -0.110474   \n",
       "0.0   0.085102 -0.255425 -0.166974  ... -0.225775 -0.638672  0.101288   \n",
       "1.0   0.247676 -1.514654  0.207643  ...  0.247998  0.771679  0.909412   \n",
       "1.0   0.377436 -1.387024 -0.054952  ... -0.108300  0.005274 -0.190321   \n",
       "2.0  -0.270533  0.817739  0.753074  ... -0.009431  0.798278 -0.137458   \n",
       "\n",
       "           V24       V25       V26       V27       V28  Amount  Class  \n",
       "Time                                                                   \n",
       "0.0   0.066928  0.128539 -0.189115  0.133558 -0.021053  149.62      0  \n",
       "0.0  -0.339846  0.167170  0.125895 -0.008983  0.014724    2.69      0  \n",
       "1.0  -0.689281 -0.327642 -0.139097 -0.055353 -0.059752  378.66      0  \n",
       "1.0  -1.175575  0.647376 -0.221929  0.062723  0.061458  123.50      0  \n",
       "2.0   0.141267 -0.206010  0.502292  0.219422  0.215153   69.99      0  \n",
       "\n",
       "[5 rows x 30 columns]"
      ]
     },
     "execution_count": 78,
     "metadata": {},
     "output_type": "execute_result"
    }
   ],
   "source": [
    "df = pd.read_csv('./data/creditcard.csv', index_col=0)\n",
    "print(df.shape)\n",
    "df.head()"
   ]
  },
  {
   "cell_type": "markdown",
   "id": "745866b7",
   "metadata": {},
   "source": [
    "#### Data check"
   ]
  },
  {
   "cell_type": "code",
   "execution_count": 79,
   "id": "46528b9f",
   "metadata": {},
   "outputs": [
    {
     "data": {
      "text/plain": [
       "0    0.998273\n",
       "1    0.001727\n",
       "Name: Class, dtype: float64"
      ]
     },
     "execution_count": 79,
     "metadata": {},
     "output_type": "execute_result"
    }
   ],
   "source": [
    "df['Class'].value_counts(normalize=True)"
   ]
  },
  {
   "cell_type": "code",
   "execution_count": 80,
   "id": "85a6f8c4",
   "metadata": {},
   "outputs": [
    {
     "data": {
      "text/plain": [
       "Index(['V1', 'V2', 'V3', 'V4', 'V5', 'V6', 'V7', 'V8', 'V9', 'V10', 'V11',\n",
       "       'V12', 'V13', 'V14', 'V15', 'V16', 'V17', 'V18', 'V19', 'V20', 'V21',\n",
       "       'V22', 'V23', 'V24', 'V25', 'V26', 'V27', 'V28', 'Amount', 'Class'],\n",
       "      dtype='object')"
      ]
     },
     "execution_count": 80,
     "metadata": {},
     "output_type": "execute_result"
    }
   ],
   "source": [
    "df.columns"
   ]
  },
  {
   "cell_type": "code",
   "execution_count": 81,
   "id": "cebc4bcb",
   "metadata": {},
   "outputs": [
    {
     "data": {
      "text/plain": [
       "False"
      ]
     },
     "execution_count": 81,
     "metadata": {},
     "output_type": "execute_result"
    }
   ],
   "source": [
    "df.isnull().values.any()"
   ]
  },
  {
   "cell_type": "code",
   "execution_count": 82,
   "id": "85851fed",
   "metadata": {},
   "outputs": [],
   "source": [
    "df = df.drop(['Amount'], axis=1)"
   ]
  },
  {
   "cell_type": "markdown",
   "id": "bf0d4248",
   "metadata": {},
   "source": [
    "### Train/test split"
   ]
  },
  {
   "cell_type": "code",
   "execution_count": 83,
   "id": "1fc791be",
   "metadata": {},
   "outputs": [
    {
     "name": "stdout",
     "output_type": "stream",
     "text": [
      "Frauds shape: (492, 29)\n",
      "Normal shape: (284315, 29)\n"
     ]
    }
   ],
   "source": [
    "frauds = df[df.Class == 1]\n",
    "#normal = df[df.Class == 0].sample(10000)\n",
    "normal = df[df.Class == 0]\n",
    "print(\"Frauds shape: {}\".format(frauds.shape))\n",
    "print(\"Normal shape: {}\".format(normal.shape))"
   ]
  },
  {
   "cell_type": "code",
   "execution_count": 84,
   "id": "54c7a86c",
   "metadata": {},
   "outputs": [
    {
     "data": {
      "text/plain": [
       "(284807, 29)"
      ]
     },
     "execution_count": 84,
     "metadata": {},
     "output_type": "execute_result"
    }
   ],
   "source": [
    "data = pd.concat([frauds, normal])\n",
    "data.shape"
   ]
  },
  {
   "cell_type": "code",
   "execution_count": 85,
   "id": "93a3c174",
   "metadata": {},
   "outputs": [
    {
     "name": "stdout",
     "output_type": "stream",
     "text": [
      "X_train shape: (199013, 28)\n",
      "X_test shape: (85443, 28)\n"
     ]
    }
   ],
   "source": [
    "X_train, X_test = train_test_split(data, test_size=0.3, random_state=42)\n",
    "X_train = X_train[X_train.Class == 0]\n",
    "X_train = X_train.drop(['Class'], axis=1)\n",
    "\n",
    "X_test, y_test = X_test.drop(['Class'], axis=1).values, X_test['Class'].values\n",
    "\n",
    "print(\"X_train shape: {}\".format(X_train.shape))\n",
    "print(\"X_test shape: {}\".format(X_test.shape))"
   ]
  },
  {
   "cell_type": "markdown",
   "id": "b8693770",
   "metadata": {},
   "source": [
    "### Visualize the data with TSNE and PCA"
   ]
  },
  {
   "cell_type": "code",
   "execution_count": 86,
   "id": "99356900",
   "metadata": {},
   "outputs": [],
   "source": [
    "x1 = df[df.Class == 1]\n",
    "x2 = df[df.Class == 0].sample(10000)\n",
    "\n",
    "dfd = x1.append(x2)\n",
    "x = dfd.drop(['Class'], axis=1)\n",
    "y = dfd['Class'].values\n",
    "\n",
    "SEED = 42"
   ]
  },
  {
   "cell_type": "code",
   "execution_count": 87,
   "id": "f15c9dc1",
   "metadata": {},
   "outputs": [
    {
     "data": {
      "image/png": "[encoded data removed]",
      "text/plain": [
       "<Figure size 1200x800 with 1 Axes>"
      ]
     },
     "metadata": {},
     "output_type": "display_data"
    }
   ],
   "source": [
    "tsne = TSNE(n_components=2, random_state=SEED).fit_transform(x)\n",
    "plt.figure(figsize=(12,8));\n",
    "plt.scatter(tsne[np.where(y==0), 0], y=tsne[np.where(y==0), 1], color=\"blue\", label='Normal')\n",
    "plt.scatter(x=tsne[np.where(y==1), 0], y=tsne[np.where(y==1), 1], color=\"red\", label='Fraud')\n",
    "plt.title('t-SNE Plot')\n",
    "plt.legend()\n",
    "plt.show()"
   ]
  },
  {
   "cell_type": "code",
   "execution_count": 88,
   "id": "772add1e",
   "metadata": {},
   "outputs": [
    {
     "data": {
      "image/png": "[encoded data removed]",
      "text/plain": [
       "<Figure size 1200x800 with 1 Axes>"
      ]
     },
     "metadata": {},
     "output_type": "display_data"
    }
   ],
   "source": [
    "pca = PCA(n_components=2, random_state=SEED).fit_transform(x)\n",
    "plt.figure(figsize=(12,8));\n",
    "plt.scatter(pca[np.where(y==0), 0], y=pca[np.where(y==0), 1], color=\"blue\", label='Normal')\n",
    "plt.scatter(x=pca[np.where(y==1), 0], y=pca[np.where(y==1), 1], color=\"red\", label='Fraud')\n",
    "plt.title('PCA Plot')\n",
    "plt.legend()\n",
    "plt.show()"
   ]
  },
  {
   "cell_type": "markdown",
   "id": "31a69585",
   "metadata": {},
   "source": [
    "#### Normalize the data"
   ]
  },
  {
   "cell_type": "code",
   "execution_count": 89,
   "id": "8e0631dd",
   "metadata": {},
   "outputs": [],
   "source": [
    "from sklearn.preprocessing import MinMaxScaler\n",
    "\n",
    "scaler = MinMaxScaler()\n",
    "\n",
    "scaler.fit_transform(X_train);\n",
    "scaler.transform(X_test);"
   ]
  },
  {
   "cell_type": "markdown",
   "id": "4bd02e50",
   "metadata": {},
   "source": [
    "#### Add Noise in data"
   ]
  },
  {
   "cell_type": "code",
   "execution_count": 90,
   "id": "35219bea",
   "metadata": {},
   "outputs": [],
   "source": [
    "noise_factor = 0.5;\n",
    "X_train_noise = X_train + noise_factor*np.random.normal(loc=0.0, scale=1.0, size=X_train.shape)\n",
    "X_test_noise = X_test + noise_factor*np.random.normal(loc=0.0, scale=1.0, size=X_test.shape)"
   ]
  },
  {
   "cell_type": "code",
   "execution_count": 91,
   "id": "0a39c877",
   "metadata": {},
   "outputs": [
    {
     "data": {
      "text/html": [
       "<div>\n",
       "<style scoped>\n",
       "    .dataframe tbody tr th:only-of-type {\n",
       "        vertical-align: middle;\n",
       "    }\n",
       "\n",
       "    .dataframe tbody tr th {\n",
       "        vertical-align: top;\n",
       "    }\n",
       "\n",
       "    .dataframe thead th {\n",
       "        text-align: right;\n",
       "    }\n",
       "</style>\n",
       "<table border=\"1\" class=\"dataframe\">\n",
       "  <thead>\n",
       "    <tr style=\"text-align: right;\">\n",
       "      <th></th>\n",
       "      <th>V1</th>\n",
       "      <th>V2</th>\n",
       "      <th>V3</th>\n",
       "      <th>V4</th>\n",
       "      <th>V5</th>\n",
       "      <th>V6</th>\n",
       "      <th>V7</th>\n",
       "      <th>V8</th>\n",
       "      <th>V9</th>\n",
       "      <th>V10</th>\n",
       "      <th>...</th>\n",
       "      <th>V19</th>\n",
       "      <th>V20</th>\n",
       "      <th>V21</th>\n",
       "      <th>V22</th>\n",
       "      <th>V23</th>\n",
       "      <th>V24</th>\n",
       "      <th>V25</th>\n",
       "      <th>V26</th>\n",
       "      <th>V27</th>\n",
       "      <th>V28</th>\n",
       "    </tr>\n",
       "    <tr>\n",
       "      <th>Time</th>\n",
       "      <th></th>\n",
       "      <th></th>\n",
       "      <th></th>\n",
       "      <th></th>\n",
       "      <th></th>\n",
       "      <th></th>\n",
       "      <th></th>\n",
       "      <th></th>\n",
       "      <th></th>\n",
       "      <th></th>\n",
       "      <th></th>\n",
       "      <th></th>\n",
       "      <th></th>\n",
       "      <th></th>\n",
       "      <th></th>\n",
       "      <th></th>\n",
       "      <th></th>\n",
       "      <th></th>\n",
       "      <th></th>\n",
       "      <th></th>\n",
       "      <th></th>\n",
       "    </tr>\n",
       "  </thead>\n",
       "  <tbody>\n",
       "    <tr>\n",
       "      <th>1597.0</th>\n",
       "      <td>-0.447016</td>\n",
       "      <td>0.865305</td>\n",
       "      <td>1.317656</td>\n",
       "      <td>-0.031990</td>\n",
       "      <td>-0.049573</td>\n",
       "      <td>-0.348205</td>\n",
       "      <td>0.401046</td>\n",
       "      <td>0.327438</td>\n",
       "      <td>-0.328063</td>\n",
       "      <td>-0.324674</td>\n",
       "      <td>...</td>\n",
       "      <td>-0.222342</td>\n",
       "      <td>-0.051299</td>\n",
       "      <td>-0.195072</td>\n",
       "      <td>-0.612429</td>\n",
       "      <td>0.064959</td>\n",
       "      <td>0.109621</td>\n",
       "      <td>-0.366456</td>\n",
       "      <td>0.079036</td>\n",
       "      <td>0.242154</td>\n",
       "      <td>0.082075</td>\n",
       "    </tr>\n",
       "    <tr>\n",
       "      <th>153690.0</th>\n",
       "      <td>-0.776571</td>\n",
       "      <td>0.804383</td>\n",
       "      <td>0.849559</td>\n",
       "      <td>-0.617220</td>\n",
       "      <td>-0.054136</td>\n",
       "      <td>0.523930</td>\n",
       "      <td>-0.307065</td>\n",
       "      <td>0.847935</td>\n",
       "      <td>0.278560</td>\n",
       "      <td>-0.668078</td>\n",
       "      <td>...</td>\n",
       "      <td>0.459711</td>\n",
       "      <td>-0.072367</td>\n",
       "      <td>0.354584</td>\n",
       "      <td>1.058180</td>\n",
       "      <td>-0.304391</td>\n",
       "      <td>0.268749</td>\n",
       "      <td>0.006518</td>\n",
       "      <td>-0.070282</td>\n",
       "      <td>0.284993</td>\n",
       "      <td>0.138072</td>\n",
       "    </tr>\n",
       "    <tr>\n",
       "      <th>97031.0</th>\n",
       "      <td>2.053647</td>\n",
       "      <td>0.243291</td>\n",
       "      <td>-1.872014</td>\n",
       "      <td>0.596880</td>\n",
       "      <td>0.570019</td>\n",
       "      <td>-1.064779</td>\n",
       "      <td>0.229696</td>\n",
       "      <td>-0.460595</td>\n",
       "      <td>1.865564</td>\n",
       "      <td>-0.865344</td>\n",
       "      <td>...</td>\n",
       "      <td>-0.386951</td>\n",
       "      <td>-0.145679</td>\n",
       "      <td>0.021229</td>\n",
       "      <td>0.442260</td>\n",
       "      <td>-0.123783</td>\n",
       "      <td>-0.768147</td>\n",
       "      <td>0.323993</td>\n",
       "      <td>-0.103481</td>\n",
       "      <td>-0.033083</td>\n",
       "      <td>-0.038749</td>\n",
       "    </tr>\n",
       "    <tr>\n",
       "      <th>68508.0</th>\n",
       "      <td>1.180688</td>\n",
       "      <td>0.024251</td>\n",
       "      <td>0.955792</td>\n",
       "      <td>0.527480</td>\n",
       "      <td>-0.767446</td>\n",
       "      <td>-0.404405</td>\n",
       "      <td>-0.428924</td>\n",
       "      <td>0.069926</td>\n",
       "      <td>0.093850</td>\n",
       "      <td>0.079937</td>\n",
       "      <td>...</td>\n",
       "      <td>-0.035820</td>\n",
       "      <td>-0.063934</td>\n",
       "      <td>-0.032497</td>\n",
       "      <td>-0.117500</td>\n",
       "      <td>0.077052</td>\n",
       "      <td>0.340947</td>\n",
       "      <td>0.136221</td>\n",
       "      <td>0.195824</td>\n",
       "      <td>-0.009098</td>\n",
       "      <td>0.016719</td>\n",
       "    </tr>\n",
       "    <tr>\n",
       "      <th>11086.0</th>\n",
       "      <td>-0.182049</td>\n",
       "      <td>0.534337</td>\n",
       "      <td>1.317379</td>\n",
       "      <td>1.735990</td>\n",
       "      <td>-0.472466</td>\n",
       "      <td>1.531518</td>\n",
       "      <td>-0.724238</td>\n",
       "      <td>-1.384876</td>\n",
       "      <td>2.000744</td>\n",
       "      <td>-0.614165</td>\n",
       "      <td>...</td>\n",
       "      <td>0.734191</td>\n",
       "      <td>-0.434316</td>\n",
       "      <td>1.199651</td>\n",
       "      <td>-0.939429</td>\n",
       "      <td>-0.507470</td>\n",
       "      <td>-0.813763</td>\n",
       "      <td>1.148263</td>\n",
       "      <td>0.005315</td>\n",
       "      <td>0.268109</td>\n",
       "      <td>0.163228</td>\n",
       "    </tr>\n",
       "    <tr>\n",
       "      <th>...</th>\n",
       "      <td>...</td>\n",
       "      <td>...</td>\n",
       "      <td>...</td>\n",
       "      <td>...</td>\n",
       "      <td>...</td>\n",
       "      <td>...</td>\n",
       "      <td>...</td>\n",
       "      <td>...</td>\n",
       "      <td>...</td>\n",
       "      <td>...</td>\n",
       "      <td>...</td>\n",
       "      <td>...</td>\n",
       "      <td>...</td>\n",
       "      <td>...</td>\n",
       "      <td>...</td>\n",
       "      <td>...</td>\n",
       "      <td>...</td>\n",
       "      <td>...</td>\n",
       "      <td>...</td>\n",
       "      <td>...</td>\n",
       "      <td>...</td>\n",
       "    </tr>\n",
       "    <tr>\n",
       "      <th>75525.0</th>\n",
       "      <td>-1.057005</td>\n",
       "      <td>1.158519</td>\n",
       "      <td>1.232596</td>\n",
       "      <td>1.140679</td>\n",
       "      <td>-0.186492</td>\n",
       "      <td>0.407923</td>\n",
       "      <td>1.505036</td>\n",
       "      <td>-0.129395</td>\n",
       "      <td>-0.729305</td>\n",
       "      <td>0.218051</td>\n",
       "      <td>...</td>\n",
       "      <td>-1.265839</td>\n",
       "      <td>-0.504789</td>\n",
       "      <td>-0.299197</td>\n",
       "      <td>-1.010943</td>\n",
       "      <td>-0.088265</td>\n",
       "      <td>-0.561599</td>\n",
       "      <td>-0.365902</td>\n",
       "      <td>-0.510134</td>\n",
       "      <td>-0.182902</td>\n",
       "      <td>0.078162</td>\n",
       "    </tr>\n",
       "    <tr>\n",
       "      <th>158989.0</th>\n",
       "      <td>2.182974</td>\n",
       "      <td>-1.008460</td>\n",
       "      <td>-2.834986</td>\n",
       "      <td>-3.264015</td>\n",
       "      <td>0.830545</td>\n",
       "      <td>0.294460</td>\n",
       "      <td>-0.090330</td>\n",
       "      <td>-0.001023</td>\n",
       "      <td>0.272701</td>\n",
       "      <td>-0.272232</td>\n",
       "      <td>...</td>\n",
       "      <td>-0.174136</td>\n",
       "      <td>-0.679827</td>\n",
       "      <td>-0.144837</td>\n",
       "      <td>0.331923</td>\n",
       "      <td>0.031033</td>\n",
       "      <td>-0.945655</td>\n",
       "      <td>0.347180</td>\n",
       "      <td>-0.583293</td>\n",
       "      <td>0.053490</td>\n",
       "      <td>-0.086282</td>\n",
       "    </tr>\n",
       "    <tr>\n",
       "      <th>79704.0</th>\n",
       "      <td>1.306778</td>\n",
       "      <td>0.022181</td>\n",
       "      <td>-0.163723</td>\n",
       "      <td>-0.009640</td>\n",
       "      <td>-0.265932</td>\n",
       "      <td>-1.076554</td>\n",
       "      <td>0.210551</td>\n",
       "      <td>-0.192439</td>\n",
       "      <td>0.225730</td>\n",
       "      <td>-0.090900</td>\n",
       "      <td>...</td>\n",
       "      <td>0.474472</td>\n",
       "      <td>-0.140273</td>\n",
       "      <td>-0.487847</td>\n",
       "      <td>-1.571589</td>\n",
       "      <td>0.155160</td>\n",
       "      <td>-0.153331</td>\n",
       "      <td>0.103053</td>\n",
       "      <td>0.657813</td>\n",
       "      <td>-0.115548</td>\n",
       "      <td>-0.002626</td>\n",
       "    </tr>\n",
       "    <tr>\n",
       "      <th>87806.0</th>\n",
       "      <td>-0.090395</td>\n",
       "      <td>1.945630</td>\n",
       "      <td>0.110409</td>\n",
       "      <td>3.576817</td>\n",
       "      <td>1.808763</td>\n",
       "      <td>0.116459</td>\n",
       "      <td>1.290151</td>\n",
       "      <td>-0.101369</td>\n",
       "      <td>-2.092431</td>\n",
       "      <td>0.240872</td>\n",
       "      <td>...</td>\n",
       "      <td>-0.384214</td>\n",
       "      <td>0.060361</td>\n",
       "      <td>-0.330813</td>\n",
       "      <td>-0.816633</td>\n",
       "      <td>-0.067784</td>\n",
       "      <td>-0.711654</td>\n",
       "      <td>-0.796666</td>\n",
       "      <td>-0.265907</td>\n",
       "      <td>0.039842</td>\n",
       "      <td>0.024192</td>\n",
       "    </tr>\n",
       "    <tr>\n",
       "      <th>76289.0</th>\n",
       "      <td>0.946585</td>\n",
       "      <td>-0.477232</td>\n",
       "      <td>1.125240</td>\n",
       "      <td>0.539594</td>\n",
       "      <td>-0.284746</td>\n",
       "      <td>2.044454</td>\n",
       "      <td>-1.107094</td>\n",
       "      <td>0.858359</td>\n",
       "      <td>0.757033</td>\n",
       "      <td>-0.243686</td>\n",
       "      <td>...</td>\n",
       "      <td>-1.297047</td>\n",
       "      <td>-0.264693</td>\n",
       "      <td>0.073049</td>\n",
       "      <td>0.480088</td>\n",
       "      <td>0.152317</td>\n",
       "      <td>-0.988593</td>\n",
       "      <td>-0.114120</td>\n",
       "      <td>0.429715</td>\n",
       "      <td>0.079519</td>\n",
       "      <td>0.001352</td>\n",
       "    </tr>\n",
       "  </tbody>\n",
       "</table>\n",
       "<p>199013 rows × 28 columns</p>\n",
       "</div>"
      ],
      "text/plain": [
       "                V1        V2        V3        V4        V5        V6  \\\n",
       "Time                                                                   \n",
       "1597.0   -0.447016  0.865305  1.317656 -0.031990 -0.049573 -0.348205   \n",
       "153690.0 -0.776571  0.804383  0.849559 -0.617220 -0.054136  0.523930   \n",
       "97031.0   2.053647  0.243291 -1.872014  0.596880  0.570019 -1.064779   \n",
       "68508.0   1.180688  0.024251  0.955792  0.527480 -0.767446 -0.404405   \n",
       "11086.0  -0.182049  0.534337  1.317379  1.735990 -0.472466  1.531518   \n",
       "...            ...       ...       ...       ...       ...       ...   \n",
       "75525.0  -1.057005  1.158519  1.232596  1.140679 -0.186492  0.407923   \n",
       "158989.0  2.182974 -1.008460 -2.834986 -3.264015  0.830545  0.294460   \n",
       "79704.0   1.306778  0.022181 -0.163723 -0.009640 -0.265932 -1.076554   \n",
       "87806.0  -0.090395  1.945630  0.110409  3.576817  1.808763  0.116459   \n",
       "76289.0   0.946585 -0.477232  1.125240  0.539594 -0.284746  2.044454   \n",
       "\n",
       "                V7        V8        V9       V10  ...       V19       V20  \\\n",
       "Time                                              ...                       \n",
       "1597.0    0.401046  0.327438 -0.328063 -0.324674  ... -0.222342 -0.051299   \n",
       "153690.0 -0.307065  0.847935  0.278560 -0.668078  ...  0.459711 -0.072367   \n",
       "97031.0   0.229696 -0.460595  1.865564 -0.865344  ... -0.386951 -0.145679   \n",
       "68508.0  -0.428924  0.069926  0.093850  0.079937  ... -0.035820 -0.063934   \n",
       "11086.0  -0.724238 -1.384876  2.000744 -0.614165  ...  0.734191 -0.434316   \n",
       "...            ...       ...       ...       ...  ...       ...       ...   \n",
       "75525.0   1.505036 -0.129395 -0.729305  0.218051  ... -1.265839 -0.504789   \n",
       "158989.0 -0.090330 -0.001023  0.272701 -0.272232  ... -0.174136 -0.679827   \n",
       "79704.0   0.210551 -0.192439  0.225730 -0.090900  ...  0.474472 -0.140273   \n",
       "87806.0   1.290151 -0.101369 -2.092431  0.240872  ... -0.384214  0.060361   \n",
       "76289.0  -1.107094  0.858359  0.757033 -0.243686  ... -1.297047 -0.264693   \n",
       "\n",
       "               V21       V22       V23       V24       V25       V26  \\\n",
       "Time                                                                   \n",
       "1597.0   -0.195072 -0.612429  0.064959  0.109621 -0.366456  0.079036   \n",
       "153690.0  0.354584  1.058180 -0.304391  0.268749  0.006518 -0.070282   \n",
       "97031.0   0.021229  0.442260 -0.123783 -0.768147  0.323993 -0.103481   \n",
       "68508.0  -0.032497 -0.117500  0.077052  0.340947  0.136221  0.195824   \n",
       "11086.0   1.199651 -0.939429 -0.507470 -0.813763  1.148263  0.005315   \n",
       "...            ...       ...       ...       ...       ...       ...   \n",
       "75525.0  -0.299197 -1.010943 -0.088265 -0.561599 -0.365902 -0.510134   \n",
       "158989.0 -0.144837  0.331923  0.031033 -0.945655  0.347180 -0.583293   \n",
       "79704.0  -0.487847 -1.571589  0.155160 -0.153331  0.103053  0.657813   \n",
       "87806.0  -0.330813 -0.816633 -0.067784 -0.711654 -0.796666 -0.265907   \n",
       "76289.0   0.073049  0.480088  0.152317 -0.988593 -0.114120  0.429715   \n",
       "\n",
       "               V27       V28  \n",
       "Time                          \n",
       "1597.0    0.242154  0.082075  \n",
       "153690.0  0.284993  0.138072  \n",
       "97031.0  -0.033083 -0.038749  \n",
       "68508.0  -0.009098  0.016719  \n",
       "11086.0   0.268109  0.163228  \n",
       "...            ...       ...  \n",
       "75525.0  -0.182902  0.078162  \n",
       "158989.0  0.053490 -0.086282  \n",
       "79704.0  -0.115548 -0.002626  \n",
       "87806.0   0.039842  0.024192  \n",
       "76289.0   0.079519  0.001352  \n",
       "\n",
       "[199013 rows x 28 columns]"
      ]
     },
     "execution_count": 91,
     "metadata": {},
     "output_type": "execute_result"
    }
   ],
   "source": [
    "X_train"
   ]
  },
  {
   "cell_type": "code",
   "execution_count": 92,
   "id": "026c14bf",
   "metadata": {},
   "outputs": [
    {
     "data": {
      "text/html": [
       "<div>\n",
       "<style scoped>\n",
       "    .dataframe tbody tr th:only-of-type {\n",
       "        vertical-align: middle;\n",
       "    }\n",
       "\n",
       "    .dataframe tbody tr th {\n",
       "        vertical-align: top;\n",
       "    }\n",
       "\n",
       "    .dataframe thead th {\n",
       "        text-align: right;\n",
       "    }\n",
       "</style>\n",
       "<table border=\"1\" class=\"dataframe\">\n",
       "  <thead>\n",
       "    <tr style=\"text-align: right;\">\n",
       "      <th></th>\n",
       "      <th>V1</th>\n",
       "      <th>V2</th>\n",
       "      <th>V3</th>\n",
       "      <th>V4</th>\n",
       "      <th>V5</th>\n",
       "      <th>V6</th>\n",
       "      <th>V7</th>\n",
       "      <th>V8</th>\n",
       "      <th>V9</th>\n",
       "      <th>V10</th>\n",
       "      <th>...</th>\n",
       "      <th>V19</th>\n",
       "      <th>V20</th>\n",
       "      <th>V21</th>\n",
       "      <th>V22</th>\n",
       "      <th>V23</th>\n",
       "      <th>V24</th>\n",
       "      <th>V25</th>\n",
       "      <th>V26</th>\n",
       "      <th>V27</th>\n",
       "      <th>V28</th>\n",
       "    </tr>\n",
       "    <tr>\n",
       "      <th>Time</th>\n",
       "      <th></th>\n",
       "      <th></th>\n",
       "      <th></th>\n",
       "      <th></th>\n",
       "      <th></th>\n",
       "      <th></th>\n",
       "      <th></th>\n",
       "      <th></th>\n",
       "      <th></th>\n",
       "      <th></th>\n",
       "      <th></th>\n",
       "      <th></th>\n",
       "      <th></th>\n",
       "      <th></th>\n",
       "      <th></th>\n",
       "      <th></th>\n",
       "      <th></th>\n",
       "      <th></th>\n",
       "      <th></th>\n",
       "      <th></th>\n",
       "      <th></th>\n",
       "    </tr>\n",
       "  </thead>\n",
       "  <tbody>\n",
       "    <tr>\n",
       "      <th>1597.0</th>\n",
       "      <td>-0.323057</td>\n",
       "      <td>1.735032</td>\n",
       "      <td>1.068918</td>\n",
       "      <td>-0.127013</td>\n",
       "      <td>0.235843</td>\n",
       "      <td>-0.680485</td>\n",
       "      <td>0.785280</td>\n",
       "      <td>0.409330</td>\n",
       "      <td>-0.844261</td>\n",
       "      <td>0.180253</td>\n",
       "      <td>...</td>\n",
       "      <td>0.289033</td>\n",
       "      <td>-0.860018</td>\n",
       "      <td>-0.578782</td>\n",
       "      <td>-1.471001</td>\n",
       "      <td>-1.283704</td>\n",
       "      <td>0.039039</td>\n",
       "      <td>-0.118770</td>\n",
       "      <td>0.306907</td>\n",
       "      <td>-0.341366</td>\n",
       "      <td>0.508668</td>\n",
       "    </tr>\n",
       "    <tr>\n",
       "      <th>153690.0</th>\n",
       "      <td>-0.612818</td>\n",
       "      <td>1.591838</td>\n",
       "      <td>0.555876</td>\n",
       "      <td>-0.614923</td>\n",
       "      <td>-0.098483</td>\n",
       "      <td>1.199139</td>\n",
       "      <td>1.088576</td>\n",
       "      <td>1.061508</td>\n",
       "      <td>0.207600</td>\n",
       "      <td>-1.136274</td>\n",
       "      <td>...</td>\n",
       "      <td>0.259777</td>\n",
       "      <td>-0.636595</td>\n",
       "      <td>-0.350867</td>\n",
       "      <td>0.473221</td>\n",
       "      <td>0.043382</td>\n",
       "      <td>0.464408</td>\n",
       "      <td>-0.299185</td>\n",
       "      <td>-0.308858</td>\n",
       "      <td>0.153686</td>\n",
       "      <td>0.518155</td>\n",
       "    </tr>\n",
       "    <tr>\n",
       "      <th>97031.0</th>\n",
       "      <td>1.095068</td>\n",
       "      <td>0.118829</td>\n",
       "      <td>-2.239820</td>\n",
       "      <td>0.699030</td>\n",
       "      <td>0.766293</td>\n",
       "      <td>-0.747458</td>\n",
       "      <td>0.161364</td>\n",
       "      <td>-1.328032</td>\n",
       "      <td>2.900347</td>\n",
       "      <td>-0.524629</td>\n",
       "      <td>...</td>\n",
       "      <td>-0.500526</td>\n",
       "      <td>-0.100826</td>\n",
       "      <td>0.343288</td>\n",
       "      <td>0.710743</td>\n",
       "      <td>-0.906113</td>\n",
       "      <td>-0.377294</td>\n",
       "      <td>1.187749</td>\n",
       "      <td>-0.313922</td>\n",
       "      <td>0.146724</td>\n",
       "      <td>0.192964</td>\n",
       "    </tr>\n",
       "    <tr>\n",
       "      <th>68508.0</th>\n",
       "      <td>1.375536</td>\n",
       "      <td>-0.454800</td>\n",
       "      <td>0.499678</td>\n",
       "      <td>0.276746</td>\n",
       "      <td>-0.714542</td>\n",
       "      <td>-0.543798</td>\n",
       "      <td>-0.311607</td>\n",
       "      <td>-0.922815</td>\n",
       "      <td>-0.401186</td>\n",
       "      <td>-0.514828</td>\n",
       "      <td>...</td>\n",
       "      <td>-0.730144</td>\n",
       "      <td>-1.509613</td>\n",
       "      <td>-1.016952</td>\n",
       "      <td>-0.660679</td>\n",
       "      <td>0.118202</td>\n",
       "      <td>0.804942</td>\n",
       "      <td>0.182882</td>\n",
       "      <td>0.088829</td>\n",
       "      <td>0.079381</td>\n",
       "      <td>0.667718</td>\n",
       "    </tr>\n",
       "    <tr>\n",
       "      <th>11086.0</th>\n",
       "      <td>-0.658679</td>\n",
       "      <td>0.344490</td>\n",
       "      <td>1.710337</td>\n",
       "      <td>1.576191</td>\n",
       "      <td>-1.536007</td>\n",
       "      <td>1.744658</td>\n",
       "      <td>-0.707156</td>\n",
       "      <td>-1.407786</td>\n",
       "      <td>1.117541</td>\n",
       "      <td>-0.185911</td>\n",
       "      <td>...</td>\n",
       "      <td>0.701750</td>\n",
       "      <td>-0.277800</td>\n",
       "      <td>1.161154</td>\n",
       "      <td>-0.294944</td>\n",
       "      <td>-0.525983</td>\n",
       "      <td>-0.984205</td>\n",
       "      <td>1.762021</td>\n",
       "      <td>0.196775</td>\n",
       "      <td>0.150670</td>\n",
       "      <td>0.978332</td>\n",
       "    </tr>\n",
       "    <tr>\n",
       "      <th>...</th>\n",
       "      <td>...</td>\n",
       "      <td>...</td>\n",
       "      <td>...</td>\n",
       "      <td>...</td>\n",
       "      <td>...</td>\n",
       "      <td>...</td>\n",
       "      <td>...</td>\n",
       "      <td>...</td>\n",
       "      <td>...</td>\n",
       "      <td>...</td>\n",
       "      <td>...</td>\n",
       "      <td>...</td>\n",
       "      <td>...</td>\n",
       "      <td>...</td>\n",
       "      <td>...</td>\n",
       "      <td>...</td>\n",
       "      <td>...</td>\n",
       "      <td>...</td>\n",
       "      <td>...</td>\n",
       "      <td>...</td>\n",
       "      <td>...</td>\n",
       "    </tr>\n",
       "    <tr>\n",
       "      <th>75525.0</th>\n",
       "      <td>-0.068661</td>\n",
       "      <td>1.125859</td>\n",
       "      <td>1.226549</td>\n",
       "      <td>1.152154</td>\n",
       "      <td>-1.082457</td>\n",
       "      <td>0.664834</td>\n",
       "      <td>1.454130</td>\n",
       "      <td>-0.219839</td>\n",
       "      <td>-0.701730</td>\n",
       "      <td>0.553917</td>\n",
       "      <td>...</td>\n",
       "      <td>-1.068942</td>\n",
       "      <td>-1.615738</td>\n",
       "      <td>-0.849937</td>\n",
       "      <td>-1.327102</td>\n",
       "      <td>-0.105151</td>\n",
       "      <td>-1.385030</td>\n",
       "      <td>-0.449163</td>\n",
       "      <td>-0.556843</td>\n",
       "      <td>-1.161126</td>\n",
       "      <td>-0.054463</td>\n",
       "    </tr>\n",
       "    <tr>\n",
       "      <th>158989.0</th>\n",
       "      <td>1.079264</td>\n",
       "      <td>-1.693027</td>\n",
       "      <td>-2.881037</td>\n",
       "      <td>-3.244256</td>\n",
       "      <td>0.574955</td>\n",
       "      <td>1.037247</td>\n",
       "      <td>0.307827</td>\n",
       "      <td>0.367160</td>\n",
       "      <td>-0.307537</td>\n",
       "      <td>-0.865589</td>\n",
       "      <td>...</td>\n",
       "      <td>-0.110649</td>\n",
       "      <td>-0.346465</td>\n",
       "      <td>-0.730316</td>\n",
       "      <td>-0.423884</td>\n",
       "      <td>-1.264937</td>\n",
       "      <td>-0.732392</td>\n",
       "      <td>0.870495</td>\n",
       "      <td>-0.479119</td>\n",
       "      <td>0.918662</td>\n",
       "      <td>-0.087473</td>\n",
       "    </tr>\n",
       "    <tr>\n",
       "      <th>79704.0</th>\n",
       "      <td>1.883073</td>\n",
       "      <td>-0.878441</td>\n",
       "      <td>-0.530665</td>\n",
       "      <td>0.180544</td>\n",
       "      <td>0.743265</td>\n",
       "      <td>-1.742142</td>\n",
       "      <td>0.589298</td>\n",
       "      <td>0.524038</td>\n",
       "      <td>0.513198</td>\n",
       "      <td>-0.219668</td>\n",
       "      <td>...</td>\n",
       "      <td>0.149507</td>\n",
       "      <td>-0.236071</td>\n",
       "      <td>-1.495176</td>\n",
       "      <td>-1.471129</td>\n",
       "      <td>0.313837</td>\n",
       "      <td>0.099967</td>\n",
       "      <td>0.214879</td>\n",
       "      <td>0.728579</td>\n",
       "      <td>0.439302</td>\n",
       "      <td>0.255119</td>\n",
       "    </tr>\n",
       "    <tr>\n",
       "      <th>87806.0</th>\n",
       "      <td>-0.511855</td>\n",
       "      <td>2.345333</td>\n",
       "      <td>-0.045592</td>\n",
       "      <td>2.798225</td>\n",
       "      <td>2.001287</td>\n",
       "      <td>-0.210841</td>\n",
       "      <td>0.690772</td>\n",
       "      <td>-0.603879</td>\n",
       "      <td>-1.842996</td>\n",
       "      <td>-0.642955</td>\n",
       "      <td>...</td>\n",
       "      <td>-0.017390</td>\n",
       "      <td>0.410424</td>\n",
       "      <td>-0.522393</td>\n",
       "      <td>-1.160511</td>\n",
       "      <td>-0.122144</td>\n",
       "      <td>-0.548403</td>\n",
       "      <td>-0.460964</td>\n",
       "      <td>-0.085720</td>\n",
       "      <td>-0.627450</td>\n",
       "      <td>-0.326314</td>\n",
       "    </tr>\n",
       "    <tr>\n",
       "      <th>76289.0</th>\n",
       "      <td>1.257186</td>\n",
       "      <td>-1.128363</td>\n",
       "      <td>1.492938</td>\n",
       "      <td>0.490634</td>\n",
       "      <td>0.601560</td>\n",
       "      <td>1.596098</td>\n",
       "      <td>-0.612283</td>\n",
       "      <td>1.805228</td>\n",
       "      <td>-0.003685</td>\n",
       "      <td>-0.581859</td>\n",
       "      <td>...</td>\n",
       "      <td>-1.193348</td>\n",
       "      <td>-0.716026</td>\n",
       "      <td>-1.158960</td>\n",
       "      <td>0.358228</td>\n",
       "      <td>0.160350</td>\n",
       "      <td>-1.504007</td>\n",
       "      <td>-0.036794</td>\n",
       "      <td>-0.180950</td>\n",
       "      <td>-0.420713</td>\n",
       "      <td>-0.076500</td>\n",
       "    </tr>\n",
       "  </tbody>\n",
       "</table>\n",
       "<p>199013 rows × 28 columns</p>\n",
       "</div>"
      ],
      "text/plain": [
       "                V1        V2        V3        V4        V5        V6  \\\n",
       "Time                                                                   \n",
       "1597.0   -0.323057  1.735032  1.068918 -0.127013  0.235843 -0.680485   \n",
       "153690.0 -0.612818  1.591838  0.555876 -0.614923 -0.098483  1.199139   \n",
       "97031.0   1.095068  0.118829 -2.239820  0.699030  0.766293 -0.747458   \n",
       "68508.0   1.375536 -0.454800  0.499678  0.276746 -0.714542 -0.543798   \n",
       "11086.0  -0.658679  0.344490  1.710337  1.576191 -1.536007  1.744658   \n",
       "...            ...       ...       ...       ...       ...       ...   \n",
       "75525.0  -0.068661  1.125859  1.226549  1.152154 -1.082457  0.664834   \n",
       "158989.0  1.079264 -1.693027 -2.881037 -3.244256  0.574955  1.037247   \n",
       "79704.0   1.883073 -0.878441 -0.530665  0.180544  0.743265 -1.742142   \n",
       "87806.0  -0.511855  2.345333 -0.045592  2.798225  2.001287 -0.210841   \n",
       "76289.0   1.257186 -1.128363  1.492938  0.490634  0.601560  1.596098   \n",
       "\n",
       "                V7        V8        V9       V10  ...       V19       V20  \\\n",
       "Time                                              ...                       \n",
       "1597.0    0.785280  0.409330 -0.844261  0.180253  ...  0.289033 -0.860018   \n",
       "153690.0  1.088576  1.061508  0.207600 -1.136274  ...  0.259777 -0.636595   \n",
       "97031.0   0.161364 -1.328032  2.900347 -0.524629  ... -0.500526 -0.100826   \n",
       "68508.0  -0.311607 -0.922815 -0.401186 -0.514828  ... -0.730144 -1.509613   \n",
       "11086.0  -0.707156 -1.407786  1.117541 -0.185911  ...  0.701750 -0.277800   \n",
       "...            ...       ...       ...       ...  ...       ...       ...   \n",
       "75525.0   1.454130 -0.219839 -0.701730  0.553917  ... -1.068942 -1.615738   \n",
       "158989.0  0.307827  0.367160 -0.307537 -0.865589  ... -0.110649 -0.346465   \n",
       "79704.0   0.589298  0.524038  0.513198 -0.219668  ...  0.149507 -0.236071   \n",
       "87806.0   0.690772 -0.603879 -1.842996 -0.642955  ... -0.017390  0.410424   \n",
       "76289.0  -0.612283  1.805228 -0.003685 -0.581859  ... -1.193348 -0.716026   \n",
       "\n",
       "               V21       V22       V23       V24       V25       V26  \\\n",
       "Time                                                                   \n",
       "1597.0   -0.578782 -1.471001 -1.283704  0.039039 -0.118770  0.306907   \n",
       "153690.0 -0.350867  0.473221  0.043382  0.464408 -0.299185 -0.308858   \n",
       "97031.0   0.343288  0.710743 -0.906113 -0.377294  1.187749 -0.313922   \n",
       "68508.0  -1.016952 -0.660679  0.118202  0.804942  0.182882  0.088829   \n",
       "11086.0   1.161154 -0.294944 -0.525983 -0.984205  1.762021  0.196775   \n",
       "...            ...       ...       ...       ...       ...       ...   \n",
       "75525.0  -0.849937 -1.327102 -0.105151 -1.385030 -0.449163 -0.556843   \n",
       "158989.0 -0.730316 -0.423884 -1.264937 -0.732392  0.870495 -0.479119   \n",
       "79704.0  -1.495176 -1.471129  0.313837  0.099967  0.214879  0.728579   \n",
       "87806.0  -0.522393 -1.160511 -0.122144 -0.548403 -0.460964 -0.085720   \n",
       "76289.0  -1.158960  0.358228  0.160350 -1.504007 -0.036794 -0.180950   \n",
       "\n",
       "               V27       V28  \n",
       "Time                          \n",
       "1597.0   -0.341366  0.508668  \n",
       "153690.0  0.153686  0.518155  \n",
       "97031.0   0.146724  0.192964  \n",
       "68508.0   0.079381  0.667718  \n",
       "11086.0   0.150670  0.978332  \n",
       "...            ...       ...  \n",
       "75525.0  -1.161126 -0.054463  \n",
       "158989.0  0.918662 -0.087473  \n",
       "79704.0   0.439302  0.255119  \n",
       "87806.0  -0.627450 -0.326314  \n",
       "76289.0  -0.420713 -0.076500  \n",
       "\n",
       "[199013 rows x 28 columns]"
      ]
     },
     "execution_count": 92,
     "metadata": {},
     "output_type": "execute_result"
    }
   ],
   "source": [
    "X_train_noise"
   ]
  },
  {
   "cell_type": "markdown",
   "id": "95e19b52",
   "metadata": {},
   "source": [
    "### Denoising AutoEncoder Model"
   ]
  },
  {
   "cell_type": "code",
   "execution_count": 93,
   "id": "10aafb4a",
   "metadata": {},
   "outputs": [],
   "source": [
    "input_dim = X_train.shape[1]\n",
    "\n",
    "input_layer = Input(shape=(input_dim, ))\n",
    "encoder = Dense(14, activation=\"elu\")(input_layer)\n",
    "\n",
    "encoder = Dense(7, activation=\"elu\")(encoder)\n",
    "\n",
    "decoder = Dense(14, activation='elu')(encoder)\n",
    "decoder = Dense(input_dim, activation='elu')(decoder)\n",
    "autoencoder = Model(inputs=input_layer, outputs=decoder)"
   ]
  },
  {
   "cell_type": "code",
   "execution_count": 94,
   "id": "40a93f7c",
   "metadata": {},
   "outputs": [],
   "source": [
    "epochs = 100\n",
    "batch_size = 32\n",
    "autoencoder.compile(optimizer='adam', loss='mse', metrics=['accuracy'])\n",
    "checkpointer = ModelCheckpoint(filepath=\"fraudDAE.pth\", verbose=0, save_best_only=True)"
   ]
  },
  {
   "cell_type": "markdown",
   "id": "6bc40337",
   "metadata": {},
   "source": [
    "### Training"
   ]
  },
  {
   "cell_type": "code",
   "execution_count": 95,
   "id": "c24d5c33",
   "metadata": {
    "scrolled": false
   },
   "outputs": [
    {
     "name": "stdout",
     "output_type": "stream",
     "text": [
      "Epoch 1/100\n",
      "5598/5598 [==============================] - ETA: 0s - loss: 0.6657 - accuracy: 0.5222INFO:tensorflow:Assets written to: fraudDAE.pth\\assets\n"
     ]
    },
    {
     "name": "stderr",
     "output_type": "stream",
     "text": [
      "INFO:tensorflow:Assets written to: fraudDAE.pth\\assets\n"
     ]
    },
    {
     "name": "stdout",
     "output_type": "stream",
     "text": [
      "5598/5598 [==============================] - 33s 5ms/step - loss: 0.6657 - accuracy: 0.5222 - val_loss: 0.5856 - val_accuracy: 0.5639\n",
      "Epoch 2/100\n",
      "5587/5598 [============================>.] - ETA: 0s - loss: 0.5945 - accuracy: 0.5652INFO:tensorflow:Assets written to: fraudDAE.pth\\assets\n"
     ]
    },
    {
     "name": "stderr",
     "output_type": "stream",
     "text": [
      "INFO:tensorflow:Assets written to: fraudDAE.pth\\assets\n"
     ]
    },
    {
     "name": "stdout",
     "output_type": "stream",
     "text": [
      "5598/5598 [==============================] - 33s 6ms/step - loss: 0.5950 - accuracy: 0.5652 - val_loss: 0.5578 - val_accuracy: 0.5820\n",
      "Epoch 3/100\n",
      "5598/5598 [==============================] - ETA: 0s - loss: 0.5711 - accuracy: 0.5786INFO:tensorflow:Assets written to: fraudDAE.pth\\assets\n"
     ]
    },
    {
     "name": "stderr",
     "output_type": "stream",
     "text": [
      "INFO:tensorflow:Assets written to: fraudDAE.pth\\assets\n"
     ]
    },
    {
     "name": "stdout",
     "output_type": "stream",
     "text": [
      "5598/5598 [==============================] - 27s 5ms/step - loss: 0.5711 - accuracy: 0.5786 - val_loss: 0.5401 - val_accuracy: 0.5955\n",
      "Epoch 4/100\n",
      "5591/5598 [============================>.] - ETA: 0s - loss: 0.5558 - accuracy: 0.5877INFO:tensorflow:Assets written to: fraudDAE.pth\\assets\n"
     ]
    },
    {
     "name": "stderr",
     "output_type": "stream",
     "text": [
      "INFO:tensorflow:Assets written to: fraudDAE.pth\\assets\n"
     ]
    },
    {
     "name": "stdout",
     "output_type": "stream",
     "text": [
      "5598/5598 [==============================] - 28s 5ms/step - loss: 0.5560 - accuracy: 0.5877 - val_loss: 0.5282 - val_accuracy: 0.5977\n",
      "Epoch 5/100\n",
      "5592/5598 [============================>.] - ETA: 0s - loss: 0.5477 - accuracy: 0.5912INFO:tensorflow:Assets written to: fraudDAE.pth\\assets\n"
     ]
    },
    {
     "name": "stderr",
     "output_type": "stream",
     "text": [
      "INFO:tensorflow:Assets written to: fraudDAE.pth\\assets\n"
     ]
    },
    {
     "name": "stdout",
     "output_type": "stream",
     "text": [
      "5598/5598 [==============================] - 28s 5ms/step - loss: 0.5476 - accuracy: 0.5912 - val_loss: 0.5204 - val_accuracy: 0.6029\n",
      "Epoch 6/100\n",
      "5583/5598 [============================>.] - ETA: 0s - loss: 0.5433 - accuracy: 0.5920INFO:tensorflow:Assets written to: fraudDAE.pth\\assets\n"
     ]
    },
    {
     "name": "stderr",
     "output_type": "stream",
     "text": [
      "INFO:tensorflow:Assets written to: fraudDAE.pth\\assets\n"
     ]
    },
    {
     "name": "stdout",
     "output_type": "stream",
     "text": [
      "5598/5598 [==============================] - 25s 4ms/step - loss: 0.5433 - accuracy: 0.5920 - val_loss: 0.5162 - val_accuracy: 0.6042\n",
      "Epoch 7/100\n",
      "5589/5598 [============================>.] - ETA: 0s - loss: 0.5403 - accuracy: 0.5929INFO:tensorflow:Assets written to: fraudDAE.pth\\assets\n"
     ]
    },
    {
     "name": "stderr",
     "output_type": "stream",
     "text": [
      "INFO:tensorflow:Assets written to: fraudDAE.pth\\assets\n"
     ]
    },
    {
     "name": "stdout",
     "output_type": "stream",
     "text": [
      "5598/5598 [==============================] - 24s 4ms/step - loss: 0.5403 - accuracy: 0.5929 - val_loss: 0.5138 - val_accuracy: 0.6037\n",
      "Epoch 8/100\n",
      "5598/5598 [==============================] - 18s 3ms/step - loss: 0.5390 - accuracy: 0.5938 - val_loss: 0.5147 - val_accuracy: 0.6000\n",
      "Epoch 9/100\n",
      "5598/5598 [==============================] - ETA: 0s - loss: 0.5367 - accuracy: 0.5943INFO:tensorflow:Assets written to: fraudDAE.pth\\assets\n"
     ]
    },
    {
     "name": "stderr",
     "output_type": "stream",
     "text": [
      "INFO:tensorflow:Assets written to: fraudDAE.pth\\assets\n"
     ]
    },
    {
     "name": "stdout",
     "output_type": "stream",
     "text": [
      "5598/5598 [==============================] - 23s 4ms/step - loss: 0.5367 - accuracy: 0.5943 - val_loss: 0.5126 - val_accuracy: 0.6055\n",
      "Epoch 10/100\n",
      "5583/5598 [============================>.] - ETA: 0s - loss: 0.5356 - accuracy: 0.5963INFO:tensorflow:Assets written to: fraudDAE.pth\\assets\n"
     ]
    },
    {
     "name": "stderr",
     "output_type": "stream",
     "text": [
      "INFO:tensorflow:Assets written to: fraudDAE.pth\\assets\n"
     ]
    },
    {
     "name": "stdout",
     "output_type": "stream",
     "text": [
      "5598/5598 [==============================] - 25s 4ms/step - loss: 0.5356 - accuracy: 0.5963 - val_loss: 0.5125 - val_accuracy: 0.6052\n",
      "Epoch 11/100\n",
      "5594/5598 [============================>.] - ETA: 0s - loss: 0.5351 - accuracy: 0.5963INFO:tensorflow:Assets written to: fraudDAE.pth\\assets\n"
     ]
    },
    {
     "name": "stderr",
     "output_type": "stream",
     "text": [
      "INFO:tensorflow:Assets written to: fraudDAE.pth\\assets\n"
     ]
    },
    {
     "name": "stdout",
     "output_type": "stream",
     "text": [
      "5598/5598 [==============================] - 24s 4ms/step - loss: 0.5351 - accuracy: 0.5962 - val_loss: 0.5105 - val_accuracy: 0.6053\n",
      "Epoch 12/100\n",
      "5588/5598 [============================>.] - ETA: 0s - loss: 0.5341 - accuracy: 0.5969INFO:tensorflow:Assets written to: fraudDAE.pth\\assets\n"
     ]
    },
    {
     "name": "stderr",
     "output_type": "stream",
     "text": [
      "INFO:tensorflow:Assets written to: fraudDAE.pth\\assets\n"
     ]
    },
    {
     "name": "stdout",
     "output_type": "stream",
     "text": [
      "5598/5598 [==============================] - 21s 4ms/step - loss: 0.5339 - accuracy: 0.5969 - val_loss: 0.5096 - val_accuracy: 0.6057\n",
      "Epoch 13/100\n",
      "5584/5598 [============================>.] - ETA: 0s - loss: 0.5326 - accuracy: 0.5975INFO:tensorflow:Assets written to: fraudDAE.pth\\assets\n"
     ]
    },
    {
     "name": "stderr",
     "output_type": "stream",
     "text": [
      "INFO:tensorflow:Assets written to: fraudDAE.pth\\assets\n"
     ]
    },
    {
     "name": "stdout",
     "output_type": "stream",
     "text": [
      "5598/5598 [==============================] - 22s 4ms/step - loss: 0.5325 - accuracy: 0.5976 - val_loss: 0.5083 - val_accuracy: 0.6080\n",
      "Epoch 14/100\n",
      "5598/5598 [==============================] - 20s 4ms/step - loss: 0.5325 - accuracy: 0.5978 - val_loss: 0.5095 - val_accuracy: 0.6046\n",
      "Epoch 15/100\n",
      "5593/5598 [============================>.] - ETA: 0s - loss: 0.5316 - accuracy: 0.5988INFO:tensorflow:Assets written to: fraudDAE.pth\\assets\n"
     ]
    },
    {
     "name": "stderr",
     "output_type": "stream",
     "text": [
      "INFO:tensorflow:Assets written to: fraudDAE.pth\\assets\n"
     ]
    },
    {
     "name": "stdout",
     "output_type": "stream",
     "text": [
      "5598/5598 [==============================] - 29s 5ms/step - loss: 0.5315 - accuracy: 0.5988 - val_loss: 0.5081 - val_accuracy: 0.6071\n",
      "Epoch 16/100\n",
      "5591/5598 [============================>.] - ETA: 0s - loss: 0.5310 - accuracy: 0.5985INFO:tensorflow:Assets written to: fraudDAE.pth\\assets\n"
     ]
    },
    {
     "name": "stderr",
     "output_type": "stream",
     "text": [
      "INFO:tensorflow:Assets written to: fraudDAE.pth\\assets\n"
     ]
    },
    {
     "name": "stdout",
     "output_type": "stream",
     "text": [
      "5598/5598 [==============================] - 24s 4ms/step - loss: 0.5310 - accuracy: 0.5985 - val_loss: 0.5064 - val_accuracy: 0.6058\n",
      "Epoch 17/100\n",
      "5594/5598 [============================>.] - ETA: 0s - loss: 0.5299 - accuracy: 0.5976INFO:tensorflow:Assets written to: fraudDAE.pth\\assets\n"
     ]
    },
    {
     "name": "stderr",
     "output_type": "stream",
     "text": [
      "INFO:tensorflow:Assets written to: fraudDAE.pth\\assets\n"
     ]
    },
    {
     "name": "stdout",
     "output_type": "stream",
     "text": [
      "5598/5598 [==============================] - 25s 4ms/step - loss: 0.5299 - accuracy: 0.5976 - val_loss: 0.5061 - val_accuracy: 0.6083\n",
      "Epoch 18/100\n",
      "5582/5598 [============================>.] - ETA: 0s - loss: 0.5281 - accuracy: 0.5977INFO:tensorflow:Assets written to: fraudDAE.pth\\assets\n"
     ]
    },
    {
     "name": "stderr",
     "output_type": "stream",
     "text": [
      "INFO:tensorflow:Assets written to: fraudDAE.pth\\assets\n"
     ]
    },
    {
     "name": "stdout",
     "output_type": "stream",
     "text": [
      "5598/5598 [==============================] - 27s 5ms/step - loss: 0.5281 - accuracy: 0.5978 - val_loss: 0.5028 - val_accuracy: 0.6087\n",
      "Epoch 19/100\n",
      "5594/5598 [============================>.] - ETA: 0s - loss: 0.5260 - accuracy: 0.5983INFO:tensorflow:Assets written to: fraudDAE.pth\\assets\n"
     ]
    },
    {
     "name": "stderr",
     "output_type": "stream",
     "text": [
      "INFO:tensorflow:Assets written to: fraudDAE.pth\\assets\n"
     ]
    },
    {
     "name": "stdout",
     "output_type": "stream",
     "text": [
      "5598/5598 [==============================] - 26s 5ms/step - loss: 0.5259 - accuracy: 0.5983 - val_loss: 0.5019 - val_accuracy: 0.6088\n",
      "Epoch 20/100\n",
      "5590/5598 [============================>.] - ETA: 0s - loss: 0.5240 - accuracy: 0.6004INFO:tensorflow:Assets written to: fraudDAE.pth\\assets\n"
     ]
    },
    {
     "name": "stderr",
     "output_type": "stream",
     "text": [
      "INFO:tensorflow:Assets written to: fraudDAE.pth\\assets\n"
     ]
    },
    {
     "name": "stdout",
     "output_type": "stream",
     "text": [
      "5598/5598 [==============================] - 24s 4ms/step - loss: 0.5239 - accuracy: 0.6004 - val_loss: 0.4999 - val_accuracy: 0.6123\n",
      "Epoch 21/100\n",
      "5588/5598 [============================>.] - ETA: 0s - loss: 0.5225 - accuracy: 0.6008INFO:tensorflow:Assets written to: fraudDAE.pth\\assets\n"
     ]
    },
    {
     "name": "stderr",
     "output_type": "stream",
     "text": [
      "INFO:tensorflow:Assets written to: fraudDAE.pth\\assets\n"
     ]
    },
    {
     "name": "stdout",
     "output_type": "stream",
     "text": [
      "5598/5598 [==============================] - 27s 5ms/step - loss: 0.5222 - accuracy: 0.6008 - val_loss: 0.4967 - val_accuracy: 0.6130\n",
      "Epoch 22/100\n",
      "5586/5598 [============================>.] - ETA: 0s - loss: 0.5213 - accuracy: 0.6015INFO:tensorflow:Assets written to: fraudDAE.pth\\assets\n"
     ]
    },
    {
     "name": "stderr",
     "output_type": "stream",
     "text": [
      "INFO:tensorflow:Assets written to: fraudDAE.pth\\assets\n"
     ]
    },
    {
     "name": "stdout",
     "output_type": "stream",
     "text": [
      "5598/5598 [==============================] - 33s 6ms/step - loss: 0.5211 - accuracy: 0.6016 - val_loss: 0.4965 - val_accuracy: 0.6101\n",
      "Epoch 23/100\n",
      "5583/5598 [============================>.] - ETA: 0s - loss: 0.5181 - accuracy: 0.6017INFO:tensorflow:Assets written to: fraudDAE.pth\\assets\n"
     ]
    },
    {
     "name": "stderr",
     "output_type": "stream",
     "text": [
      "INFO:tensorflow:Assets written to: fraudDAE.pth\\assets\n"
     ]
    },
    {
     "name": "stdout",
     "output_type": "stream",
     "text": [
      "5598/5598 [==============================] - 27s 5ms/step - loss: 0.5180 - accuracy: 0.6017 - val_loss: 0.4926 - val_accuracy: 0.6107\n",
      "Epoch 24/100\n",
      "5584/5598 [============================>.] - ETA: 0s - loss: 0.5147 - accuracy: 0.6016INFO:tensorflow:Assets written to: fraudDAE.pth\\assets\n"
     ]
    },
    {
     "name": "stderr",
     "output_type": "stream",
     "text": [
      "INFO:tensorflow:Assets written to: fraudDAE.pth\\assets\n"
     ]
    },
    {
     "name": "stdout",
     "output_type": "stream",
     "text": [
      "5598/5598 [==============================] - 25s 4ms/step - loss: 0.5153 - accuracy: 0.6017 - val_loss: 0.4908 - val_accuracy: 0.6091\n",
      "Epoch 25/100\n",
      "5590/5598 [============================>.] - ETA: 0s - loss: 0.5141 - accuracy: 0.6039INFO:tensorflow:Assets written to: fraudDAE.pth\\assets\n"
     ]
    },
    {
     "name": "stderr",
     "output_type": "stream",
     "text": [
      "INFO:tensorflow:Assets written to: fraudDAE.pth\\assets\n"
     ]
    },
    {
     "name": "stdout",
     "output_type": "stream",
     "text": [
      "5598/5598 [==============================] - 27s 5ms/step - loss: 0.5141 - accuracy: 0.6040 - val_loss: 0.4899 - val_accuracy: 0.6134\n",
      "Epoch 26/100\n",
      "5588/5598 [============================>.] - ETA: 0s - loss: 0.5117 - accuracy: 0.6048INFO:tensorflow:Assets written to: fraudDAE.pth\\assets\n"
     ]
    },
    {
     "name": "stderr",
     "output_type": "stream",
     "text": [
      "INFO:tensorflow:Assets written to: fraudDAE.pth\\assets\n"
     ]
    },
    {
     "name": "stdout",
     "output_type": "stream",
     "text": [
      "5598/5598 [==============================] - 24s 4ms/step - loss: 0.5115 - accuracy: 0.6048 - val_loss: 0.4863 - val_accuracy: 0.6135\n",
      "Epoch 27/100\n",
      "5581/5598 [============================>.] - ETA: 0s - loss: 0.5081 - accuracy: 0.6075INFO:tensorflow:Assets written to: fraudDAE.pth\\assets\n"
     ]
    },
    {
     "name": "stderr",
     "output_type": "stream",
     "text": [
      "INFO:tensorflow:Assets written to: fraudDAE.pth\\assets\n"
     ]
    },
    {
     "name": "stdout",
     "output_type": "stream",
     "text": [
      "5598/5598 [==============================] - 27s 5ms/step - loss: 0.5078 - accuracy: 0.6076 - val_loss: 0.4825 - val_accuracy: 0.6162\n",
      "Epoch 28/100\n",
      "5598/5598 [==============================] - 20s 4ms/step - loss: 0.5054 - accuracy: 0.6092 - val_loss: 0.4839 - val_accuracy: 0.6127\n",
      "Epoch 29/100\n",
      "5581/5598 [============================>.] - ETA: 0s - loss: 0.5051 - accuracy: 0.6090INFO:tensorflow:Assets written to: fraudDAE.pth\\assets\n"
     ]
    },
    {
     "name": "stderr",
     "output_type": "stream",
     "text": [
      "INFO:tensorflow:Assets written to: fraudDAE.pth\\assets\n"
     ]
    },
    {
     "name": "stdout",
     "output_type": "stream",
     "text": [
      "5598/5598 [==============================] - 28s 5ms/step - loss: 0.5048 - accuracy: 0.6089 - val_loss: 0.4807 - val_accuracy: 0.6104\n",
      "Epoch 30/100\n",
      "5597/5598 [============================>.] - ETA: 0s - loss: 0.5040 - accuracy: 0.6095INFO:tensorflow:Assets written to: fraudDAE.pth\\assets\n"
     ]
    },
    {
     "name": "stderr",
     "output_type": "stream",
     "text": [
      "INFO:tensorflow:Assets written to: fraudDAE.pth\\assets\n"
     ]
    },
    {
     "name": "stdout",
     "output_type": "stream",
     "text": [
      "5598/5598 [==============================] - 23s 4ms/step - loss: 0.5040 - accuracy: 0.6095 - val_loss: 0.4794 - val_accuracy: 0.6111\n",
      "Epoch 31/100\n",
      "5598/5598 [==============================] - 21s 4ms/step - loss: 0.5034 - accuracy: 0.6077 - val_loss: 0.4799 - val_accuracy: 0.6142\n",
      "Epoch 32/100\n",
      "5598/5598 [==============================] - 25s 5ms/step - loss: 0.5033 - accuracy: 0.6086 - val_loss: 0.4812 - val_accuracy: 0.6110\n",
      "Epoch 33/100\n",
      "5598/5598 [==============================] - 24s 4ms/step - loss: 0.5027 - accuracy: 0.6085 - val_loss: 0.4796 - val_accuracy: 0.6149\n",
      "Epoch 34/100\n",
      "5596/5598 [============================>.] - ETA: 0s - loss: 0.5020 - accuracy: 0.6087INFO:tensorflow:Assets written to: fraudDAE.pth\\assets\n"
     ]
    },
    {
     "name": "stderr",
     "output_type": "stream",
     "text": [
      "INFO:tensorflow:Assets written to: fraudDAE.pth\\assets\n"
     ]
    },
    {
     "name": "stdout",
     "output_type": "stream",
     "text": [
      "5598/5598 [==============================] - 27s 5ms/step - loss: 0.5020 - accuracy: 0.6086 - val_loss: 0.4777 - val_accuracy: 0.6174\n",
      "Epoch 35/100\n",
      "5598/5598 [==============================] - 23s 4ms/step - loss: 0.5024 - accuracy: 0.6097 - val_loss: 0.4832 - val_accuracy: 0.6146\n",
      "Epoch 36/100\n",
      "5598/5598 [==============================] - 24s 4ms/step - loss: 0.5020 - accuracy: 0.6090 - val_loss: 0.4794 - val_accuracy: 0.6155\n",
      "Epoch 37/100\n",
      "5589/5598 [============================>.] - ETA: 0s - loss: 0.5015 - accuracy: 0.6091INFO:tensorflow:Assets written to: fraudDAE.pth\\assets\n"
     ]
    },
    {
     "name": "stderr",
     "output_type": "stream",
     "text": [
      "INFO:tensorflow:Assets written to: fraudDAE.pth\\assets\n"
     ]
    },
    {
     "name": "stdout",
     "output_type": "stream",
     "text": [
      "5598/5598 [==============================] - 23s 4ms/step - loss: 0.5017 - accuracy: 0.6091 - val_loss: 0.4772 - val_accuracy: 0.6153\n",
      "Epoch 38/100\n",
      "5585/5598 [============================>.] - ETA: 0s - loss: 0.5013 - accuracy: 0.6097INFO:tensorflow:Assets written to: fraudDAE.pth\\assets\n"
     ]
    },
    {
     "name": "stderr",
     "output_type": "stream",
     "text": [
      "INFO:tensorflow:Assets written to: fraudDAE.pth\\assets\n"
     ]
    },
    {
     "name": "stdout",
     "output_type": "stream",
     "text": [
      "5598/5598 [==============================] - 28s 5ms/step - loss: 0.5010 - accuracy: 0.6097 - val_loss: 0.4768 - val_accuracy: 0.6173\n",
      "Epoch 39/100\n",
      "5598/5598 [==============================] - 22s 4ms/step - loss: 0.5006 - accuracy: 0.6095 - val_loss: 0.4772 - val_accuracy: 0.6118\n",
      "Epoch 40/100\n",
      "5596/5598 [============================>.] - ETA: 0s - loss: 0.5002 - accuracy: 0.6101INFO:tensorflow:Assets written to: fraudDAE.pth\\assets\n"
     ]
    },
    {
     "name": "stderr",
     "output_type": "stream",
     "text": [
      "INFO:tensorflow:Assets written to: fraudDAE.pth\\assets\n"
     ]
    },
    {
     "name": "stdout",
     "output_type": "stream",
     "text": [
      "5598/5598 [==============================] - 26s 5ms/step - loss: 0.5003 - accuracy: 0.6101 - val_loss: 0.4766 - val_accuracy: 0.6164\n",
      "Epoch 41/100\n",
      "5598/5598 [==============================] - 25s 4ms/step - loss: 0.5003 - accuracy: 0.6105 - val_loss: 0.4774 - val_accuracy: 0.6154\n",
      "Epoch 42/100\n",
      "5585/5598 [============================>.] - ETA: 0s - loss: 0.5001 - accuracy: 0.6101INFO:tensorflow:Assets written to: fraudDAE.pth\\assets\n"
     ]
    },
    {
     "name": "stderr",
     "output_type": "stream",
     "text": [
      "INFO:tensorflow:Assets written to: fraudDAE.pth\\assets\n"
     ]
    },
    {
     "name": "stdout",
     "output_type": "stream",
     "text": [
      "5598/5598 [==============================] - 27s 5ms/step - loss: 0.4999 - accuracy: 0.6101 - val_loss: 0.4763 - val_accuracy: 0.6192\n",
      "Epoch 43/100\n",
      "5598/5598 [==============================] - 19s 3ms/step - loss: 0.4997 - accuracy: 0.6108 - val_loss: 0.4772 - val_accuracy: 0.6196\n",
      "Epoch 44/100\n",
      "5598/5598 [==============================] - 18s 3ms/step - loss: 0.4995 - accuracy: 0.6114 - val_loss: 0.4770 - val_accuracy: 0.6181\n",
      "Epoch 45/100\n",
      "5596/5598 [============================>.] - ETA: 0s - loss: 0.4996 - accuracy: 0.6113INFO:tensorflow:Assets written to: fraudDAE.pth\\assets\n"
     ]
    },
    {
     "name": "stderr",
     "output_type": "stream",
     "text": [
      "INFO:tensorflow:Assets written to: fraudDAE.pth\\assets\n"
     ]
    },
    {
     "name": "stdout",
     "output_type": "stream",
     "text": [
      "5598/5598 [==============================] - 22s 4ms/step - loss: 0.4996 - accuracy: 0.6113 - val_loss: 0.4760 - val_accuracy: 0.6173\n",
      "Epoch 46/100\n",
      "5598/5598 [==============================] - 22s 4ms/step - loss: 0.4995 - accuracy: 0.6125 - val_loss: 0.4786 - val_accuracy: 0.6143\n",
      "Epoch 47/100\n",
      "5598/5598 [==============================] - 21s 4ms/step - loss: 0.4993 - accuracy: 0.6113 - val_loss: 0.4776 - val_accuracy: 0.6165\n",
      "Epoch 48/100\n",
      "5598/5598 [==============================] - 21s 4ms/step - loss: 0.4993 - accuracy: 0.6114 - val_loss: 0.4765 - val_accuracy: 0.6175\n",
      "Epoch 49/100\n",
      "5587/5598 [============================>.] - ETA: 0s - loss: 0.4994 - accuracy: 0.6109INFO:tensorflow:Assets written to: fraudDAE.pth\\assets\n"
     ]
    },
    {
     "name": "stderr",
     "output_type": "stream",
     "text": [
      "INFO:tensorflow:Assets written to: fraudDAE.pth\\assets\n"
     ]
    },
    {
     "name": "stdout",
     "output_type": "stream",
     "text": [
      "5598/5598 [==============================] - 26s 5ms/step - loss: 0.4991 - accuracy: 0.6109 - val_loss: 0.4759 - val_accuracy: 0.6195\n",
      "Epoch 50/100\n",
      "5585/5598 [============================>.] - ETA: 0s - loss: 0.4985 - accuracy: 0.6121INFO:tensorflow:Assets written to: fraudDAE.pth\\assets\n"
     ]
    },
    {
     "name": "stderr",
     "output_type": "stream",
     "text": [
      "INFO:tensorflow:Assets written to: fraudDAE.pth\\assets\n"
     ]
    },
    {
     "name": "stdout",
     "output_type": "stream",
     "text": [
      "5598/5598 [==============================] - 27s 5ms/step - loss: 0.4987 - accuracy: 0.6121 - val_loss: 0.4751 - val_accuracy: 0.6193\n",
      "Epoch 51/100\n",
      "5584/5598 [============================>.] - ETA: 0s - loss: 0.4987 - accuracy: 0.6118INFO:tensorflow:Assets written to: fraudDAE.pth\\assets\n"
     ]
    },
    {
     "name": "stderr",
     "output_type": "stream",
     "text": [
      "INFO:tensorflow:Assets written to: fraudDAE.pth\\assets\n"
     ]
    },
    {
     "name": "stdout",
     "output_type": "stream",
     "text": [
      "5598/5598 [==============================] - 24s 4ms/step - loss: 0.4986 - accuracy: 0.6117 - val_loss: 0.4751 - val_accuracy: 0.6184\n",
      "Epoch 52/100\n",
      "5598/5598 [==============================] - 23s 4ms/step - loss: 0.4982 - accuracy: 0.6136 - val_loss: 0.4752 - val_accuracy: 0.6209\n",
      "Epoch 53/100\n",
      "5579/5598 [============================>.] - ETA: 0s - loss: 0.4971 - accuracy: 0.6151INFO:tensorflow:Assets written to: fraudDAE.pth\\assets\n"
     ]
    },
    {
     "name": "stderr",
     "output_type": "stream",
     "text": [
      "INFO:tensorflow:Assets written to: fraudDAE.pth\\assets\n"
     ]
    },
    {
     "name": "stdout",
     "output_type": "stream",
     "text": [
      "5598/5598 [==============================] - 25s 4ms/step - loss: 0.4974 - accuracy: 0.6151 - val_loss: 0.4745 - val_accuracy: 0.6214\n",
      "Epoch 54/100\n",
      "5579/5598 [============================>.] - ETA: 0s - loss: 0.4980 - accuracy: 0.6150INFO:tensorflow:Assets written to: fraudDAE.pth\\assets\n"
     ]
    },
    {
     "name": "stderr",
     "output_type": "stream",
     "text": [
      "INFO:tensorflow:Assets written to: fraudDAE.pth\\assets\n"
     ]
    },
    {
     "name": "stdout",
     "output_type": "stream",
     "text": [
      "5598/5598 [==============================] - 27s 5ms/step - loss: 0.4976 - accuracy: 0.6150 - val_loss: 0.4732 - val_accuracy: 0.6201\n",
      "Epoch 55/100\n",
      "5598/5598 [==============================] - 24s 4ms/step - loss: 0.4975 - accuracy: 0.6152 - val_loss: 0.4747 - val_accuracy: 0.6235\n",
      "Epoch 56/100\n",
      "5598/5598 [==============================] - 22s 4ms/step - loss: 0.4974 - accuracy: 0.6149 - val_loss: 0.4737 - val_accuracy: 0.6206\n",
      "Epoch 57/100\n",
      "5598/5598 [==============================] - 23s 4ms/step - loss: 0.4969 - accuracy: 0.6158 - val_loss: 0.4743 - val_accuracy: 0.6191\n",
      "Epoch 58/100\n",
      "5598/5598 [==============================] - 23s 4ms/step - loss: 0.4972 - accuracy: 0.6160 - val_loss: 0.4743 - val_accuracy: 0.6242\n",
      "Epoch 59/100\n",
      "5581/5598 [============================>.] - ETA: 0s - loss: 0.4974 - accuracy: 0.6154INFO:tensorflow:Assets written to: fraudDAE.pth\\assets\n"
     ]
    },
    {
     "name": "stderr",
     "output_type": "stream",
     "text": [
      "INFO:tensorflow:Assets written to: fraudDAE.pth\\assets\n"
     ]
    },
    {
     "name": "stdout",
     "output_type": "stream",
     "text": [
      "5598/5598 [==============================] - 28s 5ms/step - loss: 0.4974 - accuracy: 0.6154 - val_loss: 0.4732 - val_accuracy: 0.6213\n",
      "Epoch 60/100\n",
      "5598/5598 [==============================] - 22s 4ms/step - loss: 0.4968 - accuracy: 0.6167 - val_loss: 0.4758 - val_accuracy: 0.6227\n",
      "Epoch 61/100\n",
      "5598/5598 [==============================] - 25s 5ms/step - loss: 0.4971 - accuracy: 0.6154 - val_loss: 0.4765 - val_accuracy: 0.6188\n",
      "Epoch 62/100\n",
      "5598/5598 [==============================] - 24s 4ms/step - loss: 0.4967 - accuracy: 0.6153 - val_loss: 0.4733 - val_accuracy: 0.6198\n",
      "Epoch 63/100\n",
      "5598/5598 [==============================] - 23s 4ms/step - loss: 0.4968 - accuracy: 0.6153 - val_loss: 0.4732 - val_accuracy: 0.6212\n",
      "Epoch 64/100\n",
      "5598/5598 [==============================] - 22s 4ms/step - loss: 0.4965 - accuracy: 0.6153 - val_loss: 0.4740 - val_accuracy: 0.6160\n",
      "Epoch 65/100\n",
      "5598/5598 [==============================] - 22s 4ms/step - loss: 0.4970 - accuracy: 0.6154 - val_loss: 0.4753 - val_accuracy: 0.6179\n",
      "Epoch 66/100\n",
      "5598/5598 [==============================] - 21s 4ms/step - loss: 0.4967 - accuracy: 0.6160 - val_loss: 0.4747 - val_accuracy: 0.6220\n",
      "Epoch 67/100\n",
      "5598/5598 [==============================] - 21s 4ms/step - loss: 0.4967 - accuracy: 0.6155 - val_loss: 0.4734 - val_accuracy: 0.6238\n",
      "Epoch 68/100\n",
      "5598/5598 [==============================] - 24s 4ms/step - loss: 0.4969 - accuracy: 0.6160 - val_loss: 0.4740 - val_accuracy: 0.6188\n",
      "Epoch 69/100\n",
      "5598/5598 [==============================] - 22s 4ms/step - loss: 0.4965 - accuracy: 0.6156 - val_loss: 0.4739 - val_accuracy: 0.6190\n",
      "Epoch 70/100\n",
      "5584/5598 [============================>.] - ETA: 0s - loss: 0.4972 - accuracy: 0.6154INFO:tensorflow:Assets written to: fraudDAE.pth\\assets\n"
     ]
    },
    {
     "name": "stderr",
     "output_type": "stream",
     "text": [
      "INFO:tensorflow:Assets written to: fraudDAE.pth\\assets\n"
     ]
    },
    {
     "name": "stdout",
     "output_type": "stream",
     "text": [
      "5598/5598 [==============================] - 24s 4ms/step - loss: 0.4971 - accuracy: 0.6154 - val_loss: 0.4728 - val_accuracy: 0.6182\n",
      "Epoch 71/100\n",
      "5598/5598 [==============================] - 22s 4ms/step - loss: 0.4965 - accuracy: 0.6157 - val_loss: 0.4752 - val_accuracy: 0.6192\n",
      "Epoch 72/100\n",
      "5598/5598 [==============================] - 19s 3ms/step - loss: 0.4964 - accuracy: 0.6162 - val_loss: 0.4749 - val_accuracy: 0.6176\n",
      "Epoch 73/100\n",
      "5598/5598 [==============================] - 19s 3ms/step - loss: 0.4966 - accuracy: 0.6158 - val_loss: 0.4735 - val_accuracy: 0.6201\n",
      "Epoch 74/100\n",
      "5598/5598 [==============================] - 18s 3ms/step - loss: 0.4964 - accuracy: 0.6160 - val_loss: 0.4732 - val_accuracy: 0.6206\n",
      "Epoch 75/100\n",
      "5598/5598 [==============================] - 19s 3ms/step - loss: 0.4969 - accuracy: 0.6161 - val_loss: 0.4737 - val_accuracy: 0.6213\n",
      "Epoch 76/100\n",
      "5598/5598 [==============================] - 18s 3ms/step - loss: 0.4965 - accuracy: 0.6156 - val_loss: 0.4734 - val_accuracy: 0.6209\n",
      "Epoch 77/100\n",
      "5598/5598 [==============================] - 22s 4ms/step - loss: 0.4962 - accuracy: 0.6160 - val_loss: 0.4748 - val_accuracy: 0.6179\n",
      "Epoch 78/100\n",
      "5598/5598 [==============================] - 18s 3ms/step - loss: 0.4961 - accuracy: 0.6167 - val_loss: 0.4736 - val_accuracy: 0.6239\n",
      "Epoch 79/100\n",
      "5598/5598 [==============================] - 22s 4ms/step - loss: 0.4964 - accuracy: 0.6160 - val_loss: 0.4736 - val_accuracy: 0.6250\n",
      "Epoch 80/100\n",
      "5598/5598 [==============================] - 20s 4ms/step - loss: 0.4963 - accuracy: 0.6165 - val_loss: 0.4731 - val_accuracy: 0.6227\n",
      "Epoch 81/100\n",
      "5598/5598 [==============================] - 22s 4ms/step - loss: 0.4961 - accuracy: 0.6161 - val_loss: 0.4739 - val_accuracy: 0.6205\n",
      "Epoch 82/100\n",
      "5598/5598 [==============================] - 21s 4ms/step - loss: 0.4962 - accuracy: 0.6161 - val_loss: 0.4729 - val_accuracy: 0.6226\n",
      "Epoch 83/100\n",
      "5587/5598 [============================>.] - ETA: 0s - loss: 0.4967 - accuracy: 0.6154INFO:tensorflow:Assets written to: fraudDAE.pth\\assets\n"
     ]
    },
    {
     "name": "stderr",
     "output_type": "stream",
     "text": [
      "INFO:tensorflow:Assets written to: fraudDAE.pth\\assets\n"
     ]
    },
    {
     "name": "stdout",
     "output_type": "stream",
     "text": [
      "5598/5598 [==============================] - 25s 4ms/step - loss: 0.4967 - accuracy: 0.6153 - val_loss: 0.4727 - val_accuracy: 0.6167\n",
      "Epoch 84/100\n",
      "5598/5598 [==============================] - 21s 4ms/step - loss: 0.4961 - accuracy: 0.6160 - val_loss: 0.4740 - val_accuracy: 0.6223\n",
      "Epoch 85/100\n",
      "5590/5598 [============================>.] - ETA: 0s - loss: 0.4963 - accuracy: 0.6153INFO:tensorflow:Assets written to: fraudDAE.pth\\assets\n"
     ]
    },
    {
     "name": "stderr",
     "output_type": "stream",
     "text": [
      "INFO:tensorflow:Assets written to: fraudDAE.pth\\assets\n"
     ]
    },
    {
     "name": "stdout",
     "output_type": "stream",
     "text": [
      "5598/5598 [==============================] - 23s 4ms/step - loss: 0.4964 - accuracy: 0.6153 - val_loss: 0.4726 - val_accuracy: 0.6187\n",
      "Epoch 86/100\n",
      "5598/5598 [==============================] - 23s 4ms/step - loss: 0.4962 - accuracy: 0.6155 - val_loss: 0.4735 - val_accuracy: 0.6193\n",
      "Epoch 87/100\n",
      "5598/5598 [==============================] - 21s 4ms/step - loss: 0.4962 - accuracy: 0.6161 - val_loss: 0.4728 - val_accuracy: 0.6219\n",
      "Epoch 88/100\n",
      "5598/5598 [==============================] - 19s 3ms/step - loss: 0.4963 - accuracy: 0.6159 - val_loss: 0.4731 - val_accuracy: 0.6220\n",
      "Epoch 89/100\n",
      "5598/5598 [==============================] - 23s 4ms/step - loss: 0.4965 - accuracy: 0.6163 - val_loss: 0.4737 - val_accuracy: 0.6194\n",
      "Epoch 90/100\n",
      "5598/5598 [==============================] - 22s 4ms/step - loss: 0.4961 - accuracy: 0.6159 - val_loss: 0.4744 - val_accuracy: 0.6188\n",
      "Epoch 91/100\n",
      "5598/5598 [==============================] - 22s 4ms/step - loss: 0.4967 - accuracy: 0.6150 - val_loss: 0.4735 - val_accuracy: 0.6202\n",
      "Epoch 92/100\n",
      "5598/5598 [==============================] - 21s 4ms/step - loss: 0.4964 - accuracy: 0.6154 - val_loss: 0.4732 - val_accuracy: 0.6202\n",
      "Epoch 93/100\n",
      "5598/5598 [==============================] - 19s 3ms/step - loss: 0.4959 - accuracy: 0.6156 - val_loss: 0.4748 - val_accuracy: 0.6158\n",
      "Epoch 94/100\n",
      "5598/5598 [==============================] - 19s 3ms/step - loss: 0.4960 - accuracy: 0.6161 - val_loss: 0.4757 - val_accuracy: 0.6198\n",
      "Epoch 95/100\n",
      "5598/5598 [==============================] - 22s 4ms/step - loss: 0.4961 - accuracy: 0.6153 - val_loss: 0.4735 - val_accuracy: 0.6231\n",
      "Epoch 96/100\n",
      "5598/5598 [==============================] - 18s 3ms/step - loss: 0.4962 - accuracy: 0.6153 - val_loss: 0.4727 - val_accuracy: 0.6196\n",
      "Epoch 97/100\n",
      "5598/5598 [==============================] - 19s 3ms/step - loss: 0.4961 - accuracy: 0.6169 - val_loss: 0.4729 - val_accuracy: 0.6214\n",
      "Epoch 98/100\n",
      "5598/5598 [==============================] - 19s 3ms/step - loss: 0.4962 - accuracy: 0.6156 - val_loss: 0.4774 - val_accuracy: 0.6184\n",
      "Epoch 99/100\n",
      "5598/5598 [==============================] - 20s 4ms/step - loss: 0.4959 - accuracy: 0.6166 - val_loss: 0.4759 - val_accuracy: 0.6201\n",
      "Epoch 100/100\n",
      "5598/5598 [==============================] - 20s 4ms/step - loss: 0.4960 - accuracy: 0.6162 - val_loss: 0.4742 - val_accuracy: 0.6243\n"
     ]
    }
   ],
   "source": [
    "history = autoencoder.fit(np.array(X_train_noise), np.array(X_train),\n",
    "                    epochs=epochs,\n",
    "                    batch_size=batch_size,\n",
    "                    shuffle=True,\n",
    "                    validation_split=0.1,\n",
    "                    callbacks=[checkpointer]).history"
   ]
  },
  {
   "cell_type": "code",
   "execution_count": 96,
   "id": "70cc9a1b",
   "metadata": {},
   "outputs": [
    {
     "data": {
      "image/png": "[encoded data removed]",
      "text/plain": [
       "<Figure size 640x480 with 1 Axes>"
      ]
     },
     "metadata": {},
     "output_type": "display_data"
    }
   ],
   "source": [
    "plt.plot(history['loss'])\n",
    "plt.plot(history['val_loss'])\n",
    "plt.title('model loss')\n",
    "plt.ylabel('loss')\n",
    "plt.xlabel('epoch')\n",
    "plt.legend(['train', 'test'], loc='upper right');"
   ]
  },
  {
   "cell_type": "markdown",
   "id": "447ae09c",
   "metadata": {},
   "source": [
    "### Test"
   ]
  },
  {
   "cell_type": "code",
   "execution_count": 97,
   "id": "099b2851",
   "metadata": {},
   "outputs": [],
   "source": [
    "autoencoder = load_model('fraudDAE.pth')"
   ]
  },
  {
   "cell_type": "code",
   "execution_count": 98,
   "id": "ac2e5cde",
   "metadata": {},
   "outputs": [
    {
     "name": "stdout",
     "output_type": "stream",
     "text": [
      "2671/2671 [==============================] - 8s 3ms/step\n"
     ]
    },
    {
     "data": {
      "text/html": [
       "<div>\n",
       "<style scoped>\n",
       "    .dataframe tbody tr th:only-of-type {\n",
       "        vertical-align: middle;\n",
       "    }\n",
       "\n",
       "    .dataframe tbody tr th {\n",
       "        vertical-align: top;\n",
       "    }\n",
       "\n",
       "    .dataframe thead th {\n",
       "        text-align: right;\n",
       "    }\n",
       "</style>\n",
       "<table border=\"1\" class=\"dataframe\">\n",
       "  <thead>\n",
       "    <tr style=\"text-align: right;\">\n",
       "      <th></th>\n",
       "      <th>reconstruction_error</th>\n",
       "      <th>true_class</th>\n",
       "    </tr>\n",
       "  </thead>\n",
       "  <tbody>\n",
       "    <tr>\n",
       "      <th>count</th>\n",
       "      <td>85443.000000</td>\n",
       "      <td>85443.00000</td>\n",
       "    </tr>\n",
       "    <tr>\n",
       "      <th>mean</th>\n",
       "      <td>0.523287</td>\n",
       "      <td>0.00165</td>\n",
       "    </tr>\n",
       "    <tr>\n",
       "      <th>std</th>\n",
       "      <td>3.345818</td>\n",
       "      <td>0.04059</td>\n",
       "    </tr>\n",
       "    <tr>\n",
       "      <th>min</th>\n",
       "      <td>0.023012</td>\n",
       "      <td>0.00000</td>\n",
       "    </tr>\n",
       "    <tr>\n",
       "      <th>25%</th>\n",
       "      <td>0.151854</td>\n",
       "      <td>0.00000</td>\n",
       "    </tr>\n",
       "    <tr>\n",
       "      <th>50%</th>\n",
       "      <td>0.230090</td>\n",
       "      <td>0.00000</td>\n",
       "    </tr>\n",
       "    <tr>\n",
       "      <th>75%</th>\n",
       "      <td>0.376643</td>\n",
       "      <td>0.00000</td>\n",
       "    </tr>\n",
       "    <tr>\n",
       "      <th>max</th>\n",
       "      <td>385.941973</td>\n",
       "      <td>1.00000</td>\n",
       "    </tr>\n",
       "  </tbody>\n",
       "</table>\n",
       "</div>"
      ],
      "text/plain": [
       "       reconstruction_error   true_class\n",
       "count          85443.000000  85443.00000\n",
       "mean               0.523287      0.00165\n",
       "std                3.345818      0.04059\n",
       "min                0.023012      0.00000\n",
       "25%                0.151854      0.00000\n",
       "50%                0.230090      0.00000\n",
       "75%                0.376643      0.00000\n",
       "max              385.941973      1.00000"
      ]
     },
     "execution_count": 98,
     "metadata": {},
     "output_type": "execute_result"
    }
   ],
   "source": [
    "predictions = autoencoder.predict(X_test_noise)\n",
    "mse = np.mean(np.power(X_test - predictions, 2), axis=1)\n",
    "error_df = pd.DataFrame({'reconstruction_error': mse,\n",
    "                        'true_class': y_test})\n",
    "error_df.describe()"
   ]
  },
  {
   "cell_type": "code",
   "execution_count": 99,
   "id": "4da1351d",
   "metadata": {},
   "outputs": [],
   "source": [
    "threshold = 2.9"
   ]
  },
  {
   "cell_type": "code",
   "execution_count": 100,
   "id": "79018bfb",
   "metadata": {},
   "outputs": [
    {
     "data": {
      "image/png": "[encoded data removed]",
      "text/plain": [
       "<Figure size 640x480 with 1 Axes>"
      ]
     },
     "metadata": {},
     "output_type": "display_data"
    }
   ],
   "source": [
    "groups = error_df.groupby('true_class')\n",
    "fig, ax = plt.subplots()\n",
    "\n",
    "for name, group in groups:\n",
    "    ax.plot(group.index, group.reconstruction_error, marker='o', ms=3.5, linestyle='',\n",
    "            label= \"Fraud\" if name == 1 else \"Normal\")\n",
    "ax.hlines(threshold, ax.get_xlim()[0], ax.get_xlim()[1], colors=\"r\", zorder=100, label='Threshold')\n",
    "ax.legend()\n",
    "plt.title(\"Reconstruction error for different classes\")\n",
    "plt.ylabel(\"Reconstruction error\")\n",
    "plt.xlabel(\"Data point index\")\n",
    "plt.show();"
   ]
  },
  {
   "cell_type": "code",
   "execution_count": 101,
   "id": "a97a4779",
   "metadata": {
    "scrolled": false
   },
   "outputs": [
    {
     "data": {
      "image/png": "[encoded data removed]",
      "text/plain": [
       "<Figure size 1200x1200 with 2 Axes>"
      ]
     },
     "metadata": {},
     "output_type": "display_data"
    }
   ],
   "source": [
    "from sklearn.metrics import classification_report, confusion_matrix, ConfusionMatrixDisplay\n",
    "LABELS = ['Normal','Fraud']\n",
    "\n",
    "y_pred = [1 if e > threshold else 0 for e in error_df.reconstruction_error.values]\n",
    "conf_matrix = confusion_matrix(error_df.true_class, y_pred)\n",
    "plt.figure(figsize=(12, 12))\n",
    "sns.heatmap(conf_matrix, xticklabels=LABELS, yticklabels=LABELS, annot=True, fmt=\"d\");\n",
    "plt.title(\"Confusion matrix\")\n",
    "plt.ylabel('True class')\n",
    "plt.xlabel('Predicted class')\n",
    "plt.show()"
   ]
  },
  {
   "cell_type": "markdown",
   "id": "40411cfb",
   "metadata": {},
   "source": [
    "### Visualize the latent space"
   ]
  },
  {
   "cell_type": "code",
   "execution_count": 102,
   "id": "6a95e156",
   "metadata": {},
   "outputs": [],
   "source": [
    "inp_layer = autoencoder.input\n",
    "out_layer = autoencoder.layers[2].output\n",
    "\n",
    "encoder = Model(inputs=inp_layer, outputs=out_layer)"
   ]
  },
  {
   "cell_type": "code",
   "execution_count": 103,
   "id": "7216235c",
   "metadata": {},
   "outputs": [
    {
     "name": "stdout",
     "output_type": "stream",
     "text": [
      "Model: \"model_4\"\n",
      "_________________________________________________________________\n",
      " Layer (type)                Output Shape              Param #   \n",
      "=================================================================\n",
      " input_3 (InputLayer)        [(None, 28)]              0         \n",
      "                                                                 \n",
      " dense_8 (Dense)             (None, 14)                406       \n",
      "                                                                 \n",
      " dense_9 (Dense)             (None, 7)                 105       \n",
      "                                                                 \n",
      "=================================================================\n",
      "Total params: 511 (2.00 KB)\n",
      "Trainable params: 511 (2.00 KB)\n",
      "Non-trainable params: 0 (0.00 Byte)\n",
      "_________________________________________________________________\n"
     ]
    }
   ],
   "source": [
    "encoder.summary()"
   ]
  },
  {
   "cell_type": "code",
   "execution_count": 104,
   "id": "11553ce4",
   "metadata": {},
   "outputs": [
    {
     "name": "stdout",
     "output_type": "stream",
     "text": [
      "2671/2671 [==============================] - 6s 2ms/step\n"
     ]
    }
   ],
   "source": [
    "fraud = X_test[y_test==1]\n",
    "normal = X_test[y_test==0]\n",
    "\n",
    "features = np.append(fraud, normal, axis=0)\n",
    "labels = np.append(np.ones(len(fraud)), np.zeros(len(normal)))\n",
    "\n",
    "latent_vector = encoder.predict(features)"
   ]
  },
  {
   "cell_type": "code",
   "execution_count": 105,
   "id": "ac26d977",
   "metadata": {
    "scrolled": false
   },
   "outputs": [
    {
     "data": {
      "image/png": "[encoded data removed]",
      "text/plain": [
       "<Figure size 800x800 with 1 Axes>"
      ]
     },
     "metadata": {},
     "output_type": "display_data"
    }
   ],
   "source": [
    "X = latent_vector[:,0]\n",
    "y = latent_vector[:,1]\n",
    "\n",
    "plt.subplots(figsize=(8, 8))\n",
    "plt.scatter(X[labels==0], y[labels==0], color=\"blue\", label='Normal')\n",
    "plt.scatter(X[labels==1], y[labels==1], color=\"red\", label='Fraud')\n",
    "\n",
    "plt.title('Latent Space')\n",
    "plt.show()"
   ]
  },
  {
   "cell_type": "code",
   "execution_count": null,
   "id": "a6191698",
   "metadata": {},
   "outputs": [],
   "source": []
  }
 ],
 "metadata": {
  "kernelspec": {
   "display_name": "Python 3 (ipykernel)",
   "language": "python",
   "name": "python3"
  },
  "language_info": {
   "codemirror_mode": {
    "name": "ipython",
    "version": 3
   },
   "file_extension": ".py",
   "mimetype": "text/x-python",
   "name": "python",
   "nbconvert_exporter": "python",
   "pygments_lexer": "ipython3",
   "version": "3.11.4"
  }
 },
 "nbformat": 4,
 "nbformat_minor": 5
}
