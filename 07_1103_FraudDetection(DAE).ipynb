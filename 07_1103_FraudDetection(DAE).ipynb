{
 "cells": [
  {
   "cell_type": "markdown",
   "id": "076b4dda",
   "metadata": {},
   "source": [
    "### Load required libraries"
   ]
  },
  {
   "cell_type": "code",
   "execution_count": 1,
   "id": "e8452b24",
   "metadata": {},
   "outputs": [],
   "source": [
    "import numpy as np\n",
    "import pandas as pd\n",
    "import seaborn as sns\n",
    "\n",
    "import tensorflow as tf\n",
    "import keras\n",
    "from tensorflow.keras import regularizers\n",
    "from keras.models import Sequential, Model, load_model\n",
    "from keras.layers import Dense, Input\n",
    "from keras.callbacks import ModelCheckpoint\n",
    "from sklearn.model_selection import train_test_split\n",
    "\n",
    "from sklearn.manifold import TSNE\n",
    "from sklearn.decomposition import PCA\n",
    "\n",
    "import matplotlib.pyplot as plt\n",
    "%matplotlib inline\n",
    "\n",
    "import warnings\n",
    "warnings.filterwarnings(\"ignore\")"
   ]
  },
  {
   "cell_type": "markdown",
   "id": "f992f32f",
   "metadata": {},
   "source": [
    "### Load the data"
   ]
  },
  {
   "cell_type": "code",
   "execution_count": 2,
   "id": "cb25d899",
   "metadata": {},
   "outputs": [
    {
     "name": "stdout",
     "output_type": "stream",
     "text": [
      "(284807, 30)\n"
     ]
    },
    {
     "data": {
      "text/html": [
       "<div>\n",
       "<style scoped>\n",
       "    .dataframe tbody tr th:only-of-type {\n",
       "        vertical-align: middle;\n",
       "    }\n",
       "\n",
       "    .dataframe tbody tr th {\n",
       "        vertical-align: top;\n",
       "    }\n",
       "\n",
       "    .dataframe thead th {\n",
       "        text-align: right;\n",
       "    }\n",
       "</style>\n",
       "<table border=\"1\" class=\"dataframe\">\n",
       "  <thead>\n",
       "    <tr style=\"text-align: right;\">\n",
       "      <th></th>\n",
       "      <th>V1</th>\n",
       "      <th>V2</th>\n",
       "      <th>V3</th>\n",
       "      <th>V4</th>\n",
       "      <th>V5</th>\n",
       "      <th>V6</th>\n",
       "      <th>V7</th>\n",
       "      <th>V8</th>\n",
       "      <th>V9</th>\n",
       "      <th>V10</th>\n",
       "      <th>...</th>\n",
       "      <th>V21</th>\n",
       "      <th>V22</th>\n",
       "      <th>V23</th>\n",
       "      <th>V24</th>\n",
       "      <th>V25</th>\n",
       "      <th>V26</th>\n",
       "      <th>V27</th>\n",
       "      <th>V28</th>\n",
       "      <th>Amount</th>\n",
       "      <th>Class</th>\n",
       "    </tr>\n",
       "    <tr>\n",
       "      <th>Time</th>\n",
       "      <th></th>\n",
       "      <th></th>\n",
       "      <th></th>\n",
       "      <th></th>\n",
       "      <th></th>\n",
       "      <th></th>\n",
       "      <th></th>\n",
       "      <th></th>\n",
       "      <th></th>\n",
       "      <th></th>\n",
       "      <th></th>\n",
       "      <th></th>\n",
       "      <th></th>\n",
       "      <th></th>\n",
       "      <th></th>\n",
       "      <th></th>\n",
       "      <th></th>\n",
       "      <th></th>\n",
       "      <th></th>\n",
       "      <th></th>\n",
       "      <th></th>\n",
       "    </tr>\n",
       "  </thead>\n",
       "  <tbody>\n",
       "    <tr>\n",
       "      <th>0.0</th>\n",
       "      <td>-1.359807</td>\n",
       "      <td>-0.072781</td>\n",
       "      <td>2.536347</td>\n",
       "      <td>1.378155</td>\n",
       "      <td>-0.338321</td>\n",
       "      <td>0.462388</td>\n",
       "      <td>0.239599</td>\n",
       "      <td>0.098698</td>\n",
       "      <td>0.363787</td>\n",
       "      <td>0.090794</td>\n",
       "      <td>...</td>\n",
       "      <td>-0.018307</td>\n",
       "      <td>0.277838</td>\n",
       "      <td>-0.110474</td>\n",
       "      <td>0.066928</td>\n",
       "      <td>0.128539</td>\n",
       "      <td>-0.189115</td>\n",
       "      <td>0.133558</td>\n",
       "      <td>-0.021053</td>\n",
       "      <td>149.62</td>\n",
       "      <td>0</td>\n",
       "    </tr>\n",
       "    <tr>\n",
       "      <th>0.0</th>\n",
       "      <td>1.191857</td>\n",
       "      <td>0.266151</td>\n",
       "      <td>0.166480</td>\n",
       "      <td>0.448154</td>\n",
       "      <td>0.060018</td>\n",
       "      <td>-0.082361</td>\n",
       "      <td>-0.078803</td>\n",
       "      <td>0.085102</td>\n",
       "      <td>-0.255425</td>\n",
       "      <td>-0.166974</td>\n",
       "      <td>...</td>\n",
       "      <td>-0.225775</td>\n",
       "      <td>-0.638672</td>\n",
       "      <td>0.101288</td>\n",
       "      <td>-0.339846</td>\n",
       "      <td>0.167170</td>\n",
       "      <td>0.125895</td>\n",
       "      <td>-0.008983</td>\n",
       "      <td>0.014724</td>\n",
       "      <td>2.69</td>\n",
       "      <td>0</td>\n",
       "    </tr>\n",
       "    <tr>\n",
       "      <th>1.0</th>\n",
       "      <td>-1.358354</td>\n",
       "      <td>-1.340163</td>\n",
       "      <td>1.773209</td>\n",
       "      <td>0.379780</td>\n",
       "      <td>-0.503198</td>\n",
       "      <td>1.800499</td>\n",
       "      <td>0.791461</td>\n",
       "      <td>0.247676</td>\n",
       "      <td>-1.514654</td>\n",
       "      <td>0.207643</td>\n",
       "      <td>...</td>\n",
       "      <td>0.247998</td>\n",
       "      <td>0.771679</td>\n",
       "      <td>0.909412</td>\n",
       "      <td>-0.689281</td>\n",
       "      <td>-0.327642</td>\n",
       "      <td>-0.139097</td>\n",
       "      <td>-0.055353</td>\n",
       "      <td>-0.059752</td>\n",
       "      <td>378.66</td>\n",
       "      <td>0</td>\n",
       "    </tr>\n",
       "    <tr>\n",
       "      <th>1.0</th>\n",
       "      <td>-0.966272</td>\n",
       "      <td>-0.185226</td>\n",
       "      <td>1.792993</td>\n",
       "      <td>-0.863291</td>\n",
       "      <td>-0.010309</td>\n",
       "      <td>1.247203</td>\n",
       "      <td>0.237609</td>\n",
       "      <td>0.377436</td>\n",
       "      <td>-1.387024</td>\n",
       "      <td>-0.054952</td>\n",
       "      <td>...</td>\n",
       "      <td>-0.108300</td>\n",
       "      <td>0.005274</td>\n",
       "      <td>-0.190321</td>\n",
       "      <td>-1.175575</td>\n",
       "      <td>0.647376</td>\n",
       "      <td>-0.221929</td>\n",
       "      <td>0.062723</td>\n",
       "      <td>0.061458</td>\n",
       "      <td>123.50</td>\n",
       "      <td>0</td>\n",
       "    </tr>\n",
       "    <tr>\n",
       "      <th>2.0</th>\n",
       "      <td>-1.158233</td>\n",
       "      <td>0.877737</td>\n",
       "      <td>1.548718</td>\n",
       "      <td>0.403034</td>\n",
       "      <td>-0.407193</td>\n",
       "      <td>0.095921</td>\n",
       "      <td>0.592941</td>\n",
       "      <td>-0.270533</td>\n",
       "      <td>0.817739</td>\n",
       "      <td>0.753074</td>\n",
       "      <td>...</td>\n",
       "      <td>-0.009431</td>\n",
       "      <td>0.798278</td>\n",
       "      <td>-0.137458</td>\n",
       "      <td>0.141267</td>\n",
       "      <td>-0.206010</td>\n",
       "      <td>0.502292</td>\n",
       "      <td>0.219422</td>\n",
       "      <td>0.215153</td>\n",
       "      <td>69.99</td>\n",
       "      <td>0</td>\n",
       "    </tr>\n",
       "  </tbody>\n",
       "</table>\n",
       "<p>5 rows × 30 columns</p>\n",
       "</div>"
      ],
      "text/plain": [
       "            V1        V2        V3        V4        V5        V6        V7  \\\n",
       "Time                                                                         \n",
       "0.0  -1.359807 -0.072781  2.536347  1.378155 -0.338321  0.462388  0.239599   \n",
       "0.0   1.191857  0.266151  0.166480  0.448154  0.060018 -0.082361 -0.078803   \n",
       "1.0  -1.358354 -1.340163  1.773209  0.379780 -0.503198  1.800499  0.791461   \n",
       "1.0  -0.966272 -0.185226  1.792993 -0.863291 -0.010309  1.247203  0.237609   \n",
       "2.0  -1.158233  0.877737  1.548718  0.403034 -0.407193  0.095921  0.592941   \n",
       "\n",
       "            V8        V9       V10  ...       V21       V22       V23  \\\n",
       "Time                                ...                                 \n",
       "0.0   0.098698  0.363787  0.090794  ... -0.018307  0.277838 -0.110474   \n",
       "0.0   0.085102 -0.255425 -0.166974  ... -0.225775 -0.638672  0.101288   \n",
       "1.0   0.247676 -1.514654  0.207643  ...  0.247998  0.771679  0.909412   \n",
       "1.0   0.377436 -1.387024 -0.054952  ... -0.108300  0.005274 -0.190321   \n",
       "2.0  -0.270533  0.817739  0.753074  ... -0.009431  0.798278 -0.137458   \n",
       "\n",
       "           V24       V25       V26       V27       V28  Amount  Class  \n",
       "Time                                                                   \n",
       "0.0   0.066928  0.128539 -0.189115  0.133558 -0.021053  149.62      0  \n",
       "0.0  -0.339846  0.167170  0.125895 -0.008983  0.014724    2.69      0  \n",
       "1.0  -0.689281 -0.327642 -0.139097 -0.055353 -0.059752  378.66      0  \n",
       "1.0  -1.175575  0.647376 -0.221929  0.062723  0.061458  123.50      0  \n",
       "2.0   0.141267 -0.206010  0.502292  0.219422  0.215153   69.99      0  \n",
       "\n",
       "[5 rows x 30 columns]"
      ]
     },
     "execution_count": 2,
     "metadata": {},
     "output_type": "execute_result"
    }
   ],
   "source": [
    "df = pd.read_csv('./data/creditcard.csv', index_col=0)\n",
    "print(df.shape)\n",
    "df.head()"
   ]
  },
  {
   "cell_type": "markdown",
   "id": "745866b7",
   "metadata": {},
   "source": [
    "#### Data check"
   ]
  },
  {
   "cell_type": "code",
   "execution_count": 3,
   "id": "46528b9f",
   "metadata": {},
   "outputs": [
    {
     "data": {
      "text/plain": [
       "0    0.998273\n",
       "1    0.001727\n",
       "Name: Class, dtype: float64"
      ]
     },
     "execution_count": 3,
     "metadata": {},
     "output_type": "execute_result"
    }
   ],
   "source": [
    "df['Class'].value_counts(normalize=True)"
   ]
  },
  {
   "cell_type": "code",
   "execution_count": 4,
   "id": "85a6f8c4",
   "metadata": {},
   "outputs": [
    {
     "data": {
      "text/plain": [
       "Index(['V1', 'V2', 'V3', 'V4', 'V5', 'V6', 'V7', 'V8', 'V9', 'V10', 'V11',\n",
       "       'V12', 'V13', 'V14', 'V15', 'V16', 'V17', 'V18', 'V19', 'V20', 'V21',\n",
       "       'V22', 'V23', 'V24', 'V25', 'V26', 'V27', 'V28', 'Amount', 'Class'],\n",
       "      dtype='object')"
      ]
     },
     "execution_count": 4,
     "metadata": {},
     "output_type": "execute_result"
    }
   ],
   "source": [
    "df.columns"
   ]
  },
  {
   "cell_type": "code",
   "execution_count": 5,
   "id": "cebc4bcb",
   "metadata": {},
   "outputs": [
    {
     "data": {
      "text/plain": [
       "False"
      ]
     },
     "execution_count": 5,
     "metadata": {},
     "output_type": "execute_result"
    }
   ],
   "source": [
    "df.isnull().values.any()"
   ]
  },
  {
   "cell_type": "code",
   "execution_count": 6,
   "id": "85851fed",
   "metadata": {},
   "outputs": [],
   "source": [
    "df = df.drop(['Amount'], axis=1)"
   ]
  },
  {
   "cell_type": "markdown",
   "id": "bf0d4248",
   "metadata": {},
   "source": [
    "### Train/test split"
   ]
  },
  {
   "cell_type": "code",
   "execution_count": 7,
   "id": "1fc791be",
   "metadata": {},
   "outputs": [
    {
     "name": "stdout",
     "output_type": "stream",
     "text": [
      "Frauds shape: (492, 29)\n",
      "Normal shape: (284315, 29)\n"
     ]
    }
   ],
   "source": [
    "frauds = df[df.Class == 1]\n",
    "#normal = df[df.Class == 0].sample(10000)\n",
    "normal = df[df.Class == 0]\n",
    "print(\"Frauds shape: {}\".format(frauds.shape))\n",
    "print(\"Normal shape: {}\".format(normal.shape))"
   ]
  },
  {
   "cell_type": "code",
   "execution_count": 8,
   "id": "54c7a86c",
   "metadata": {},
   "outputs": [
    {
     "data": {
      "text/plain": [
       "(284807, 29)"
      ]
     },
     "execution_count": 8,
     "metadata": {},
     "output_type": "execute_result"
    }
   ],
   "source": [
    "data = pd.concat([frauds, normal])\n",
    "data.shape"
   ]
  },
  {
   "cell_type": "code",
   "execution_count": 9,
   "id": "93a3c174",
   "metadata": {},
   "outputs": [
    {
     "name": "stdout",
     "output_type": "stream",
     "text": [
      "X_train shape: (199013, 28)\n",
      "X_test shape: (85443, 28)\n"
     ]
    }
   ],
   "source": [
    "X_train, X_test = train_test_split(data, test_size=0.3, random_state=42)\n",
    "X_train = X_train[X_train.Class == 0]\n",
    "X_train = X_train.drop(['Class'], axis=1)\n",
    "\n",
    "X_test, y_test = X_test.drop(['Class'], axis=1).values, X_test['Class'].values\n",
    "\n",
    "print(\"X_train shape: {}\".format(X_train.shape))\n",
    "print(\"X_test shape: {}\".format(X_test.shape))"
   ]
  },
  {
   "cell_type": "markdown",
   "id": "b8693770",
   "metadata": {},
   "source": [
    "### Visualize the data with TSNE and PCA"
   ]
  },
  {
   "cell_type": "code",
   "execution_count": 10,
   "id": "99356900",
   "metadata": {},
   "outputs": [],
   "source": [
    "x1 = df[df.Class == 1]\n",
    "x2 = df[df.Class == 0].sample(10000)\n",
    "\n",
    "dfd = x1.append(x2)\n",
    "x = dfd.drop(['Class'], axis=1)\n",
    "y = dfd['Class'].values\n",
    "\n",
    "SEED = 42"
   ]
  },
  {
   "cell_type": "code",
   "execution_count": 11,
   "id": "f15c9dc1",
   "metadata": {},
   "outputs": [
    {
     "data": {
      "image/png": "[encoded data removed]",
      "text/plain": [
       "<Figure size 1200x800 with 1 Axes>"
      ]
     },
     "metadata": {},
     "output_type": "display_data"
    }
   ],
   "source": [
    "tsne = TSNE(n_components=2, random_state=SEED).fit_transform(x)\n",
    "plt.figure(figsize=(12,8));\n",
    "plt.scatter(tsne[np.where(y==0), 0], y=tsne[np.where(y==0), 1], color=\"blue\", label='Normal')\n",
    "plt.scatter(x=tsne[np.where(y==1), 0], y=tsne[np.where(y==1), 1], color=\"red\", label='Fraud')\n",
    "plt.title('t-SNE Plot')\n",
    "plt.legend()\n",
    "plt.show()"
   ]
  },
  {
   "cell_type": "code",
   "execution_count": 12,
   "id": "772add1e",
   "metadata": {},
   "outputs": [
    {
     "data": {
      "image/png": "[encoded data removed]",
      "text/plain": [
       "<Figure size 1200x800 with 1 Axes>"
      ]
     },
     "metadata": {},
     "output_type": "display_data"
    }
   ],
   "source": [
    "pca = PCA(n_components=2, random_state=SEED).fit_transform(x)\n",
    "plt.figure(figsize=(12,8));\n",
    "plt.scatter(pca[np.where(y==0), 0], y=pca[np.where(y==0), 1], color=\"blue\", label='Normal')\n",
    "plt.scatter(x=pca[np.where(y==1), 0], y=pca[np.where(y==1), 1], color=\"red\", label='Fraud')\n",
    "plt.title('PCA Plot')\n",
    "plt.legend()\n",
    "plt.show()"
   ]
  },
  {
   "cell_type": "markdown",
   "id": "31a69585",
   "metadata": {},
   "source": [
    "#### Normalize the data"
   ]
  },
  {
   "cell_type": "code",
   "execution_count": 13,
   "id": "8e0631dd",
   "metadata": {},
   "outputs": [],
   "source": [
    "from sklearn.preprocessing import MinMaxScaler\n",
    "\n",
    "scaler = MinMaxScaler()\n",
    "\n",
    "scaler.fit_transform(X_train);\n",
    "scaler.transform(X_test);"
   ]
  },
  {
   "cell_type": "markdown",
   "id": "4bd02e50",
   "metadata": {},
   "source": [
    "#### Add Noise in data"
   ]
  },
  {
   "cell_type": "code",
   "execution_count": 15,
   "id": "35219bea",
   "metadata": {},
   "outputs": [],
   "source": [
    "noise_factor = 0.5;\n",
    "X_train_noise = X_train + noise_factor*np.random.normal(loc=0.0, scale=1.0, size=X_train.shape)\n",
    "X_test_noise = X_test + noise_factor*np.random.normal(loc=0.0, scale=1.0, size=X_test.shape)"
   ]
  },
  {
   "cell_type": "code",
   "execution_count": 16,
   "id": "0a39c877",
   "metadata": {},
   "outputs": [
    {
     "data": {
      "text/html": [
       "<div>\n",
       "<style scoped>\n",
       "    .dataframe tbody tr th:only-of-type {\n",
       "        vertical-align: middle;\n",
       "    }\n",
       "\n",
       "    .dataframe tbody tr th {\n",
       "        vertical-align: top;\n",
       "    }\n",
       "\n",
       "    .dataframe thead th {\n",
       "        text-align: right;\n",
       "    }\n",
       "</style>\n",
       "<table border=\"1\" class=\"dataframe\">\n",
       "  <thead>\n",
       "    <tr style=\"text-align: right;\">\n",
       "      <th></th>\n",
       "      <th>V1</th>\n",
       "      <th>V2</th>\n",
       "      <th>V3</th>\n",
       "      <th>V4</th>\n",
       "      <th>V5</th>\n",
       "      <th>V6</th>\n",
       "      <th>V7</th>\n",
       "      <th>V8</th>\n",
       "      <th>V9</th>\n",
       "      <th>V10</th>\n",
       "      <th>...</th>\n",
       "      <th>V19</th>\n",
       "      <th>V20</th>\n",
       "      <th>V21</th>\n",
       "      <th>V22</th>\n",
       "      <th>V23</th>\n",
       "      <th>V24</th>\n",
       "      <th>V25</th>\n",
       "      <th>V26</th>\n",
       "      <th>V27</th>\n",
       "      <th>V28</th>\n",
       "    </tr>\n",
       "    <tr>\n",
       "      <th>Time</th>\n",
       "      <th></th>\n",
       "      <th></th>\n",
       "      <th></th>\n",
       "      <th></th>\n",
       "      <th></th>\n",
       "      <th></th>\n",
       "      <th></th>\n",
       "      <th></th>\n",
       "      <th></th>\n",
       "      <th></th>\n",
       "      <th></th>\n",
       "      <th></th>\n",
       "      <th></th>\n",
       "      <th></th>\n",
       "      <th></th>\n",
       "      <th></th>\n",
       "      <th></th>\n",
       "      <th></th>\n",
       "      <th></th>\n",
       "      <th></th>\n",
       "      <th></th>\n",
       "    </tr>\n",
       "  </thead>\n",
       "  <tbody>\n",
       "    <tr>\n",
       "      <th>1597.0</th>\n",
       "      <td>-0.447016</td>\n",
       "      <td>0.865305</td>\n",
       "      <td>1.317656</td>\n",
       "      <td>-0.031990</td>\n",
       "      <td>-0.049573</td>\n",
       "      <td>-0.348205</td>\n",
       "      <td>0.401046</td>\n",
       "      <td>0.327438</td>\n",
       "      <td>-0.328063</td>\n",
       "      <td>-0.324674</td>\n",
       "      <td>...</td>\n",
       "      <td>-0.222342</td>\n",
       "      <td>-0.051299</td>\n",
       "      <td>-0.195072</td>\n",
       "      <td>-0.612429</td>\n",
       "      <td>0.064959</td>\n",
       "      <td>0.109621</td>\n",
       "      <td>-0.366456</td>\n",
       "      <td>0.079036</td>\n",
       "      <td>0.242154</td>\n",
       "      <td>0.082075</td>\n",
       "    </tr>\n",
       "    <tr>\n",
       "      <th>153690.0</th>\n",
       "      <td>-0.776571</td>\n",
       "      <td>0.804383</td>\n",
       "      <td>0.849559</td>\n",
       "      <td>-0.617220</td>\n",
       "      <td>-0.054136</td>\n",
       "      <td>0.523930</td>\n",
       "      <td>-0.307065</td>\n",
       "      <td>0.847935</td>\n",
       "      <td>0.278560</td>\n",
       "      <td>-0.668078</td>\n",
       "      <td>...</td>\n",
       "      <td>0.459711</td>\n",
       "      <td>-0.072367</td>\n",
       "      <td>0.354584</td>\n",
       "      <td>1.058180</td>\n",
       "      <td>-0.304391</td>\n",
       "      <td>0.268749</td>\n",
       "      <td>0.006518</td>\n",
       "      <td>-0.070282</td>\n",
       "      <td>0.284993</td>\n",
       "      <td>0.138072</td>\n",
       "    </tr>\n",
       "    <tr>\n",
       "      <th>97031.0</th>\n",
       "      <td>2.053647</td>\n",
       "      <td>0.243291</td>\n",
       "      <td>-1.872014</td>\n",
       "      <td>0.596880</td>\n",
       "      <td>0.570019</td>\n",
       "      <td>-1.064779</td>\n",
       "      <td>0.229696</td>\n",
       "      <td>-0.460595</td>\n",
       "      <td>1.865564</td>\n",
       "      <td>-0.865344</td>\n",
       "      <td>...</td>\n",
       "      <td>-0.386951</td>\n",
       "      <td>-0.145679</td>\n",
       "      <td>0.021229</td>\n",
       "      <td>0.442260</td>\n",
       "      <td>-0.123783</td>\n",
       "      <td>-0.768147</td>\n",
       "      <td>0.323993</td>\n",
       "      <td>-0.103481</td>\n",
       "      <td>-0.033083</td>\n",
       "      <td>-0.038749</td>\n",
       "    </tr>\n",
       "    <tr>\n",
       "      <th>68508.0</th>\n",
       "      <td>1.180688</td>\n",
       "      <td>0.024251</td>\n",
       "      <td>0.955792</td>\n",
       "      <td>0.527480</td>\n",
       "      <td>-0.767446</td>\n",
       "      <td>-0.404405</td>\n",
       "      <td>-0.428924</td>\n",
       "      <td>0.069926</td>\n",
       "      <td>0.093850</td>\n",
       "      <td>0.079937</td>\n",
       "      <td>...</td>\n",
       "      <td>-0.035820</td>\n",
       "      <td>-0.063934</td>\n",
       "      <td>-0.032497</td>\n",
       "      <td>-0.117500</td>\n",
       "      <td>0.077052</td>\n",
       "      <td>0.340947</td>\n",
       "      <td>0.136221</td>\n",
       "      <td>0.195824</td>\n",
       "      <td>-0.009098</td>\n",
       "      <td>0.016719</td>\n",
       "    </tr>\n",
       "    <tr>\n",
       "      <th>11086.0</th>\n",
       "      <td>-0.182049</td>\n",
       "      <td>0.534337</td>\n",
       "      <td>1.317379</td>\n",
       "      <td>1.735990</td>\n",
       "      <td>-0.472466</td>\n",
       "      <td>1.531518</td>\n",
       "      <td>-0.724238</td>\n",
       "      <td>-1.384876</td>\n",
       "      <td>2.000744</td>\n",
       "      <td>-0.614165</td>\n",
       "      <td>...</td>\n",
       "      <td>0.734191</td>\n",
       "      <td>-0.434316</td>\n",
       "      <td>1.199651</td>\n",
       "      <td>-0.939429</td>\n",
       "      <td>-0.507470</td>\n",
       "      <td>-0.813763</td>\n",
       "      <td>1.148263</td>\n",
       "      <td>0.005315</td>\n",
       "      <td>0.268109</td>\n",
       "      <td>0.163228</td>\n",
       "    </tr>\n",
       "    <tr>\n",
       "      <th>...</th>\n",
       "      <td>...</td>\n",
       "      <td>...</td>\n",
       "      <td>...</td>\n",
       "      <td>...</td>\n",
       "      <td>...</td>\n",
       "      <td>...</td>\n",
       "      <td>...</td>\n",
       "      <td>...</td>\n",
       "      <td>...</td>\n",
       "      <td>...</td>\n",
       "      <td>...</td>\n",
       "      <td>...</td>\n",
       "      <td>...</td>\n",
       "      <td>...</td>\n",
       "      <td>...</td>\n",
       "      <td>...</td>\n",
       "      <td>...</td>\n",
       "      <td>...</td>\n",
       "      <td>...</td>\n",
       "      <td>...</td>\n",
       "      <td>...</td>\n",
       "    </tr>\n",
       "    <tr>\n",
       "      <th>75525.0</th>\n",
       "      <td>-1.057005</td>\n",
       "      <td>1.158519</td>\n",
       "      <td>1.232596</td>\n",
       "      <td>1.140679</td>\n",
       "      <td>-0.186492</td>\n",
       "      <td>0.407923</td>\n",
       "      <td>1.505036</td>\n",
       "      <td>-0.129395</td>\n",
       "      <td>-0.729305</td>\n",
       "      <td>0.218051</td>\n",
       "      <td>...</td>\n",
       "      <td>-1.265839</td>\n",
       "      <td>-0.504789</td>\n",
       "      <td>-0.299197</td>\n",
       "      <td>-1.010943</td>\n",
       "      <td>-0.088265</td>\n",
       "      <td>-0.561599</td>\n",
       "      <td>-0.365902</td>\n",
       "      <td>-0.510134</td>\n",
       "      <td>-0.182902</td>\n",
       "      <td>0.078162</td>\n",
       "    </tr>\n",
       "    <tr>\n",
       "      <th>158989.0</th>\n",
       "      <td>2.182974</td>\n",
       "      <td>-1.008460</td>\n",
       "      <td>-2.834986</td>\n",
       "      <td>-3.264015</td>\n",
       "      <td>0.830545</td>\n",
       "      <td>0.294460</td>\n",
       "      <td>-0.090330</td>\n",
       "      <td>-0.001023</td>\n",
       "      <td>0.272701</td>\n",
       "      <td>-0.272232</td>\n",
       "      <td>...</td>\n",
       "      <td>-0.174136</td>\n",
       "      <td>-0.679827</td>\n",
       "      <td>-0.144837</td>\n",
       "      <td>0.331923</td>\n",
       "      <td>0.031033</td>\n",
       "      <td>-0.945655</td>\n",
       "      <td>0.347180</td>\n",
       "      <td>-0.583293</td>\n",
       "      <td>0.053490</td>\n",
       "      <td>-0.086282</td>\n",
       "    </tr>\n",
       "    <tr>\n",
       "      <th>79704.0</th>\n",
       "      <td>1.306778</td>\n",
       "      <td>0.022181</td>\n",
       "      <td>-0.163723</td>\n",
       "      <td>-0.009640</td>\n",
       "      <td>-0.265932</td>\n",
       "      <td>-1.076554</td>\n",
       "      <td>0.210551</td>\n",
       "      <td>-0.192439</td>\n",
       "      <td>0.225730</td>\n",
       "      <td>-0.090900</td>\n",
       "      <td>...</td>\n",
       "      <td>0.474472</td>\n",
       "      <td>-0.140273</td>\n",
       "      <td>-0.487847</td>\n",
       "      <td>-1.571589</td>\n",
       "      <td>0.155160</td>\n",
       "      <td>-0.153331</td>\n",
       "      <td>0.103053</td>\n",
       "      <td>0.657813</td>\n",
       "      <td>-0.115548</td>\n",
       "      <td>-0.002626</td>\n",
       "    </tr>\n",
       "    <tr>\n",
       "      <th>87806.0</th>\n",
       "      <td>-0.090395</td>\n",
       "      <td>1.945630</td>\n",
       "      <td>0.110409</td>\n",
       "      <td>3.576817</td>\n",
       "      <td>1.808763</td>\n",
       "      <td>0.116459</td>\n",
       "      <td>1.290151</td>\n",
       "      <td>-0.101369</td>\n",
       "      <td>-2.092431</td>\n",
       "      <td>0.240872</td>\n",
       "      <td>...</td>\n",
       "      <td>-0.384214</td>\n",
       "      <td>0.060361</td>\n",
       "      <td>-0.330813</td>\n",
       "      <td>-0.816633</td>\n",
       "      <td>-0.067784</td>\n",
       "      <td>-0.711654</td>\n",
       "      <td>-0.796666</td>\n",
       "      <td>-0.265907</td>\n",
       "      <td>0.039842</td>\n",
       "      <td>0.024192</td>\n",
       "    </tr>\n",
       "    <tr>\n",
       "      <th>76289.0</th>\n",
       "      <td>0.946585</td>\n",
       "      <td>-0.477232</td>\n",
       "      <td>1.125240</td>\n",
       "      <td>0.539594</td>\n",
       "      <td>-0.284746</td>\n",
       "      <td>2.044454</td>\n",
       "      <td>-1.107094</td>\n",
       "      <td>0.858359</td>\n",
       "      <td>0.757033</td>\n",
       "      <td>-0.243686</td>\n",
       "      <td>...</td>\n",
       "      <td>-1.297047</td>\n",
       "      <td>-0.264693</td>\n",
       "      <td>0.073049</td>\n",
       "      <td>0.480088</td>\n",
       "      <td>0.152317</td>\n",
       "      <td>-0.988593</td>\n",
       "      <td>-0.114120</td>\n",
       "      <td>0.429715</td>\n",
       "      <td>0.079519</td>\n",
       "      <td>0.001352</td>\n",
       "    </tr>\n",
       "  </tbody>\n",
       "</table>\n",
       "<p>199013 rows × 28 columns</p>\n",
       "</div>"
      ],
      "text/plain": [
       "                V1        V2        V3        V4        V5        V6  \\\n",
       "Time                                                                   \n",
       "1597.0   -0.447016  0.865305  1.317656 -0.031990 -0.049573 -0.348205   \n",
       "153690.0 -0.776571  0.804383  0.849559 -0.617220 -0.054136  0.523930   \n",
       "97031.0   2.053647  0.243291 -1.872014  0.596880  0.570019 -1.064779   \n",
       "68508.0   1.180688  0.024251  0.955792  0.527480 -0.767446 -0.404405   \n",
       "11086.0  -0.182049  0.534337  1.317379  1.735990 -0.472466  1.531518   \n",
       "...            ...       ...       ...       ...       ...       ...   \n",
       "75525.0  -1.057005  1.158519  1.232596  1.140679 -0.186492  0.407923   \n",
       "158989.0  2.182974 -1.008460 -2.834986 -3.264015  0.830545  0.294460   \n",
       "79704.0   1.306778  0.022181 -0.163723 -0.009640 -0.265932 -1.076554   \n",
       "87806.0  -0.090395  1.945630  0.110409  3.576817  1.808763  0.116459   \n",
       "76289.0   0.946585 -0.477232  1.125240  0.539594 -0.284746  2.044454   \n",
       "\n",
       "                V7        V8        V9       V10  ...       V19       V20  \\\n",
       "Time                                              ...                       \n",
       "1597.0    0.401046  0.327438 -0.328063 -0.324674  ... -0.222342 -0.051299   \n",
       "153690.0 -0.307065  0.847935  0.278560 -0.668078  ...  0.459711 -0.072367   \n",
       "97031.0   0.229696 -0.460595  1.865564 -0.865344  ... -0.386951 -0.145679   \n",
       "68508.0  -0.428924  0.069926  0.093850  0.079937  ... -0.035820 -0.063934   \n",
       "11086.0  -0.724238 -1.384876  2.000744 -0.614165  ...  0.734191 -0.434316   \n",
       "...            ...       ...       ...       ...  ...       ...       ...   \n",
       "75525.0   1.505036 -0.129395 -0.729305  0.218051  ... -1.265839 -0.504789   \n",
       "158989.0 -0.090330 -0.001023  0.272701 -0.272232  ... -0.174136 -0.679827   \n",
       "79704.0   0.210551 -0.192439  0.225730 -0.090900  ...  0.474472 -0.140273   \n",
       "87806.0   1.290151 -0.101369 -2.092431  0.240872  ... -0.384214  0.060361   \n",
       "76289.0  -1.107094  0.858359  0.757033 -0.243686  ... -1.297047 -0.264693   \n",
       "\n",
       "               V21       V22       V23       V24       V25       V26  \\\n",
       "Time                                                                   \n",
       "1597.0   -0.195072 -0.612429  0.064959  0.109621 -0.366456  0.079036   \n",
       "153690.0  0.354584  1.058180 -0.304391  0.268749  0.006518 -0.070282   \n",
       "97031.0   0.021229  0.442260 -0.123783 -0.768147  0.323993 -0.103481   \n",
       "68508.0  -0.032497 -0.117500  0.077052  0.340947  0.136221  0.195824   \n",
       "11086.0   1.199651 -0.939429 -0.507470 -0.813763  1.148263  0.005315   \n",
       "...            ...       ...       ...       ...       ...       ...   \n",
       "75525.0  -0.299197 -1.010943 -0.088265 -0.561599 -0.365902 -0.510134   \n",
       "158989.0 -0.144837  0.331923  0.031033 -0.945655  0.347180 -0.583293   \n",
       "79704.0  -0.487847 -1.571589  0.155160 -0.153331  0.103053  0.657813   \n",
       "87806.0  -0.330813 -0.816633 -0.067784 -0.711654 -0.796666 -0.265907   \n",
       "76289.0   0.073049  0.480088  0.152317 -0.988593 -0.114120  0.429715   \n",
       "\n",
       "               V27       V28  \n",
       "Time                          \n",
       "1597.0    0.242154  0.082075  \n",
       "153690.0  0.284993  0.138072  \n",
       "97031.0  -0.033083 -0.038749  \n",
       "68508.0  -0.009098  0.016719  \n",
       "11086.0   0.268109  0.163228  \n",
       "...            ...       ...  \n",
       "75525.0  -0.182902  0.078162  \n",
       "158989.0  0.053490 -0.086282  \n",
       "79704.0  -0.115548 -0.002626  \n",
       "87806.0   0.039842  0.024192  \n",
       "76289.0   0.079519  0.001352  \n",
       "\n",
       "[199013 rows x 28 columns]"
      ]
     },
     "execution_count": 16,
     "metadata": {},
     "output_type": "execute_result"
    }
   ],
   "source": [
    "X_train"
   ]
  },
  {
   "cell_type": "code",
   "execution_count": 17,
   "id": "026c14bf",
   "metadata": {},
   "outputs": [
    {
     "data": {
      "text/html": [
       "<div>\n",
       "<style scoped>\n",
       "    .dataframe tbody tr th:only-of-type {\n",
       "        vertical-align: middle;\n",
       "    }\n",
       "\n",
       "    .dataframe tbody tr th {\n",
       "        vertical-align: top;\n",
       "    }\n",
       "\n",
       "    .dataframe thead th {\n",
       "        text-align: right;\n",
       "    }\n",
       "</style>\n",
       "<table border=\"1\" class=\"dataframe\">\n",
       "  <thead>\n",
       "    <tr style=\"text-align: right;\">\n",
       "      <th></th>\n",
       "      <th>V1</th>\n",
       "      <th>V2</th>\n",
       "      <th>V3</th>\n",
       "      <th>V4</th>\n",
       "      <th>V5</th>\n",
       "      <th>V6</th>\n",
       "      <th>V7</th>\n",
       "      <th>V8</th>\n",
       "      <th>V9</th>\n",
       "      <th>V10</th>\n",
       "      <th>...</th>\n",
       "      <th>V19</th>\n",
       "      <th>V20</th>\n",
       "      <th>V21</th>\n",
       "      <th>V22</th>\n",
       "      <th>V23</th>\n",
       "      <th>V24</th>\n",
       "      <th>V25</th>\n",
       "      <th>V26</th>\n",
       "      <th>V27</th>\n",
       "      <th>V28</th>\n",
       "    </tr>\n",
       "    <tr>\n",
       "      <th>Time</th>\n",
       "      <th></th>\n",
       "      <th></th>\n",
       "      <th></th>\n",
       "      <th></th>\n",
       "      <th></th>\n",
       "      <th></th>\n",
       "      <th></th>\n",
       "      <th></th>\n",
       "      <th></th>\n",
       "      <th></th>\n",
       "      <th></th>\n",
       "      <th></th>\n",
       "      <th></th>\n",
       "      <th></th>\n",
       "      <th></th>\n",
       "      <th></th>\n",
       "      <th></th>\n",
       "      <th></th>\n",
       "      <th></th>\n",
       "      <th></th>\n",
       "      <th></th>\n",
       "    </tr>\n",
       "  </thead>\n",
       "  <tbody>\n",
       "    <tr>\n",
       "      <th>1597.0</th>\n",
       "      <td>0.452755</td>\n",
       "      <td>1.409407</td>\n",
       "      <td>2.099457</td>\n",
       "      <td>-0.995422</td>\n",
       "      <td>-0.025244</td>\n",
       "      <td>-0.157828</td>\n",
       "      <td>0.685952</td>\n",
       "      <td>0.783511</td>\n",
       "      <td>-1.071446</td>\n",
       "      <td>-0.514935</td>\n",
       "      <td>...</td>\n",
       "      <td>-0.529816</td>\n",
       "      <td>-0.371343</td>\n",
       "      <td>-0.583932</td>\n",
       "      <td>-0.168592</td>\n",
       "      <td>-0.776629</td>\n",
       "      <td>-0.296602</td>\n",
       "      <td>-0.072768</td>\n",
       "      <td>0.073544</td>\n",
       "      <td>0.585938</td>\n",
       "      <td>-0.220341</td>\n",
       "    </tr>\n",
       "    <tr>\n",
       "      <th>153690.0</th>\n",
       "      <td>-1.138755</td>\n",
       "      <td>1.283581</td>\n",
       "      <td>0.653581</td>\n",
       "      <td>-1.007692</td>\n",
       "      <td>0.391089</td>\n",
       "      <td>0.574960</td>\n",
       "      <td>-0.186197</td>\n",
       "      <td>1.138879</td>\n",
       "      <td>0.614941</td>\n",
       "      <td>-0.770901</td>\n",
       "      <td>...</td>\n",
       "      <td>-0.637101</td>\n",
       "      <td>0.542537</td>\n",
       "      <td>0.391822</td>\n",
       "      <td>0.496801</td>\n",
       "      <td>-0.915357</td>\n",
       "      <td>-0.533247</td>\n",
       "      <td>0.328843</td>\n",
       "      <td>-0.636420</td>\n",
       "      <td>0.351096</td>\n",
       "      <td>-0.785467</td>\n",
       "    </tr>\n",
       "    <tr>\n",
       "      <th>97031.0</th>\n",
       "      <td>1.947862</td>\n",
       "      <td>-0.324769</td>\n",
       "      <td>-0.981183</td>\n",
       "      <td>0.210900</td>\n",
       "      <td>1.617105</td>\n",
       "      <td>-1.532775</td>\n",
       "      <td>1.007202</td>\n",
       "      <td>-0.606494</td>\n",
       "      <td>2.059142</td>\n",
       "      <td>-0.413786</td>\n",
       "      <td>...</td>\n",
       "      <td>-0.077728</td>\n",
       "      <td>-0.323456</td>\n",
       "      <td>-0.582919</td>\n",
       "      <td>0.431094</td>\n",
       "      <td>-0.297390</td>\n",
       "      <td>-0.117851</td>\n",
       "      <td>0.849211</td>\n",
       "      <td>-0.173561</td>\n",
       "      <td>0.132651</td>\n",
       "      <td>-0.032885</td>\n",
       "    </tr>\n",
       "    <tr>\n",
       "      <th>68508.0</th>\n",
       "      <td>0.971169</td>\n",
       "      <td>-0.569678</td>\n",
       "      <td>1.697433</td>\n",
       "      <td>0.891907</td>\n",
       "      <td>-0.476143</td>\n",
       "      <td>-0.905905</td>\n",
       "      <td>-0.653600</td>\n",
       "      <td>-0.978288</td>\n",
       "      <td>-0.810914</td>\n",
       "      <td>0.057845</td>\n",
       "      <td>...</td>\n",
       "      <td>-0.618368</td>\n",
       "      <td>0.459389</td>\n",
       "      <td>-0.458809</td>\n",
       "      <td>-0.020885</td>\n",
       "      <td>0.908890</td>\n",
       "      <td>0.462747</td>\n",
       "      <td>-0.616101</td>\n",
       "      <td>0.857362</td>\n",
       "      <td>-0.214165</td>\n",
       "      <td>0.054107</td>\n",
       "    </tr>\n",
       "    <tr>\n",
       "      <th>11086.0</th>\n",
       "      <td>-0.060966</td>\n",
       "      <td>-0.176588</td>\n",
       "      <td>1.255398</td>\n",
       "      <td>1.456242</td>\n",
       "      <td>-0.386186</td>\n",
       "      <td>1.782731</td>\n",
       "      <td>-1.006518</td>\n",
       "      <td>-2.532428</td>\n",
       "      <td>2.199261</td>\n",
       "      <td>-0.117535</td>\n",
       "      <td>...</td>\n",
       "      <td>0.322989</td>\n",
       "      <td>0.347490</td>\n",
       "      <td>0.192700</td>\n",
       "      <td>-1.129667</td>\n",
       "      <td>-0.655338</td>\n",
       "      <td>-0.294321</td>\n",
       "      <td>1.262777</td>\n",
       "      <td>0.421244</td>\n",
       "      <td>-0.289071</td>\n",
       "      <td>-0.276067</td>\n",
       "    </tr>\n",
       "    <tr>\n",
       "      <th>...</th>\n",
       "      <td>...</td>\n",
       "      <td>...</td>\n",
       "      <td>...</td>\n",
       "      <td>...</td>\n",
       "      <td>...</td>\n",
       "      <td>...</td>\n",
       "      <td>...</td>\n",
       "      <td>...</td>\n",
       "      <td>...</td>\n",
       "      <td>...</td>\n",
       "      <td>...</td>\n",
       "      <td>...</td>\n",
       "      <td>...</td>\n",
       "      <td>...</td>\n",
       "      <td>...</td>\n",
       "      <td>...</td>\n",
       "      <td>...</td>\n",
       "      <td>...</td>\n",
       "      <td>...</td>\n",
       "      <td>...</td>\n",
       "      <td>...</td>\n",
       "    </tr>\n",
       "    <tr>\n",
       "      <th>75525.0</th>\n",
       "      <td>-1.303822</td>\n",
       "      <td>1.192804</td>\n",
       "      <td>1.358735</td>\n",
       "      <td>1.558553</td>\n",
       "      <td>-0.910728</td>\n",
       "      <td>0.715209</td>\n",
       "      <td>1.639756</td>\n",
       "      <td>-0.797158</td>\n",
       "      <td>-1.316367</td>\n",
       "      <td>-0.539470</td>\n",
       "      <td>...</td>\n",
       "      <td>-1.843841</td>\n",
       "      <td>-0.275433</td>\n",
       "      <td>0.256603</td>\n",
       "      <td>-1.256863</td>\n",
       "      <td>-0.141315</td>\n",
       "      <td>-0.619110</td>\n",
       "      <td>-0.720238</td>\n",
       "      <td>-1.279896</td>\n",
       "      <td>0.198155</td>\n",
       "      <td>0.574847</td>\n",
       "    </tr>\n",
       "    <tr>\n",
       "      <th>158989.0</th>\n",
       "      <td>1.545959</td>\n",
       "      <td>-1.300126</td>\n",
       "      <td>-2.768452</td>\n",
       "      <td>-2.915530</td>\n",
       "      <td>1.115029</td>\n",
       "      <td>0.258084</td>\n",
       "      <td>-0.291445</td>\n",
       "      <td>-1.305018</td>\n",
       "      <td>-0.052128</td>\n",
       "      <td>-0.410334</td>\n",
       "      <td>...</td>\n",
       "      <td>-0.421832</td>\n",
       "      <td>-0.153062</td>\n",
       "      <td>-0.207562</td>\n",
       "      <td>-0.082152</td>\n",
       "      <td>0.179756</td>\n",
       "      <td>0.050342</td>\n",
       "      <td>-0.299979</td>\n",
       "      <td>0.205321</td>\n",
       "      <td>0.410626</td>\n",
       "      <td>0.159131</td>\n",
       "    </tr>\n",
       "    <tr>\n",
       "      <th>79704.0</th>\n",
       "      <td>1.098579</td>\n",
       "      <td>0.088825</td>\n",
       "      <td>0.763535</td>\n",
       "      <td>-0.231140</td>\n",
       "      <td>-0.830960</td>\n",
       "      <td>-1.721229</td>\n",
       "      <td>-0.120232</td>\n",
       "      <td>0.851635</td>\n",
       "      <td>0.964095</td>\n",
       "      <td>-0.610650</td>\n",
       "      <td>...</td>\n",
       "      <td>1.221023</td>\n",
       "      <td>0.445991</td>\n",
       "      <td>-0.020274</td>\n",
       "      <td>-1.733158</td>\n",
       "      <td>-0.253866</td>\n",
       "      <td>-0.267857</td>\n",
       "      <td>1.130014</td>\n",
       "      <td>0.691766</td>\n",
       "      <td>0.233169</td>\n",
       "      <td>-0.592237</td>\n",
       "    </tr>\n",
       "    <tr>\n",
       "      <th>87806.0</th>\n",
       "      <td>0.067127</td>\n",
       "      <td>1.533623</td>\n",
       "      <td>1.186634</td>\n",
       "      <td>3.571677</td>\n",
       "      <td>1.900233</td>\n",
       "      <td>-0.396664</td>\n",
       "      <td>0.849488</td>\n",
       "      <td>-0.576899</td>\n",
       "      <td>-2.786668</td>\n",
       "      <td>0.858450</td>\n",
       "      <td>...</td>\n",
       "      <td>-1.063243</td>\n",
       "      <td>-0.063902</td>\n",
       "      <td>0.263682</td>\n",
       "      <td>-1.016174</td>\n",
       "      <td>-0.399979</td>\n",
       "      <td>-0.684342</td>\n",
       "      <td>-2.239733</td>\n",
       "      <td>-0.379840</td>\n",
       "      <td>-0.661038</td>\n",
       "      <td>-0.438550</td>\n",
       "    </tr>\n",
       "    <tr>\n",
       "      <th>76289.0</th>\n",
       "      <td>0.595079</td>\n",
       "      <td>-0.380018</td>\n",
       "      <td>0.141507</td>\n",
       "      <td>0.577909</td>\n",
       "      <td>-0.043508</td>\n",
       "      <td>1.595748</td>\n",
       "      <td>-1.146797</td>\n",
       "      <td>1.314898</td>\n",
       "      <td>-0.025418</td>\n",
       "      <td>-0.342425</td>\n",
       "      <td>...</td>\n",
       "      <td>-1.749129</td>\n",
       "      <td>0.964955</td>\n",
       "      <td>-0.982775</td>\n",
       "      <td>0.458530</td>\n",
       "      <td>0.087205</td>\n",
       "      <td>-1.600366</td>\n",
       "      <td>0.445724</td>\n",
       "      <td>0.186203</td>\n",
       "      <td>0.151512</td>\n",
       "      <td>0.174333</td>\n",
       "    </tr>\n",
       "  </tbody>\n",
       "</table>\n",
       "<p>199013 rows × 28 columns</p>\n",
       "</div>"
      ],
      "text/plain": [
       "                V1        V2        V3        V4        V5        V6  \\\n",
       "Time                                                                   \n",
       "1597.0    0.452755  1.409407  2.099457 -0.995422 -0.025244 -0.157828   \n",
       "153690.0 -1.138755  1.283581  0.653581 -1.007692  0.391089  0.574960   \n",
       "97031.0   1.947862 -0.324769 -0.981183  0.210900  1.617105 -1.532775   \n",
       "68508.0   0.971169 -0.569678  1.697433  0.891907 -0.476143 -0.905905   \n",
       "11086.0  -0.060966 -0.176588  1.255398  1.456242 -0.386186  1.782731   \n",
       "...            ...       ...       ...       ...       ...       ...   \n",
       "75525.0  -1.303822  1.192804  1.358735  1.558553 -0.910728  0.715209   \n",
       "158989.0  1.545959 -1.300126 -2.768452 -2.915530  1.115029  0.258084   \n",
       "79704.0   1.098579  0.088825  0.763535 -0.231140 -0.830960 -1.721229   \n",
       "87806.0   0.067127  1.533623  1.186634  3.571677  1.900233 -0.396664   \n",
       "76289.0   0.595079 -0.380018  0.141507  0.577909 -0.043508  1.595748   \n",
       "\n",
       "                V7        V8        V9       V10  ...       V19       V20  \\\n",
       "Time                                              ...                       \n",
       "1597.0    0.685952  0.783511 -1.071446 -0.514935  ... -0.529816 -0.371343   \n",
       "153690.0 -0.186197  1.138879  0.614941 -0.770901  ... -0.637101  0.542537   \n",
       "97031.0   1.007202 -0.606494  2.059142 -0.413786  ... -0.077728 -0.323456   \n",
       "68508.0  -0.653600 -0.978288 -0.810914  0.057845  ... -0.618368  0.459389   \n",
       "11086.0  -1.006518 -2.532428  2.199261 -0.117535  ...  0.322989  0.347490   \n",
       "...            ...       ...       ...       ...  ...       ...       ...   \n",
       "75525.0   1.639756 -0.797158 -1.316367 -0.539470  ... -1.843841 -0.275433   \n",
       "158989.0 -0.291445 -1.305018 -0.052128 -0.410334  ... -0.421832 -0.153062   \n",
       "79704.0  -0.120232  0.851635  0.964095 -0.610650  ...  1.221023  0.445991   \n",
       "87806.0   0.849488 -0.576899 -2.786668  0.858450  ... -1.063243 -0.063902   \n",
       "76289.0  -1.146797  1.314898 -0.025418 -0.342425  ... -1.749129  0.964955   \n",
       "\n",
       "               V21       V22       V23       V24       V25       V26  \\\n",
       "Time                                                                   \n",
       "1597.0   -0.583932 -0.168592 -0.776629 -0.296602 -0.072768  0.073544   \n",
       "153690.0  0.391822  0.496801 -0.915357 -0.533247  0.328843 -0.636420   \n",
       "97031.0  -0.582919  0.431094 -0.297390 -0.117851  0.849211 -0.173561   \n",
       "68508.0  -0.458809 -0.020885  0.908890  0.462747 -0.616101  0.857362   \n",
       "11086.0   0.192700 -1.129667 -0.655338 -0.294321  1.262777  0.421244   \n",
       "...            ...       ...       ...       ...       ...       ...   \n",
       "75525.0   0.256603 -1.256863 -0.141315 -0.619110 -0.720238 -1.279896   \n",
       "158989.0 -0.207562 -0.082152  0.179756  0.050342 -0.299979  0.205321   \n",
       "79704.0  -0.020274 -1.733158 -0.253866 -0.267857  1.130014  0.691766   \n",
       "87806.0   0.263682 -1.016174 -0.399979 -0.684342 -2.239733 -0.379840   \n",
       "76289.0  -0.982775  0.458530  0.087205 -1.600366  0.445724  0.186203   \n",
       "\n",
       "               V27       V28  \n",
       "Time                          \n",
       "1597.0    0.585938 -0.220341  \n",
       "153690.0  0.351096 -0.785467  \n",
       "97031.0   0.132651 -0.032885  \n",
       "68508.0  -0.214165  0.054107  \n",
       "11086.0  -0.289071 -0.276067  \n",
       "...            ...       ...  \n",
       "75525.0   0.198155  0.574847  \n",
       "158989.0  0.410626  0.159131  \n",
       "79704.0   0.233169 -0.592237  \n",
       "87806.0  -0.661038 -0.438550  \n",
       "76289.0   0.151512  0.174333  \n",
       "\n",
       "[199013 rows x 28 columns]"
      ]
     },
     "execution_count": 17,
     "metadata": {},
     "output_type": "execute_result"
    }
   ],
   "source": [
    "X_train_noise"
   ]
  },
  {
   "cell_type": "markdown",
   "id": "95e19b52",
   "metadata": {},
   "source": [
    "### Denoising AutoEncoder Model"
   ]
  },
  {
   "cell_type": "code",
   "execution_count": 18,
   "id": "10aafb4a",
   "metadata": {},
   "outputs": [],
   "source": [
    "input_dim = X_train.shape[1]\n",
    "\n",
    "input_layer = Input(shape=(input_dim, ))\n",
    "encoder = Dense(14, activation=\"relu\")(input_layer)\n",
    "encoder = Dense(7, activation=\"relu\")(encoder)\n",
    "encoder = Dense(2, activation=\"relu\")(encoder)\n",
    "\n",
    "decoder = Dense(7, activation=\"relu\")(encoder)\n",
    "decoder = Dense(14, activation='relu')(decoder)\n",
    "decoder = Dense(input_dim)(decoder)\n",
    "autoencoder = Model(inputs=input_layer, outputs=decoder)"
   ]
  },
  {
   "cell_type": "code",
   "execution_count": 19,
   "id": "40a93f7c",
   "metadata": {},
   "outputs": [],
   "source": [
    "epochs = 100\n",
    "batch_size = 32\n",
    "autoencoder.compile(optimizer='adam', loss='mse', metrics=['accuracy'])\n",
    "checkpointer = ModelCheckpoint(filepath=\"fraudDAE.pth\", verbose=0, save_best_only=True)"
   ]
  },
  {
   "cell_type": "markdown",
   "id": "6bc40337",
   "metadata": {},
   "source": [
    "### Training"
   ]
  },
  {
   "cell_type": "code",
   "execution_count": 21,
   "id": "c24d5c33",
   "metadata": {
    "scrolled": false
   },
   "outputs": [
    {
     "name": "stdout",
     "output_type": "stream",
     "text": [
      "Epoch 1/100\n",
      "5577/5598 [============================>.] - ETA: 0s - loss: 0.8385 - accuracy: 0.3563INFO:tensorflow:Assets written to: fraudDAE.pth\\assets\n"
     ]
    },
    {
     "name": "stderr",
     "output_type": "stream",
     "text": [
      "INFO:tensorflow:Assets written to: fraudDAE.pth\\assets\n"
     ]
    },
    {
     "name": "stdout",
     "output_type": "stream",
     "text": [
      "5598/5598 [==============================] - 17s 3ms/step - loss: 0.8390 - accuracy: 0.3565 - val_loss: 0.7191 - val_accuracy: 0.3993\n",
      "Epoch 2/100\n",
      "5573/5598 [============================>.] - ETA: 0s - loss: 0.7141 - accuracy: 0.4031INFO:tensorflow:Assets written to: fraudDAE.pth\\assets\n"
     ]
    },
    {
     "name": "stderr",
     "output_type": "stream",
     "text": [
      "INFO:tensorflow:Assets written to: fraudDAE.pth\\assets\n"
     ]
    },
    {
     "name": "stdout",
     "output_type": "stream",
     "text": [
      "5598/5598 [==============================] - 13s 2ms/step - loss: 0.7136 - accuracy: 0.4031 - val_loss: 0.6738 - val_accuracy: 0.4078\n",
      "Epoch 3/100\n",
      "5593/5598 [============================>.] - ETA: 0s - loss: 0.6889 - accuracy: 0.4048INFO:tensorflow:Assets written to: fraudDAE.pth\\assets\n"
     ]
    },
    {
     "name": "stderr",
     "output_type": "stream",
     "text": [
      "INFO:tensorflow:Assets written to: fraudDAE.pth\\assets\n"
     ]
    },
    {
     "name": "stdout",
     "output_type": "stream",
     "text": [
      "5598/5598 [==============================] - 14s 2ms/step - loss: 0.6888 - accuracy: 0.4048 - val_loss: 0.6594 - val_accuracy: 0.4119\n",
      "Epoch 4/100\n",
      "5575/5598 [============================>.] - ETA: 0s - loss: 0.6751 - accuracy: 0.4167INFO:tensorflow:Assets written to: fraudDAE.pth\\assets\n"
     ]
    },
    {
     "name": "stderr",
     "output_type": "stream",
     "text": [
      "INFO:tensorflow:Assets written to: fraudDAE.pth\\assets\n"
     ]
    },
    {
     "name": "stdout",
     "output_type": "stream",
     "text": [
      "5598/5598 [==============================] - 15s 3ms/step - loss: 0.6750 - accuracy: 0.4166 - val_loss: 0.6511 - val_accuracy: 0.4237\n",
      "Epoch 5/100\n",
      "5583/5598 [============================>.] - ETA: 0s - loss: 0.6613 - accuracy: 0.4406INFO:tensorflow:Assets written to: fraudDAE.pth\\assets\n"
     ]
    },
    {
     "name": "stderr",
     "output_type": "stream",
     "text": [
      "INFO:tensorflow:Assets written to: fraudDAE.pth\\assets\n"
     ]
    },
    {
     "name": "stdout",
     "output_type": "stream",
     "text": [
      "5598/5598 [==============================] - 13s 2ms/step - loss: 0.6614 - accuracy: 0.4406 - val_loss: 0.6424 - val_accuracy: 0.4503\n",
      "Epoch 6/100\n",
      "5594/5598 [============================>.] - ETA: 0s - loss: 0.6471 - accuracy: 0.4476INFO:tensorflow:Assets written to: fraudDAE.pth\\assets\n"
     ]
    },
    {
     "name": "stderr",
     "output_type": "stream",
     "text": [
      "INFO:tensorflow:Assets written to: fraudDAE.pth\\assets\n"
     ]
    },
    {
     "name": "stdout",
     "output_type": "stream",
     "text": [
      "5598/5598 [==============================] - 13s 2ms/step - loss: 0.6471 - accuracy: 0.4476 - val_loss: 0.6278 - val_accuracy: 0.4562\n",
      "Epoch 7/100\n",
      "5592/5598 [============================>.] - ETA: 0s - loss: 0.6358 - accuracy: 0.4501INFO:tensorflow:Assets written to: fraudDAE.pth\\assets\n"
     ]
    },
    {
     "name": "stderr",
     "output_type": "stream",
     "text": [
      "INFO:tensorflow:Assets written to: fraudDAE.pth\\assets\n"
     ]
    },
    {
     "name": "stdout",
     "output_type": "stream",
     "text": [
      "5598/5598 [==============================] - 13s 2ms/step - loss: 0.6357 - accuracy: 0.4501 - val_loss: 0.6208 - val_accuracy: 0.4590\n",
      "Epoch 8/100\n",
      "5589/5598 [============================>.] - ETA: 0s - loss: 0.6287 - accuracy: 0.4508INFO:tensorflow:Assets written to: fraudDAE.pth\\assets\n"
     ]
    },
    {
     "name": "stderr",
     "output_type": "stream",
     "text": [
      "INFO:tensorflow:Assets written to: fraudDAE.pth\\assets\n"
     ]
    },
    {
     "name": "stdout",
     "output_type": "stream",
     "text": [
      "5598/5598 [==============================] - 13s 2ms/step - loss: 0.6288 - accuracy: 0.4506 - val_loss: 0.6207 - val_accuracy: 0.4579\n",
      "Epoch 9/100\n",
      "5592/5598 [============================>.] - ETA: 0s - loss: 0.6227 - accuracy: 0.4539INFO:tensorflow:Assets written to: fraudDAE.pth\\assets\n"
     ]
    },
    {
     "name": "stderr",
     "output_type": "stream",
     "text": [
      "INFO:tensorflow:Assets written to: fraudDAE.pth\\assets\n"
     ]
    },
    {
     "name": "stdout",
     "output_type": "stream",
     "text": [
      "5598/5598 [==============================] - 12s 2ms/step - loss: 0.6226 - accuracy: 0.4538 - val_loss: 0.6107 - val_accuracy: 0.4605\n",
      "Epoch 10/100\n",
      "5598/5598 [==============================] - 12s 2ms/step - loss: 0.6169 - accuracy: 0.4556 - val_loss: 0.6201 - val_accuracy: 0.4613\n",
      "Epoch 11/100\n",
      "5578/5598 [============================>.] - ETA: 0s - loss: 0.6121 - accuracy: 0.4574INFO:tensorflow:Assets written to: fraudDAE.pth\\assets\n"
     ]
    },
    {
     "name": "stderr",
     "output_type": "stream",
     "text": [
      "INFO:tensorflow:Assets written to: fraudDAE.pth\\assets\n"
     ]
    },
    {
     "name": "stdout",
     "output_type": "stream",
     "text": [
      "5598/5598 [==============================] - 13s 2ms/step - loss: 0.6120 - accuracy: 0.4574 - val_loss: 0.5981 - val_accuracy: 0.4641\n",
      "Epoch 12/100\n",
      "5598/5598 [==============================] - 14s 3ms/step - loss: 0.6066 - accuracy: 0.4586 - val_loss: 0.6697 - val_accuracy: 0.4644\n",
      "Epoch 13/100\n",
      "5598/5598 [==============================] - 13s 2ms/step - loss: 0.6048 - accuracy: 0.4600 - val_loss: 0.5985 - val_accuracy: 0.4671\n",
      "Epoch 14/100\n",
      "5590/5598 [============================>.] - ETA: 0s - loss: 0.6014 - accuracy: 0.4591INFO:tensorflow:Assets written to: fraudDAE.pth\\assets\n"
     ]
    },
    {
     "name": "stderr",
     "output_type": "stream",
     "text": [
      "INFO:tensorflow:Assets written to: fraudDAE.pth\\assets\n"
     ]
    },
    {
     "name": "stdout",
     "output_type": "stream",
     "text": [
      "5598/5598 [==============================] - 14s 2ms/step - loss: 0.6013 - accuracy: 0.4591 - val_loss: 0.5914 - val_accuracy: 0.4671\n",
      "Epoch 15/100\n",
      "5595/5598 [============================>.] - ETA: 0s - loss: 0.5979 - accuracy: 0.4607INFO:tensorflow:Assets written to: fraudDAE.pth\\assets\n"
     ]
    },
    {
     "name": "stderr",
     "output_type": "stream",
     "text": [
      "INFO:tensorflow:Assets written to: fraudDAE.pth\\assets\n"
     ]
    },
    {
     "name": "stdout",
     "output_type": "stream",
     "text": [
      "5598/5598 [==============================] - 16s 3ms/step - loss: 0.5978 - accuracy: 0.4607 - val_loss: 0.5888 - val_accuracy: 0.4665\n",
      "Epoch 16/100\n",
      "5585/5598 [============================>.] - ETA: 0s - loss: 0.5956 - accuracy: 0.4618INFO:tensorflow:Assets written to: fraudDAE.pth\\assets\n"
     ]
    },
    {
     "name": "stderr",
     "output_type": "stream",
     "text": [
      "INFO:tensorflow:Assets written to: fraudDAE.pth\\assets\n"
     ]
    },
    {
     "name": "stdout",
     "output_type": "stream",
     "text": [
      "5598/5598 [==============================] - 15s 3ms/step - loss: 0.5956 - accuracy: 0.4617 - val_loss: 0.5871 - val_accuracy: 0.4644\n",
      "Epoch 17/100\n",
      "5586/5598 [============================>.] - ETA: 0s - loss: 0.5937 - accuracy: 0.4616INFO:tensorflow:Assets written to: fraudDAE.pth\\assets\n"
     ]
    },
    {
     "name": "stderr",
     "output_type": "stream",
     "text": [
      "INFO:tensorflow:Assets written to: fraudDAE.pth\\assets\n"
     ]
    },
    {
     "name": "stdout",
     "output_type": "stream",
     "text": [
      "5598/5598 [==============================] - 14s 2ms/step - loss: 0.5936 - accuracy: 0.4616 - val_loss: 0.5868 - val_accuracy: 0.4682\n",
      "Epoch 18/100\n",
      "5598/5598 [==============================] - 13s 2ms/step - loss: 0.5923 - accuracy: 0.4616 - val_loss: 0.5920 - val_accuracy: 0.4685\n",
      "Epoch 19/100\n",
      "5598/5598 [==============================] - 12s 2ms/step - loss: 0.5903 - accuracy: 0.4635 - val_loss: 0.5952 - val_accuracy: 0.4773\n",
      "Epoch 20/100\n",
      "5598/5598 [==============================] - 13s 2ms/step - loss: 0.5899 - accuracy: 0.4639 - val_loss: 0.6059 - val_accuracy: 0.4695\n",
      "Epoch 21/100\n",
      "5596/5598 [============================>.] - ETA: 0s - loss: 0.5864 - accuracy: 0.4644INFO:tensorflow:Assets written to: fraudDAE.pth\\assets\n"
     ]
    },
    {
     "name": "stderr",
     "output_type": "stream",
     "text": [
      "INFO:tensorflow:Assets written to: fraudDAE.pth\\assets\n"
     ]
    },
    {
     "name": "stdout",
     "output_type": "stream",
     "text": [
      "5598/5598 [==============================] - 14s 3ms/step - loss: 0.5863 - accuracy: 0.4645 - val_loss: 0.5808 - val_accuracy: 0.4703\n",
      "Epoch 22/100\n",
      "5598/5598 [==============================] - 12s 2ms/step - loss: 0.5844 - accuracy: 0.4637 - val_loss: 0.5811 - val_accuracy: 0.4745\n",
      "Epoch 23/100\n",
      "5577/5598 [============================>.] - ETA: 0s - loss: 0.5836 - accuracy: 0.4647INFO:tensorflow:Assets written to: fraudDAE.pth\\assets\n"
     ]
    },
    {
     "name": "stderr",
     "output_type": "stream",
     "text": [
      "INFO:tensorflow:Assets written to: fraudDAE.pth\\assets\n"
     ]
    },
    {
     "name": "stdout",
     "output_type": "stream",
     "text": [
      "5598/5598 [==============================] - 14s 3ms/step - loss: 0.5835 - accuracy: 0.4648 - val_loss: 0.5783 - val_accuracy: 0.4738\n",
      "Epoch 24/100\n",
      "5598/5598 [==============================] - 14s 2ms/step - loss: 0.5845 - accuracy: 0.4640 - val_loss: 0.5796 - val_accuracy: 0.4725\n",
      "Epoch 25/100\n",
      "5598/5598 [==============================] - 12s 2ms/step - loss: 0.5820 - accuracy: 0.4637 - val_loss: 0.5845 - val_accuracy: 0.4722\n",
      "Epoch 26/100\n",
      "5598/5598 [==============================] - 13s 2ms/step - loss: 0.5776 - accuracy: 0.4622 - val_loss: 0.5825 - val_accuracy: 0.4613\n",
      "Epoch 27/100\n",
      "5596/5598 [============================>.] - ETA: 0s - loss: 0.5754 - accuracy: 0.4625INFO:tensorflow:Assets written to: fraudDAE.pth\\assets\n"
     ]
    },
    {
     "name": "stderr",
     "output_type": "stream",
     "text": [
      "INFO:tensorflow:Assets written to: fraudDAE.pth\\assets\n"
     ]
    },
    {
     "name": "stdout",
     "output_type": "stream",
     "text": [
      "5598/5598 [==============================] - 15s 3ms/step - loss: 0.5754 - accuracy: 0.4625 - val_loss: 0.5665 - val_accuracy: 0.4687\n",
      "Epoch 28/100\n",
      "5579/5598 [============================>.] - ETA: 0s - loss: 0.5722 - accuracy: 0.4633INFO:tensorflow:Assets written to: fraudDAE.pth\\assets\n"
     ]
    },
    {
     "name": "stderr",
     "output_type": "stream",
     "text": [
      "INFO:tensorflow:Assets written to: fraudDAE.pth\\assets\n"
     ]
    },
    {
     "name": "stdout",
     "output_type": "stream",
     "text": [
      "5598/5598 [==============================] - 14s 2ms/step - loss: 0.5722 - accuracy: 0.4633 - val_loss: 0.5640 - val_accuracy: 0.4716\n",
      "Epoch 29/100\n",
      "5598/5598 [==============================] - 14s 2ms/step - loss: 0.5700 - accuracy: 0.4671 - val_loss: 0.5660 - val_accuracy: 0.4753\n",
      "Epoch 30/100\n",
      "5580/5598 [============================>.] - ETA: 0s - loss: 0.5703 - accuracy: 0.4671INFO:tensorflow:Assets written to: fraudDAE.pth\\assets\n"
     ]
    },
    {
     "name": "stderr",
     "output_type": "stream",
     "text": [
      "INFO:tensorflow:Assets written to: fraudDAE.pth\\assets\n"
     ]
    },
    {
     "name": "stdout",
     "output_type": "stream",
     "text": [
      "5598/5598 [==============================] - 15s 3ms/step - loss: 0.5704 - accuracy: 0.4671 - val_loss: 0.5626 - val_accuracy: 0.4771\n",
      "Epoch 31/100\n",
      "5598/5598 [==============================] - 12s 2ms/step - loss: 0.5703 - accuracy: 0.4668 - val_loss: 0.5638 - val_accuracy: 0.4753\n",
      "Epoch 32/100\n",
      "5575/5598 [============================>.] - ETA: 0s - loss: 0.5703 - accuracy: 0.4657INFO:tensorflow:Assets written to: fraudDAE.pth\\assets\n"
     ]
    },
    {
     "name": "stderr",
     "output_type": "stream",
     "text": [
      "INFO:tensorflow:Assets written to: fraudDAE.pth\\assets\n"
     ]
    },
    {
     "name": "stdout",
     "output_type": "stream",
     "text": [
      "5598/5598 [==============================] - 15s 3ms/step - loss: 0.5704 - accuracy: 0.4656 - val_loss: 0.5587 - val_accuracy: 0.4780\n",
      "Epoch 33/100\n",
      "5598/5598 [==============================] - 13s 2ms/step - loss: 0.5706 - accuracy: 0.4669 - val_loss: 0.5669 - val_accuracy: 0.4735\n",
      "Epoch 34/100\n",
      "5598/5598 [==============================] - 13s 2ms/step - loss: 0.5798 - accuracy: 0.4644 - val_loss: 0.5658 - val_accuracy: 0.4748\n",
      "Epoch 35/100\n",
      "5598/5598 [==============================] - 13s 2ms/step - loss: 0.5756 - accuracy: 0.4651 - val_loss: 0.5767 - val_accuracy: 0.4724\n",
      "Epoch 36/100\n",
      "5598/5598 [==============================] - 12s 2ms/step - loss: 0.5759 - accuracy: 0.4645 - val_loss: 0.5671 - val_accuracy: 0.4735\n",
      "Epoch 37/100\n",
      "5598/5598 [==============================] - 12s 2ms/step - loss: 0.5713 - accuracy: 0.4674 - val_loss: 0.5705 - val_accuracy: 0.4796\n",
      "Epoch 38/100\n",
      "5598/5598 [==============================] - 12s 2ms/step - loss: 0.5686 - accuracy: 0.4669 - val_loss: 0.5697 - val_accuracy: 0.4704\n",
      "Epoch 39/100\n",
      "5598/5598 [==============================] - 13s 2ms/step - loss: 0.5686 - accuracy: 0.4682 - val_loss: 0.5671 - val_accuracy: 0.4733\n",
      "Epoch 40/100\n",
      "5598/5598 [==============================] - 13s 2ms/step - loss: 0.5643 - accuracy: 0.4694 - val_loss: 0.5674 - val_accuracy: 0.4745\n",
      "Epoch 41/100\n",
      "5598/5598 [==============================] - 13s 2ms/step - loss: 0.5675 - accuracy: 0.4678 - val_loss: 0.5592 - val_accuracy: 0.4792\n",
      "Epoch 42/100\n",
      "5589/5598 [============================>.] - ETA: 0s - loss: 0.5652 - accuracy: 0.4682INFO:tensorflow:Assets written to: fraudDAE.pth\\assets\n"
     ]
    },
    {
     "name": "stderr",
     "output_type": "stream",
     "text": [
      "INFO:tensorflow:Assets written to: fraudDAE.pth\\assets\n"
     ]
    },
    {
     "name": "stdout",
     "output_type": "stream",
     "text": [
      "5598/5598 [==============================] - 14s 2ms/step - loss: 0.5651 - accuracy: 0.4681 - val_loss: 0.5574 - val_accuracy: 0.4755\n",
      "Epoch 43/100\n",
      "5597/5598 [============================>.] - ETA: 0s - loss: 0.5655 - accuracy: 0.4681INFO:tensorflow:Assets written to: fraudDAE.pth\\assets\n"
     ]
    },
    {
     "name": "stderr",
     "output_type": "stream",
     "text": [
      "INFO:tensorflow:Assets written to: fraudDAE.pth\\assets\n"
     ]
    },
    {
     "name": "stdout",
     "output_type": "stream",
     "text": [
      "5598/5598 [==============================] - 15s 3ms/step - loss: 0.5655 - accuracy: 0.4681 - val_loss: 0.5549 - val_accuracy: 0.4777\n",
      "Epoch 44/100\n",
      "5598/5598 [==============================] - ETA: 0s - loss: 0.5627 - accuracy: 0.4680INFO:tensorflow:Assets written to: fraudDAE.pth\\assets\n"
     ]
    },
    {
     "name": "stderr",
     "output_type": "stream",
     "text": [
      "INFO:tensorflow:Assets written to: fraudDAE.pth\\assets\n"
     ]
    },
    {
     "name": "stdout",
     "output_type": "stream",
     "text": [
      "5598/5598 [==============================] - 13s 2ms/step - loss: 0.5627 - accuracy: 0.4680 - val_loss: 0.5507 - val_accuracy: 0.4767\n",
      "Epoch 45/100\n",
      "5598/5598 [==============================] - 13s 2ms/step - loss: 0.5617 - accuracy: 0.4657 - val_loss: 0.5547 - val_accuracy: 0.4735\n",
      "Epoch 46/100\n",
      "5598/5598 [==============================] - 13s 2ms/step - loss: 0.5616 - accuracy: 0.4649 - val_loss: 0.5550 - val_accuracy: 0.4682\n",
      "Epoch 47/100\n",
      "5598/5598 [==============================] - 13s 2ms/step - loss: 0.5628 - accuracy: 0.4661 - val_loss: 0.5555 - val_accuracy: 0.4741\n",
      "Epoch 48/100\n",
      "5575/5598 [============================>.] - ETA: 0s - loss: 0.5582 - accuracy: 0.4665INFO:tensorflow:Assets written to: fraudDAE.pth\\assets\n"
     ]
    },
    {
     "name": "stderr",
     "output_type": "stream",
     "text": [
      "INFO:tensorflow:Assets written to: fraudDAE.pth\\assets\n"
     ]
    },
    {
     "name": "stdout",
     "output_type": "stream",
     "text": [
      "5598/5598 [==============================] - 14s 2ms/step - loss: 0.5583 - accuracy: 0.4665 - val_loss: 0.5505 - val_accuracy: 0.4773\n",
      "Epoch 49/100\n",
      "5598/5598 [==============================] - 13s 2ms/step - loss: 0.5599 - accuracy: 0.4665 - val_loss: 0.5553 - val_accuracy: 0.4774\n",
      "Epoch 50/100\n",
      "5598/5598 [==============================] - 13s 2ms/step - loss: 0.5599 - accuracy: 0.4695 - val_loss: 0.5534 - val_accuracy: 0.4751\n",
      "Epoch 51/100\n",
      "5598/5598 [==============================] - 12s 2ms/step - loss: 0.5597 - accuracy: 0.4730 - val_loss: 0.5627 - val_accuracy: 0.4816\n",
      "Epoch 52/100\n",
      "5598/5598 [==============================] - 14s 2ms/step - loss: 0.5571 - accuracy: 0.4768 - val_loss: 0.5542 - val_accuracy: 0.4929\n",
      "Epoch 53/100\n",
      "5598/5598 [==============================] - 13s 2ms/step - loss: 0.5568 - accuracy: 0.4811 - val_loss: 0.5528 - val_accuracy: 0.4850\n",
      "Epoch 54/100\n",
      "5589/5598 [============================>.] - ETA: 0s - loss: 0.5536 - accuracy: 0.4841INFO:tensorflow:Assets written to: fraudDAE.pth\\assets\n"
     ]
    },
    {
     "name": "stderr",
     "output_type": "stream",
     "text": [
      "INFO:tensorflow:Assets written to: fraudDAE.pth\\assets\n"
     ]
    },
    {
     "name": "stdout",
     "output_type": "stream",
     "text": [
      "5598/5598 [==============================] - 14s 2ms/step - loss: 0.5536 - accuracy: 0.4840 - val_loss: 0.5442 - val_accuracy: 0.4923\n",
      "Epoch 55/100\n",
      "5598/5598 [==============================] - 13s 2ms/step - loss: 0.5527 - accuracy: 0.4866 - val_loss: 0.5454 - val_accuracy: 0.4972\n",
      "Epoch 56/100\n",
      "5598/5598 [==============================] - 13s 2ms/step - loss: 0.5535 - accuracy: 0.4903 - val_loss: 0.5470 - val_accuracy: 0.4926\n",
      "Epoch 57/100\n",
      "5598/5598 [==============================] - 14s 3ms/step - loss: 0.5538 - accuracy: 0.4914 - val_loss: 0.5446 - val_accuracy: 0.4967\n",
      "Epoch 58/100\n",
      "5598/5598 [==============================] - 17s 3ms/step - loss: 0.5544 - accuracy: 0.4927 - val_loss: 0.5461 - val_accuracy: 0.4946\n",
      "Epoch 59/100\n",
      "5598/5598 [==============================] - 18s 3ms/step - loss: 0.5538 - accuracy: 0.4929 - val_loss: 0.5449 - val_accuracy: 0.4983\n",
      "Epoch 60/100\n",
      "5598/5598 [==============================] - 17s 3ms/step - loss: 0.5531 - accuracy: 0.4935 - val_loss: 0.5494 - val_accuracy: 0.5008\n",
      "Epoch 61/100\n",
      "5589/5598 [============================>.] - ETA: 0s - loss: 0.5516 - accuracy: 0.4956INFO:tensorflow:Assets written to: fraudDAE.pth\\assets\n"
     ]
    },
    {
     "name": "stderr",
     "output_type": "stream",
     "text": [
      "INFO:tensorflow:Assets written to: fraudDAE.pth\\assets\n"
     ]
    },
    {
     "name": "stdout",
     "output_type": "stream",
     "text": [
      "5598/5598 [==============================] - 20s 4ms/step - loss: 0.5515 - accuracy: 0.4957 - val_loss: 0.5425 - val_accuracy: 0.5053\n",
      "Epoch 62/100\n",
      "5595/5598 [============================>.] - ETA: 0s - loss: 0.5505 - accuracy: 0.4994INFO:tensorflow:Assets written to: fraudDAE.pth\\assets\n"
     ]
    },
    {
     "name": "stderr",
     "output_type": "stream",
     "text": [
      "INFO:tensorflow:Assets written to: fraudDAE.pth\\assets\n"
     ]
    },
    {
     "name": "stdout",
     "output_type": "stream",
     "text": [
      "5598/5598 [==============================] - 17s 3ms/step - loss: 0.5505 - accuracy: 0.4995 - val_loss: 0.5417 - val_accuracy: 0.5044\n",
      "Epoch 63/100\n",
      "5598/5598 [==============================] - 17s 3ms/step - loss: 0.5516 - accuracy: 0.4997 - val_loss: 0.5467 - val_accuracy: 0.5051\n",
      "Epoch 64/100\n",
      "5598/5598 [==============================] - 16s 3ms/step - loss: 0.5519 - accuracy: 0.5004 - val_loss: 0.5553 - val_accuracy: 0.5056\n",
      "Epoch 65/100\n",
      "5598/5598 [==============================] - 16s 3ms/step - loss: 0.5501 - accuracy: 0.5001 - val_loss: 0.5620 - val_accuracy: 0.5006\n",
      "Epoch 66/100\n",
      "5598/5598 [==============================] - 15s 3ms/step - loss: 0.5508 - accuracy: 0.5012 - val_loss: 0.5595 - val_accuracy: 0.5094\n",
      "Epoch 67/100\n",
      "5598/5598 [==============================] - 15s 3ms/step - loss: 0.5545 - accuracy: 0.5027 - val_loss: 0.5464 - val_accuracy: 0.5041\n",
      "Epoch 68/100\n",
      "5598/5598 [==============================] - 16s 3ms/step - loss: 0.5501 - accuracy: 0.5020 - val_loss: 0.5489 - val_accuracy: 0.5072\n",
      "Epoch 69/100\n",
      "5598/5598 [==============================] - 18s 3ms/step - loss: 0.5522 - accuracy: 0.5025 - val_loss: 0.5509 - val_accuracy: 0.5102\n",
      "Epoch 70/100\n",
      "5598/5598 [==============================] - 17s 3ms/step - loss: 0.5508 - accuracy: 0.5029 - val_loss: 0.5454 - val_accuracy: 0.5123\n",
      "Epoch 71/100\n",
      "5598/5598 [==============================] - 17s 3ms/step - loss: 0.5483 - accuracy: 0.5039 - val_loss: 0.5422 - val_accuracy: 0.5093\n",
      "Epoch 72/100\n",
      "5598/5598 [==============================] - 18s 3ms/step - loss: 0.5481 - accuracy: 0.5028 - val_loss: 0.5467 - val_accuracy: 0.5061\n",
      "Epoch 73/100\n",
      "5598/5598 [==============================] - 17s 3ms/step - loss: 0.5481 - accuracy: 0.5021 - val_loss: 0.5422 - val_accuracy: 0.5110\n",
      "Epoch 74/100\n",
      "5598/5598 [==============================] - 18s 3ms/step - loss: 0.5476 - accuracy: 0.5036 - val_loss: 0.5454 - val_accuracy: 0.5112\n",
      "Epoch 75/100\n",
      "5598/5598 [==============================] - 18s 3ms/step - loss: 0.5485 - accuracy: 0.5061 - val_loss: 0.5486 - val_accuracy: 0.5093\n",
      "Epoch 76/100\n",
      "5598/5598 [==============================] - 19s 3ms/step - loss: 0.5473 - accuracy: 0.5063 - val_loss: 0.5476 - val_accuracy: 0.5024\n",
      "Epoch 77/100\n",
      "5598/5598 [==============================] - 22s 4ms/step - loss: 0.5468 - accuracy: 0.5063 - val_loss: 0.5496 - val_accuracy: 0.5152\n",
      "Epoch 78/100\n",
      "5598/5598 [==============================] - 21s 4ms/step - loss: 0.5465 - accuracy: 0.5068 - val_loss: 0.5458 - val_accuracy: 0.5144\n",
      "Epoch 79/100\n",
      "5598/5598 [==============================] - 21s 4ms/step - loss: 0.5484 - accuracy: 0.5077 - val_loss: 0.5452 - val_accuracy: 0.5125\n",
      "Epoch 80/100\n",
      "5598/5598 [==============================] - 17s 3ms/step - loss: 0.5474 - accuracy: 0.5078 - val_loss: 0.5453 - val_accuracy: 0.5129\n",
      "Epoch 81/100\n",
      "5598/5598 [==============================] - 18s 3ms/step - loss: 0.5481 - accuracy: 0.5072 - val_loss: 0.5524 - val_accuracy: 0.5156\n",
      "Epoch 82/100\n",
      "5598/5598 [==============================] - 17s 3ms/step - loss: 0.5471 - accuracy: 0.5094 - val_loss: 0.5481 - val_accuracy: 0.5172\n",
      "Epoch 83/100\n",
      "5598/5598 [==============================] - 18s 3ms/step - loss: 0.5468 - accuracy: 0.5086 - val_loss: 0.5468 - val_accuracy: 0.5153\n",
      "Epoch 84/100\n",
      "5598/5598 [==============================] - 16s 3ms/step - loss: 0.5462 - accuracy: 0.5101 - val_loss: 0.5461 - val_accuracy: 0.5138\n",
      "Epoch 85/100\n",
      "5598/5598 [==============================] - 17s 3ms/step - loss: 0.5461 - accuracy: 0.5081 - val_loss: 0.5425 - val_accuracy: 0.5154\n",
      "Epoch 86/100\n",
      "5598/5598 [==============================] - 17s 3ms/step - loss: 0.5451 - accuracy: 0.5092 - val_loss: 0.5484 - val_accuracy: 0.5128\n",
      "Epoch 87/100\n",
      "5598/5598 [==============================] - 16s 3ms/step - loss: 0.5449 - accuracy: 0.5085 - val_loss: 0.5467 - val_accuracy: 0.5138\n",
      "Epoch 88/100\n",
      "5598/5598 [==============================] - 17s 3ms/step - loss: 0.5450 - accuracy: 0.5081 - val_loss: 0.5426 - val_accuracy: 0.5054\n",
      "Epoch 89/100\n",
      "5597/5598 [============================>.] - ETA: 0s - loss: 0.5459 - accuracy: 0.5081INFO:tensorflow:Assets written to: fraudDAE.pth\\assets\n"
     ]
    },
    {
     "name": "stderr",
     "output_type": "stream",
     "text": [
      "INFO:tensorflow:Assets written to: fraudDAE.pth\\assets\n"
     ]
    },
    {
     "name": "stdout",
     "output_type": "stream",
     "text": [
      "5598/5598 [==============================] - 20s 4ms/step - loss: 0.5459 - accuracy: 0.5081 - val_loss: 0.5411 - val_accuracy: 0.5158\n",
      "Epoch 90/100\n",
      "5598/5598 [==============================] - 18s 3ms/step - loss: 0.5445 - accuracy: 0.5090 - val_loss: 0.5419 - val_accuracy: 0.5173\n",
      "Epoch 91/100\n",
      "5598/5598 [==============================] - 18s 3ms/step - loss: 0.5450 - accuracy: 0.5067 - val_loss: 0.5466 - val_accuracy: 0.5105\n",
      "Epoch 92/100\n",
      "5598/5598 [==============================] - 17s 3ms/step - loss: 0.5446 - accuracy: 0.5073 - val_loss: 0.5425 - val_accuracy: 0.5133\n",
      "Epoch 93/100\n",
      "5596/5598 [============================>.] - ETA: 0s - loss: 0.5447 - accuracy: 0.5080INFO:tensorflow:Assets written to: fraudDAE.pth\\assets\n"
     ]
    },
    {
     "name": "stderr",
     "output_type": "stream",
     "text": [
      "INFO:tensorflow:Assets written to: fraudDAE.pth\\assets\n"
     ]
    },
    {
     "name": "stdout",
     "output_type": "stream",
     "text": [
      "5598/5598 [==============================] - 19s 3ms/step - loss: 0.5447 - accuracy: 0.5080 - val_loss: 0.5389 - val_accuracy: 0.5161\n",
      "Epoch 94/100\n",
      "5598/5598 [==============================] - 19s 3ms/step - loss: 0.5435 - accuracy: 0.5087 - val_loss: 0.5396 - val_accuracy: 0.5088\n",
      "Epoch 95/100\n",
      "5598/5598 [==============================] - 16s 3ms/step - loss: 0.5449 - accuracy: 0.5083 - val_loss: 0.5423 - val_accuracy: 0.5127\n",
      "Epoch 96/100\n",
      "5598/5598 [==============================] - 19s 3ms/step - loss: 0.5450 - accuracy: 0.5087 - val_loss: 0.5402 - val_accuracy: 0.5087\n",
      "Epoch 97/100\n",
      "5598/5598 [==============================] - 22s 4ms/step - loss: 0.5447 - accuracy: 0.5085 - val_loss: 0.5408 - val_accuracy: 0.5139\n",
      "Epoch 98/100\n",
      "5598/5598 [==============================] - ETA: 0s - loss: 0.5447 - accuracy: 0.5079INFO:tensorflow:Assets written to: fraudDAE.pth\\assets\n"
     ]
    },
    {
     "name": "stderr",
     "output_type": "stream",
     "text": [
      "INFO:tensorflow:Assets written to: fraudDAE.pth\\assets\n"
     ]
    },
    {
     "name": "stdout",
     "output_type": "stream",
     "text": [
      "5598/5598 [==============================] - 24s 4ms/step - loss: 0.5447 - accuracy: 0.5079 - val_loss: 0.5382 - val_accuracy: 0.5095\n",
      "Epoch 99/100\n",
      "5598/5598 [==============================] - 18s 3ms/step - loss: 0.5439 - accuracy: 0.5073 - val_loss: 0.5407 - val_accuracy: 0.5114\n",
      "Epoch 100/100\n",
      "5598/5598 [==============================] - 18s 3ms/step - loss: 0.5431 - accuracy: 0.5095 - val_loss: 0.5400 - val_accuracy: 0.5150\n"
     ]
    }
   ],
   "source": [
    "history = autoencoder.fit(np.array(X_train_noise), np.array(X_train),\n",
    "                    epochs=epochs,\n",
    "                    batch_size=batch_size,\n",
    "                    shuffle=True,\n",
    "                    validation_split=0.1,\n",
    "                    callbacks=[checkpointer]).history"
   ]
  },
  {
   "cell_type": "code",
   "execution_count": 22,
   "id": "70cc9a1b",
   "metadata": {},
   "outputs": [
    {
     "data": {
      "image/png": "[encoded data removed]",
      "text/plain": [
       "<Figure size 640x480 with 1 Axes>"
      ]
     },
     "metadata": {},
     "output_type": "display_data"
    }
   ],
   "source": [
    "plt.plot(history['loss'])\n",
    "plt.plot(history['val_loss'])\n",
    "plt.title('model loss')\n",
    "plt.ylabel('loss')\n",
    "plt.xlabel('epoch')\n",
    "plt.legend(['train', 'test'], loc='upper right');"
   ]
  },
  {
   "cell_type": "markdown",
   "id": "447ae09c",
   "metadata": {},
   "source": [
    "### Test"
   ]
  },
  {
   "cell_type": "code",
   "execution_count": 23,
   "id": "099b2851",
   "metadata": {},
   "outputs": [],
   "source": [
    "dae = load_model('fraudDAE.pth')"
   ]
  },
  {
   "cell_type": "code",
   "execution_count": 24,
   "id": "ac2e5cde",
   "metadata": {},
   "outputs": [
    {
     "name": "stdout",
     "output_type": "stream",
     "text": [
      "2671/2671 [==============================] - 6s 2ms/step\n"
     ]
    },
    {
     "data": {
      "text/html": [
       "<div>\n",
       "<style scoped>\n",
       "    .dataframe tbody tr th:only-of-type {\n",
       "        vertical-align: middle;\n",
       "    }\n",
       "\n",
       "    .dataframe tbody tr th {\n",
       "        vertical-align: top;\n",
       "    }\n",
       "\n",
       "    .dataframe thead th {\n",
       "        text-align: right;\n",
       "    }\n",
       "</style>\n",
       "<table border=\"1\" class=\"dataframe\">\n",
       "  <thead>\n",
       "    <tr style=\"text-align: right;\">\n",
       "      <th></th>\n",
       "      <th>reconstruction_error</th>\n",
       "      <th>true_class</th>\n",
       "    </tr>\n",
       "  </thead>\n",
       "  <tbody>\n",
       "    <tr>\n",
       "      <th>count</th>\n",
       "      <td>85443.000000</td>\n",
       "      <td>85443.00000</td>\n",
       "    </tr>\n",
       "    <tr>\n",
       "      <th>mean</th>\n",
       "      <td>0.572554</td>\n",
       "      <td>0.00165</td>\n",
       "    </tr>\n",
       "    <tr>\n",
       "      <th>std</th>\n",
       "      <td>1.895738</td>\n",
       "      <td>0.04059</td>\n",
       "    </tr>\n",
       "    <tr>\n",
       "      <th>min</th>\n",
       "      <td>0.063791</td>\n",
       "      <td>0.00000</td>\n",
       "    </tr>\n",
       "    <tr>\n",
       "      <th>25%</th>\n",
       "      <td>0.231836</td>\n",
       "      <td>0.00000</td>\n",
       "    </tr>\n",
       "    <tr>\n",
       "      <th>50%</th>\n",
       "      <td>0.356777</td>\n",
       "      <td>0.00000</td>\n",
       "    </tr>\n",
       "    <tr>\n",
       "      <th>75%</th>\n",
       "      <td>0.610843</td>\n",
       "      <td>0.00000</td>\n",
       "    </tr>\n",
       "    <tr>\n",
       "      <th>max</th>\n",
       "      <td>112.928818</td>\n",
       "      <td>1.00000</td>\n",
       "    </tr>\n",
       "  </tbody>\n",
       "</table>\n",
       "</div>"
      ],
      "text/plain": [
       "       reconstruction_error   true_class\n",
       "count          85443.000000  85443.00000\n",
       "mean               0.572554      0.00165\n",
       "std                1.895738      0.04059\n",
       "min                0.063791      0.00000\n",
       "25%                0.231836      0.00000\n",
       "50%                0.356777      0.00000\n",
       "75%                0.610843      0.00000\n",
       "max              112.928818      1.00000"
      ]
     },
     "execution_count": 24,
     "metadata": {},
     "output_type": "execute_result"
    }
   ],
   "source": [
    "predictions = dae.predict(X_test_noise)\n",
    "mse = np.mean(np.power(X_test - predictions, 2), axis=1)\n",
    "error_df = pd.DataFrame({'reconstruction_error': mse,\n",
    "                        'true_class': y_test})\n",
    "error_df.describe()"
   ]
  },
  {
   "cell_type": "code",
   "execution_count": 25,
   "id": "4da1351d",
   "metadata": {},
   "outputs": [],
   "source": [
    "threshold = 2.9"
   ]
  },
  {
   "cell_type": "code",
   "execution_count": 26,
   "id": "79018bfb",
   "metadata": {},
   "outputs": [
    {
     "data": {
      "image/png": "[encoded data removed]",
      "text/plain": [
       "<Figure size 640x480 with 1 Axes>"
      ]
     },
     "metadata": {},
     "output_type": "display_data"
    }
   ],
   "source": [
    "groups = error_df.groupby('true_class')\n",
    "fig, ax = plt.subplots()\n",
    "\n",
    "for name, group in groups:\n",
    "    ax.plot(group.index, group.reconstruction_error, marker='o', ms=3.5, linestyle='',\n",
    "            label= \"Fraud\" if name == 1 else \"Normal\")\n",
    "ax.hlines(threshold, ax.get_xlim()[0], ax.get_xlim()[1], colors=\"r\", zorder=100, label='Threshold')\n",
    "ax.legend()\n",
    "plt.title(\"Reconstruction error for different classes\")\n",
    "plt.ylabel(\"Reconstruction error\")\n",
    "plt.xlabel(\"Data point index\")\n",
    "plt.show();"
   ]
  },
  {
   "cell_type": "code",
   "execution_count": 27,
   "id": "a97a4779",
   "metadata": {
    "scrolled": false
   },
   "outputs": [
    {
     "data": {
      "image/png": "[encoded data removed]",
      "text/plain": [
       "<Figure size 1200x1200 with 2 Axes>"
      ]
     },
     "metadata": {},
     "output_type": "display_data"
    }
   ],
   "source": [
    "from sklearn.metrics import classification_report, confusion_matrix, ConfusionMatrixDisplay\n",
    "LABELS = ['Normal','Fraud']\n",
    "\n",
    "y_pred = [1 if e > threshold else 0 for e in error_df.reconstruction_error.values]\n",
    "conf_matrix = confusion_matrix(error_df.true_class, y_pred)\n",
    "plt.figure(figsize=(12, 12))\n",
    "sns.heatmap(conf_matrix, xticklabels=LABELS, yticklabels=LABELS, annot=True, fmt=\"d\");\n",
    "plt.title(\"Confusion matrix\")\n",
    "plt.ylabel('True class')\n",
    "plt.xlabel('Predicted class')\n",
    "plt.show()"
   ]
  },
  {
   "cell_type": "markdown",
   "id": "40411cfb",
   "metadata": {},
   "source": [
    "### Visualize the latent space"
   ]
  },
  {
   "cell_type": "code",
   "execution_count": 28,
   "id": "6a95e156",
   "metadata": {},
   "outputs": [],
   "source": [
    "inp_layer = dae.input\n",
    "out_layer = dae.layers[3].output\n",
    "\n",
    "encoder = Model(inputs=inp_layer, outputs=out_layer)"
   ]
  },
  {
   "cell_type": "code",
   "execution_count": 29,
   "id": "7216235c",
   "metadata": {},
   "outputs": [
    {
     "name": "stdout",
     "output_type": "stream",
     "text": [
      "Model: \"model_1\"\n",
      "_________________________________________________________________\n",
      " Layer (type)                Output Shape              Param #   \n",
      "=================================================================\n",
      " input_1 (InputLayer)        [(None, 28)]              0         \n",
      "                                                                 \n",
      " dense (Dense)               (None, 14)                406       \n",
      "                                                                 \n",
      " dense_1 (Dense)             (None, 7)                 105       \n",
      "                                                                 \n",
      " dense_2 (Dense)             (None, 2)                 16        \n",
      "                                                                 \n",
      "=================================================================\n",
      "Total params: 527 (2.06 KB)\n",
      "Trainable params: 527 (2.06 KB)\n",
      "Non-trainable params: 0 (0.00 Byte)\n",
      "_________________________________________________________________\n"
     ]
    }
   ],
   "source": [
    "encoder.summary()"
   ]
  },
  {
   "cell_type": "code",
   "execution_count": 30,
   "id": "11553ce4",
   "metadata": {},
   "outputs": [
    {
     "name": "stdout",
     "output_type": "stream",
     "text": [
      "6220/6220 [==============================] - 13s 2ms/step\n",
      "2671/2671 [==============================] - 6s 2ms/step\n"
     ]
    },
    {
     "data": {
      "image/png": "[encoded data removed]",
      "text/plain": [
       "<Figure size 800x800 with 1 Axes>"
      ]
     },
     "metadata": {},
     "output_type": "display_data"
    }
   ],
   "source": [
    "X_train_encoded = encoder.predict(X_train)\n",
    "X_test_encoded = encoder.predict(X_test)\n",
    "\n",
    "X_encoded = np.vstack((X_train_encoded, X_test_encoded))\n",
    "y_main = np.hstack((np.zeros(len(X_train)), y_test))\n",
    "\n",
    "encoded_df = pd.DataFrame(np.hstack((X_encoded, y_main[np.newaxis].transpose())))\n",
    "\n",
    "plt.subplots(figsize=(8,8))\n",
    "plt.scatter(encoded_df[encoded_df[2]==0][0],encoded_df[encoded_df[2]==0][1], color='blue', label='Normal')\n",
    "plt.scatter(encoded_df[encoded_df[2]==1][1],encoded_df[encoded_df[2]==1][1], color='red', label='Fraud');"
   ]
  },
  {
   "cell_type": "code",
   "execution_count": null,
   "id": "a6191698",
   "metadata": {},
   "outputs": [],
   "source": []
  }
 ],
 "metadata": {
  "kernelspec": {
   "display_name": "Python 3 (ipykernel)",
   "language": "python",
   "name": "python3"
  },
  "language_info": {
   "codemirror_mode": {
    "name": "ipython",
    "version": 3
   },
   "file_extension": ".py",
   "mimetype": "text/x-python",
   "name": "python",
   "nbconvert_exporter": "python",
   "pygments_lexer": "ipython3",
   "version": "3.11.4"
  }
 },
 "nbformat": 4,
 "nbformat_minor": 5
}
