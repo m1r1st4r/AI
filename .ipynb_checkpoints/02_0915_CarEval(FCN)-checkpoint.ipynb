{
 "cells": [
  {
   "cell_type": "code",
   "execution_count": 1,
   "id": "0a2e1659",
   "metadata": {},
   "outputs": [],
   "source": [
    "import numpy as np\n",
    "import pandas as pd\n",
    "import os\n",
    "import matplotlib.pyplot as plt\n",
    "import seaborn as sns\n",
    "from pandas import Series, DataFrame\n",
    "from sklearn.preprocessing import LabelEncoder\n",
    "from sklearn.model_selection import train_test_split\n",
    "from sklearn import metrics\n",
    "import tensorflow as tf\n",
    "from tensorflow import keras"
   ]
  },
  {
   "cell_type": "code",
   "execution_count": 2,
   "id": "ada7da23",
   "metadata": {},
   "outputs": [],
   "source": [
    "label = LabelEncoder()\n",
    "df = pd.read_csv('data/car/car.data', header=None)\n",
    "header = [\"buying\",\"maint\",\"doors\",\"persons\",\"lug_boot\",\"safety\",\"class\"]\n",
    "\n",
    "\n",
    "df.columns = header"
   ]
  },
  {
   "cell_type": "code",
   "execution_count": 3,
   "id": "0cac52dd",
   "metadata": {},
   "outputs": [
    {
     "data": {
      "text/html": [
       "<div>\n",
       "<style scoped>\n",
       "    .dataframe tbody tr th:only-of-type {\n",
       "        vertical-align: middle;\n",
       "    }\n",
       "\n",
       "    .dataframe tbody tr th {\n",
       "        vertical-align: top;\n",
       "    }\n",
       "\n",
       "    .dataframe thead th {\n",
       "        text-align: right;\n",
       "    }\n",
       "</style>\n",
       "<table border=\"1\" class=\"dataframe\">\n",
       "  <thead>\n",
       "    <tr style=\"text-align: right;\">\n",
       "      <th></th>\n",
       "      <th>buying</th>\n",
       "      <th>maint</th>\n",
       "      <th>doors</th>\n",
       "      <th>persons</th>\n",
       "      <th>lug_boot</th>\n",
       "      <th>safety</th>\n",
       "      <th>class</th>\n",
       "    </tr>\n",
       "  </thead>\n",
       "  <tbody>\n",
       "    <tr>\n",
       "      <th>0</th>\n",
       "      <td>vhigh</td>\n",
       "      <td>vhigh</td>\n",
       "      <td>2</td>\n",
       "      <td>2</td>\n",
       "      <td>small</td>\n",
       "      <td>low</td>\n",
       "      <td>unacc</td>\n",
       "    </tr>\n",
       "    <tr>\n",
       "      <th>1</th>\n",
       "      <td>vhigh</td>\n",
       "      <td>vhigh</td>\n",
       "      <td>2</td>\n",
       "      <td>2</td>\n",
       "      <td>small</td>\n",
       "      <td>med</td>\n",
       "      <td>unacc</td>\n",
       "    </tr>\n",
       "    <tr>\n",
       "      <th>2</th>\n",
       "      <td>vhigh</td>\n",
       "      <td>vhigh</td>\n",
       "      <td>2</td>\n",
       "      <td>2</td>\n",
       "      <td>small</td>\n",
       "      <td>high</td>\n",
       "      <td>unacc</td>\n",
       "    </tr>\n",
       "    <tr>\n",
       "      <th>3</th>\n",
       "      <td>vhigh</td>\n",
       "      <td>vhigh</td>\n",
       "      <td>2</td>\n",
       "      <td>2</td>\n",
       "      <td>med</td>\n",
       "      <td>low</td>\n",
       "      <td>unacc</td>\n",
       "    </tr>\n",
       "    <tr>\n",
       "      <th>4</th>\n",
       "      <td>vhigh</td>\n",
       "      <td>vhigh</td>\n",
       "      <td>2</td>\n",
       "      <td>2</td>\n",
       "      <td>med</td>\n",
       "      <td>med</td>\n",
       "      <td>unacc</td>\n",
       "    </tr>\n",
       "    <tr>\n",
       "      <th>...</th>\n",
       "      <td>...</td>\n",
       "      <td>...</td>\n",
       "      <td>...</td>\n",
       "      <td>...</td>\n",
       "      <td>...</td>\n",
       "      <td>...</td>\n",
       "      <td>...</td>\n",
       "    </tr>\n",
       "    <tr>\n",
       "      <th>1723</th>\n",
       "      <td>low</td>\n",
       "      <td>low</td>\n",
       "      <td>5more</td>\n",
       "      <td>more</td>\n",
       "      <td>med</td>\n",
       "      <td>med</td>\n",
       "      <td>good</td>\n",
       "    </tr>\n",
       "    <tr>\n",
       "      <th>1724</th>\n",
       "      <td>low</td>\n",
       "      <td>low</td>\n",
       "      <td>5more</td>\n",
       "      <td>more</td>\n",
       "      <td>med</td>\n",
       "      <td>high</td>\n",
       "      <td>vgood</td>\n",
       "    </tr>\n",
       "    <tr>\n",
       "      <th>1725</th>\n",
       "      <td>low</td>\n",
       "      <td>low</td>\n",
       "      <td>5more</td>\n",
       "      <td>more</td>\n",
       "      <td>big</td>\n",
       "      <td>low</td>\n",
       "      <td>unacc</td>\n",
       "    </tr>\n",
       "    <tr>\n",
       "      <th>1726</th>\n",
       "      <td>low</td>\n",
       "      <td>low</td>\n",
       "      <td>5more</td>\n",
       "      <td>more</td>\n",
       "      <td>big</td>\n",
       "      <td>med</td>\n",
       "      <td>good</td>\n",
       "    </tr>\n",
       "    <tr>\n",
       "      <th>1727</th>\n",
       "      <td>low</td>\n",
       "      <td>low</td>\n",
       "      <td>5more</td>\n",
       "      <td>more</td>\n",
       "      <td>big</td>\n",
       "      <td>high</td>\n",
       "      <td>vgood</td>\n",
       "    </tr>\n",
       "  </tbody>\n",
       "</table>\n",
       "<p>1728 rows × 7 columns</p>\n",
       "</div>"
      ],
      "text/plain": [
       "     buying  maint  doors persons lug_boot safety  class\n",
       "0     vhigh  vhigh      2       2    small    low  unacc\n",
       "1     vhigh  vhigh      2       2    small    med  unacc\n",
       "2     vhigh  vhigh      2       2    small   high  unacc\n",
       "3     vhigh  vhigh      2       2      med    low  unacc\n",
       "4     vhigh  vhigh      2       2      med    med  unacc\n",
       "...     ...    ...    ...     ...      ...    ...    ...\n",
       "1723    low    low  5more    more      med    med   good\n",
       "1724    low    low  5more    more      med   high  vgood\n",
       "1725    low    low  5more    more      big    low  unacc\n",
       "1726    low    low  5more    more      big    med   good\n",
       "1727    low    low  5more    more      big   high  vgood\n",
       "\n",
       "[1728 rows x 7 columns]"
      ]
     },
     "execution_count": 3,
     "metadata": {},
     "output_type": "execute_result"
    }
   ],
   "source": [
    "df"
   ]
  },
  {
   "cell_type": "code",
   "execution_count": 4,
   "id": "eda19110",
   "metadata": {},
   "outputs": [],
   "source": [
    "for column in df.columns:\n",
    "    df[column] = label.fit_transform(df[column])"
   ]
  },
  {
   "cell_type": "code",
   "execution_count": 5,
   "id": "80b98468",
   "metadata": {},
   "outputs": [
    {
     "data": {
      "text/html": [
       "<div>\n",
       "<style scoped>\n",
       "    .dataframe tbody tr th:only-of-type {\n",
       "        vertical-align: middle;\n",
       "    }\n",
       "\n",
       "    .dataframe tbody tr th {\n",
       "        vertical-align: top;\n",
       "    }\n",
       "\n",
       "    .dataframe thead th {\n",
       "        text-align: right;\n",
       "    }\n",
       "</style>\n",
       "<table border=\"1\" class=\"dataframe\">\n",
       "  <thead>\n",
       "    <tr style=\"text-align: right;\">\n",
       "      <th></th>\n",
       "      <th>buying</th>\n",
       "      <th>maint</th>\n",
       "      <th>doors</th>\n",
       "      <th>persons</th>\n",
       "      <th>lug_boot</th>\n",
       "      <th>safety</th>\n",
       "      <th>class</th>\n",
       "    </tr>\n",
       "  </thead>\n",
       "  <tbody>\n",
       "    <tr>\n",
       "      <th>0</th>\n",
       "      <td>3</td>\n",
       "      <td>3</td>\n",
       "      <td>0</td>\n",
       "      <td>0</td>\n",
       "      <td>2</td>\n",
       "      <td>1</td>\n",
       "      <td>2</td>\n",
       "    </tr>\n",
       "    <tr>\n",
       "      <th>1</th>\n",
       "      <td>3</td>\n",
       "      <td>3</td>\n",
       "      <td>0</td>\n",
       "      <td>0</td>\n",
       "      <td>2</td>\n",
       "      <td>2</td>\n",
       "      <td>2</td>\n",
       "    </tr>\n",
       "    <tr>\n",
       "      <th>2</th>\n",
       "      <td>3</td>\n",
       "      <td>3</td>\n",
       "      <td>0</td>\n",
       "      <td>0</td>\n",
       "      <td>2</td>\n",
       "      <td>0</td>\n",
       "      <td>2</td>\n",
       "    </tr>\n",
       "    <tr>\n",
       "      <th>3</th>\n",
       "      <td>3</td>\n",
       "      <td>3</td>\n",
       "      <td>0</td>\n",
       "      <td>0</td>\n",
       "      <td>1</td>\n",
       "      <td>1</td>\n",
       "      <td>2</td>\n",
       "    </tr>\n",
       "    <tr>\n",
       "      <th>4</th>\n",
       "      <td>3</td>\n",
       "      <td>3</td>\n",
       "      <td>0</td>\n",
       "      <td>0</td>\n",
       "      <td>1</td>\n",
       "      <td>2</td>\n",
       "      <td>2</td>\n",
       "    </tr>\n",
       "    <tr>\n",
       "      <th>...</th>\n",
       "      <td>...</td>\n",
       "      <td>...</td>\n",
       "      <td>...</td>\n",
       "      <td>...</td>\n",
       "      <td>...</td>\n",
       "      <td>...</td>\n",
       "      <td>...</td>\n",
       "    </tr>\n",
       "    <tr>\n",
       "      <th>1723</th>\n",
       "      <td>1</td>\n",
       "      <td>1</td>\n",
       "      <td>3</td>\n",
       "      <td>2</td>\n",
       "      <td>1</td>\n",
       "      <td>2</td>\n",
       "      <td>1</td>\n",
       "    </tr>\n",
       "    <tr>\n",
       "      <th>1724</th>\n",
       "      <td>1</td>\n",
       "      <td>1</td>\n",
       "      <td>3</td>\n",
       "      <td>2</td>\n",
       "      <td>1</td>\n",
       "      <td>0</td>\n",
       "      <td>3</td>\n",
       "    </tr>\n",
       "    <tr>\n",
       "      <th>1725</th>\n",
       "      <td>1</td>\n",
       "      <td>1</td>\n",
       "      <td>3</td>\n",
       "      <td>2</td>\n",
       "      <td>0</td>\n",
       "      <td>1</td>\n",
       "      <td>2</td>\n",
       "    </tr>\n",
       "    <tr>\n",
       "      <th>1726</th>\n",
       "      <td>1</td>\n",
       "      <td>1</td>\n",
       "      <td>3</td>\n",
       "      <td>2</td>\n",
       "      <td>0</td>\n",
       "      <td>2</td>\n",
       "      <td>1</td>\n",
       "    </tr>\n",
       "    <tr>\n",
       "      <th>1727</th>\n",
       "      <td>1</td>\n",
       "      <td>1</td>\n",
       "      <td>3</td>\n",
       "      <td>2</td>\n",
       "      <td>0</td>\n",
       "      <td>0</td>\n",
       "      <td>3</td>\n",
       "    </tr>\n",
       "  </tbody>\n",
       "</table>\n",
       "<p>1728 rows × 7 columns</p>\n",
       "</div>"
      ],
      "text/plain": [
       "      buying  maint  doors  persons  lug_boot  safety  class\n",
       "0          3      3      0        0         2       1      2\n",
       "1          3      3      0        0         2       2      2\n",
       "2          3      3      0        0         2       0      2\n",
       "3          3      3      0        0         1       1      2\n",
       "4          3      3      0        0         1       2      2\n",
       "...      ...    ...    ...      ...       ...     ...    ...\n",
       "1723       1      1      3        2         1       2      1\n",
       "1724       1      1      3        2         1       0      3\n",
       "1725       1      1      3        2         0       1      2\n",
       "1726       1      1      3        2         0       2      1\n",
       "1727       1      1      3        2         0       0      3\n",
       "\n",
       "[1728 rows x 7 columns]"
      ]
     },
     "execution_count": 5,
     "metadata": {},
     "output_type": "execute_result"
    }
   ],
   "source": [
    "df"
   ]
  },
  {
   "cell_type": "code",
   "execution_count": 6,
   "id": "3f098d91",
   "metadata": {},
   "outputs": [
    {
     "data": {
      "text/plain": [
       "pandas.core.frame.DataFrame"
      ]
     },
     "execution_count": 6,
     "metadata": {},
     "output_type": "execute_result"
    }
   ],
   "source": [
    "type(df)"
   ]
  },
  {
   "cell_type": "code",
   "execution_count": 7,
   "id": "58fe7c3b",
   "metadata": {},
   "outputs": [
    {
     "data": {
      "text/plain": [
       "buying      0\n",
       "maint       0\n",
       "doors       0\n",
       "persons     0\n",
       "lug_boot    0\n",
       "safety      0\n",
       "class       0\n",
       "dtype: int64"
      ]
     },
     "execution_count": 7,
     "metadata": {},
     "output_type": "execute_result"
    }
   ],
   "source": [
    "df.isnull().sum()"
   ]
  },
  {
   "cell_type": "code",
   "execution_count": 8,
   "id": "12109b3e",
   "metadata": {},
   "outputs": [
    {
     "data": {
      "text/plain": [
       "Index(['buying', 'maint', 'doors', 'persons', 'lug_boot', 'safety', 'class'], dtype='object')"
      ]
     },
     "execution_count": 8,
     "metadata": {},
     "output_type": "execute_result"
    }
   ],
   "source": [
    "df.columns"
   ]
  },
  {
   "cell_type": "code",
   "execution_count": 9,
   "id": "0709a60b",
   "metadata": {},
   "outputs": [
    {
     "data": {
      "text/plain": [
       "Text(0.5, 1.0, 'car type')"
      ]
     },
     "execution_count": 9,
     "metadata": {},
     "output_type": "execute_result"
    },
    {
     "data": {
      "image/png": "[encoded data removed]",
      "text/plain": [
       "<Figure size 640x480 with 1 Axes>"
      ]
     },
     "metadata": {},
     "output_type": "display_data"
    }
   ],
   "source": [
    "sns.countplot(data = df, x=\"class\")\n",
    "plt.xlabel(\"unacc\")\n",
    "plt.ylabel(\"Count\")\n",
    "plt.title(\"car type\")"
   ]
  },
  {
   "cell_type": "code",
   "execution_count": 10,
   "id": "c0501e1b",
   "metadata": {},
   "outputs": [],
   "source": [
    "X = df.iloc[:,:6].values\n",
    "y = df.iloc[:,-1].values"
   ]
  },
  {
   "cell_type": "code",
   "execution_count": 11,
   "id": "9333d306",
   "metadata": {
    "scrolled": true
   },
   "outputs": [
    {
     "data": {
      "text/plain": [
       "array([[3, 3, 0, 0, 2, 1],\n",
       "       [3, 3, 0, 0, 2, 2],\n",
       "       [3, 3, 0, 0, 2, 0],\n",
       "       ...,\n",
       "       [1, 1, 3, 2, 0, 1],\n",
       "       [1, 1, 3, 2, 0, 2],\n",
       "       [1, 1, 3, 2, 0, 0]])"
      ]
     },
     "execution_count": 11,
     "metadata": {},
     "output_type": "execute_result"
    }
   ],
   "source": [
    "X"
   ]
  },
  {
   "cell_type": "code",
   "execution_count": 12,
   "id": "9edb8854",
   "metadata": {},
   "outputs": [
    {
     "data": {
      "text/plain": [
       "array([2, 2, 2, ..., 2, 1, 3])"
      ]
     },
     "execution_count": 12,
     "metadata": {},
     "output_type": "execute_result"
    }
   ],
   "source": [
    "y"
   ]
  },
  {
   "cell_type": "code",
   "execution_count": 13,
   "id": "4bfb0bcd",
   "metadata": {},
   "outputs": [],
   "source": [
    "X_train,X_test,y_train,y_test = train_test_split(X,y,test_size=0.2,random_state=0) "
   ]
  },
  {
   "cell_type": "code",
   "execution_count": 14,
   "id": "d16e4e8c",
   "metadata": {},
   "outputs": [
    {
     "name": "stdout",
     "output_type": "stream",
     "text": [
      "New y_train shape:  (1382, 4)\n",
      "New y_train shape:  (346, 4)\n"
     ]
    }
   ],
   "source": [
    "from tensorflow.python.keras.utils import np_utils\n",
    "\n",
    "y_train = np_utils.to_categorical(y_train,4)\n",
    "y_test = np_utils.to_categorical(y_test,4)\n",
    "\n",
    "print('New y_train shape: ', y_train.shape)\n",
    "print('New y_train shape: ', y_test.shape)"
   ]
  },
  {
   "cell_type": "code",
   "execution_count": 15,
   "id": "8cdc91ff",
   "metadata": {},
   "outputs": [
    {
     "data": {
      "text/plain": [
       "array([[0., 0., 1., 0.],\n",
       "       [0., 0., 1., 0.],\n",
       "       [0., 0., 1., 0.],\n",
       "       ...,\n",
       "       [0., 0., 1., 0.],\n",
       "       [0., 0., 1., 0.],\n",
       "       [0., 0., 1., 0.]], dtype=float32)"
      ]
     },
     "execution_count": 15,
     "metadata": {},
     "output_type": "execute_result"
    }
   ],
   "source": [
    "y_train"
   ]
  },
  {
   "cell_type": "code",
   "execution_count": 16,
   "id": "718143ca",
   "metadata": {},
   "outputs": [
    {
     "name": "stderr",
     "output_type": "stream",
     "text": [
      "WARNING:absl:`lr` is deprecated in Keras optimizer, please use `learning_rate` or use the legacy optimizer, e.g.,tf.keras.optimizers.legacy.Adam.\n"
     ]
    },
    {
     "name": "stdout",
     "output_type": "stream",
     "text": [
      "Model: \"sequential\"\n",
      "_________________________________________________________________\n",
      " Layer (type)                Output Shape              Param #   \n",
      "=================================================================\n",
      " dense (Dense)               (None, 6)                 42        \n",
      "                                                                 \n",
      " dense_1 (Dense)             (None, 12)                84        \n",
      "                                                                 \n",
      " dense_2 (Dense)             (None, 24)                312       \n",
      "                                                                 \n",
      " dense_3 (Dense)             (None, 4)                 100       \n",
      "                                                                 \n",
      "=================================================================\n",
      "Total params: 538 (2.10 KB)\n",
      "Trainable params: 538 (2.10 KB)\n",
      "Non-trainable params: 0 (0.00 Byte)\n",
      "_________________________________________________________________\n"
     ]
    }
   ],
   "source": [
    "from keras.models import Sequential\n",
    "from keras.layers import Dense\n",
    "from keras.optimizers import SGD,Adam\n",
    "\n",
    "\n",
    "model = Sequential()\n",
    "\n",
    "model.add(Dense(6,input_shape=(6,),activation='relu'))\n",
    "model.add(Dense(12,activation='relu'))\n",
    "model.add(Dense(24,activation='relu'))\n",
    "model.add(Dense(4,activation='sigmoid'))\n",
    "\n",
    "model.compile(Adam(lr=0.02),'binary_crossentropy',metrics=['accuracy'])\n",
    "\n",
    "model.summary()"
   ]
  },
  {
   "cell_type": "code",
   "execution_count": null,
   "id": "a9088a2e",
   "metadata": {},
   "outputs": [
    {
     "name": "stdout",
     "output_type": "stream",
     "text": [
      "Epoch 1/100\n",
      "44/44 [==============================] - 2s 12ms/step - loss: 0.6106 - accuracy: 0.5825 - val_loss: 0.5266 - val_accuracy: 0.6936\n",
      "Epoch 2/100\n",
      "44/44 [==============================] - 0s 4ms/step - loss: 0.4525 - accuracy: 0.7019 - val_loss: 0.3959 - val_accuracy: 0.6936\n",
      "Epoch 3/100\n",
      "44/44 [==============================] - 0s 3ms/step - loss: 0.3828 - accuracy: 0.7019 - val_loss: 0.3727 - val_accuracy: 0.6936\n",
      "Epoch 4/100\n",
      "44/44 [==============================] - 0s 3ms/step - loss: 0.3684 - accuracy: 0.7019 - val_loss: 0.3646 - val_accuracy: 0.6936\n",
      "Epoch 5/100\n",
      "44/44 [==============================] - 0s 4ms/step - loss: 0.3607 - accuracy: 0.7019 - val_loss: 0.3585 - val_accuracy: 0.6936\n",
      "Epoch 6/100\n",
      "44/44 [==============================] - 0s 3ms/step - loss: 0.3542 - accuracy: 0.7019 - val_loss: 0.3526 - val_accuracy: 0.6936\n",
      "Epoch 7/100\n",
      "44/44 [==============================] - 0s 6ms/step - loss: 0.3476 - accuracy: 0.7019 - val_loss: 0.3479 - val_accuracy: 0.6936\n",
      "Epoch 8/100\n",
      "44/44 [==============================] - 0s 3ms/step - loss: 0.3406 - accuracy: 0.7019 - val_loss: 0.3431 - val_accuracy: 0.6936\n",
      "Epoch 9/100\n",
      "44/44 [==============================] - 0s 4ms/step - loss: 0.3335 - accuracy: 0.7019 - val_loss: 0.3371 - val_accuracy: 0.6936\n",
      "Epoch 10/100\n",
      "44/44 [==============================] - 0s 4ms/step - loss: 0.3259 - accuracy: 0.7019 - val_loss: 0.3329 - val_accuracy: 0.6936\n",
      "Epoch 11/100\n",
      "44/44 [==============================] - 0s 3ms/step - loss: 0.3195 - accuracy: 0.7019 - val_loss: 0.3272 - val_accuracy: 0.6936\n",
      "Epoch 12/100\n",
      "44/44 [==============================] - 0s 3ms/step - loss: 0.3136 - accuracy: 0.7019 - val_loss: 0.3225 - val_accuracy: 0.6936\n",
      "Epoch 13/100\n",
      "44/44 [==============================] - 0s 5ms/step - loss: 0.3085 - accuracy: 0.7019 - val_loss: 0.3174 - val_accuracy: 0.6994\n",
      "Epoch 14/100\n",
      "44/44 [==============================] - 0s 4ms/step - loss: 0.3047 - accuracy: 0.7019 - val_loss: 0.3133 - val_accuracy: 0.6965\n",
      "Epoch 15/100\n",
      "44/44 [==============================] - 0s 4ms/step - loss: 0.3012 - accuracy: 0.6968 - val_loss: 0.3102 - val_accuracy: 0.6994\n",
      "Epoch 16/100\n",
      "44/44 [==============================] - 0s 3ms/step - loss: 0.2977 - accuracy: 0.6946 - val_loss: 0.3089 - val_accuracy: 0.6965\n",
      "Epoch 17/100\n",
      "44/44 [==============================] - 0s 4ms/step - loss: 0.2932 - accuracy: 0.6961 - val_loss: 0.3041 - val_accuracy: 0.6994\n",
      "Epoch 18/100\n",
      "44/44 [==============================] - 0s 6ms/step - loss: 0.2900 - accuracy: 0.7004 - val_loss: 0.2993 - val_accuracy: 0.6994\n",
      "Epoch 19/100\n",
      "44/44 [==============================] - 0s 5ms/step - loss: 0.2865 - accuracy: 0.7033 - val_loss: 0.2977 - val_accuracy: 0.6994\n",
      "Epoch 20/100\n",
      "44/44 [==============================] - 0s 4ms/step - loss: 0.2841 - accuracy: 0.6997 - val_loss: 0.2940 - val_accuracy: 0.6936\n",
      "Epoch 21/100\n",
      "44/44 [==============================] - 0s 4ms/step - loss: 0.2810 - accuracy: 0.7004 - val_loss: 0.2919 - val_accuracy: 0.7023\n",
      "Epoch 22/100\n",
      "44/44 [==============================] - 0s 3ms/step - loss: 0.2790 - accuracy: 0.7033 - val_loss: 0.2897 - val_accuracy: 0.6908\n",
      "Epoch 23/100\n",
      "44/44 [==============================] - 0s 4ms/step - loss: 0.2781 - accuracy: 0.6961 - val_loss: 0.2883 - val_accuracy: 0.6994\n",
      "Epoch 24/100\n",
      "44/44 [==============================] - 0s 4ms/step - loss: 0.2751 - accuracy: 0.6997 - val_loss: 0.2865 - val_accuracy: 0.6908\n",
      "Epoch 25/100\n",
      "44/44 [==============================] - 0s 4ms/step - loss: 0.2734 - accuracy: 0.7055 - val_loss: 0.2880 - val_accuracy: 0.6994\n",
      "Epoch 26/100\n",
      "44/44 [==============================] - 0s 4ms/step - loss: 0.2715 - accuracy: 0.7033 - val_loss: 0.2834 - val_accuracy: 0.6879\n",
      "Epoch 27/100\n",
      "44/44 [==============================] - 0s 4ms/step - loss: 0.2698 - accuracy: 0.6990 - val_loss: 0.2810 - val_accuracy: 0.6879\n",
      "Epoch 28/100\n",
      "44/44 [==============================] - 0s 4ms/step - loss: 0.2680 - accuracy: 0.7019 - val_loss: 0.2819 - val_accuracy: 0.6965\n",
      "Epoch 29/100\n",
      "44/44 [==============================] - 0s 3ms/step - loss: 0.2659 - accuracy: 0.7062 - val_loss: 0.2808 - val_accuracy: 0.7023\n",
      "Epoch 30/100\n",
      "44/44 [==============================] - 0s 4ms/step - loss: 0.2640 - accuracy: 0.7077 - val_loss: 0.2782 - val_accuracy: 0.7052\n",
      "Epoch 31/100\n",
      "44/44 [==============================] - 0s 4ms/step - loss: 0.2617 - accuracy: 0.7120 - val_loss: 0.2759 - val_accuracy: 0.6821\n",
      "Epoch 32/100\n",
      "44/44 [==============================] - 0s 4ms/step - loss: 0.2595 - accuracy: 0.7200 - val_loss: 0.2739 - val_accuracy: 0.6965\n",
      "Epoch 33/100\n",
      "44/44 [==============================] - 0s 3ms/step - loss: 0.2566 - accuracy: 0.7192 - val_loss: 0.2711 - val_accuracy: 0.6994\n",
      "Epoch 34/100\n",
      "44/44 [==============================] - 0s 4ms/step - loss: 0.2536 - accuracy: 0.7258 - val_loss: 0.2673 - val_accuracy: 0.7139\n",
      "Epoch 35/100\n",
      "44/44 [==============================] - 0s 4ms/step - loss: 0.2498 - accuracy: 0.7381 - val_loss: 0.2632 - val_accuracy: 0.7197\n",
      "Epoch 36/100\n",
      "44/44 [==============================] - 0s 4ms/step - loss: 0.2452 - accuracy: 0.7467 - val_loss: 0.2593 - val_accuracy: 0.7341\n",
      "Epoch 37/100\n",
      "44/44 [==============================] - 0s 5ms/step - loss: 0.2401 - accuracy: 0.7518 - val_loss: 0.2535 - val_accuracy: 0.7399\n",
      "Epoch 38/100\n",
      "44/44 [==============================] - 0s 5ms/step - loss: 0.2352 - accuracy: 0.7605 - val_loss: 0.2456 - val_accuracy: 0.7572\n",
      "Epoch 39/100\n",
      "44/44 [==============================] - 0s 4ms/step - loss: 0.2291 - accuracy: 0.7692 - val_loss: 0.2406 - val_accuracy: 0.7572\n",
      "Epoch 40/100\n",
      "44/44 [==============================] - 0s 5ms/step - loss: 0.2237 - accuracy: 0.7721 - val_loss: 0.2347 - val_accuracy: 0.7572\n",
      "Epoch 41/100\n",
      "44/44 [==============================] - 0s 4ms/step - loss: 0.2186 - accuracy: 0.7844 - val_loss: 0.2281 - val_accuracy: 0.7746\n",
      "Epoch 42/100\n",
      "44/44 [==============================] - 0s 3ms/step - loss: 0.2121 - accuracy: 0.8003 - val_loss: 0.2221 - val_accuracy: 0.7775\n",
      "Epoch 43/100\n",
      "44/44 [==============================] - 0s 4ms/step - loss: 0.2060 - accuracy: 0.8010 - val_loss: 0.2154 - val_accuracy: 0.8092\n",
      "Epoch 44/100\n",
      "44/44 [==============================] - 0s 4ms/step - loss: 0.2016 - accuracy: 0.8111 - val_loss: 0.2100 - val_accuracy: 0.8150\n",
      "Epoch 45/100\n",
      "44/44 [==============================] - 0s 5ms/step - loss: 0.1967 - accuracy: 0.8249 - val_loss: 0.2048 - val_accuracy: 0.8237\n",
      "Epoch 46/100\n",
      "44/44 [==============================] - 0s 4ms/step - loss: 0.1922 - accuracy: 0.8220 - val_loss: 0.2000 - val_accuracy: 0.8266\n",
      "Epoch 47/100\n",
      "44/44 [==============================] - 0s 4ms/step - loss: 0.1884 - accuracy: 0.8242 - val_loss: 0.1970 - val_accuracy: 0.8208\n",
      "Epoch 48/100\n",
      "44/44 [==============================] - 0s 4ms/step - loss: 0.1845 - accuracy: 0.8314 - val_loss: 0.1904 - val_accuracy: 0.8382\n",
      "Epoch 49/100\n",
      "44/44 [==============================] - 0s 4ms/step - loss: 0.1814 - accuracy: 0.8343 - val_loss: 0.1873 - val_accuracy: 0.8468\n",
      "Epoch 50/100\n",
      "44/44 [==============================] - 0s 4ms/step - loss: 0.1789 - accuracy: 0.8300 - val_loss: 0.1873 - val_accuracy: 0.8410\n",
      "Epoch 51/100\n",
      "44/44 [==============================] - 0s 4ms/step - loss: 0.1761 - accuracy: 0.8401 - val_loss: 0.1840 - val_accuracy: 0.8439\n",
      "Epoch 52/100\n",
      "44/44 [==============================] - 0s 4ms/step - loss: 0.1735 - accuracy: 0.8459 - val_loss: 0.1794 - val_accuracy: 0.8468\n",
      "Epoch 53/100\n",
      "44/44 [==============================] - 0s 4ms/step - loss: 0.1706 - accuracy: 0.8430 - val_loss: 0.1779 - val_accuracy: 0.8497\n",
      "Epoch 54/100\n",
      "44/44 [==============================] - 0s 3ms/step - loss: 0.1685 - accuracy: 0.8495 - val_loss: 0.1746 - val_accuracy: 0.8642\n",
      "Epoch 55/100\n",
      "44/44 [==============================] - 0s 3ms/step - loss: 0.1674 - accuracy: 0.8495 - val_loss: 0.1719 - val_accuracy: 0.8613\n",
      "Epoch 56/100\n",
      "44/44 [==============================] - 0s 4ms/step - loss: 0.1652 - accuracy: 0.8444 - val_loss: 0.1710 - val_accuracy: 0.8555\n",
      "Epoch 57/100\n",
      "44/44 [==============================] - 0s 5ms/step - loss: 0.1636 - accuracy: 0.8546 - val_loss: 0.1723 - val_accuracy: 0.8671\n",
      "Epoch 58/100\n",
      "44/44 [==============================] - 0s 4ms/step - loss: 0.1617 - accuracy: 0.8567 - val_loss: 0.1683 - val_accuracy: 0.8584\n"
     ]
    },
    {
     "name": "stdout",
     "output_type": "stream",
     "text": [
      "Epoch 59/100\n",
      "44/44 [==============================] - 0s 3ms/step - loss: 0.1595 - accuracy: 0.8596 - val_loss: 0.1664 - val_accuracy: 0.8584\n",
      "Epoch 60/100\n",
      "44/44 [==============================] - 0s 4ms/step - loss: 0.1578 - accuracy: 0.8589 - val_loss: 0.1624 - val_accuracy: 0.8699\n",
      "Epoch 61/100\n",
      "44/44 [==============================] - 0s 4ms/step - loss: 0.1572 - accuracy: 0.8582 - val_loss: 0.1595 - val_accuracy: 0.8728\n",
      "Epoch 62/100\n",
      "44/44 [==============================] - 0s 4ms/step - loss: 0.1548 - accuracy: 0.8712 - val_loss: 0.1586 - val_accuracy: 0.8728\n",
      "Epoch 63/100\n",
      "44/44 [==============================] - 0s 3ms/step - loss: 0.1542 - accuracy: 0.8625 - val_loss: 0.1609 - val_accuracy: 0.8671\n",
      "Epoch 64/100\n",
      "44/44 [==============================] - 0s 8ms/step - loss: 0.1520 - accuracy: 0.8690 - val_loss: 0.1600 - val_accuracy: 0.8671\n",
      "Epoch 65/100\n",
      "44/44 [==============================] - 0s 3ms/step - loss: 0.1516 - accuracy: 0.8640 - val_loss: 0.1589 - val_accuracy: 0.8671\n",
      "Epoch 66/100\n",
      "44/44 [==============================] - 0s 3ms/step - loss: 0.1523 - accuracy: 0.8603 - val_loss: 0.1546 - val_accuracy: 0.8728\n",
      "Epoch 67/100\n",
      "44/44 [==============================] - 0s 4ms/step - loss: 0.1492 - accuracy: 0.8632 - val_loss: 0.1537 - val_accuracy: 0.8699\n",
      "Epoch 68/100\n",
      "44/44 [==============================] - 0s 5ms/step - loss: 0.1476 - accuracy: 0.8719 - val_loss: 0.1517 - val_accuracy: 0.8728\n",
      "Epoch 69/100\n",
      "44/44 [==============================] - 0s 5ms/step - loss: 0.1460 - accuracy: 0.8698 - val_loss: 0.1542 - val_accuracy: 0.8786\n",
      "Epoch 70/100\n",
      "44/44 [==============================] - 0s 4ms/step - loss: 0.1466 - accuracy: 0.8683 - val_loss: 0.1502 - val_accuracy: 0.8671\n",
      "Epoch 71/100\n",
      "44/44 [==============================] - 0s 4ms/step - loss: 0.1435 - accuracy: 0.8748 - val_loss: 0.1495 - val_accuracy: 0.8642\n",
      "Epoch 72/100\n",
      "44/44 [==============================] - 0s 5ms/step - loss: 0.1426 - accuracy: 0.8777 - val_loss: 0.1499 - val_accuracy: 0.8671\n",
      "Epoch 73/100\n",
      "44/44 [==============================] - 0s 5ms/step - loss: 0.1408 - accuracy: 0.8755 - val_loss: 0.1475 - val_accuracy: 0.8671\n",
      "Epoch 74/100\n",
      "44/44 [==============================] - 0s 6ms/step - loss: 0.1393 - accuracy: 0.8799 - val_loss: 0.1489 - val_accuracy: 0.8671\n",
      "Epoch 75/100\n",
      "44/44 [==============================] - 0s 4ms/step - loss: 0.1404 - accuracy: 0.8813 - val_loss: 0.1500 - val_accuracy: 0.8642\n",
      "Epoch 76/100\n",
      "44/44 [==============================] - 0s 4ms/step - loss: 0.1387 - accuracy: 0.8784 - val_loss: 0.1448 - val_accuracy: 0.8642\n",
      "Epoch 77/100\n",
      "44/44 [==============================] - 0s 4ms/step - loss: 0.1378 - accuracy: 0.8821 - val_loss: 0.1427 - val_accuracy: 0.8844\n",
      "Epoch 78/100\n",
      "44/44 [==============================] - 0s 4ms/step - loss: 0.1377 - accuracy: 0.8828 - val_loss: 0.1467 - val_accuracy: 0.8699\n",
      "Epoch 79/100\n",
      "44/44 [==============================] - 0s 4ms/step - loss: 0.1347 - accuracy: 0.8857 - val_loss: 0.1452 - val_accuracy: 0.8699\n",
      "Epoch 80/100\n",
      "44/44 [==============================] - 0s 4ms/step - loss: 0.1351 - accuracy: 0.8857 - val_loss: 0.1416 - val_accuracy: 0.8757\n",
      "Epoch 81/100\n",
      "44/44 [==============================] - 0s 4ms/step - loss: 0.1347 - accuracy: 0.8878 - val_loss: 0.1431 - val_accuracy: 0.8728\n",
      "Epoch 82/100\n",
      "44/44 [==============================] - 0s 4ms/step - loss: 0.1326 - accuracy: 0.8842 - val_loss: 0.1423 - val_accuracy: 0.8642\n",
      "Epoch 83/100\n",
      "44/44 [==============================] - 0s 4ms/step - loss: 0.1328 - accuracy: 0.8871 - val_loss: 0.1413 - val_accuracy: 0.8728\n",
      "Epoch 84/100\n",
      "44/44 [==============================] - 0s 4ms/step - loss: 0.1303 - accuracy: 0.8915 - val_loss: 0.1427 - val_accuracy: 0.8728\n",
      "Epoch 85/100\n",
      "44/44 [==============================] - 0s 4ms/step - loss: 0.1306 - accuracy: 0.8915 - val_loss: 0.1388 - val_accuracy: 0.8728\n",
      "Epoch 86/100\n",
      "44/44 [==============================] - 0s 4ms/step - loss: 0.1294 - accuracy: 0.8922 - val_loss: 0.1393 - val_accuracy: 0.8786\n",
      "Epoch 87/100\n",
      "44/44 [==============================] - 0s 4ms/step - loss: 0.1290 - accuracy: 0.8907 - val_loss: 0.1382 - val_accuracy: 0.8757\n",
      "Epoch 88/100\n",
      "44/44 [==============================] - 0s 4ms/step - loss: 0.1281 - accuracy: 0.8936 - val_loss: 0.1375 - val_accuracy: 0.8728\n",
      "Epoch 89/100\n",
      "44/44 [==============================] - 0s 4ms/step - loss: 0.1271 - accuracy: 0.8922 - val_loss: 0.1431 - val_accuracy: 0.8728\n",
      "Epoch 90/100\n",
      "44/44 [==============================] - 0s 4ms/step - loss: 0.1259 - accuracy: 0.8936 - val_loss: 0.1366 - val_accuracy: 0.8844\n",
      "Epoch 91/100\n",
      "44/44 [==============================] - 0s 4ms/step - loss: 0.1255 - accuracy: 0.8951 - val_loss: 0.1392 - val_accuracy: 0.8786\n",
      "Epoch 92/100\n",
      "44/44 [==============================] - 0s 4ms/step - loss: 0.1268 - accuracy: 0.8936 - val_loss: 0.1381 - val_accuracy: 0.8815\n",
      "Epoch 93/100\n",
      "44/44 [==============================] - 0s 5ms/step - loss: 0.1234 - accuracy: 0.8929 - val_loss: 0.1322 - val_accuracy: 0.8844\n",
      "Epoch 94/100\n",
      "36/44 [=======================>......] - ETA: 0s - loss: 0.1201 - accuracy: 0.8950"
     ]
    }
   ],
   "source": [
    "model_history=model.fit(x=X_train, y=y_train, epochs=100, batch_size=32,validation_data= (X_test,y_test))\n",
    "y_pred = model.predict(X_test)"
   ]
  },
  {
   "cell_type": "code",
   "execution_count": 57,
   "id": "8340fb76",
   "metadata": {},
   "outputs": [],
   "source": [
    "y_test_class = np.argmax(y_test,axis=1)\n",
    "y_pred_class = np.argmax(y_pred,axis=1)"
   ]
  },
  {
   "cell_type": "code",
   "execution_count": 58,
   "id": "699a2199",
   "metadata": {},
   "outputs": [
    {
     "data": {
      "text/plain": [
       "<matplotlib.legend.Legend at 0x21994a123d0>"
      ]
     },
     "execution_count": 58,
     "metadata": {},
     "output_type": "execute_result"
    },
    {
     "data": {
      "image/png": "[encoded data removed]",
      "text/plain": [
       "<Figure size 640x480 with 1 Axes>"
      ]
     },
     "metadata": {},
     "output_type": "display_data"
    }
   ],
   "source": [
    "import matplotlib.pyplot as plt\n",
    "import seaborn as sns\n",
    "\n",
    "loss =model_history.history['loss']\n",
    "val_loss =model_history.history['val_loss']\n",
    "epochs = range(1, len(loss) + 1)\n",
    "plt.plot(epochs, loss, 'y', label='Training loss')\n",
    "plt.plot(epochs, val_loss, 'r', label='Validation loss')\n",
    "plt.title('Training and validation loss')\n",
    "plt.xlabel('Epochs')\n",
    "plt.ylabel('Loss')\n",
    "plt.legend()"
   ]
  },
  {
   "cell_type": "code",
   "execution_count": 59,
   "id": "8e643144",
   "metadata": {},
   "outputs": [
    {
     "data": {
      "image/png": "[encoded data removed]",
      "text/plain": [
       "<Figure size 640x480 with 1 Axes>"
      ]
     },
     "metadata": {},
     "output_type": "display_data"
    }
   ],
   "source": [
    "acc =model_history.history['accuracy']\n",
    "val_acc =model_history.history['val_accuracy']\n",
    "plt.plot(epochs, acc, 'y', label='Training acc')\n",
    "plt.plot(epochs, val_acc, 'r', label='Validation acc')\n",
    "plt.title('Training and validation accuracy')\n",
    "plt.xlabel('Epochs')\n",
    "plt.ylabel('Accuracy')\n",
    "plt.legend()\n",
    "plt.show()"
   ]
  },
  {
   "cell_type": "code",
   "execution_count": 60,
   "id": "8ccaa2f6",
   "metadata": {},
   "outputs": [
    {
     "name": "stdout",
     "output_type": "stream",
     "text": [
      "              precision    recall  f1-score   support\n",
      "\n",
      "           0       0.64      0.87      0.74        79\n",
      "           1       0.00      0.00      0.00        17\n",
      "           2       0.96      0.95      0.96       240\n",
      "           3       0.00      0.00      0.00        10\n",
      "\n",
      "    accuracy                           0.86       346\n",
      "   macro avg       0.40      0.46      0.42       346\n",
      "weighted avg       0.81      0.86      0.83       346\n",
      "\n",
      "[[ 69   0  10   0]\n",
      " [ 17   0   0   0]\n",
      " [ 11   0 229   0]\n",
      " [ 10   0   0   0]]\n"
     ]
    },
    {
     "name": "stderr",
     "output_type": "stream",
     "text": [
      "C:\\Users\\user\\anaconda3\\Lib\\site-packages\\sklearn\\metrics\\_classification.py:1469: UndefinedMetricWarning: Precision and F-score are ill-defined and being set to 0.0 in labels with no predicted samples. Use `zero_division` parameter to control this behavior.\n",
      "  _warn_prf(average, modifier, msg_start, len(result))\n",
      "C:\\Users\\user\\anaconda3\\Lib\\site-packages\\sklearn\\metrics\\_classification.py:1469: UndefinedMetricWarning: Precision and F-score are ill-defined and being set to 0.0 in labels with no predicted samples. Use `zero_division` parameter to control this behavior.\n",
      "  _warn_prf(average, modifier, msg_start, len(result))\n",
      "C:\\Users\\user\\anaconda3\\Lib\\site-packages\\sklearn\\metrics\\_classification.py:1469: UndefinedMetricWarning: Precision and F-score are ill-defined and being set to 0.0 in labels with no predicted samples. Use `zero_division` parameter to control this behavior.\n",
      "  _warn_prf(average, modifier, msg_start, len(result))\n"
     ]
    }
   ],
   "source": [
    "#Accuracy of the predicted values\n",
    "from sklearn.metrics import classification_report,confusion_matrix\n",
    "print(classification_report(y_test_class,y_pred_class))\n",
    "print(confusion_matrix(y_test_class,y_pred_class))"
   ]
  },
  {
   "cell_type": "code",
   "execution_count": null,
   "id": "bcf2f729",
   "metadata": {},
   "outputs": [],
   "source": []
  }
 ],
 "metadata": {
  "kernelspec": {
   "display_name": "Python 3 (ipykernel)",
   "language": "python",
   "name": "python3"
  },
  "language_info": {
   "codemirror_mode": {
    "name": "ipython",
    "version": 3
   },
   "file_extension": ".py",
   "mimetype": "text/x-python",
   "name": "python",
   "nbconvert_exporter": "python",
   "pygments_lexer": "ipython3",
   "version": "3.11.4"
  }
 },
 "nbformat": 4,
 "nbformat_minor": 5
}
