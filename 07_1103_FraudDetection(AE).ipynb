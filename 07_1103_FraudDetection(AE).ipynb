{
 "cells": [
  {
   "cell_type": "markdown",
   "id": "076b4dda",
   "metadata": {},
   "source": [
    "### Load required libraries"
   ]
  },
  {
   "cell_type": "code",
   "execution_count": 1,
   "id": "e8452b24",
   "metadata": {},
   "outputs": [],
   "source": [
    "import numpy as np\n",
    "import pandas as pd\n",
    "import seaborn as sns\n",
    "\n",
    "import tensorflow as tf\n",
    "import keras\n",
    "from tensorflow.keras import regularizers\n",
    "from keras.models import Sequential, Model, load_model\n",
    "from keras.layers import Dense, Input\n",
    "from keras.callbacks import ModelCheckpoint\n",
    "from sklearn.model_selection import train_test_split\n",
    "\n",
    "from sklearn.manifold import TSNE\n",
    "from sklearn.decomposition import PCA\n",
    "\n",
    "import matplotlib.pyplot as plt\n",
    "%matplotlib inline\n",
    "\n",
    "import warnings\n",
    "warnings.filterwarnings(\"ignore\")"
   ]
  },
  {
   "cell_type": "markdown",
   "id": "f992f32f",
   "metadata": {},
   "source": [
    "### Load the data"
   ]
  },
  {
   "cell_type": "code",
   "execution_count": 2,
   "id": "cb25d899",
   "metadata": {},
   "outputs": [
    {
     "name": "stdout",
     "output_type": "stream",
     "text": [
      "(284807, 30)\n"
     ]
    },
    {
     "data": {
      "text/html": [
       "<div>\n",
       "<style scoped>\n",
       "    .dataframe tbody tr th:only-of-type {\n",
       "        vertical-align: middle;\n",
       "    }\n",
       "\n",
       "    .dataframe tbody tr th {\n",
       "        vertical-align: top;\n",
       "    }\n",
       "\n",
       "    .dataframe thead th {\n",
       "        text-align: right;\n",
       "    }\n",
       "</style>\n",
       "<table border=\"1\" class=\"dataframe\">\n",
       "  <thead>\n",
       "    <tr style=\"text-align: right;\">\n",
       "      <th></th>\n",
       "      <th>V1</th>\n",
       "      <th>V2</th>\n",
       "      <th>V3</th>\n",
       "      <th>V4</th>\n",
       "      <th>V5</th>\n",
       "      <th>V6</th>\n",
       "      <th>V7</th>\n",
       "      <th>V8</th>\n",
       "      <th>V9</th>\n",
       "      <th>V10</th>\n",
       "      <th>...</th>\n",
       "      <th>V21</th>\n",
       "      <th>V22</th>\n",
       "      <th>V23</th>\n",
       "      <th>V24</th>\n",
       "      <th>V25</th>\n",
       "      <th>V26</th>\n",
       "      <th>V27</th>\n",
       "      <th>V28</th>\n",
       "      <th>Amount</th>\n",
       "      <th>Class</th>\n",
       "    </tr>\n",
       "    <tr>\n",
       "      <th>Time</th>\n",
       "      <th></th>\n",
       "      <th></th>\n",
       "      <th></th>\n",
       "      <th></th>\n",
       "      <th></th>\n",
       "      <th></th>\n",
       "      <th></th>\n",
       "      <th></th>\n",
       "      <th></th>\n",
       "      <th></th>\n",
       "      <th></th>\n",
       "      <th></th>\n",
       "      <th></th>\n",
       "      <th></th>\n",
       "      <th></th>\n",
       "      <th></th>\n",
       "      <th></th>\n",
       "      <th></th>\n",
       "      <th></th>\n",
       "      <th></th>\n",
       "      <th></th>\n",
       "    </tr>\n",
       "  </thead>\n",
       "  <tbody>\n",
       "    <tr>\n",
       "      <th>0.0</th>\n",
       "      <td>-1.359807</td>\n",
       "      <td>-0.072781</td>\n",
       "      <td>2.536347</td>\n",
       "      <td>1.378155</td>\n",
       "      <td>-0.338321</td>\n",
       "      <td>0.462388</td>\n",
       "      <td>0.239599</td>\n",
       "      <td>0.098698</td>\n",
       "      <td>0.363787</td>\n",
       "      <td>0.090794</td>\n",
       "      <td>...</td>\n",
       "      <td>-0.018307</td>\n",
       "      <td>0.277838</td>\n",
       "      <td>-0.110474</td>\n",
       "      <td>0.066928</td>\n",
       "      <td>0.128539</td>\n",
       "      <td>-0.189115</td>\n",
       "      <td>0.133558</td>\n",
       "      <td>-0.021053</td>\n",
       "      <td>149.62</td>\n",
       "      <td>0</td>\n",
       "    </tr>\n",
       "    <tr>\n",
       "      <th>0.0</th>\n",
       "      <td>1.191857</td>\n",
       "      <td>0.266151</td>\n",
       "      <td>0.166480</td>\n",
       "      <td>0.448154</td>\n",
       "      <td>0.060018</td>\n",
       "      <td>-0.082361</td>\n",
       "      <td>-0.078803</td>\n",
       "      <td>0.085102</td>\n",
       "      <td>-0.255425</td>\n",
       "      <td>-0.166974</td>\n",
       "      <td>...</td>\n",
       "      <td>-0.225775</td>\n",
       "      <td>-0.638672</td>\n",
       "      <td>0.101288</td>\n",
       "      <td>-0.339846</td>\n",
       "      <td>0.167170</td>\n",
       "      <td>0.125895</td>\n",
       "      <td>-0.008983</td>\n",
       "      <td>0.014724</td>\n",
       "      <td>2.69</td>\n",
       "      <td>0</td>\n",
       "    </tr>\n",
       "    <tr>\n",
       "      <th>1.0</th>\n",
       "      <td>-1.358354</td>\n",
       "      <td>-1.340163</td>\n",
       "      <td>1.773209</td>\n",
       "      <td>0.379780</td>\n",
       "      <td>-0.503198</td>\n",
       "      <td>1.800499</td>\n",
       "      <td>0.791461</td>\n",
       "      <td>0.247676</td>\n",
       "      <td>-1.514654</td>\n",
       "      <td>0.207643</td>\n",
       "      <td>...</td>\n",
       "      <td>0.247998</td>\n",
       "      <td>0.771679</td>\n",
       "      <td>0.909412</td>\n",
       "      <td>-0.689281</td>\n",
       "      <td>-0.327642</td>\n",
       "      <td>-0.139097</td>\n",
       "      <td>-0.055353</td>\n",
       "      <td>-0.059752</td>\n",
       "      <td>378.66</td>\n",
       "      <td>0</td>\n",
       "    </tr>\n",
       "    <tr>\n",
       "      <th>1.0</th>\n",
       "      <td>-0.966272</td>\n",
       "      <td>-0.185226</td>\n",
       "      <td>1.792993</td>\n",
       "      <td>-0.863291</td>\n",
       "      <td>-0.010309</td>\n",
       "      <td>1.247203</td>\n",
       "      <td>0.237609</td>\n",
       "      <td>0.377436</td>\n",
       "      <td>-1.387024</td>\n",
       "      <td>-0.054952</td>\n",
       "      <td>...</td>\n",
       "      <td>-0.108300</td>\n",
       "      <td>0.005274</td>\n",
       "      <td>-0.190321</td>\n",
       "      <td>-1.175575</td>\n",
       "      <td>0.647376</td>\n",
       "      <td>-0.221929</td>\n",
       "      <td>0.062723</td>\n",
       "      <td>0.061458</td>\n",
       "      <td>123.50</td>\n",
       "      <td>0</td>\n",
       "    </tr>\n",
       "    <tr>\n",
       "      <th>2.0</th>\n",
       "      <td>-1.158233</td>\n",
       "      <td>0.877737</td>\n",
       "      <td>1.548718</td>\n",
       "      <td>0.403034</td>\n",
       "      <td>-0.407193</td>\n",
       "      <td>0.095921</td>\n",
       "      <td>0.592941</td>\n",
       "      <td>-0.270533</td>\n",
       "      <td>0.817739</td>\n",
       "      <td>0.753074</td>\n",
       "      <td>...</td>\n",
       "      <td>-0.009431</td>\n",
       "      <td>0.798278</td>\n",
       "      <td>-0.137458</td>\n",
       "      <td>0.141267</td>\n",
       "      <td>-0.206010</td>\n",
       "      <td>0.502292</td>\n",
       "      <td>0.219422</td>\n",
       "      <td>0.215153</td>\n",
       "      <td>69.99</td>\n",
       "      <td>0</td>\n",
       "    </tr>\n",
       "  </tbody>\n",
       "</table>\n",
       "<p>5 rows × 30 columns</p>\n",
       "</div>"
      ],
      "text/plain": [
       "            V1        V2        V3        V4        V5        V6        V7  \\\n",
       "Time                                                                         \n",
       "0.0  -1.359807 -0.072781  2.536347  1.378155 -0.338321  0.462388  0.239599   \n",
       "0.0   1.191857  0.266151  0.166480  0.448154  0.060018 -0.082361 -0.078803   \n",
       "1.0  -1.358354 -1.340163  1.773209  0.379780 -0.503198  1.800499  0.791461   \n",
       "1.0  -0.966272 -0.185226  1.792993 -0.863291 -0.010309  1.247203  0.237609   \n",
       "2.0  -1.158233  0.877737  1.548718  0.403034 -0.407193  0.095921  0.592941   \n",
       "\n",
       "            V8        V9       V10  ...       V21       V22       V23  \\\n",
       "Time                                ...                                 \n",
       "0.0   0.098698  0.363787  0.090794  ... -0.018307  0.277838 -0.110474   \n",
       "0.0   0.085102 -0.255425 -0.166974  ... -0.225775 -0.638672  0.101288   \n",
       "1.0   0.247676 -1.514654  0.207643  ...  0.247998  0.771679  0.909412   \n",
       "1.0   0.377436 -1.387024 -0.054952  ... -0.108300  0.005274 -0.190321   \n",
       "2.0  -0.270533  0.817739  0.753074  ... -0.009431  0.798278 -0.137458   \n",
       "\n",
       "           V24       V25       V26       V27       V28  Amount  Class  \n",
       "Time                                                                   \n",
       "0.0   0.066928  0.128539 -0.189115  0.133558 -0.021053  149.62      0  \n",
       "0.0  -0.339846  0.167170  0.125895 -0.008983  0.014724    2.69      0  \n",
       "1.0  -0.689281 -0.327642 -0.139097 -0.055353 -0.059752  378.66      0  \n",
       "1.0  -1.175575  0.647376 -0.221929  0.062723  0.061458  123.50      0  \n",
       "2.0   0.141267 -0.206010  0.502292  0.219422  0.215153   69.99      0  \n",
       "\n",
       "[5 rows x 30 columns]"
      ]
     },
     "execution_count": 2,
     "metadata": {},
     "output_type": "execute_result"
    }
   ],
   "source": [
    "df = pd.read_csv('./data/creditcard.csv', index_col=0)\n",
    "print(df.shape)\n",
    "df.head()"
   ]
  },
  {
   "cell_type": "markdown",
   "id": "745866b7",
   "metadata": {},
   "source": [
    "#### Data check"
   ]
  },
  {
   "cell_type": "code",
   "execution_count": 3,
   "id": "46528b9f",
   "metadata": {},
   "outputs": [
    {
     "data": {
      "text/plain": [
       "0    0.998273\n",
       "1    0.001727\n",
       "Name: Class, dtype: float64"
      ]
     },
     "execution_count": 3,
     "metadata": {},
     "output_type": "execute_result"
    }
   ],
   "source": [
    "df['Class'].value_counts(normalize=True)"
   ]
  },
  {
   "cell_type": "code",
   "execution_count": 4,
   "id": "85a6f8c4",
   "metadata": {},
   "outputs": [
    {
     "data": {
      "text/plain": [
       "Index(['V1', 'V2', 'V3', 'V4', 'V5', 'V6', 'V7', 'V8', 'V9', 'V10', 'V11',\n",
       "       'V12', 'V13', 'V14', 'V15', 'V16', 'V17', 'V18', 'V19', 'V20', 'V21',\n",
       "       'V22', 'V23', 'V24', 'V25', 'V26', 'V27', 'V28', 'Amount', 'Class'],\n",
       "      dtype='object')"
      ]
     },
     "execution_count": 4,
     "metadata": {},
     "output_type": "execute_result"
    }
   ],
   "source": [
    "df.columns"
   ]
  },
  {
   "cell_type": "code",
   "execution_count": 5,
   "id": "cebc4bcb",
   "metadata": {},
   "outputs": [
    {
     "data": {
      "text/plain": [
       "False"
      ]
     },
     "execution_count": 5,
     "metadata": {},
     "output_type": "execute_result"
    }
   ],
   "source": [
    "df.isnull().values.any()"
   ]
  },
  {
   "cell_type": "code",
   "execution_count": 6,
   "id": "85851fed",
   "metadata": {},
   "outputs": [],
   "source": [
    "df = df.drop(['Amount'], axis=1)"
   ]
  },
  {
   "cell_type": "markdown",
   "id": "bf0d4248",
   "metadata": {},
   "source": [
    "### Train/test split"
   ]
  },
  {
   "cell_type": "code",
   "execution_count": 7,
   "id": "1fc791be",
   "metadata": {},
   "outputs": [
    {
     "name": "stdout",
     "output_type": "stream",
     "text": [
      "Frauds shape: (492, 29)\n",
      "Normal shape: (284315, 29)\n"
     ]
    }
   ],
   "source": [
    "frauds = df[df.Class == 1]\n",
    "#normal = df[df.Class == 0].sample(1000)\n",
    "normal = df[df.Class == 0]\n",
    "print(\"Frauds shape: {}\".format(frauds.shape))\n",
    "print(\"Normal shape: {}\".format(normal.shape))"
   ]
  },
  {
   "cell_type": "code",
   "execution_count": 8,
   "id": "54c7a86c",
   "metadata": {},
   "outputs": [
    {
     "data": {
      "text/plain": [
       "(284807, 29)"
      ]
     },
     "execution_count": 8,
     "metadata": {},
     "output_type": "execute_result"
    }
   ],
   "source": [
    "data = pd.concat([frauds, normal])\n",
    "data.shape"
   ]
  },
  {
   "cell_type": "code",
   "execution_count": 9,
   "id": "93a3c174",
   "metadata": {},
   "outputs": [
    {
     "name": "stdout",
     "output_type": "stream",
     "text": [
      "X_train shape: (199013, 28)\n",
      "X_test shape: (85443, 28)\n"
     ]
    }
   ],
   "source": [
    "X_train, X_test = train_test_split(data, test_size=0.3, random_state=42)\n",
    "X_train = X_train[X_train.Class == 0]\n",
    "X_train = X_train.drop(['Class'], axis=1)\n",
    "\n",
    "X_test, y_test = X_test.drop(['Class'], axis=1).values, X_test['Class'].values\n",
    "\n",
    "print(\"X_train shape: {}\".format(X_train.shape))\n",
    "print(\"X_test shape: {}\".format(X_test.shape))"
   ]
  },
  {
   "cell_type": "markdown",
   "id": "746b84db",
   "metadata": {},
   "source": [
    "### Visualize the data with TSNE and PCA"
   ]
  },
  {
   "cell_type": "code",
   "execution_count": 17,
   "id": "fdf2812c",
   "metadata": {},
   "outputs": [],
   "source": [
    "x1 = df[df.Class == 1]\n",
    "x2 = df[df.Class == 0].sample(1000)\n",
    "\n",
    "dfd = x1.append(x2).sample(frac=1).reset_index(drop=True)\n",
    "x = dfd.drop(['Class'], axis=1).values\n",
    "y = dfd['Class'].values\n",
    "\n",
    "SEED = 42"
   ]
  },
  {
   "cell_type": "code",
   "execution_count": 18,
   "id": "71abd557",
   "metadata": {},
   "outputs": [
    {
     "data": {
      "image/png": "[encoded data removed]",
      "text/plain": [
       "<Figure size 1200x800 with 1 Axes>"
      ]
     },
     "metadata": {},
     "output_type": "display_data"
    }
   ],
   "source": [
    "tsne = TSNE(n_components=2, random_state=SEED, init='random', learning_rate=200)\n",
    "xtsne = tsne.fit_transform(x)\n",
    "plt.figure(figsize=(12,8));\n",
    "plt.scatter(xtsne[np.where(y==0), 0], y=xtsne[np.where(y==0), 1], color=\"blue\", label='Normal')\n",
    "plt.scatter(x=xtsne[np.where(y==1), 0], y=xtsne[np.where(y==1), 1], color=\"red\", label='Fraud')\n",
    "plt.title('t-SNE Plot')\n",
    "plt.legend()\n",
    "plt.show()"
   ]
  },
  {
   "cell_type": "code",
   "execution_count": 21,
   "id": "6c0d4dc3",
   "metadata": {},
   "outputs": [
    {
     "data": {
      "image/png": "[encoded data removed]",
      "text/plain": [
       "<Figure size 1200x800 with 1 Axes>"
      ]
     },
     "metadata": {},
     "output_type": "display_data"
    }
   ],
   "source": [
    "pca = PCA(n_components=2, random_state=SEED)\n",
    "xpca = pca.fit_transform(x)\n",
    "plt.figure(figsize=(12,8));\n",
    "plt.scatter(x=xpca[np.where(y==0), 0], y=xpca[np.where(y==0), 1], color=\"blue\", label='Normal')\n",
    "plt.scatter(x=xpca[np.where(y==1), 0], y=xpca[np.where(y==1), 1], color=\"red\", label='Fraud')\n",
    "plt.title('PCA Plot')\n",
    "plt.legend()\n",
    "plt.show()"
   ]
  },
  {
   "cell_type": "markdown",
   "id": "31a69585",
   "metadata": {},
   "source": [
    "#### Normalize the data"
   ]
  },
  {
   "cell_type": "code",
   "execution_count": 78,
   "id": "8e0631dd",
   "metadata": {},
   "outputs": [],
   "source": [
    "from sklearn.preprocessing import MinMaxScaler\n",
    "\n",
    "scaler = MinMaxScaler()\n",
    "\n",
    "scaler.fit_transform(X_train);\n",
    "scaler.transform(X_test);"
   ]
  },
  {
   "cell_type": "markdown",
   "id": "95e19b52",
   "metadata": {},
   "source": [
    "### AutoEncoder Model"
   ]
  },
  {
   "cell_type": "code",
   "execution_count": 79,
   "id": "10aafb4a",
   "metadata": {},
   "outputs": [],
   "source": [
    "input_dim = X_train.shape[1]\n",
    "\n",
    "input_layer = Input(shape=(input_dim, ))\n",
    "encoder = Dense(14, activation=\"elu\")(input_layer)\n",
    "encoder = Dense(7, activation=\"elu\")(encoder)\n",
    "\n",
    "encoder = Dense(3, activation=\"elu\")(encoder)\n",
    "\n",
    "decoder = Dense(7, activation=\"elu\")(encoder)\n",
    "decoder = Dense(14, activation='elu')(decoder)\n",
    "decoder = Dense(input_dim, activation='elu')(decoder)\n",
    "autoencoder = Model(inputs=input_layer, outputs=decoder)"
   ]
  },
  {
   "cell_type": "code",
   "execution_count": 80,
   "id": "40a93f7c",
   "metadata": {},
   "outputs": [],
   "source": [
    "epochs = 100\n",
    "batch_size = 32\n",
    "autoencoder.compile(optimizer='adam', loss='mse', metrics=['accuracy'])\n",
    "checkpointer = ModelCheckpoint(filepath=\"fraudAE.pth\", verbose=0, save_best_only=True)"
   ]
  },
  {
   "cell_type": "markdown",
   "id": "99bdb89e",
   "metadata": {},
   "source": [
    "### Training"
   ]
  },
  {
   "cell_type": "code",
   "execution_count": 81,
   "id": "c24d5c33",
   "metadata": {
    "scrolled": false
   },
   "outputs": [
    {
     "name": "stdout",
     "output_type": "stream",
     "text": [
      "Epoch 1/100\n",
      "5581/5598 [============================>.] - ETA: 0s - loss: 0.7482 - accuracy: 0.5126INFO:tensorflow:Assets written to: fraudAE.pth\\assets\n"
     ]
    },
    {
     "name": "stderr",
     "output_type": "stream",
     "text": [
      "INFO:tensorflow:Assets written to: fraudAE.pth\\assets\n"
     ]
    },
    {
     "name": "stdout",
     "output_type": "stream",
     "text": [
      "5598/5598 [==============================] - 33s 5ms/step - loss: 0.7477 - accuracy: 0.5127 - val_loss: 0.6557 - val_accuracy: 0.5667\n",
      "Epoch 2/100\n",
      "5590/5598 [============================>.] - ETA: 0s - loss: 0.6664 - accuracy: 0.5713INFO:tensorflow:Assets written to: fraudAE.pth\\assets\n"
     ]
    },
    {
     "name": "stderr",
     "output_type": "stream",
     "text": [
      "INFO:tensorflow:Assets written to: fraudAE.pth\\assets\n"
     ]
    },
    {
     "name": "stdout",
     "output_type": "stream",
     "text": [
      "5598/5598 [==============================] - 29s 5ms/step - loss: 0.6666 - accuracy: 0.5713 - val_loss: 0.6245 - val_accuracy: 0.5825\n",
      "Epoch 3/100\n",
      "5596/5598 [============================>.] - ETA: 0s - loss: 0.6415 - accuracy: 0.5793INFO:tensorflow:Assets written to: fraudAE.pth\\assets\n"
     ]
    },
    {
     "name": "stderr",
     "output_type": "stream",
     "text": [
      "INFO:tensorflow:Assets written to: fraudAE.pth\\assets\n"
     ]
    },
    {
     "name": "stdout",
     "output_type": "stream",
     "text": [
      "5598/5598 [==============================] - 28s 5ms/step - loss: 0.6414 - accuracy: 0.5793 - val_loss: 0.6155 - val_accuracy: 0.5880\n",
      "Epoch 4/100\n",
      "5591/5598 [============================>.] - ETA: 0s - loss: 0.6317 - accuracy: 0.5852INFO:tensorflow:Assets written to: fraudAE.pth\\assets\n"
     ]
    },
    {
     "name": "stderr",
     "output_type": "stream",
     "text": [
      "INFO:tensorflow:Assets written to: fraudAE.pth\\assets\n"
     ]
    },
    {
     "name": "stdout",
     "output_type": "stream",
     "text": [
      "5598/5598 [==============================] - 30s 5ms/step - loss: 0.6317 - accuracy: 0.5853 - val_loss: 0.6057 - val_accuracy: 0.6007\n",
      "Epoch 5/100\n",
      "5588/5598 [============================>.] - ETA: 0s - loss: 0.6247 - accuracy: 0.5943INFO:tensorflow:Assets written to: fraudAE.pth\\assets\n"
     ]
    },
    {
     "name": "stderr",
     "output_type": "stream",
     "text": [
      "INFO:tensorflow:Assets written to: fraudAE.pth\\assets\n"
     ]
    },
    {
     "name": "stdout",
     "output_type": "stream",
     "text": [
      "5598/5598 [==============================] - 26s 5ms/step - loss: 0.6247 - accuracy: 0.5942 - val_loss: 0.5986 - val_accuracy: 0.6036\n",
      "Epoch 6/100\n",
      "5595/5598 [============================>.] - ETA: 0s - loss: 0.6192 - accuracy: 0.5983INFO:tensorflow:Assets written to: fraudAE.pth\\assets\n"
     ]
    },
    {
     "name": "stderr",
     "output_type": "stream",
     "text": [
      "INFO:tensorflow:Assets written to: fraudAE.pth\\assets\n"
     ]
    },
    {
     "name": "stdout",
     "output_type": "stream",
     "text": [
      "5598/5598 [==============================] - 28s 5ms/step - loss: 0.6191 - accuracy: 0.5984 - val_loss: 0.5942 - val_accuracy: 0.6021\n",
      "Epoch 7/100\n",
      "5584/5598 [============================>.] - ETA: 0s - loss: 0.6140 - accuracy: 0.6000INFO:tensorflow:Assets written to: fraudAE.pth\\assets\n"
     ]
    },
    {
     "name": "stderr",
     "output_type": "stream",
     "text": [
      "INFO:tensorflow:Assets written to: fraudAE.pth\\assets\n"
     ]
    },
    {
     "name": "stdout",
     "output_type": "stream",
     "text": [
      "5598/5598 [==============================] - 25s 4ms/step - loss: 0.6135 - accuracy: 0.6000 - val_loss: 0.5862 - val_accuracy: 0.6048\n",
      "Epoch 8/100\n",
      "5590/5598 [============================>.] - ETA: 0s - loss: 0.6076 - accuracy: 0.6041INFO:tensorflow:Assets written to: fraudAE.pth\\assets\n"
     ]
    },
    {
     "name": "stderr",
     "output_type": "stream",
     "text": [
      "INFO:tensorflow:Assets written to: fraudAE.pth\\assets\n"
     ]
    },
    {
     "name": "stdout",
     "output_type": "stream",
     "text": [
      "5598/5598 [==============================] - 23s 4ms/step - loss: 0.6075 - accuracy: 0.6041 - val_loss: 0.5818 - val_accuracy: 0.6070\n",
      "Epoch 9/100\n",
      "5596/5598 [============================>.] - ETA: 0s - loss: 0.6044 - accuracy: 0.6076INFO:tensorflow:Assets written to: fraudAE.pth\\assets\n"
     ]
    },
    {
     "name": "stderr",
     "output_type": "stream",
     "text": [
      "INFO:tensorflow:Assets written to: fraudAE.pth\\assets\n"
     ]
    },
    {
     "name": "stdout",
     "output_type": "stream",
     "text": [
      "5598/5598 [==============================] - 25s 4ms/step - loss: 0.6044 - accuracy: 0.6076 - val_loss: 0.5804 - val_accuracy: 0.6194\n",
      "Epoch 10/100\n",
      "5593/5598 [============================>.] - ETA: 0s - loss: 0.6016 - accuracy: 0.6086INFO:tensorflow:Assets written to: fraudAE.pth\\assets\n"
     ]
    },
    {
     "name": "stderr",
     "output_type": "stream",
     "text": [
      "INFO:tensorflow:Assets written to: fraudAE.pth\\assets\n"
     ]
    },
    {
     "name": "stdout",
     "output_type": "stream",
     "text": [
      "5598/5598 [==============================] - 27s 5ms/step - loss: 0.6015 - accuracy: 0.6086 - val_loss: 0.5764 - val_accuracy: 0.6131\n",
      "Epoch 11/100\n",
      "5584/5598 [============================>.] - ETA: 0s - loss: 0.5984 - accuracy: 0.6080INFO:tensorflow:Assets written to: fraudAE.pth\\assets\n"
     ]
    },
    {
     "name": "stderr",
     "output_type": "stream",
     "text": [
      "INFO:tensorflow:Assets written to: fraudAE.pth\\assets\n"
     ]
    },
    {
     "name": "stdout",
     "output_type": "stream",
     "text": [
      "5598/5598 [==============================] - 27s 5ms/step - loss: 0.5990 - accuracy: 0.6079 - val_loss: 0.5751 - val_accuracy: 0.6115\n",
      "Epoch 12/100\n",
      "5585/5598 [============================>.] - ETA: 0s - loss: 0.5981 - accuracy: 0.6061INFO:tensorflow:Assets written to: fraudAE.pth\\assets\n"
     ]
    },
    {
     "name": "stderr",
     "output_type": "stream",
     "text": [
      "INFO:tensorflow:Assets written to: fraudAE.pth\\assets\n"
     ]
    },
    {
     "name": "stdout",
     "output_type": "stream",
     "text": [
      "5598/5598 [==============================] - 26s 5ms/step - loss: 0.5979 - accuracy: 0.6060 - val_loss: 0.5735 - val_accuracy: 0.6132\n",
      "Epoch 13/100\n",
      "5585/5598 [============================>.] - ETA: 0s - loss: 0.5961 - accuracy: 0.6080INFO:tensorflow:Assets written to: fraudAE.pth\\assets\n"
     ]
    },
    {
     "name": "stderr",
     "output_type": "stream",
     "text": [
      "INFO:tensorflow:Assets written to: fraudAE.pth\\assets\n"
     ]
    },
    {
     "name": "stdout",
     "output_type": "stream",
     "text": [
      "5598/5598 [==============================] - 24s 4ms/step - loss: 0.5961 - accuracy: 0.6080 - val_loss: 0.5730 - val_accuracy: 0.6152\n",
      "Epoch 14/100\n",
      "5592/5598 [============================>.] - ETA: 0s - loss: 0.5955 - accuracy: 0.6061INFO:tensorflow:Assets written to: fraudAE.pth\\assets\n"
     ]
    },
    {
     "name": "stderr",
     "output_type": "stream",
     "text": [
      "INFO:tensorflow:Assets written to: fraudAE.pth\\assets\n"
     ]
    },
    {
     "name": "stdout",
     "output_type": "stream",
     "text": [
      "5598/5598 [==============================] - 31s 5ms/step - loss: 0.5954 - accuracy: 0.6061 - val_loss: 0.5717 - val_accuracy: 0.6155\n",
      "Epoch 15/100\n",
      "5597/5598 [============================>.] - ETA: 0s - loss: 0.5942 - accuracy: 0.6057INFO:tensorflow:Assets written to: fraudAE.pth\\assets\n"
     ]
    },
    {
     "name": "stderr",
     "output_type": "stream",
     "text": [
      "INFO:tensorflow:Assets written to: fraudAE.pth\\assets\n"
     ]
    },
    {
     "name": "stdout",
     "output_type": "stream",
     "text": [
      "5598/5598 [==============================] - 27s 5ms/step - loss: 0.5944 - accuracy: 0.6057 - val_loss: 0.5712 - val_accuracy: 0.6178\n",
      "Epoch 16/100\n",
      "5588/5598 [============================>.] - ETA: 0s - loss: 0.5934 - accuracy: 0.6064INFO:tensorflow:Assets written to: fraudAE.pth\\assets\n"
     ]
    },
    {
     "name": "stderr",
     "output_type": "stream",
     "text": [
      "INFO:tensorflow:Assets written to: fraudAE.pth\\assets\n"
     ]
    },
    {
     "name": "stdout",
     "output_type": "stream",
     "text": [
      "5598/5598 [==============================] - 26s 5ms/step - loss: 0.5936 - accuracy: 0.6063 - val_loss: 0.5703 - val_accuracy: 0.6136\n",
      "Epoch 17/100\n",
      "5598/5598 [==============================] - ETA: 0s - loss: 0.5927 - accuracy: 0.6056INFO:tensorflow:Assets written to: fraudAE.pth\\assets\n"
     ]
    },
    {
     "name": "stderr",
     "output_type": "stream",
     "text": [
      "INFO:tensorflow:Assets written to: fraudAE.pth\\assets\n"
     ]
    },
    {
     "name": "stdout",
     "output_type": "stream",
     "text": [
      "5598/5598 [==============================] - 28s 5ms/step - loss: 0.5927 - accuracy: 0.6056 - val_loss: 0.5685 - val_accuracy: 0.6095\n",
      "Epoch 18/100\n",
      "5598/5598 [==============================] - 22s 4ms/step - loss: 0.5912 - accuracy: 0.6056 - val_loss: 0.5694 - val_accuracy: 0.6117\n",
      "Epoch 19/100\n",
      "5587/5598 [============================>.] - ETA: 0s - loss: 0.5911 - accuracy: 0.6065INFO:tensorflow:Assets written to: fraudAE.pth\\assets\n"
     ]
    },
    {
     "name": "stderr",
     "output_type": "stream",
     "text": [
      "INFO:tensorflow:Assets written to: fraudAE.pth\\assets\n"
     ]
    },
    {
     "name": "stdout",
     "output_type": "stream",
     "text": [
      "5598/5598 [==============================] - 27s 5ms/step - loss: 0.5909 - accuracy: 0.6064 - val_loss: 0.5670 - val_accuracy: 0.6138\n",
      "Epoch 20/100\n",
      "5596/5598 [============================>.] - ETA: 0s - loss: 0.5899 - accuracy: 0.6059INFO:tensorflow:Assets written to: fraudAE.pth\\assets\n"
     ]
    },
    {
     "name": "stderr",
     "output_type": "stream",
     "text": [
      "INFO:tensorflow:Assets written to: fraudAE.pth\\assets\n"
     ]
    },
    {
     "name": "stdout",
     "output_type": "stream",
     "text": [
      "5598/5598 [==============================] - 29s 5ms/step - loss: 0.5899 - accuracy: 0.6059 - val_loss: 0.5669 - val_accuracy: 0.6167\n",
      "Epoch 21/100\n",
      "5584/5598 [============================>.] - ETA: 0s - loss: 0.5889 - accuracy: 0.6055INFO:tensorflow:Assets written to: fraudAE.pth\\assets\n"
     ]
    },
    {
     "name": "stderr",
     "output_type": "stream",
     "text": [
      "INFO:tensorflow:Assets written to: fraudAE.pth\\assets\n"
     ]
    },
    {
     "name": "stdout",
     "output_type": "stream",
     "text": [
      "5598/5598 [==============================] - 35s 6ms/step - loss: 0.5889 - accuracy: 0.6055 - val_loss: 0.5664 - val_accuracy: 0.6172\n",
      "Epoch 22/100\n",
      "5584/5598 [============================>.] - ETA: 0s - loss: 0.5888 - accuracy: 0.6066INFO:tensorflow:Assets written to: fraudAE.pth\\assets\n"
     ]
    },
    {
     "name": "stderr",
     "output_type": "stream",
     "text": [
      "INFO:tensorflow:Assets written to: fraudAE.pth\\assets\n"
     ]
    },
    {
     "name": "stdout",
     "output_type": "stream",
     "text": [
      "5598/5598 [==============================] - 29s 5ms/step - loss: 0.5887 - accuracy: 0.6066 - val_loss: 0.5655 - val_accuracy: 0.6210\n",
      "Epoch 23/100\n",
      "5598/5598 [==============================] - 22s 4ms/step - loss: 0.5878 - accuracy: 0.6061 - val_loss: 0.5742 - val_accuracy: 0.6126\n",
      "Epoch 24/100\n",
      "5591/5598 [============================>.] - ETA: 0s - loss: 0.5870 - accuracy: 0.6070INFO:tensorflow:Assets written to: fraudAE.pth\\assets\n"
     ]
    },
    {
     "name": "stderr",
     "output_type": "stream",
     "text": [
      "INFO:tensorflow:Assets written to: fraudAE.pth\\assets\n"
     ]
    },
    {
     "name": "stdout",
     "output_type": "stream",
     "text": [
      "5598/5598 [==============================] - 28s 5ms/step - loss: 0.5869 - accuracy: 0.6069 - val_loss: 0.5629 - val_accuracy: 0.6154\n",
      "Epoch 25/100\n",
      "5598/5598 [==============================] - 22s 4ms/step - loss: 0.5861 - accuracy: 0.6069 - val_loss: 0.5643 - val_accuracy: 0.6138\n",
      "Epoch 26/100\n",
      "5598/5598 [==============================] - 25s 5ms/step - loss: 0.5851 - accuracy: 0.6054 - val_loss: 0.5631 - val_accuracy: 0.6195\n",
      "Epoch 27/100\n",
      "5589/5598 [============================>.] - ETA: 0s - loss: 0.5849 - accuracy: 0.6063INFO:tensorflow:Assets written to: fraudAE.pth\\assets\n"
     ]
    },
    {
     "name": "stderr",
     "output_type": "stream",
     "text": [
      "INFO:tensorflow:Assets written to: fraudAE.pth\\assets\n"
     ]
    },
    {
     "name": "stdout",
     "output_type": "stream",
     "text": [
      "5598/5598 [==============================] - 25s 4ms/step - loss: 0.5850 - accuracy: 0.6063 - val_loss: 0.5621 - val_accuracy: 0.6201\n",
      "Epoch 28/100\n",
      "5598/5598 [==============================] - 25s 4ms/step - loss: 0.5845 - accuracy: 0.6063 - val_loss: 0.5623 - val_accuracy: 0.6143\n",
      "Epoch 29/100\n",
      "5583/5598 [============================>.] - ETA: 0s - loss: 0.5849 - accuracy: 0.6055INFO:tensorflow:Assets written to: fraudAE.pth\\assets\n"
     ]
    },
    {
     "name": "stderr",
     "output_type": "stream",
     "text": [
      "INFO:tensorflow:Assets written to: fraudAE.pth\\assets\n"
     ]
    },
    {
     "name": "stdout",
     "output_type": "stream",
     "text": [
      "5598/5598 [==============================] - 27s 5ms/step - loss: 0.5845 - accuracy: 0.6056 - val_loss: 0.5607 - val_accuracy: 0.6150\n",
      "Epoch 30/100\n",
      "5598/5598 [==============================] - 24s 4ms/step - loss: 0.5842 - accuracy: 0.6053 - val_loss: 0.5625 - val_accuracy: 0.6123\n",
      "Epoch 31/100\n",
      "5598/5598 [==============================] - 25s 4ms/step - loss: 0.5837 - accuracy: 0.6049 - val_loss: 0.5629 - val_accuracy: 0.6133\n",
      "Epoch 32/100\n",
      "5598/5598 [==============================] - 26s 5ms/step - loss: 0.5837 - accuracy: 0.6037 - val_loss: 0.5617 - val_accuracy: 0.6126\n",
      "Epoch 33/100\n",
      "5598/5598 [==============================] - 21s 4ms/step - loss: 0.5832 - accuracy: 0.6042 - val_loss: 0.5628 - val_accuracy: 0.6126\n",
      "Epoch 34/100\n",
      "5587/5598 [============================>.] - ETA: 0s - loss: 0.5829 - accuracy: 0.6043INFO:tensorflow:Assets written to: fraudAE.pth\\assets\n"
     ]
    },
    {
     "name": "stderr",
     "output_type": "stream",
     "text": [
      "INFO:tensorflow:Assets written to: fraudAE.pth\\assets\n"
     ]
    },
    {
     "name": "stdout",
     "output_type": "stream",
     "text": [
      "5598/5598 [==============================] - 30s 5ms/step - loss: 0.5827 - accuracy: 0.6044 - val_loss: 0.5595 - val_accuracy: 0.6110\n",
      "Epoch 35/100\n",
      "5597/5598 [============================>.] - ETA: 0s - loss: 0.5831 - accuracy: 0.6051INFO:tensorflow:Assets written to: fraudAE.pth\\assets\n"
     ]
    },
    {
     "name": "stderr",
     "output_type": "stream",
     "text": [
      "INFO:tensorflow:Assets written to: fraudAE.pth\\assets\n"
     ]
    },
    {
     "name": "stdout",
     "output_type": "stream",
     "text": [
      "5598/5598 [==============================] - 27s 5ms/step - loss: 0.5831 - accuracy: 0.6051 - val_loss: 0.5591 - val_accuracy: 0.6186\n",
      "Epoch 36/100\n",
      "5598/5598 [==============================] - 25s 4ms/step - loss: 0.5821 - accuracy: 0.6038 - val_loss: 0.5607 - val_accuracy: 0.6067\n",
      "Epoch 37/100\n",
      "5598/5598 [==============================] - 22s 4ms/step - loss: 0.5821 - accuracy: 0.6049 - val_loss: 0.5608 - val_accuracy: 0.6152\n",
      "Epoch 38/100\n",
      "5598/5598 [==============================] - 24s 4ms/step - loss: 0.5817 - accuracy: 0.6031 - val_loss: 0.5593 - val_accuracy: 0.6039\n",
      "Epoch 39/100\n",
      "5598/5598 [==============================] - 26s 5ms/step - loss: 0.5810 - accuracy: 0.6048 - val_loss: 0.5595 - val_accuracy: 0.6119\n",
      "Epoch 40/100\n",
      "5598/5598 [==============================] - 23s 4ms/step - loss: 0.5813 - accuracy: 0.6044 - val_loss: 0.5592 - val_accuracy: 0.6090\n",
      "Epoch 41/100\n",
      "5598/5598 [==============================] - 23s 4ms/step - loss: 0.5806 - accuracy: 0.6042 - val_loss: 0.5645 - val_accuracy: 0.6006\n",
      "Epoch 42/100\n",
      "5588/5598 [============================>.] - ETA: 0s - loss: 0.5802 - accuracy: 0.6046INFO:tensorflow:Assets written to: fraudAE.pth\\assets\n"
     ]
    },
    {
     "name": "stderr",
     "output_type": "stream",
     "text": [
      "INFO:tensorflow:Assets written to: fraudAE.pth\\assets\n"
     ]
    },
    {
     "name": "stdout",
     "output_type": "stream",
     "text": [
      "5598/5598 [==============================] - 23s 4ms/step - loss: 0.5801 - accuracy: 0.6046 - val_loss: 0.5576 - val_accuracy: 0.6146\n",
      "Epoch 43/100\n",
      "5598/5598 [==============================] - 19s 3ms/step - loss: 0.5797 - accuracy: 0.6046 - val_loss: 0.5577 - val_accuracy: 0.6203\n",
      "Epoch 44/100\n",
      "5598/5598 [==============================] - 21s 4ms/step - loss: 0.5795 - accuracy: 0.6059 - val_loss: 0.5590 - val_accuracy: 0.6152\n",
      "Epoch 45/100\n",
      "5598/5598 [==============================] - ETA: 0s - loss: 0.5796 - accuracy: 0.6050INFO:tensorflow:Assets written to: fraudAE.pth\\assets\n"
     ]
    },
    {
     "name": "stderr",
     "output_type": "stream",
     "text": [
      "INFO:tensorflow:Assets written to: fraudAE.pth\\assets\n"
     ]
    },
    {
     "name": "stdout",
     "output_type": "stream",
     "text": [
      "5598/5598 [==============================] - 30s 5ms/step - loss: 0.5796 - accuracy: 0.6050 - val_loss: 0.5571 - val_accuracy: 0.6160\n",
      "Epoch 46/100\n",
      "5598/5598 [==============================] - 22s 4ms/step - loss: 0.5790 - accuracy: 0.6050 - val_loss: 0.5573 - val_accuracy: 0.6138\n",
      "Epoch 47/100\n",
      "5596/5598 [============================>.] - ETA: 0s - loss: 0.5790 - accuracy: 0.6059INFO:tensorflow:Assets written to: fraudAE.pth\\assets\n"
     ]
    },
    {
     "name": "stderr",
     "output_type": "stream",
     "text": [
      "INFO:tensorflow:Assets written to: fraudAE.pth\\assets\n"
     ]
    },
    {
     "name": "stdout",
     "output_type": "stream",
     "text": [
      "5598/5598 [==============================] - 28s 5ms/step - loss: 0.5789 - accuracy: 0.6059 - val_loss: 0.5564 - val_accuracy: 0.6054\n",
      "Epoch 48/100\n",
      "5598/5598 [==============================] - 25s 4ms/step - loss: 0.5786 - accuracy: 0.6056 - val_loss: 0.5567 - val_accuracy: 0.6102\n",
      "Epoch 49/100\n",
      "5587/5598 [============================>.] - ETA: 0s - loss: 0.5784 - accuracy: 0.6044INFO:tensorflow:Assets written to: fraudAE.pth\\assets\n"
     ]
    },
    {
     "name": "stderr",
     "output_type": "stream",
     "text": [
      "INFO:tensorflow:Assets written to: fraudAE.pth\\assets\n"
     ]
    },
    {
     "name": "stdout",
     "output_type": "stream",
     "text": [
      "5598/5598 [==============================] - 25s 4ms/step - loss: 0.5784 - accuracy: 0.6044 - val_loss: 0.5557 - val_accuracy: 0.6174\n",
      "Epoch 50/100\n",
      "5598/5598 [==============================] - 25s 4ms/step - loss: 0.5780 - accuracy: 0.6048 - val_loss: 0.5567 - val_accuracy: 0.6217\n",
      "Epoch 51/100\n",
      "5598/5598 [==============================] - 23s 4ms/step - loss: 0.5779 - accuracy: 0.6054 - val_loss: 0.5562 - val_accuracy: 0.6119\n",
      "Epoch 52/100\n",
      "5598/5598 [==============================] - ETA: 0s - loss: 0.5778 - accuracy: 0.6059INFO:tensorflow:Assets written to: fraudAE.pth\\assets\n"
     ]
    },
    {
     "name": "stderr",
     "output_type": "stream",
     "text": [
      "INFO:tensorflow:Assets written to: fraudAE.pth\\assets\n"
     ]
    },
    {
     "name": "stdout",
     "output_type": "stream",
     "text": [
      "5598/5598 [==============================] - 26s 5ms/step - loss: 0.5778 - accuracy: 0.6059 - val_loss: 0.5548 - val_accuracy: 0.6046\n",
      "Epoch 53/100\n",
      "5598/5598 [==============================] - 25s 4ms/step - loss: 0.5776 - accuracy: 0.6055 - val_loss: 0.5562 - val_accuracy: 0.6109\n",
      "Epoch 54/100\n",
      "5593/5598 [============================>.] - ETA: 0s - loss: 0.5771 - accuracy: 0.6060INFO:tensorflow:Assets written to: fraudAE.pth\\assets\n"
     ]
    },
    {
     "name": "stderr",
     "output_type": "stream",
     "text": [
      "INFO:tensorflow:Assets written to: fraudAE.pth\\assets\n"
     ]
    },
    {
     "name": "stdout",
     "output_type": "stream",
     "text": [
      "5598/5598 [==============================] - 30s 5ms/step - loss: 0.5771 - accuracy: 0.6060 - val_loss: 0.5546 - val_accuracy: 0.6110\n",
      "Epoch 55/100\n",
      "5598/5598 [==============================] - 24s 4ms/step - loss: 0.5773 - accuracy: 0.6064 - val_loss: 0.5558 - val_accuracy: 0.6132\n",
      "Epoch 56/100\n",
      "5598/5598 [==============================] - 24s 4ms/step - loss: 0.5771 - accuracy: 0.6071 - val_loss: 0.5560 - val_accuracy: 0.6127\n",
      "Epoch 57/100\n",
      "5598/5598 [==============================] - 23s 4ms/step - loss: 0.5766 - accuracy: 0.6065 - val_loss: 0.5566 - val_accuracy: 0.6107\n",
      "Epoch 58/100\n",
      "5598/5598 [==============================] - 25s 4ms/step - loss: 0.5769 - accuracy: 0.6065 - val_loss: 0.5546 - val_accuracy: 0.6148\n",
      "Epoch 59/100\n",
      "5583/5598 [============================>.] - ETA: 0s - loss: 0.5766 - accuracy: 0.6062INFO:tensorflow:Assets written to: fraudAE.pth\\assets\n"
     ]
    },
    {
     "name": "stderr",
     "output_type": "stream",
     "text": [
      "INFO:tensorflow:Assets written to: fraudAE.pth\\assets\n"
     ]
    },
    {
     "name": "stdout",
     "output_type": "stream",
     "text": [
      "5598/5598 [==============================] - 30s 5ms/step - loss: 0.5766 - accuracy: 0.6061 - val_loss: 0.5545 - val_accuracy: 0.6229\n",
      "Epoch 60/100\n",
      "5595/5598 [============================>.] - ETA: 0s - loss: 0.5762 - accuracy: 0.6065INFO:tensorflow:Assets written to: fraudAE.pth\\assets\n"
     ]
    },
    {
     "name": "stderr",
     "output_type": "stream",
     "text": [
      "INFO:tensorflow:Assets written to: fraudAE.pth\\assets\n"
     ]
    },
    {
     "name": "stdout",
     "output_type": "stream",
     "text": [
      "5598/5598 [==============================] - 32s 6ms/step - loss: 0.5762 - accuracy: 0.6065 - val_loss: 0.5537 - val_accuracy: 0.6168\n",
      "Epoch 61/100\n",
      "5588/5598 [============================>.] - ETA: 0s - loss: 0.5761 - accuracy: 0.6074INFO:tensorflow:Assets written to: fraudAE.pth\\assets\n"
     ]
    },
    {
     "name": "stderr",
     "output_type": "stream",
     "text": [
      "INFO:tensorflow:Assets written to: fraudAE.pth\\assets\n"
     ]
    },
    {
     "name": "stdout",
     "output_type": "stream",
     "text": [
      "5598/5598 [==============================] - 28s 5ms/step - loss: 0.5760 - accuracy: 0.6074 - val_loss: 0.5536 - val_accuracy: 0.6174\n",
      "Epoch 62/100\n",
      "5597/5598 [============================>.] - ETA: 0s - loss: 0.5757 - accuracy: 0.6072INFO:tensorflow:Assets written to: fraudAE.pth\\assets\n"
     ]
    },
    {
     "name": "stderr",
     "output_type": "stream",
     "text": [
      "INFO:tensorflow:Assets written to: fraudAE.pth\\assets\n"
     ]
    },
    {
     "name": "stdout",
     "output_type": "stream",
     "text": [
      "5598/5598 [==============================] - 31s 5ms/step - loss: 0.5757 - accuracy: 0.6072 - val_loss: 0.5532 - val_accuracy: 0.6193\n",
      "Epoch 63/100\n",
      "5590/5598 [============================>.] - ETA: 0s - loss: 0.5754 - accuracy: 0.6067INFO:tensorflow:Assets written to: fraudAE.pth\\assets\n"
     ]
    },
    {
     "name": "stderr",
     "output_type": "stream",
     "text": [
      "INFO:tensorflow:Assets written to: fraudAE.pth\\assets\n"
     ]
    },
    {
     "name": "stdout",
     "output_type": "stream",
     "text": [
      "5598/5598 [==============================] - 27s 5ms/step - loss: 0.5756 - accuracy: 0.6067 - val_loss: 0.5527 - val_accuracy: 0.6046\n",
      "Epoch 64/100\n",
      "5598/5598 [==============================] - 24s 4ms/step - loss: 0.5756 - accuracy: 0.6068 - val_loss: 0.5537 - val_accuracy: 0.6074\n",
      "Epoch 65/100\n",
      "5598/5598 [==============================] - 24s 4ms/step - loss: 0.5753 - accuracy: 0.6068 - val_loss: 0.5529 - val_accuracy: 0.6185\n",
      "Epoch 66/100\n",
      "5588/5598 [============================>.] - ETA: 0s - loss: 0.5753 - accuracy: 0.6067INFO:tensorflow:Assets written to: fraudAE.pth\\assets\n"
     ]
    },
    {
     "name": "stderr",
     "output_type": "stream",
     "text": [
      "INFO:tensorflow:Assets written to: fraudAE.pth\\assets\n"
     ]
    },
    {
     "name": "stdout",
     "output_type": "stream",
     "text": [
      "5598/5598 [==============================] - 26s 5ms/step - loss: 0.5751 - accuracy: 0.6067 - val_loss: 0.5523 - val_accuracy: 0.6143\n",
      "Epoch 67/100\n",
      "5598/5598 [==============================] - 21s 4ms/step - loss: 0.5752 - accuracy: 0.6062 - val_loss: 0.5524 - val_accuracy: 0.6172\n",
      "Epoch 68/100\n",
      "5598/5598 [==============================] - 20s 4ms/step - loss: 0.5749 - accuracy: 0.6056 - val_loss: 0.5528 - val_accuracy: 0.6110\n",
      "Epoch 69/100\n",
      "5598/5598 [==============================] - 20s 4ms/step - loss: 0.5752 - accuracy: 0.6061 - val_loss: 0.5555 - val_accuracy: 0.6093\n",
      "Epoch 70/100\n",
      "5591/5598 [============================>.] - ETA: 0s - loss: 0.5746 - accuracy: 0.6061INFO:tensorflow:Assets written to: fraudAE.pth\\assets\n"
     ]
    },
    {
     "name": "stderr",
     "output_type": "stream",
     "text": [
      "INFO:tensorflow:Assets written to: fraudAE.pth\\assets\n"
     ]
    },
    {
     "name": "stdout",
     "output_type": "stream",
     "text": [
      "5598/5598 [==============================] - 25s 4ms/step - loss: 0.5748 - accuracy: 0.6061 - val_loss: 0.5519 - val_accuracy: 0.6119\n",
      "Epoch 71/100\n",
      "5598/5598 [==============================] - 19s 3ms/step - loss: 0.5752 - accuracy: 0.6062 - val_loss: 0.5524 - val_accuracy: 0.6111\n",
      "Epoch 72/100\n",
      "5598/5598 [==============================] - 20s 3ms/step - loss: 0.5745 - accuracy: 0.6069 - val_loss: 0.5629 - val_accuracy: 0.6110\n",
      "Epoch 73/100\n",
      "5588/5598 [============================>.] - ETA: 0s - loss: 0.5746 - accuracy: 0.6057INFO:tensorflow:Assets written to: fraudAE.pth\\assets\n"
     ]
    },
    {
     "name": "stderr",
     "output_type": "stream",
     "text": [
      "INFO:tensorflow:Assets written to: fraudAE.pth\\assets\n"
     ]
    },
    {
     "name": "stdout",
     "output_type": "stream",
     "text": [
      "5598/5598 [==============================] - 25s 4ms/step - loss: 0.5746 - accuracy: 0.6057 - val_loss: 0.5514 - val_accuracy: 0.6164\n",
      "Epoch 74/100\n",
      "5598/5598 [==============================] - 22s 4ms/step - loss: 0.5743 - accuracy: 0.6064 - val_loss: 0.5516 - val_accuracy: 0.6144\n",
      "Epoch 75/100\n",
      "5598/5598 [==============================] - 21s 4ms/step - loss: 0.5743 - accuracy: 0.6051 - val_loss: 0.5528 - val_accuracy: 0.6118\n",
      "Epoch 76/100\n",
      "5598/5598 [==============================] - 22s 4ms/step - loss: 0.5742 - accuracy: 0.6059 - val_loss: 0.5564 - val_accuracy: 0.6155\n",
      "Epoch 77/100\n",
      "5598/5598 [==============================] - 23s 4ms/step - loss: 0.5738 - accuracy: 0.6060 - val_loss: 0.5519 - val_accuracy: 0.6172\n",
      "Epoch 78/100\n",
      "5598/5598 [==============================] - 20s 4ms/step - loss: 0.5740 - accuracy: 0.6053 - val_loss: 0.5518 - val_accuracy: 0.6169\n",
      "Epoch 79/100\n",
      "5586/5598 [============================>.] - ETA: 0s - loss: 0.5735 - accuracy: 0.6064INFO:tensorflow:Assets written to: fraudAE.pth\\assets\n"
     ]
    },
    {
     "name": "stderr",
     "output_type": "stream",
     "text": [
      "INFO:tensorflow:Assets written to: fraudAE.pth\\assets\n"
     ]
    },
    {
     "name": "stdout",
     "output_type": "stream",
     "text": [
      "5598/5598 [==============================] - 27s 5ms/step - loss: 0.5734 - accuracy: 0.6065 - val_loss: 0.5509 - val_accuracy: 0.6147\n",
      "Epoch 80/100\n",
      "5598/5598 [==============================] - 21s 4ms/step - loss: 0.5733 - accuracy: 0.6060 - val_loss: 0.5526 - val_accuracy: 0.6158\n",
      "Epoch 81/100\n",
      "5598/5598 [==============================] - 23s 4ms/step - loss: 0.5728 - accuracy: 0.6053 - val_loss: 0.5521 - val_accuracy: 0.6051\n",
      "Epoch 82/100\n",
      "5595/5598 [============================>.] - ETA: 0s - loss: 0.5728 - accuracy: 0.6050INFO:tensorflow:Assets written to: fraudAE.pth\\assets\n"
     ]
    },
    {
     "name": "stderr",
     "output_type": "stream",
     "text": [
      "INFO:tensorflow:Assets written to: fraudAE.pth\\assets\n"
     ]
    },
    {
     "name": "stdout",
     "output_type": "stream",
     "text": [
      "5598/5598 [==============================] - 26s 5ms/step - loss: 0.5728 - accuracy: 0.6050 - val_loss: 0.5496 - val_accuracy: 0.6156\n",
      "Epoch 83/100\n",
      "5598/5598 [==============================] - 20s 4ms/step - loss: 0.5721 - accuracy: 0.6049 - val_loss: 0.5522 - val_accuracy: 0.6080\n",
      "Epoch 84/100\n",
      "5598/5598 [==============================] - 24s 4ms/step - loss: 0.5719 - accuracy: 0.6048 - val_loss: 0.5503 - val_accuracy: 0.6203\n",
      "Epoch 85/100\n",
      "5597/5598 [============================>.] - ETA: 0s - loss: 0.5712 - accuracy: 0.6043INFO:tensorflow:Assets written to: fraudAE.pth\\assets\n"
     ]
    },
    {
     "name": "stderr",
     "output_type": "stream",
     "text": [
      "INFO:tensorflow:Assets written to: fraudAE.pth\\assets\n"
     ]
    },
    {
     "name": "stdout",
     "output_type": "stream",
     "text": [
      "5598/5598 [==============================] - 28s 5ms/step - loss: 0.5712 - accuracy: 0.6043 - val_loss: 0.5481 - val_accuracy: 0.6097\n",
      "Epoch 86/100\n",
      "5588/5598 [============================>.] - ETA: 0s - loss: 0.5710 - accuracy: 0.6035INFO:tensorflow:Assets written to: fraudAE.pth\\assets\n"
     ]
    },
    {
     "name": "stderr",
     "output_type": "stream",
     "text": [
      "INFO:tensorflow:Assets written to: fraudAE.pth\\assets\n"
     ]
    },
    {
     "name": "stdout",
     "output_type": "stream",
     "text": [
      "5598/5598 [==============================] - 25s 5ms/step - loss: 0.5708 - accuracy: 0.6036 - val_loss: 0.5478 - val_accuracy: 0.6177\n",
      "Epoch 87/100\n",
      "5598/5598 [==============================] - 21s 4ms/step - loss: 0.5702 - accuracy: 0.6045 - val_loss: 0.5505 - val_accuracy: 0.6016\n",
      "Epoch 88/100\n",
      "5592/5598 [============================>.] - ETA: 0s - loss: 0.5695 - accuracy: 0.6043INFO:tensorflow:Assets written to: fraudAE.pth\\assets\n"
     ]
    },
    {
     "name": "stderr",
     "output_type": "stream",
     "text": [
      "INFO:tensorflow:Assets written to: fraudAE.pth\\assets\n"
     ]
    },
    {
     "name": "stdout",
     "output_type": "stream",
     "text": [
      "5598/5598 [==============================] - 24s 4ms/step - loss: 0.5694 - accuracy: 0.6044 - val_loss: 0.5464 - val_accuracy: 0.6112\n",
      "Epoch 89/100\n",
      "5598/5598 [==============================] - 23s 4ms/step - loss: 0.5686 - accuracy: 0.6035 - val_loss: 0.5472 - val_accuracy: 0.6112\n",
      "Epoch 90/100\n",
      "5584/5598 [============================>.] - ETA: 0s - loss: 0.5684 - accuracy: 0.6036INFO:tensorflow:Assets written to: fraudAE.pth\\assets\n"
     ]
    },
    {
     "name": "stderr",
     "output_type": "stream",
     "text": [
      "INFO:tensorflow:Assets written to: fraudAE.pth\\assets\n"
     ]
    },
    {
     "name": "stdout",
     "output_type": "stream",
     "text": [
      "5598/5598 [==============================] - 25s 4ms/step - loss: 0.5681 - accuracy: 0.6036 - val_loss: 0.5461 - val_accuracy: 0.6161\n",
      "Epoch 91/100\n",
      "5591/5598 [============================>.] - ETA: 0s - loss: 0.5673 - accuracy: 0.6033INFO:tensorflow:Assets written to: fraudAE.pth\\assets\n"
     ]
    },
    {
     "name": "stderr",
     "output_type": "stream",
     "text": [
      "INFO:tensorflow:Assets written to: fraudAE.pth\\assets\n"
     ]
    },
    {
     "name": "stdout",
     "output_type": "stream",
     "text": [
      "5598/5598 [==============================] - 26s 5ms/step - loss: 0.5672 - accuracy: 0.6033 - val_loss: 0.5458 - val_accuracy: 0.5995\n",
      "Epoch 92/100\n",
      "5584/5598 [============================>.] - ETA: 0s - loss: 0.5668 - accuracy: 0.6033INFO:tensorflow:Assets written to: fraudAE.pth\\assets\n"
     ]
    },
    {
     "name": "stderr",
     "output_type": "stream",
     "text": [
      "INFO:tensorflow:Assets written to: fraudAE.pth\\assets\n"
     ]
    },
    {
     "name": "stdout",
     "output_type": "stream",
     "text": [
      "5598/5598 [==============================] - 24s 4ms/step - loss: 0.5666 - accuracy: 0.6034 - val_loss: 0.5445 - val_accuracy: 0.6131\n",
      "Epoch 93/100\n",
      "5595/5598 [============================>.] - ETA: 0s - loss: 0.5661 - accuracy: 0.6026INFO:tensorflow:Assets written to: fraudAE.pth\\assets\n"
     ]
    },
    {
     "name": "stderr",
     "output_type": "stream",
     "text": [
      "INFO:tensorflow:Assets written to: fraudAE.pth\\assets\n"
     ]
    },
    {
     "name": "stdout",
     "output_type": "stream",
     "text": [
      "5598/5598 [==============================] - 24s 4ms/step - loss: 0.5661 - accuracy: 0.6026 - val_loss: 0.5440 - val_accuracy: 0.6123\n",
      "Epoch 94/100\n",
      "5598/5598 [==============================] - 19s 3ms/step - loss: 0.5657 - accuracy: 0.6042 - val_loss: 0.5443 - val_accuracy: 0.6089\n",
      "Epoch 95/100\n",
      "5596/5598 [============================>.] - ETA: 0s - loss: 0.5648 - accuracy: 0.6055INFO:tensorflow:Assets written to: fraudAE.pth\\assets\n"
     ]
    },
    {
     "name": "stderr",
     "output_type": "stream",
     "text": [
      "INFO:tensorflow:Assets written to: fraudAE.pth\\assets\n"
     ]
    },
    {
     "name": "stdout",
     "output_type": "stream",
     "text": [
      "5598/5598 [==============================] - 19s 3ms/step - loss: 0.5647 - accuracy: 0.6055 - val_loss: 0.5432 - val_accuracy: 0.6111\n",
      "Epoch 96/100\n",
      "5598/5598 [==============================] - 12s 2ms/step - loss: 0.5642 - accuracy: 0.6067 - val_loss: 0.5441 - val_accuracy: 0.6182\n",
      "Epoch 97/100\n",
      "5577/5598 [============================>.] - ETA: 0s - loss: 0.5639 - accuracy: 0.6072INFO:tensorflow:Assets written to: fraudAE.pth\\assets\n"
     ]
    },
    {
     "name": "stderr",
     "output_type": "stream",
     "text": [
      "INFO:tensorflow:Assets written to: fraudAE.pth\\assets\n"
     ]
    },
    {
     "name": "stdout",
     "output_type": "stream",
     "text": [
      "5598/5598 [==============================] - 13s 2ms/step - loss: 0.5638 - accuracy: 0.6071 - val_loss: 0.5420 - val_accuracy: 0.6193\n",
      "Epoch 98/100\n",
      "5583/5598 [============================>.] - ETA: 0s - loss: 0.5634 - accuracy: 0.6074INFO:tensorflow:Assets written to: fraudAE.pth\\assets\n"
     ]
    },
    {
     "name": "stderr",
     "output_type": "stream",
     "text": [
      "INFO:tensorflow:Assets written to: fraudAE.pth\\assets\n"
     ]
    },
    {
     "name": "stdout",
     "output_type": "stream",
     "text": [
      "5598/5598 [==============================] - 16s 3ms/step - loss: 0.5633 - accuracy: 0.6074 - val_loss: 0.5416 - val_accuracy: 0.6149\n",
      "Epoch 99/100\n",
      "5598/5598 [==============================] - 17s 3ms/step - loss: 0.5628 - accuracy: 0.6072 - val_loss: 0.5419 - val_accuracy: 0.6057\n",
      "Epoch 100/100\n",
      "5584/5598 [============================>.] - ETA: 0s - loss: 0.5627 - accuracy: 0.6077INFO:tensorflow:Assets written to: fraudAE.pth\\assets\n"
     ]
    },
    {
     "name": "stderr",
     "output_type": "stream",
     "text": [
      "INFO:tensorflow:Assets written to: fraudAE.pth\\assets\n"
     ]
    },
    {
     "name": "stdout",
     "output_type": "stream",
     "text": [
      "\b\b\b\b\b\b\b\b\b\b\b\b\b\b\b\b\b\b\b\b\b\b\b\b\b\b\b\b\b\b\b\b\b\b\b\b\b\b\b\b\b\b\b\b\b\b\b\b\b\b\b\b\b\b\b\b\b\b\b\b\b\b\b\b\b\b\b\b\b\b\b\b\b\b\b\b\b\b\b\b\b\b\b\b\b\b\r",
      "5598/5598 [==============================] - 18s 3ms/step - loss: 0.5629 - accuracy: 0.6076 - val_loss: 0.5399 - val_accuracy: 0.6139\n"
     ]
    }
   ],
   "source": [
    "history = autoencoder.fit(np.array(X_train), np.array(X_train),\n",
    "                    epochs=epochs,\n",
    "                    batch_size=batch_size,\n",
    "                    shuffle=True,\n",
    "                    validation_split=0.1,\n",
    "                    callbacks=[checkpointer]).history"
   ]
  },
  {
   "cell_type": "code",
   "execution_count": 82,
   "id": "70cc9a1b",
   "metadata": {},
   "outputs": [
    {
     "data": {
      "image/png": "[encoded data removed]",
      "text/plain": [
       "<Figure size 640x480 with 1 Axes>"
      ]
     },
     "metadata": {},
     "output_type": "display_data"
    }
   ],
   "source": [
    "plt.plot(history['loss'])\n",
    "plt.plot(history['val_loss'])\n",
    "plt.title('model loss')\n",
    "plt.ylabel('loss')\n",
    "plt.xlabel('epoch')\n",
    "plt.legend(['train', 'test'], loc='upper right');"
   ]
  },
  {
   "cell_type": "markdown",
   "id": "9812b662",
   "metadata": {},
   "source": [
    "### Test"
   ]
  },
  {
   "cell_type": "code",
   "execution_count": 83,
   "id": "099b2851",
   "metadata": {},
   "outputs": [],
   "source": [
    "autoencoder = load_model('fraudAE.pth')"
   ]
  },
  {
   "cell_type": "code",
   "execution_count": 84,
   "id": "ac2e5cde",
   "metadata": {},
   "outputs": [
    {
     "name": "stdout",
     "output_type": "stream",
     "text": [
      "2671/2671 [==============================] - 5s 2ms/step\n"
     ]
    },
    {
     "data": {
      "text/html": [
       "<div>\n",
       "<style scoped>\n",
       "    .dataframe tbody tr th:only-of-type {\n",
       "        vertical-align: middle;\n",
       "    }\n",
       "\n",
       "    .dataframe tbody tr th {\n",
       "        vertical-align: top;\n",
       "    }\n",
       "\n",
       "    .dataframe thead th {\n",
       "        text-align: right;\n",
       "    }\n",
       "</style>\n",
       "<table border=\"1\" class=\"dataframe\">\n",
       "  <thead>\n",
       "    <tr style=\"text-align: right;\">\n",
       "      <th></th>\n",
       "      <th>reconstruction_error</th>\n",
       "      <th>true_class</th>\n",
       "    </tr>\n",
       "  </thead>\n",
       "  <tbody>\n",
       "    <tr>\n",
       "      <th>count</th>\n",
       "      <td>85443.000000</td>\n",
       "      <td>85443.00000</td>\n",
       "    </tr>\n",
       "    <tr>\n",
       "      <th>mean</th>\n",
       "      <td>0.591498</td>\n",
       "      <td>0.00165</td>\n",
       "    </tr>\n",
       "    <tr>\n",
       "      <th>std</th>\n",
       "      <td>3.535218</td>\n",
       "      <td>0.04059</td>\n",
       "    </tr>\n",
       "    <tr>\n",
       "      <th>min</th>\n",
       "      <td>0.025158</td>\n",
       "      <td>0.00000</td>\n",
       "    </tr>\n",
       "    <tr>\n",
       "      <th>25%</th>\n",
       "      <td>0.158777</td>\n",
       "      <td>0.00000</td>\n",
       "    </tr>\n",
       "    <tr>\n",
       "      <th>50%</th>\n",
       "      <td>0.260181</td>\n",
       "      <td>0.00000</td>\n",
       "    </tr>\n",
       "    <tr>\n",
       "      <th>75%</th>\n",
       "      <td>0.464470</td>\n",
       "      <td>0.00000</td>\n",
       "    </tr>\n",
       "    <tr>\n",
       "      <th>max</th>\n",
       "      <td>413.930868</td>\n",
       "      <td>1.00000</td>\n",
       "    </tr>\n",
       "  </tbody>\n",
       "</table>\n",
       "</div>"
      ],
      "text/plain": [
       "       reconstruction_error   true_class\n",
       "count          85443.000000  85443.00000\n",
       "mean               0.591498      0.00165\n",
       "std                3.535218      0.04059\n",
       "min                0.025158      0.00000\n",
       "25%                0.158777      0.00000\n",
       "50%                0.260181      0.00000\n",
       "75%                0.464470      0.00000\n",
       "max              413.930868      1.00000"
      ]
     },
     "execution_count": 84,
     "metadata": {},
     "output_type": "execute_result"
    }
   ],
   "source": [
    "predictions = autoencoder.predict(X_test)\n",
    "mse = np.mean(np.power(X_test - predictions, 2), axis=1)\n",
    "error_df = pd.DataFrame({'reconstruction_error': mse,\n",
    "                        'true_class': y_test})\n",
    "error_df.describe()"
   ]
  },
  {
   "cell_type": "code",
   "execution_count": 85,
   "id": "4da1351d",
   "metadata": {},
   "outputs": [],
   "source": [
    "threshold = 2.9"
   ]
  },
  {
   "cell_type": "code",
   "execution_count": 86,
   "id": "79018bfb",
   "metadata": {},
   "outputs": [
    {
     "data": {
      "image/png": "[encoded data removed]",
      "text/plain": [
       "<Figure size 640x480 with 1 Axes>"
      ]
     },
     "metadata": {},
     "output_type": "display_data"
    }
   ],
   "source": [
    "groups = error_df.groupby('true_class')\n",
    "fig, ax = plt.subplots()\n",
    "\n",
    "for name, group in groups:\n",
    "    ax.plot(group.index, group.reconstruction_error, marker='o', ms=3.5, linestyle='',\n",
    "            label= \"Fraud\" if name == 1 else \"Normal\")\n",
    "ax.hlines(threshold, ax.get_xlim()[0], ax.get_xlim()[1], colors=\"r\", zorder=100, label='Threshold')\n",
    "ax.legend()\n",
    "plt.title(\"Reconstruction error for different classes\")\n",
    "plt.ylabel(\"Reconstruction error\")\n",
    "plt.xlabel(\"Data point index\")\n",
    "plt.show();"
   ]
  },
  {
   "cell_type": "code",
   "execution_count": 87,
   "id": "a97a4779",
   "metadata": {
    "scrolled": true
   },
   "outputs": [
    {
     "data": {
      "image/png": "[encoded data removed]",
      "text/plain": [
       "<Figure size 1200x1200 with 2 Axes>"
      ]
     },
     "metadata": {},
     "output_type": "display_data"
    }
   ],
   "source": [
    "from sklearn.metrics import classification_report, confusion_matrix, ConfusionMatrixDisplay\n",
    "LABELS = ['Normal','Fraud']\n",
    "\n",
    "y_pred = [1 if e > threshold else 0 for e in error_df.reconstruction_error.values]\n",
    "conf_matrix = confusion_matrix(error_df.true_class, y_pred)\n",
    "plt.figure(figsize=(12, 12))\n",
    "sns.heatmap(conf_matrix, xticklabels=LABELS, yticklabels=LABELS, annot=True, fmt=\"d\");\n",
    "plt.title(\"Confusion matrix\")\n",
    "plt.ylabel('True class')\n",
    "plt.xlabel('Predicted class')\n",
    "plt.show()"
   ]
  },
  {
   "cell_type": "markdown",
   "id": "78da0e18",
   "metadata": {},
   "source": [
    "### Visualize the latent space"
   ]
  },
  {
   "cell_type": "code",
   "execution_count": 88,
   "id": "e8f06329",
   "metadata": {},
   "outputs": [],
   "source": [
    "inp_layer = autoencoder.input\n",
    "out_layer = autoencoder.layers[3].output\n",
    "\n",
    "encoder = Model(inputs=inp_layer, outputs=out_layer)"
   ]
  },
  {
   "cell_type": "code",
   "execution_count": 89,
   "id": "3ef81e12",
   "metadata": {},
   "outputs": [
    {
     "name": "stdout",
     "output_type": "stream",
     "text": [
      "Model: \"model_9\"\n",
      "_________________________________________________________________\n",
      " Layer (type)                Output Shape              Param #   \n",
      "=================================================================\n",
      " input_4 (InputLayer)        [(None, 28)]              0         \n",
      "                                                                 \n",
      " dense_16 (Dense)            (None, 14)                406       \n",
      "                                                                 \n",
      " dense_17 (Dense)            (None, 7)                 105       \n",
      "                                                                 \n",
      " dense_18 (Dense)            (None, 3)                 24        \n",
      "                                                                 \n",
      "=================================================================\n",
      "Total params: 535 (2.09 KB)\n",
      "Trainable params: 535 (2.09 KB)\n",
      "Non-trainable params: 0 (0.00 Byte)\n",
      "_________________________________________________________________\n"
     ]
    }
   ],
   "source": [
    "encoder.summary()"
   ]
  },
  {
   "cell_type": "code",
   "execution_count": 90,
   "id": "4b500111",
   "metadata": {},
   "outputs": [
    {
     "name": "stdout",
     "output_type": "stream",
     "text": [
      "2671/2671 [==============================] - 6s 2ms/step\n"
     ]
    }
   ],
   "source": [
    "fraud = X_test[y_test==1]\n",
    "normal = X_test[y_test==0]\n",
    "\n",
    "features = np.append(fraud, normal, axis=0)\n",
    "labels = np.append(np.ones(len(fraud)), np.zeros(len(normal)))\n",
    "\n",
    "latent_vector = encoder.predict(features)"
   ]
  },
  {
   "cell_type": "code",
   "execution_count": 91,
   "id": "5496a3ea",
   "metadata": {
    "scrolled": false
   },
   "outputs": [
    {
     "data": {
      "image/png": "[encoded data removed]",
      "text/plain": [
       "<Figure size 800x800 with 1 Axes>"
      ]
     },
     "metadata": {},
     "output_type": "display_data"
    }
   ],
   "source": [
    "X = latent_vector[:,0]\n",
    "y = latent_vector[:,1]\n",
    "\n",
    "plt.subplots(figsize=(8, 8))\n",
    "plt.scatter(X[labels==0], y[labels==0], color=\"blue\", label='Normal')\n",
    "plt.scatter(X[labels==1], y[labels==1], color=\"red\", label='Fraud')\n",
    "\n",
    "plt.title('Latent Space')\n",
    "plt.show()"
   ]
  },
  {
   "cell_type": "code",
   "execution_count": null,
   "id": "c3513f63",
   "metadata": {},
   "outputs": [],
   "source": []
  }
 ],
 "metadata": {
  "kernelspec": {
   "display_name": "Python 3 (ipykernel)",
   "language": "python",
   "name": "python3"
  },
  "language_info": {
   "codemirror_mode": {
    "name": "ipython",
    "version": 3
   },
   "file_extension": ".py",
   "mimetype": "text/x-python",
   "name": "python",
   "nbconvert_exporter": "python",
   "pygments_lexer": "ipython3",
   "version": "3.11.4"
  }
 },
 "nbformat": 4,
 "nbformat_minor": 5
}
