{
 "cells": [
  {
   "cell_type": "code",
   "execution_count": 19,
   "id": "969debed",
   "metadata": {},
   "outputs": [],
   "source": [
    "import numpy as np\n",
    "from numpy import mean,std, dstack\n",
    "import pandas as pd\n",
    "from pandas import read_csv\n",
    "\n",
    "import keras\n",
    "import zipfile\n",
    "from sklearn.metrics import confusion_matrix, classification_report\n"
   ]
  },
  {
   "cell_type": "code",
   "execution_count": 20,
   "id": "0b3aea63",
   "metadata": {},
   "outputs": [],
   "source": [
    "import pandas as pd\n",
    "\n",
    "def get_new_feature_name_df(old_feature_name_df):\n",
    "    feature_dup_df = pd.DataFrame(data=old_feature_name_df.groupby('column_name').cumcount(),\n",
    "                                  columns=['dup_cnt'])\n",
    "    feature_dup_df = feature_dup_df.reset_index()\n",
    "    new_feature_name_df = pd.merge(old_feature_name_df.reset_index(), feature_dup_df, how='outer')\n",
    "    new_feature_name_df['column_name'] = new_feature_name_df[['column_name', 'dup_cnt']].apply(lambda x : x[0]+'_'+str(x[1]) \n",
    "                                                                                         if x[1] >0 else x[0] ,  axis=1)\n",
    "    new_feature_name_df = new_feature_name_df.drop(['index'], axis=1)\n",
    "    return new_feature_name_df\n",
    "\n",
    "def get_human_dataset( ):\n",
    "    \n",
    "    feature_name_df = pd.read_csv('./data/HAR/features.txt',sep='\\s+',\n",
    "                        header=None,names=['column_index','column_name'])\n",
    "    \n",
    "    new_feature_name_df = get_new_feature_name_df(feature_name_df)\n",
    "    \n",
    "    feature_name = new_feature_name_df.iloc[:, 1].values.tolist()\n",
    "    \n",
    "\n",
    "    X_train = pd.read_csv('./data/HAR/train/X_train.txt',sep='\\s+', names=feature_name )\n",
    "    X_test = pd.read_csv('./data/HAR/test/X_test.txt',sep='\\s+', names=feature_name)\n",
    "    \n",
    "\n",
    "    y_train = pd.read_csv('./data/HAR/train/y_train.txt',sep='\\s+',header=None,names=['action'])\n",
    "    y_test = pd.read_csv('./data/HAR/test/y_test.txt',sep='\\s+',header=None,names=['action'])\n",
    "    \n",
    "    return X_train, X_test, y_train, y_test"
   ]
  },
  {
   "cell_type": "code",
   "execution_count": 21,
   "id": "534826d3",
   "metadata": {},
   "outputs": [],
   "source": [
    "X_train, X_test, y_train, y_test = get_human_dataset()"
   ]
  },
  {
   "cell_type": "code",
   "execution_count": 22,
   "id": "791a5d39",
   "metadata": {},
   "outputs": [
    {
     "name": "stdout",
     "output_type": "stream",
     "text": [
      "랜덤 포레스트 정확도: 0.9253\n",
      "[[486   4   6   0   0   0]\n",
      " [ 38 426   7   0   0   0]\n",
      " [ 22  44 354   0   0   0]\n",
      " [  0   0   0 440  51   0]\n",
      " [  0   0   0  48 484   0]\n",
      " [  0   0   0   0   0 537]]\n"
     ]
    }
   ],
   "source": [
    "from sklearn.ensemble import RandomForestClassifier\n",
    "from sklearn.metrics import confusion_matrix\n",
    "from sklearn.metrics import accuracy_score\n",
    "\n",
    "rf_clf = RandomForestClassifier(random_state=0)\n",
    "rf_clf.fit(X_train , y_train.values.ravel())\n",
    "pred_rf = rf_clf.predict(X_test)\n",
    "accuracy = accuracy_score(y_test , pred_rf)\n",
    "print('랜덤 포레스트 정확도: {0:.4f}'.format(accuracy))\n",
    "print(confusion_matrix(y_test, pred_rf))"
   ]
  },
  {
   "cell_type": "code",
   "execution_count": 23,
   "id": "9f44a8bf",
   "metadata": {},
   "outputs": [
    {
     "name": "stdout",
     "output_type": "stream",
     "text": [
      "SVM 정확도: 0.9505\n",
      "[[488   5   3   0   0   0]\n",
      " [ 20 451   0   0   0   0]\n",
      " [ 10  26 384   0   0   0]\n",
      " [  0   2   0 438  51   0]\n",
      " [  0   0   0  29 503   0]\n",
      " [  0   0   0   0   0 537]]\n"
     ]
    }
   ],
   "source": [
    "from sklearn.svm import SVC\n",
    "\n",
    "svm = SVC(random_state=0)\n",
    "svm.fit(X_train, y_train.values.ravel())\n",
    "pred_svm = svm.predict(X_test)\n",
    "accuracy = accuracy_score(y_test , pred_svm)\n",
    "print('SVM 정확도: {0:.4f}'.format(accuracy))\n",
    "print(confusion_matrix(y_test, pred_svm))"
   ]
  },
  {
   "cell_type": "code",
   "execution_count": 24,
   "id": "da7ae701",
   "metadata": {},
   "outputs": [
    {
     "name": "stdout",
     "output_type": "stream",
     "text": [
      "linear SVM 정확도: 0.9640\n",
      "[[492   1   3   0   0   0]\n",
      " [ 18 451   2   0   0   0]\n",
      " [  4   6 410   0   0   0]\n",
      " [  0   2   0 435  54   0]\n",
      " [  0   0   0  16 516   0]\n",
      " [  0   0   0   0   0 537]]\n"
     ]
    }
   ],
   "source": [
    "# Linear SVM\n",
    "\n",
    "svm = SVC(kernel='linear', random_state=0)\n",
    "svm.fit(X_train, y_train.values.ravel())\n",
    "pred_svm = svm.predict(X_test)\n",
    "accuracy = accuracy_score(y_test , pred_svm)\n",
    "print('linear SVM 정확도: {0:.4f}'.format(accuracy))\n",
    "print(confusion_matrix(y_test, pred_svm))"
   ]
  },
  {
   "cell_type": "code",
   "execution_count": 25,
   "id": "db5bce5a",
   "metadata": {},
   "outputs": [
    {
     "name": "stdout",
     "output_type": "stream",
     "text": [
      "Logistic Regression 정확도: 0.9613\n",
      "[[493   0   3   0   0   0]\n",
      " [ 25 445   1   0   0   0]\n",
      " [  3  11 406   0   0   0]\n",
      " [  0   3   0 432  56   0]\n",
      " [  1   0   0  11 520   0]\n",
      " [  0   0   0   0   0 537]]\n"
     ]
    }
   ],
   "source": [
    "from sklearn.linear_model import LogisticRegression\n",
    "\n",
    "lr = LogisticRegression(random_state=0, max_iter=5000)\n",
    "lr.fit(X_train, y_train.values.ravel())\n",
    "pred_lr = lr.predict(X_test)\n",
    "accuracy = accuracy_score(y_test , pred_lr)\n",
    "print('Logistic Regression 정확도: {0:.4f}'.format(accuracy))\n",
    "print (confusion_matrix(y_test, pred_lr))"
   ]
  },
  {
   "cell_type": "code",
   "execution_count": 26,
   "id": "cb09a8ed",
   "metadata": {},
   "outputs": [
    {
     "name": "stdout",
     "output_type": "stream",
     "text": [
      "Decision Tree 정확도: 0.8595\n",
      "[[448  24  24   0   0   0]\n",
      " [ 74 367  30   0   0   0]\n",
      " [ 23  46 351   0   0   0]\n",
      " [  0   0   0 373 118   0]\n",
      " [  0   0   0  75 457   0]\n",
      " [  0   0   0   0   0 537]]\n"
     ]
    }
   ],
   "source": [
    "from sklearn.tree import DecisionTreeClassifier\n",
    "\n",
    "dt = DecisionTreeClassifier(random_state=0)\n",
    "dt.fit(X_train, y_train.values.ravel())\n",
    "pred_dt = dt.predict(X_test)\n",
    "accuracy = accuracy_score(y_test , pred_dt)\n",
    "print('Decision Tree 정확도: {0:.4f}'.format(accuracy))\n",
    "print (confusion_matrix(y_test, pred_dt))"
   ]
  },
  {
   "cell_type": "code",
   "execution_count": null,
   "id": "0447527d",
   "metadata": {},
   "outputs": [],
   "source": []
  }
 ],
 "metadata": {
  "kernelspec": {
   "display_name": "Python 3 (ipykernel)",
   "language": "python",
   "name": "python3"
  },
  "language_info": {
   "codemirror_mode": {
    "name": "ipython",
    "version": 3
   },
   "file_extension": ".py",
   "mimetype": "text/x-python",
   "name": "python",
   "nbconvert_exporter": "python",
   "pygments_lexer": "ipython3",
   "version": "3.11.4"
  }
 },
 "nbformat": 4,
 "nbformat_minor": 5
}
