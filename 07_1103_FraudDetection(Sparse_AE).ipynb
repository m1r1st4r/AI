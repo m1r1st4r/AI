{
 "cells": [
  {
   "cell_type": "markdown",
   "id": "076b4dda",
   "metadata": {},
   "source": [
    "### Load required libraries"
   ]
  },
  {
   "cell_type": "code",
   "execution_count": 36,
   "id": "e8452b24",
   "metadata": {},
   "outputs": [],
   "source": [
    "import numpy as np\n",
    "import pandas as pd\n",
    "import seaborn as sns\n",
    "\n",
    "import tensorflow as tf\n",
    "import keras\n",
    "from tensorflow.keras import regularizers\n",
    "from keras.models import Sequential, Model, load_model\n",
    "from keras.layers import Dense, Input\n",
    "from keras.callbacks import ModelCheckpoint\n",
    "from sklearn.model_selection import train_test_split\n",
    "\n",
    "from sklearn.manifold import TSNE\n",
    "from sklearn.decomposition import PCA\n",
    "\n",
    "import matplotlib.pyplot as plt\n",
    "%matplotlib inline\n",
    "\n",
    "import warnings\n",
    "warnings.filterwarnings(\"ignore\")"
   ]
  },
  {
   "cell_type": "markdown",
   "id": "f992f32f",
   "metadata": {},
   "source": [
    "### Load the data"
   ]
  },
  {
   "cell_type": "code",
   "execution_count": 37,
   "id": "cb25d899",
   "metadata": {},
   "outputs": [
    {
     "name": "stdout",
     "output_type": "stream",
     "text": [
      "(284807, 30)\n"
     ]
    },
    {
     "data": {
      "text/html": [
       "<div>\n",
       "<style scoped>\n",
       "    .dataframe tbody tr th:only-of-type {\n",
       "        vertical-align: middle;\n",
       "    }\n",
       "\n",
       "    .dataframe tbody tr th {\n",
       "        vertical-align: top;\n",
       "    }\n",
       "\n",
       "    .dataframe thead th {\n",
       "        text-align: right;\n",
       "    }\n",
       "</style>\n",
       "<table border=\"1\" class=\"dataframe\">\n",
       "  <thead>\n",
       "    <tr style=\"text-align: right;\">\n",
       "      <th></th>\n",
       "      <th>V1</th>\n",
       "      <th>V2</th>\n",
       "      <th>V3</th>\n",
       "      <th>V4</th>\n",
       "      <th>V5</th>\n",
       "      <th>V6</th>\n",
       "      <th>V7</th>\n",
       "      <th>V8</th>\n",
       "      <th>V9</th>\n",
       "      <th>V10</th>\n",
       "      <th>...</th>\n",
       "      <th>V21</th>\n",
       "      <th>V22</th>\n",
       "      <th>V23</th>\n",
       "      <th>V24</th>\n",
       "      <th>V25</th>\n",
       "      <th>V26</th>\n",
       "      <th>V27</th>\n",
       "      <th>V28</th>\n",
       "      <th>Amount</th>\n",
       "      <th>Class</th>\n",
       "    </tr>\n",
       "    <tr>\n",
       "      <th>Time</th>\n",
       "      <th></th>\n",
       "      <th></th>\n",
       "      <th></th>\n",
       "      <th></th>\n",
       "      <th></th>\n",
       "      <th></th>\n",
       "      <th></th>\n",
       "      <th></th>\n",
       "      <th></th>\n",
       "      <th></th>\n",
       "      <th></th>\n",
       "      <th></th>\n",
       "      <th></th>\n",
       "      <th></th>\n",
       "      <th></th>\n",
       "      <th></th>\n",
       "      <th></th>\n",
       "      <th></th>\n",
       "      <th></th>\n",
       "      <th></th>\n",
       "      <th></th>\n",
       "    </tr>\n",
       "  </thead>\n",
       "  <tbody>\n",
       "    <tr>\n",
       "      <th>0.0</th>\n",
       "      <td>-1.359807</td>\n",
       "      <td>-0.072781</td>\n",
       "      <td>2.536347</td>\n",
       "      <td>1.378155</td>\n",
       "      <td>-0.338321</td>\n",
       "      <td>0.462388</td>\n",
       "      <td>0.239599</td>\n",
       "      <td>0.098698</td>\n",
       "      <td>0.363787</td>\n",
       "      <td>0.090794</td>\n",
       "      <td>...</td>\n",
       "      <td>-0.018307</td>\n",
       "      <td>0.277838</td>\n",
       "      <td>-0.110474</td>\n",
       "      <td>0.066928</td>\n",
       "      <td>0.128539</td>\n",
       "      <td>-0.189115</td>\n",
       "      <td>0.133558</td>\n",
       "      <td>-0.021053</td>\n",
       "      <td>149.62</td>\n",
       "      <td>0</td>\n",
       "    </tr>\n",
       "    <tr>\n",
       "      <th>0.0</th>\n",
       "      <td>1.191857</td>\n",
       "      <td>0.266151</td>\n",
       "      <td>0.166480</td>\n",
       "      <td>0.448154</td>\n",
       "      <td>0.060018</td>\n",
       "      <td>-0.082361</td>\n",
       "      <td>-0.078803</td>\n",
       "      <td>0.085102</td>\n",
       "      <td>-0.255425</td>\n",
       "      <td>-0.166974</td>\n",
       "      <td>...</td>\n",
       "      <td>-0.225775</td>\n",
       "      <td>-0.638672</td>\n",
       "      <td>0.101288</td>\n",
       "      <td>-0.339846</td>\n",
       "      <td>0.167170</td>\n",
       "      <td>0.125895</td>\n",
       "      <td>-0.008983</td>\n",
       "      <td>0.014724</td>\n",
       "      <td>2.69</td>\n",
       "      <td>0</td>\n",
       "    </tr>\n",
       "    <tr>\n",
       "      <th>1.0</th>\n",
       "      <td>-1.358354</td>\n",
       "      <td>-1.340163</td>\n",
       "      <td>1.773209</td>\n",
       "      <td>0.379780</td>\n",
       "      <td>-0.503198</td>\n",
       "      <td>1.800499</td>\n",
       "      <td>0.791461</td>\n",
       "      <td>0.247676</td>\n",
       "      <td>-1.514654</td>\n",
       "      <td>0.207643</td>\n",
       "      <td>...</td>\n",
       "      <td>0.247998</td>\n",
       "      <td>0.771679</td>\n",
       "      <td>0.909412</td>\n",
       "      <td>-0.689281</td>\n",
       "      <td>-0.327642</td>\n",
       "      <td>-0.139097</td>\n",
       "      <td>-0.055353</td>\n",
       "      <td>-0.059752</td>\n",
       "      <td>378.66</td>\n",
       "      <td>0</td>\n",
       "    </tr>\n",
       "    <tr>\n",
       "      <th>1.0</th>\n",
       "      <td>-0.966272</td>\n",
       "      <td>-0.185226</td>\n",
       "      <td>1.792993</td>\n",
       "      <td>-0.863291</td>\n",
       "      <td>-0.010309</td>\n",
       "      <td>1.247203</td>\n",
       "      <td>0.237609</td>\n",
       "      <td>0.377436</td>\n",
       "      <td>-1.387024</td>\n",
       "      <td>-0.054952</td>\n",
       "      <td>...</td>\n",
       "      <td>-0.108300</td>\n",
       "      <td>0.005274</td>\n",
       "      <td>-0.190321</td>\n",
       "      <td>-1.175575</td>\n",
       "      <td>0.647376</td>\n",
       "      <td>-0.221929</td>\n",
       "      <td>0.062723</td>\n",
       "      <td>0.061458</td>\n",
       "      <td>123.50</td>\n",
       "      <td>0</td>\n",
       "    </tr>\n",
       "    <tr>\n",
       "      <th>2.0</th>\n",
       "      <td>-1.158233</td>\n",
       "      <td>0.877737</td>\n",
       "      <td>1.548718</td>\n",
       "      <td>0.403034</td>\n",
       "      <td>-0.407193</td>\n",
       "      <td>0.095921</td>\n",
       "      <td>0.592941</td>\n",
       "      <td>-0.270533</td>\n",
       "      <td>0.817739</td>\n",
       "      <td>0.753074</td>\n",
       "      <td>...</td>\n",
       "      <td>-0.009431</td>\n",
       "      <td>0.798278</td>\n",
       "      <td>-0.137458</td>\n",
       "      <td>0.141267</td>\n",
       "      <td>-0.206010</td>\n",
       "      <td>0.502292</td>\n",
       "      <td>0.219422</td>\n",
       "      <td>0.215153</td>\n",
       "      <td>69.99</td>\n",
       "      <td>0</td>\n",
       "    </tr>\n",
       "  </tbody>\n",
       "</table>\n",
       "<p>5 rows × 30 columns</p>\n",
       "</div>"
      ],
      "text/plain": [
       "            V1        V2        V3        V4        V5        V6        V7  \\\n",
       "Time                                                                         \n",
       "0.0  -1.359807 -0.072781  2.536347  1.378155 -0.338321  0.462388  0.239599   \n",
       "0.0   1.191857  0.266151  0.166480  0.448154  0.060018 -0.082361 -0.078803   \n",
       "1.0  -1.358354 -1.340163  1.773209  0.379780 -0.503198  1.800499  0.791461   \n",
       "1.0  -0.966272 -0.185226  1.792993 -0.863291 -0.010309  1.247203  0.237609   \n",
       "2.0  -1.158233  0.877737  1.548718  0.403034 -0.407193  0.095921  0.592941   \n",
       "\n",
       "            V8        V9       V10  ...       V21       V22       V23  \\\n",
       "Time                                ...                                 \n",
       "0.0   0.098698  0.363787  0.090794  ... -0.018307  0.277838 -0.110474   \n",
       "0.0   0.085102 -0.255425 -0.166974  ... -0.225775 -0.638672  0.101288   \n",
       "1.0   0.247676 -1.514654  0.207643  ...  0.247998  0.771679  0.909412   \n",
       "1.0   0.377436 -1.387024 -0.054952  ... -0.108300  0.005274 -0.190321   \n",
       "2.0  -0.270533  0.817739  0.753074  ... -0.009431  0.798278 -0.137458   \n",
       "\n",
       "           V24       V25       V26       V27       V28  Amount  Class  \n",
       "Time                                                                   \n",
       "0.0   0.066928  0.128539 -0.189115  0.133558 -0.021053  149.62      0  \n",
       "0.0  -0.339846  0.167170  0.125895 -0.008983  0.014724    2.69      0  \n",
       "1.0  -0.689281 -0.327642 -0.139097 -0.055353 -0.059752  378.66      0  \n",
       "1.0  -1.175575  0.647376 -0.221929  0.062723  0.061458  123.50      0  \n",
       "2.0   0.141267 -0.206010  0.502292  0.219422  0.215153   69.99      0  \n",
       "\n",
       "[5 rows x 30 columns]"
      ]
     },
     "execution_count": 37,
     "metadata": {},
     "output_type": "execute_result"
    }
   ],
   "source": [
    "df = pd.read_csv('./data/creditcard.csv', index_col=0)\n",
    "print(df.shape)\n",
    "df.head()"
   ]
  },
  {
   "cell_type": "markdown",
   "id": "745866b7",
   "metadata": {},
   "source": [
    "#### Data check"
   ]
  },
  {
   "cell_type": "code",
   "execution_count": 38,
   "id": "46528b9f",
   "metadata": {},
   "outputs": [
    {
     "data": {
      "text/plain": [
       "0    0.998273\n",
       "1    0.001727\n",
       "Name: Class, dtype: float64"
      ]
     },
     "execution_count": 38,
     "metadata": {},
     "output_type": "execute_result"
    }
   ],
   "source": [
    "df['Class'].value_counts(normalize=True)"
   ]
  },
  {
   "cell_type": "code",
   "execution_count": 39,
   "id": "85a6f8c4",
   "metadata": {},
   "outputs": [
    {
     "data": {
      "text/plain": [
       "Index(['V1', 'V2', 'V3', 'V4', 'V5', 'V6', 'V7', 'V8', 'V9', 'V10', 'V11',\n",
       "       'V12', 'V13', 'V14', 'V15', 'V16', 'V17', 'V18', 'V19', 'V20', 'V21',\n",
       "       'V22', 'V23', 'V24', 'V25', 'V26', 'V27', 'V28', 'Amount', 'Class'],\n",
       "      dtype='object')"
      ]
     },
     "execution_count": 39,
     "metadata": {},
     "output_type": "execute_result"
    }
   ],
   "source": [
    "df.columns"
   ]
  },
  {
   "cell_type": "code",
   "execution_count": 40,
   "id": "cebc4bcb",
   "metadata": {},
   "outputs": [
    {
     "data": {
      "text/plain": [
       "False"
      ]
     },
     "execution_count": 40,
     "metadata": {},
     "output_type": "execute_result"
    }
   ],
   "source": [
    "df.isnull().values.any()"
   ]
  },
  {
   "cell_type": "code",
   "execution_count": 41,
   "id": "85851fed",
   "metadata": {},
   "outputs": [],
   "source": [
    "df = df.drop(['Amount'], axis=1)"
   ]
  },
  {
   "cell_type": "markdown",
   "id": "bf0d4248",
   "metadata": {},
   "source": [
    "### Train/test split"
   ]
  },
  {
   "cell_type": "code",
   "execution_count": 42,
   "id": "1fc791be",
   "metadata": {},
   "outputs": [
    {
     "name": "stdout",
     "output_type": "stream",
     "text": [
      "Frauds shape: (492, 29)\n",
      "Normal shape: (284315, 29)\n"
     ]
    }
   ],
   "source": [
    "frauds = df[df.Class == 1]\n",
    "#normal = df[df.Class == 0].sample(10000)\n",
    "normal = df[df.Class == 0]\n",
    "print(\"Frauds shape: {}\".format(frauds.shape))\n",
    "print(\"Normal shape: {}\".format(normal.shape))"
   ]
  },
  {
   "cell_type": "code",
   "execution_count": 43,
   "id": "54c7a86c",
   "metadata": {},
   "outputs": [
    {
     "data": {
      "text/plain": [
       "(284807, 29)"
      ]
     },
     "execution_count": 43,
     "metadata": {},
     "output_type": "execute_result"
    }
   ],
   "source": [
    "data = pd.concat([frauds, normal])\n",
    "data.shape"
   ]
  },
  {
   "cell_type": "code",
   "execution_count": 44,
   "id": "93a3c174",
   "metadata": {},
   "outputs": [
    {
     "name": "stdout",
     "output_type": "stream",
     "text": [
      "X_train shape: (199013, 28)\n",
      "X_test shape: (85443, 28)\n"
     ]
    }
   ],
   "source": [
    "X_train, X_test = train_test_split(data, test_size=0.3, random_state=42)\n",
    "X_train = X_train[X_train.Class == 0]\n",
    "X_train = X_train.drop(['Class'], axis=1)\n",
    "\n",
    "X_test, y_test = X_test.drop(['Class'], axis=1).values, X_test['Class'].values\n",
    "\n",
    "print(\"X_train shape: {}\".format(X_train.shape))\n",
    "print(\"X_test shape: {}\".format(X_test.shape))"
   ]
  },
  {
   "cell_type": "markdown",
   "id": "7ea01350",
   "metadata": {},
   "source": [
    "### Visualize the data with TSNE and PCA"
   ]
  },
  {
   "cell_type": "code",
   "execution_count": 42,
   "id": "4969d467",
   "metadata": {},
   "outputs": [],
   "source": [
    "x1 = df[df.Class == 1]\n",
    "x2 = df[df.Class == 0].sample(10000)\n",
    "\n",
    "dfd = x1.append(x2)\n",
    "x = dfd.drop(['Class'], axis=1)\n",
    "y = dfd['Class'].values\n",
    "\n",
    "SEED = 42"
   ]
  },
  {
   "cell_type": "code",
   "execution_count": 13,
   "id": "f0a2144c",
   "metadata": {},
   "outputs": [
    {
     "ename": "NameError",
     "evalue": "name 'x' is not defined",
     "output_type": "error",
     "traceback": [
      "\u001b[1;31m---------------------------------------------------------------------------\u001b[0m",
      "\u001b[1;31mNameError\u001b[0m                                 Traceback (most recent call last)",
      "Cell \u001b[1;32mIn[13], line 1\u001b[0m\n\u001b[1;32m----> 1\u001b[0m tsne \u001b[38;5;241m=\u001b[39m TSNE(n_components\u001b[38;5;241m=\u001b[39m\u001b[38;5;241m2\u001b[39m, random_state\u001b[38;5;241m=\u001b[39m\u001b[38;5;241m24\u001b[39m)\u001b[38;5;241m.\u001b[39mfit_transform(x)\n\u001b[0;32m      2\u001b[0m plt\u001b[38;5;241m.\u001b[39mfigure(figsize\u001b[38;5;241m=\u001b[39m(\u001b[38;5;241m12\u001b[39m,\u001b[38;5;241m8\u001b[39m));\n\u001b[0;32m      3\u001b[0m plt\u001b[38;5;241m.\u001b[39mscatter(tsne[np\u001b[38;5;241m.\u001b[39mwhere(y\u001b[38;5;241m==\u001b[39m\u001b[38;5;241m0\u001b[39m), \u001b[38;5;241m0\u001b[39m], y\u001b[38;5;241m=\u001b[39mtsne[np\u001b[38;5;241m.\u001b[39mwhere(y\u001b[38;5;241m==\u001b[39m\u001b[38;5;241m0\u001b[39m), \u001b[38;5;241m1\u001b[39m], color\u001b[38;5;241m=\u001b[39m\u001b[38;5;124m\"\u001b[39m\u001b[38;5;124mblue\u001b[39m\u001b[38;5;124m\"\u001b[39m, label\u001b[38;5;241m=\u001b[39m\u001b[38;5;124m'\u001b[39m\u001b[38;5;124mNormal\u001b[39m\u001b[38;5;124m'\u001b[39m)\n",
      "\u001b[1;31mNameError\u001b[0m: name 'x' is not defined"
     ]
    }
   ],
   "source": [
    "tsne = TSNE(n_components=2, random_state=SEED).fit_transform(x)\n",
    "plt.figure(figsize=(12,8));\n",
    "plt.scatter(tsne[np.where(y==0), 0], y=tsne[np.where(y==0), 1], color=\"blue\", label='Normal')\n",
    "plt.scatter(x=tsne[np.where(y==1), 0], y=tsne[np.where(y==1), 1], color=\"red\", label='Fraud')\n",
    "plt.title('t-SNE Plot')\n",
    "plt.legend()\n",
    "plt.show()"
   ]
  },
  {
   "cell_type": "code",
   "execution_count": 14,
   "id": "aa411262",
   "metadata": {},
   "outputs": [
    {
     "ename": "NameError",
     "evalue": "name 'SEED' is not defined",
     "output_type": "error",
     "traceback": [
      "\u001b[1;31m---------------------------------------------------------------------------\u001b[0m",
      "\u001b[1;31mNameError\u001b[0m                                 Traceback (most recent call last)",
      "Cell \u001b[1;32mIn[14], line 1\u001b[0m\n\u001b[1;32m----> 1\u001b[0m pca \u001b[38;5;241m=\u001b[39m PCA(n_components\u001b[38;5;241m=\u001b[39m\u001b[38;5;241m2\u001b[39m, random_state\u001b[38;5;241m=\u001b[39mSEED)\u001b[38;5;241m.\u001b[39mfit_transform(x)\n\u001b[0;32m      2\u001b[0m plt\u001b[38;5;241m.\u001b[39mfigure(figsize\u001b[38;5;241m=\u001b[39m(\u001b[38;5;241m12\u001b[39m,\u001b[38;5;241m8\u001b[39m));\n\u001b[0;32m      3\u001b[0m plt\u001b[38;5;241m.\u001b[39mscatter(pca[np\u001b[38;5;241m.\u001b[39mwhere(y\u001b[38;5;241m==\u001b[39m\u001b[38;5;241m0\u001b[39m), \u001b[38;5;241m0\u001b[39m], y\u001b[38;5;241m=\u001b[39mpca[np\u001b[38;5;241m.\u001b[39mwhere(y\u001b[38;5;241m==\u001b[39m\u001b[38;5;241m0\u001b[39m), \u001b[38;5;241m1\u001b[39m], color\u001b[38;5;241m=\u001b[39m\u001b[38;5;124m\"\u001b[39m\u001b[38;5;124mblue\u001b[39m\u001b[38;5;124m\"\u001b[39m, label\u001b[38;5;241m=\u001b[39m\u001b[38;5;124m'\u001b[39m\u001b[38;5;124mNormal\u001b[39m\u001b[38;5;124m'\u001b[39m)\n",
      "\u001b[1;31mNameError\u001b[0m: name 'SEED' is not defined"
     ]
    }
   ],
   "source": [
    "pca = PCA(n_components=2, random_state=SEED).fit_transform(x)\n",
    "plt.figure(figsize=(12,8));\n",
    "plt.scatter(pca[np.where(y==0), 0], y=pca[np.where(y==0), 1], color=\"blue\", label='Normal')\n",
    "plt.scatter(x=pca[np.where(y==1), 0], y=pca[np.where(y==1), 1], color=\"red\", label='Fraud')\n",
    "plt.title('PCA Plot')\n",
    "plt.legend()\n",
    "plt.show()"
   ]
  },
  {
   "cell_type": "markdown",
   "id": "31a69585",
   "metadata": {},
   "source": [
    "#### Normalize the data"
   ]
  },
  {
   "cell_type": "code",
   "execution_count": 45,
   "id": "8e0631dd",
   "metadata": {},
   "outputs": [],
   "source": [
    "from sklearn.preprocessing import MinMaxScaler\n",
    "\n",
    "scaler = MinMaxScaler()\n",
    "\n",
    "scaler.fit_transform(X_train);\n",
    "scaler.transform(X_test);"
   ]
  },
  {
   "cell_type": "markdown",
   "id": "95e19b52",
   "metadata": {},
   "source": [
    "### Sparse AutoEncoder Model(L1)"
   ]
  },
  {
   "cell_type": "code",
   "execution_count": 46,
   "id": "10aafb4a",
   "metadata": {},
   "outputs": [],
   "source": [
    "input_dim = X_train.shape[1]\n",
    "\n",
    "input_layer = Input(shape=(input_dim, ))\n",
    "encoder = Dense(40, activation=\"elu\",activity_regularizer=regularizers.l1(10e-5))(input_layer)\n",
    "\n",
    "encoder = Dense(56, activation=\"elu\",activity_regularizer=regularizers.l1(10e-5))(encoder)\n",
    "\n",
    "decoder = Dense(40, activation='elu',activity_regularizer=regularizers.l1(10e-5))(encoder)\n",
    "decoder = Dense(input_dim, activation='elu')(decoder)\n",
    "autoencoder = Model(inputs=input_layer, outputs=decoder)"
   ]
  },
  {
   "cell_type": "code",
   "execution_count": 47,
   "id": "40a93f7c",
   "metadata": {},
   "outputs": [],
   "source": [
    "epochs = 100\n",
    "batch_size = 32\n",
    "autoencoder.compile(optimizer='adam', loss='mse', metrics=['accuracy'])\n",
    "checkpointer = ModelCheckpoint(filepath=\"fraudSpAE_L1.pth\", verbose=0, save_best_only=True)"
   ]
  },
  {
   "cell_type": "markdown",
   "id": "99bdb89e",
   "metadata": {},
   "source": [
    "### Training"
   ]
  },
  {
   "cell_type": "code",
   "execution_count": 48,
   "id": "c24d5c33",
   "metadata": {
    "scrolled": false
   },
   "outputs": [
    {
     "name": "stdout",
     "output_type": "stream",
     "text": [
      "Epoch 1/100\n",
      "5585/5598 [============================>.] - ETA: 0s - loss: 0.2926 - accuracy: 0.8833INFO:tensorflow:Assets written to: fraudSpAE_L1.pth\\assets\n"
     ]
    },
    {
     "name": "stderr",
     "output_type": "stream",
     "text": [
      "INFO:tensorflow:Assets written to: fraudSpAE_L1.pth\\assets\n"
     ]
    },
    {
     "name": "stdout",
     "output_type": "stream",
     "text": [
      "5598/5598 [==============================] - 33s 5ms/step - loss: 0.2924 - accuracy: 0.8834 - val_loss: 0.2414 - val_accuracy: 0.9238\n",
      "Epoch 2/100\n",
      "5597/5598 [============================>.] - ETA: 0s - loss: 0.2631 - accuracy: 0.9160INFO:tensorflow:Assets written to: fraudSpAE_L1.pth\\assets\n"
     ]
    },
    {
     "name": "stderr",
     "output_type": "stream",
     "text": [
      "INFO:tensorflow:Assets written to: fraudSpAE_L1.pth\\assets\n"
     ]
    },
    {
     "name": "stdout",
     "output_type": "stream",
     "text": [
      "5598/5598 [==============================] - 27s 5ms/step - loss: 0.2631 - accuracy: 0.9160 - val_loss: 0.2403 - val_accuracy: 0.9007\n",
      "Epoch 3/100\n",
      "5589/5598 [============================>.] - ETA: 0s - loss: 0.2605 - accuracy: 0.9145INFO:tensorflow:Assets written to: fraudSpAE_L1.pth\\assets\n"
     ]
    },
    {
     "name": "stderr",
     "output_type": "stream",
     "text": [
      "INFO:tensorflow:Assets written to: fraudSpAE_L1.pth\\assets\n"
     ]
    },
    {
     "name": "stdout",
     "output_type": "stream",
     "text": [
      "5598/5598 [==============================] - 26s 5ms/step - loss: 0.2603 - accuracy: 0.9144 - val_loss: 0.2365 - val_accuracy: 0.9135\n",
      "Epoch 4/100\n",
      "5587/5598 [============================>.] - ETA: 0s - loss: 0.2550 - accuracy: 0.9209INFO:tensorflow:Assets written to: fraudSpAE_L1.pth\\assets\n"
     ]
    },
    {
     "name": "stderr",
     "output_type": "stream",
     "text": [
      "INFO:tensorflow:Assets written to: fraudSpAE_L1.pth\\assets\n"
     ]
    },
    {
     "name": "stdout",
     "output_type": "stream",
     "text": [
      "5598/5598 [==============================] - 31s 6ms/step - loss: 0.2548 - accuracy: 0.9209 - val_loss: 0.2311 - val_accuracy: 0.9251\n",
      "Epoch 5/100\n",
      "5590/5598 [============================>.] - ETA: 0s - loss: 0.2534 - accuracy: 0.9188INFO:tensorflow:Assets written to: fraudSpAE_L1.pth\\assets\n"
     ]
    },
    {
     "name": "stderr",
     "output_type": "stream",
     "text": [
      "INFO:tensorflow:Assets written to: fraudSpAE_L1.pth\\assets\n"
     ]
    },
    {
     "name": "stdout",
     "output_type": "stream",
     "text": [
      "5598/5598 [==============================] - 26s 5ms/step - loss: 0.2533 - accuracy: 0.9188 - val_loss: 0.2294 - val_accuracy: 0.9211\n",
      "Epoch 6/100\n",
      "5579/5598 [============================>.] - ETA: 0s - loss: 0.2515 - accuracy: 0.9193INFO:tensorflow:Assets written to: fraudSpAE_L1.pth\\assets\n"
     ]
    },
    {
     "name": "stderr",
     "output_type": "stream",
     "text": [
      "INFO:tensorflow:Assets written to: fraudSpAE_L1.pth\\assets\n"
     ]
    },
    {
     "name": "stdout",
     "output_type": "stream",
     "text": [
      "5598/5598 [==============================] - 25s 5ms/step - loss: 0.2517 - accuracy: 0.9193 - val_loss: 0.2282 - val_accuracy: 0.9310\n",
      "Epoch 7/100\n",
      "5597/5598 [============================>.] - ETA: 0s - loss: 0.2499 - accuracy: 0.9203INFO:tensorflow:Assets written to: fraudSpAE_L1.pth\\assets\n"
     ]
    },
    {
     "name": "stderr",
     "output_type": "stream",
     "text": [
      "INFO:tensorflow:Assets written to: fraudSpAE_L1.pth\\assets\n"
     ]
    },
    {
     "name": "stdout",
     "output_type": "stream",
     "text": [
      "5598/5598 [==============================] - 26s 5ms/step - loss: 0.2499 - accuracy: 0.9203 - val_loss: 0.2264 - val_accuracy: 0.9187\n",
      "Epoch 8/100\n",
      "5582/5598 [============================>.] - ETA: 0s - loss: 0.2504 - accuracy: 0.9201INFO:tensorflow:Assets written to: fraudSpAE_L1.pth\\assets\n"
     ]
    },
    {
     "name": "stderr",
     "output_type": "stream",
     "text": [
      "INFO:tensorflow:Assets written to: fraudSpAE_L1.pth\\assets\n"
     ]
    },
    {
     "name": "stdout",
     "output_type": "stream",
     "text": [
      "5598/5598 [==============================] - 23s 4ms/step - loss: 0.2502 - accuracy: 0.9202 - val_loss: 0.2236 - val_accuracy: 0.9290\n",
      "Epoch 9/100\n",
      "5598/5598 [==============================] - 20s 4ms/step - loss: 0.2494 - accuracy: 0.9208 - val_loss: 0.2259 - val_accuracy: 0.9311\n",
      "Epoch 10/100\n",
      "5598/5598 [==============================] - 22s 4ms/step - loss: 0.2492 - accuracy: 0.9222 - val_loss: 0.2258 - val_accuracy: 0.9291\n",
      "Epoch 11/100\n",
      "5591/5598 [============================>.] - ETA: 0s - loss: 0.2489 - accuracy: 0.9230INFO:tensorflow:Assets written to: fraudSpAE_L1.pth\\assets\n"
     ]
    },
    {
     "name": "stderr",
     "output_type": "stream",
     "text": [
      "INFO:tensorflow:Assets written to: fraudSpAE_L1.pth\\assets\n"
     ]
    },
    {
     "name": "stdout",
     "output_type": "stream",
     "text": [
      "5598/5598 [==============================] - 26s 5ms/step - loss: 0.2487 - accuracy: 0.9230 - val_loss: 0.2230 - val_accuracy: 0.9375\n",
      "Epoch 12/100\n",
      "5581/5598 [============================>.] - ETA: 0s - loss: 0.2478 - accuracy: 0.9253INFO:tensorflow:Assets written to: fraudSpAE_L1.pth\\assets\n"
     ]
    },
    {
     "name": "stderr",
     "output_type": "stream",
     "text": [
      "INFO:tensorflow:Assets written to: fraudSpAE_L1.pth\\assets\n"
     ]
    },
    {
     "name": "stdout",
     "output_type": "stream",
     "text": [
      "5598/5598 [==============================] - 24s 4ms/step - loss: 0.2480 - accuracy: 0.9254 - val_loss: 0.2228 - val_accuracy: 0.9403\n",
      "Epoch 13/100\n",
      "5598/5598 [==============================] - 20s 4ms/step - loss: 0.2468 - accuracy: 0.9282 - val_loss: 0.2254 - val_accuracy: 0.9288\n",
      "Epoch 14/100\n",
      "5598/5598 [==============================] - ETA: 0s - loss: 0.2469 - accuracy: 0.9279INFO:tensorflow:Assets written to: fraudSpAE_L1.pth\\assets\n"
     ]
    },
    {
     "name": "stderr",
     "output_type": "stream",
     "text": [
      "INFO:tensorflow:Assets written to: fraudSpAE_L1.pth\\assets\n"
     ]
    },
    {
     "name": "stdout",
     "output_type": "stream",
     "text": [
      "5598/5598 [==============================] - 25s 4ms/step - loss: 0.2469 - accuracy: 0.9279 - val_loss: 0.2218 - val_accuracy: 0.9420\n",
      "Epoch 15/100\n",
      "5598/5598 [==============================] - 25s 4ms/step - loss: 0.2461 - accuracy: 0.9306 - val_loss: 0.2341 - val_accuracy: 0.9143\n",
      "Epoch 16/100\n",
      "5580/5598 [============================>.] - ETA: 0s - loss: 0.2462 - accuracy: 0.9314INFO:tensorflow:Assets written to: fraudSpAE_L1.pth\\assets\n"
     ]
    },
    {
     "name": "stderr",
     "output_type": "stream",
     "text": [
      "INFO:tensorflow:Assets written to: fraudSpAE_L1.pth\\assets\n"
     ]
    },
    {
     "name": "stdout",
     "output_type": "stream",
     "text": [
      "5598/5598 [==============================] - 24s 4ms/step - loss: 0.2461 - accuracy: 0.9314 - val_loss: 0.2210 - val_accuracy: 0.9440\n",
      "Epoch 17/100\n",
      "5598/5598 [==============================] - 21s 4ms/step - loss: 0.2456 - accuracy: 0.9321 - val_loss: 0.2225 - val_accuracy: 0.9370\n",
      "Epoch 18/100\n",
      "5598/5598 [==============================] - ETA: 0s - loss: 0.2455 - accuracy: 0.9342INFO:tensorflow:Assets written to: fraudSpAE_L1.pth\\assets\n"
     ]
    },
    {
     "name": "stderr",
     "output_type": "stream",
     "text": [
      "INFO:tensorflow:Assets written to: fraudSpAE_L1.pth\\assets\n"
     ]
    },
    {
     "name": "stdout",
     "output_type": "stream",
     "text": [
      "5598/5598 [==============================] - 27s 5ms/step - loss: 0.2455 - accuracy: 0.9342 - val_loss: 0.2208 - val_accuracy: 0.9450\n",
      "Epoch 19/100\n",
      "5598/5598 [==============================] - 22s 4ms/step - loss: 0.2464 - accuracy: 0.9334 - val_loss: 0.2246 - val_accuracy: 0.9183\n",
      "Epoch 20/100\n",
      "5598/5598 [==============================] - 21s 4ms/step - loss: 0.2463 - accuracy: 0.9332 - val_loss: 0.2226 - val_accuracy: 0.9393\n",
      "Epoch 21/100\n",
      "5597/5598 [============================>.] - ETA: 0s - loss: 0.2449 - accuracy: 0.9376INFO:tensorflow:Assets written to: fraudSpAE_L1.pth\\assets\n"
     ]
    },
    {
     "name": "stderr",
     "output_type": "stream",
     "text": [
      "INFO:tensorflow:Assets written to: fraudSpAE_L1.pth\\assets\n"
     ]
    },
    {
     "name": "stdout",
     "output_type": "stream",
     "text": [
      "5598/5598 [==============================] - 26s 5ms/step - loss: 0.2449 - accuracy: 0.9376 - val_loss: 0.2206 - val_accuracy: 0.9409\n",
      "Epoch 22/100\n",
      "5598/5598 [==============================] - 27s 5ms/step - loss: 0.2445 - accuracy: 0.9380 - val_loss: 0.2272 - val_accuracy: 0.9288\n",
      "Epoch 23/100\n",
      "5598/5598 [==============================] - 30s 5ms/step - loss: 0.2450 - accuracy: 0.9358 - val_loss: 0.2280 - val_accuracy: 0.9112\n",
      "Epoch 24/100\n",
      "5598/5598 [==============================] - 22s 4ms/step - loss: 0.2444 - accuracy: 0.9384 - val_loss: 0.2230 - val_accuracy: 0.9305\n",
      "Epoch 25/100\n",
      "5592/5598 [============================>.] - ETA: 0s - loss: 0.2443 - accuracy: 0.9381INFO:tensorflow:Assets written to: fraudSpAE_L1.pth\\assets\n"
     ]
    },
    {
     "name": "stderr",
     "output_type": "stream",
     "text": [
      "INFO:tensorflow:Assets written to: fraudSpAE_L1.pth\\assets\n"
     ]
    },
    {
     "name": "stdout",
     "output_type": "stream",
     "text": [
      "5598/5598 [==============================] - 29s 5ms/step - loss: 0.2446 - accuracy: 0.9381 - val_loss: 0.2204 - val_accuracy: 0.9426\n",
      "Epoch 26/100\n",
      "5592/5598 [============================>.] - ETA: 0s - loss: 0.2442 - accuracy: 0.9398INFO:tensorflow:Assets written to: fraudSpAE_L1.pth\\assets\n"
     ]
    },
    {
     "name": "stderr",
     "output_type": "stream",
     "text": [
      "INFO:tensorflow:Assets written to: fraudSpAE_L1.pth\\assets\n"
     ]
    },
    {
     "name": "stdout",
     "output_type": "stream",
     "text": [
      "5598/5598 [==============================] - 27s 5ms/step - loss: 0.2441 - accuracy: 0.9398 - val_loss: 0.2196 - val_accuracy: 0.9509\n",
      "Epoch 27/100\n",
      "5598/5598 [==============================] - 23s 4ms/step - loss: 0.2442 - accuracy: 0.9395 - val_loss: 0.2211 - val_accuracy: 0.9407\n",
      "Epoch 28/100\n",
      "5598/5598 [==============================] - 22s 4ms/step - loss: 0.2447 - accuracy: 0.9375 - val_loss: 0.2245 - val_accuracy: 0.9263\n",
      "Epoch 29/100\n",
      "5598/5598 [==============================] - 21s 4ms/step - loss: 0.2440 - accuracy: 0.9392 - val_loss: 0.2255 - val_accuracy: 0.9256\n",
      "Epoch 30/100\n",
      "5598/5598 [==============================] - 24s 4ms/step - loss: 0.2437 - accuracy: 0.9399 - val_loss: 0.2239 - val_accuracy: 0.9285\n",
      "Epoch 31/100\n",
      "5597/5598 [============================>.] - ETA: 0s - loss: 0.2438 - accuracy: 0.9404INFO:tensorflow:Assets written to: fraudSpAE_L1.pth\\assets\n"
     ]
    },
    {
     "name": "stderr",
     "output_type": "stream",
     "text": [
      "INFO:tensorflow:Assets written to: fraudSpAE_L1.pth\\assets\n"
     ]
    },
    {
     "name": "stdout",
     "output_type": "stream",
     "text": [
      "5598/5598 [==============================] - 24s 4ms/step - loss: 0.2438 - accuracy: 0.9404 - val_loss: 0.2191 - val_accuracy: 0.9539\n",
      "Epoch 32/100\n",
      "5598/5598 [==============================] - 22s 4ms/step - loss: 0.2440 - accuracy: 0.9409 - val_loss: 0.2323 - val_accuracy: 0.9060\n",
      "Epoch 33/100\n",
      "5598/5598 [==============================] - 25s 5ms/step - loss: 0.2439 - accuracy: 0.9405 - val_loss: 0.2205 - val_accuracy: 0.9481\n",
      "Epoch 34/100\n",
      "5598/5598 [==============================] - 25s 4ms/step - loss: 0.2431 - accuracy: 0.9427 - val_loss: 0.2257 - val_accuracy: 0.9280\n",
      "Epoch 35/100\n",
      "5580/5598 [============================>.] - ETA: 0s - loss: 0.2433 - accuracy: 0.9418INFO:tensorflow:Assets written to: fraudSpAE_L1.pth\\assets\n"
     ]
    },
    {
     "name": "stderr",
     "output_type": "stream",
     "text": [
      "INFO:tensorflow:Assets written to: fraudSpAE_L1.pth\\assets\n"
     ]
    },
    {
     "name": "stdout",
     "output_type": "stream",
     "text": [
      "5598/5598 [==============================] - 26s 5ms/step - loss: 0.2430 - accuracy: 0.9418 - val_loss: 0.2189 - val_accuracy: 0.9510\n",
      "Epoch 36/100\n",
      "5598/5598 [==============================] - 25s 4ms/step - loss: 0.2438 - accuracy: 0.9402 - val_loss: 0.2203 - val_accuracy: 0.9532\n",
      "Epoch 37/100\n",
      "5583/5598 [============================>.] - ETA: 0s - loss: 0.2437 - accuracy: 0.9417INFO:tensorflow:Assets written to: fraudSpAE_L1.pth\\assets\n"
     ]
    },
    {
     "name": "stderr",
     "output_type": "stream",
     "text": [
      "INFO:tensorflow:Assets written to: fraudSpAE_L1.pth\\assets\n"
     ]
    },
    {
     "name": "stdout",
     "output_type": "stream",
     "text": [
      "5598/5598 [==============================] - 27s 5ms/step - loss: 0.2434 - accuracy: 0.9417 - val_loss: 0.2185 - val_accuracy: 0.9448\n",
      "Epoch 38/100\n",
      "5598/5598 [==============================] - 22s 4ms/step - loss: 0.2434 - accuracy: 0.9411 - val_loss: 0.2214 - val_accuracy: 0.9412\n",
      "Epoch 39/100\n",
      "5598/5598 [==============================] - 24s 4ms/step - loss: 0.2436 - accuracy: 0.9412 - val_loss: 0.2192 - val_accuracy: 0.9558\n",
      "Epoch 40/100\n",
      "5598/5598 [==============================] - 23s 4ms/step - loss: 0.2426 - accuracy: 0.9443 - val_loss: 0.2269 - val_accuracy: 0.9157\n",
      "Epoch 41/100\n",
      "5598/5598 [==============================] - 22s 4ms/step - loss: 0.2431 - accuracy: 0.9426 - val_loss: 0.2228 - val_accuracy: 0.9420\n",
      "Epoch 42/100\n",
      "5598/5598 [==============================] - 26s 5ms/step - loss: 0.2428 - accuracy: 0.9441 - val_loss: 0.2186 - val_accuracy: 0.9552\n",
      "Epoch 43/100\n",
      "5598/5598 [==============================] - 24s 4ms/step - loss: 0.2430 - accuracy: 0.9438 - val_loss: 0.2207 - val_accuracy: 0.9401\n",
      "Epoch 44/100\n",
      "5598/5598 [==============================] - 20s 4ms/step - loss: 0.2430 - accuracy: 0.9440 - val_loss: 0.2204 - val_accuracy: 0.9432\n",
      "Epoch 45/100\n",
      "5598/5598 [==============================] - 18s 3ms/step - loss: 0.2424 - accuracy: 0.9468 - val_loss: 0.2209 - val_accuracy: 0.9387\n",
      "Epoch 46/100\n",
      "5598/5598 [==============================] - 19s 3ms/step - loss: 0.2431 - accuracy: 0.9443 - val_loss: 0.2203 - val_accuracy: 0.9368\n",
      "Epoch 47/100\n",
      "5598/5598 [==============================] - 22s 4ms/step - loss: 0.2424 - accuracy: 0.9455 - val_loss: 0.2217 - val_accuracy: 0.9277\n",
      "Epoch 48/100\n",
      "5595/5598 [============================>.] - ETA: 0s - loss: 0.2429 - accuracy: 0.9448INFO:tensorflow:Assets written to: fraudSpAE_L1.pth\\assets\n"
     ]
    },
    {
     "name": "stderr",
     "output_type": "stream",
     "text": [
      "INFO:tensorflow:Assets written to: fraudSpAE_L1.pth\\assets\n"
     ]
    },
    {
     "name": "stdout",
     "output_type": "stream",
     "text": [
      "5598/5598 [==============================] - 26s 5ms/step - loss: 0.2429 - accuracy: 0.9448 - val_loss: 0.2180 - val_accuracy: 0.9563\n",
      "Epoch 49/100\n",
      "5598/5598 [==============================] - 22s 4ms/step - loss: 0.2428 - accuracy: 0.9438 - val_loss: 0.2195 - val_accuracy: 0.9394\n",
      "Epoch 50/100\n",
      "5598/5598 [==============================] - 23s 4ms/step - loss: 0.2422 - accuracy: 0.9450 - val_loss: 0.2195 - val_accuracy: 0.9553\n",
      "Epoch 51/100\n",
      "5598/5598 [==============================] - 23s 4ms/step - loss: 0.2428 - accuracy: 0.9437 - val_loss: 0.2186 - val_accuracy: 0.9547\n",
      "Epoch 52/100\n",
      "5587/5598 [============================>.] - ETA: 0s - loss: 0.2427 - accuracy: 0.9448INFO:tensorflow:Assets written to: fraudSpAE_L1.pth\\assets\n"
     ]
    },
    {
     "name": "stderr",
     "output_type": "stream",
     "text": [
      "INFO:tensorflow:Assets written to: fraudSpAE_L1.pth\\assets\n"
     ]
    },
    {
     "name": "stdout",
     "output_type": "stream",
     "text": [
      "5598/5598 [==============================] - 24s 4ms/step - loss: 0.2425 - accuracy: 0.9448 - val_loss: 0.2180 - val_accuracy: 0.9577\n",
      "Epoch 53/100\n",
      "5598/5598 [==============================] - 23s 4ms/step - loss: 0.2419 - accuracy: 0.9465 - val_loss: 0.2205 - val_accuracy: 0.9445\n",
      "Epoch 54/100\n",
      "5598/5598 [==============================] - ETA: 0s - loss: 0.2423 - accuracy: 0.9455INFO:tensorflow:Assets written to: fraudSpAE_L1.pth\\assets\n"
     ]
    },
    {
     "name": "stderr",
     "output_type": "stream",
     "text": [
      "INFO:tensorflow:Assets written to: fraudSpAE_L1.pth\\assets\n"
     ]
    },
    {
     "name": "stdout",
     "output_type": "stream",
     "text": [
      "5598/5598 [==============================] - 26s 5ms/step - loss: 0.2423 - accuracy: 0.9455 - val_loss: 0.2179 - val_accuracy: 0.9526\n",
      "Epoch 55/100\n",
      "5589/5598 [============================>.] - ETA: 0s - loss: 0.2428 - accuracy: 0.9442INFO:tensorflow:Assets written to: fraudSpAE_L1.pth\\assets\n"
     ]
    },
    {
     "name": "stderr",
     "output_type": "stream",
     "text": [
      "INFO:tensorflow:Assets written to: fraudSpAE_L1.pth\\assets\n"
     ]
    },
    {
     "name": "stdout",
     "output_type": "stream",
     "text": [
      "5598/5598 [==============================] - 26s 5ms/step - loss: 0.2427 - accuracy: 0.9442 - val_loss: 0.2177 - val_accuracy: 0.9517\n",
      "Epoch 56/100\n",
      "5598/5598 [==============================] - 24s 4ms/step - loss: 0.2419 - accuracy: 0.9473 - val_loss: 0.2181 - val_accuracy: 0.9513\n",
      "Epoch 57/100\n",
      "5598/5598 [==============================] - 23s 4ms/step - loss: 0.2417 - accuracy: 0.9473 - val_loss: 0.2190 - val_accuracy: 0.9478\n",
      "Epoch 58/100\n",
      "5598/5598 [==============================] - 23s 4ms/step - loss: 0.2421 - accuracy: 0.9451 - val_loss: 0.2261 - val_accuracy: 0.9278\n",
      "Epoch 59/100\n",
      "5598/5598 [==============================] - 23s 4ms/step - loss: 0.2422 - accuracy: 0.9460 - val_loss: 0.2201 - val_accuracy: 0.9424\n",
      "Epoch 60/100\n",
      "5598/5598 [==============================] - 25s 4ms/step - loss: 0.2431 - accuracy: 0.9447 - val_loss: 0.2209 - val_accuracy: 0.9410\n",
      "Epoch 61/100\n",
      "5589/5598 [============================>.] - ETA: 0s - loss: 0.2414 - accuracy: 0.9485INFO:tensorflow:Assets written to: fraudSpAE_L1.pth\\assets\n"
     ]
    },
    {
     "name": "stderr",
     "output_type": "stream",
     "text": [
      "INFO:tensorflow:Assets written to: fraudSpAE_L1.pth\\assets\n"
     ]
    },
    {
     "name": "stdout",
     "output_type": "stream",
     "text": [
      "5598/5598 [==============================] - 27s 5ms/step - loss: 0.2414 - accuracy: 0.9485 - val_loss: 0.2175 - val_accuracy: 0.9568\n",
      "Epoch 62/100\n",
      "5593/5598 [============================>.] - ETA: 0s - loss: 0.2418 - accuracy: 0.9472INFO:tensorflow:Assets written to: fraudSpAE_L1.pth\\assets\n"
     ]
    },
    {
     "name": "stderr",
     "output_type": "stream",
     "text": [
      "INFO:tensorflow:Assets written to: fraudSpAE_L1.pth\\assets\n"
     ]
    },
    {
     "name": "stdout",
     "output_type": "stream",
     "text": [
      "5598/5598 [==============================] - 31s 5ms/step - loss: 0.2417 - accuracy: 0.9473 - val_loss: 0.2174 - val_accuracy: 0.9562\n",
      "Epoch 63/100\n",
      "5598/5598 [==============================] - 24s 4ms/step - loss: 0.2417 - accuracy: 0.9474 - val_loss: 0.2178 - val_accuracy: 0.9526\n",
      "Epoch 64/100\n",
      "5598/5598 [==============================] - 24s 4ms/step - loss: 0.2415 - accuracy: 0.9476 - val_loss: 0.2195 - val_accuracy: 0.9413\n",
      "Epoch 65/100\n",
      "5587/5598 [============================>.] - ETA: 0s - loss: 0.2423 - accuracy: 0.9469INFO:tensorflow:Assets written to: fraudSpAE_L1.pth\\assets\n"
     ]
    },
    {
     "name": "stderr",
     "output_type": "stream",
     "text": [
      "INFO:tensorflow:Assets written to: fraudSpAE_L1.pth\\assets\n"
     ]
    },
    {
     "name": "stdout",
     "output_type": "stream",
     "text": [
      "5598/5598 [==============================] - 25s 5ms/step - loss: 0.2421 - accuracy: 0.9470 - val_loss: 0.2173 - val_accuracy: 0.9531\n",
      "Epoch 66/100\n",
      "5598/5598 [==============================] - 24s 4ms/step - loss: 0.2413 - accuracy: 0.9487 - val_loss: 0.2223 - val_accuracy: 0.9451\n",
      "Epoch 67/100\n",
      "5598/5598 [==============================] - 22s 4ms/step - loss: 0.2414 - accuracy: 0.9507 - val_loss: 0.2179 - val_accuracy: 0.9560\n",
      "Epoch 68/100\n",
      "5598/5598 [==============================] - 23s 4ms/step - loss: 0.2412 - accuracy: 0.9489 - val_loss: 0.2181 - val_accuracy: 0.9503\n",
      "Epoch 69/100\n",
      "5598/5598 [==============================] - 24s 4ms/step - loss: 0.2415 - accuracy: 0.9497 - val_loss: 0.2177 - val_accuracy: 0.9581\n",
      "Epoch 70/100\n",
      "5598/5598 [==============================] - 23s 4ms/step - loss: 0.2415 - accuracy: 0.9498 - val_loss: 0.2174 - val_accuracy: 0.9550\n",
      "Epoch 71/100\n",
      "5598/5598 [==============================] - 20s 4ms/step - loss: 0.2412 - accuracy: 0.9500 - val_loss: 0.2193 - val_accuracy: 0.9550\n",
      "Epoch 72/100\n",
      "5598/5598 [==============================] - 21s 4ms/step - loss: 0.2414 - accuracy: 0.9501 - val_loss: 0.2182 - val_accuracy: 0.9557\n",
      "Epoch 73/100\n",
      "5581/5598 [============================>.] - ETA: 0s - loss: 0.2420 - accuracy: 0.9483INFO:tensorflow:Assets written to: fraudSpAE_L1.pth\\assets\n"
     ]
    },
    {
     "name": "stderr",
     "output_type": "stream",
     "text": [
      "INFO:tensorflow:Assets written to: fraudSpAE_L1.pth\\assets\n"
     ]
    },
    {
     "name": "stdout",
     "output_type": "stream",
     "text": [
      "5598/5598 [==============================] - 23s 4ms/step - loss: 0.2418 - accuracy: 0.9483 - val_loss: 0.2171 - val_accuracy: 0.9613\n",
      "Epoch 74/100\n",
      "5598/5598 [==============================] - 19s 3ms/step - loss: 0.2413 - accuracy: 0.9498 - val_loss: 0.2185 - val_accuracy: 0.9426\n",
      "Epoch 75/100\n",
      "5598/5598 [==============================] - 20s 4ms/step - loss: 0.2415 - accuracy: 0.9503 - val_loss: 0.2180 - val_accuracy: 0.9524\n",
      "Epoch 76/100\n",
      "5584/5598 [============================>.] - ETA: 0s - loss: 0.2415 - accuracy: 0.9502INFO:tensorflow:Assets written to: fraudSpAE_L1.pth\\assets\n"
     ]
    },
    {
     "name": "stderr",
     "output_type": "stream",
     "text": [
      "INFO:tensorflow:Assets written to: fraudSpAE_L1.pth\\assets\n"
     ]
    },
    {
     "name": "stdout",
     "output_type": "stream",
     "text": [
      "5598/5598 [==============================] - 22s 4ms/step - loss: 0.2413 - accuracy: 0.9502 - val_loss: 0.2171 - val_accuracy: 0.9617\n",
      "Epoch 77/100\n",
      "5598/5598 [==============================] - 21s 4ms/step - loss: 0.2414 - accuracy: 0.9511 - val_loss: 0.2194 - val_accuracy: 0.9532\n",
      "Epoch 78/100\n",
      "5598/5598 [==============================] - 19s 3ms/step - loss: 0.2408 - accuracy: 0.9525 - val_loss: 0.2234 - val_accuracy: 0.9296\n",
      "Epoch 79/100\n",
      "5598/5598 [==============================] - 22s 4ms/step - loss: 0.2418 - accuracy: 0.9502 - val_loss: 0.2183 - val_accuracy: 0.9569\n",
      "Epoch 80/100\n",
      "5598/5598 [==============================] - 21s 4ms/step - loss: 0.2410 - accuracy: 0.9511 - val_loss: 0.2172 - val_accuracy: 0.9613\n",
      "Epoch 81/100\n",
      "5598/5598 [==============================] - 24s 4ms/step - loss: 0.2415 - accuracy: 0.9507 - val_loss: 0.2171 - val_accuracy: 0.9578\n",
      "Epoch 82/100\n",
      "5598/5598 [==============================] - 21s 4ms/step - loss: 0.2415 - accuracy: 0.9508 - val_loss: 0.2174 - val_accuracy: 0.9599\n",
      "Epoch 83/100\n",
      "5598/5598 [==============================] - 22s 4ms/step - loss: 0.2413 - accuracy: 0.9519 - val_loss: 0.2192 - val_accuracy: 0.9482\n",
      "Epoch 84/100\n",
      "5586/5598 [============================>.] - ETA: 0s - loss: 0.2411 - accuracy: 0.9536INFO:tensorflow:Assets written to: fraudSpAE_L1.pth\\assets\n"
     ]
    },
    {
     "name": "stderr",
     "output_type": "stream",
     "text": [
      "INFO:tensorflow:Assets written to: fraudSpAE_L1.pth\\assets\n"
     ]
    },
    {
     "name": "stdout",
     "output_type": "stream",
     "text": [
      "5598/5598 [==============================] - 27s 5ms/step - loss: 0.2409 - accuracy: 0.9536 - val_loss: 0.2168 - val_accuracy: 0.9625\n",
      "Epoch 85/100\n",
      "5598/5598 [==============================] - 21s 4ms/step - loss: 0.2415 - accuracy: 0.9510 - val_loss: 0.2206 - val_accuracy: 0.9468\n",
      "Epoch 86/100\n",
      "5598/5598 [==============================] - 24s 4ms/step - loss: 0.2408 - accuracy: 0.9526 - val_loss: 0.2173 - val_accuracy: 0.9613\n",
      "Epoch 87/100\n",
      "5598/5598 [==============================] - 20s 4ms/step - loss: 0.2412 - accuracy: 0.9515 - val_loss: 0.2193 - val_accuracy: 0.9510\n",
      "Epoch 88/100\n",
      "5598/5598 [==============================] - 20s 4ms/step - loss: 0.2415 - accuracy: 0.9521 - val_loss: 0.2182 - val_accuracy: 0.9569\n",
      "Epoch 89/100\n",
      "5598/5598 [==============================] - 25s 4ms/step - loss: 0.2412 - accuracy: 0.9536 - val_loss: 0.2169 - val_accuracy: 0.9552\n",
      "Epoch 90/100\n",
      "5598/5598 [==============================] - 22s 4ms/step - loss: 0.2410 - accuracy: 0.9533 - val_loss: 0.2184 - val_accuracy: 0.9510\n",
      "Epoch 91/100\n",
      "5598/5598 [==============================] - 22s 4ms/step - loss: 0.2409 - accuracy: 0.9521 - val_loss: 0.2177 - val_accuracy: 0.9506\n",
      "Epoch 92/100\n",
      "5598/5598 [==============================] - 20s 4ms/step - loss: 0.2410 - accuracy: 0.9529 - val_loss: 0.2200 - val_accuracy: 0.9475\n",
      "Epoch 93/100\n",
      "5598/5598 [==============================] - 21s 4ms/step - loss: 0.2407 - accuracy: 0.9538 - val_loss: 0.2175 - val_accuracy: 0.9604\n",
      "Epoch 94/100\n",
      "5598/5598 [==============================] - 21s 4ms/step - loss: 0.2412 - accuracy: 0.9521 - val_loss: 0.2242 - val_accuracy: 0.9368\n",
      "Epoch 95/100\n",
      "5598/5598 [==============================] - 20s 4ms/step - loss: 0.2412 - accuracy: 0.9529 - val_loss: 0.2175 - val_accuracy: 0.9611\n",
      "Epoch 96/100\n",
      "5595/5598 [============================>.] - ETA: 0s - loss: 0.2410 - accuracy: 0.9533INFO:tensorflow:Assets written to: fraudSpAE_L1.pth\\assets\n"
     ]
    },
    {
     "name": "stderr",
     "output_type": "stream",
     "text": [
      "INFO:tensorflow:Assets written to: fraudSpAE_L1.pth\\assets\n"
     ]
    },
    {
     "name": "stdout",
     "output_type": "stream",
     "text": [
      "5598/5598 [==============================] - 22s 4ms/step - loss: 0.2410 - accuracy: 0.9533 - val_loss: 0.2166 - val_accuracy: 0.9618\n",
      "Epoch 97/100\n",
      "5598/5598 [==============================] - 20s 4ms/step - loss: 0.2410 - accuracy: 0.9533 - val_loss: 0.2173 - val_accuracy: 0.9601\n",
      "Epoch 98/100\n",
      "5581/5598 [============================>.] - ETA: 0s - loss: 0.2408 - accuracy: 0.9541INFO:tensorflow:Assets written to: fraudSpAE_L1.pth\\assets\n"
     ]
    },
    {
     "name": "stderr",
     "output_type": "stream",
     "text": [
      "INFO:tensorflow:Assets written to: fraudSpAE_L1.pth\\assets\n"
     ]
    },
    {
     "name": "stdout",
     "output_type": "stream",
     "text": [
      "5598/5598 [==============================] - 23s 4ms/step - loss: 0.2406 - accuracy: 0.9541 - val_loss: 0.2165 - val_accuracy: 0.9670\n",
      "Epoch 99/100\n",
      "5598/5598 [==============================] - 20s 4ms/step - loss: 0.2406 - accuracy: 0.9548 - val_loss: 0.2172 - val_accuracy: 0.9608\n",
      "Epoch 100/100\n",
      "5598/5598 [==============================] - 19s 3ms/step - loss: 0.2409 - accuracy: 0.9539 - val_loss: 0.2192 - val_accuracy: 0.9500\n"
     ]
    }
   ],
   "source": [
    "history = autoencoder.fit(np.array(X_train), np.array(X_train),\n",
    "                    epochs=epochs,\n",
    "                    batch_size=batch_size,\n",
    "                    shuffle=True,\n",
    "                    validation_split=0.1,\n",
    "                    callbacks=[checkpointer]).history"
   ]
  },
  {
   "cell_type": "code",
   "execution_count": 49,
   "id": "70cc9a1b",
   "metadata": {},
   "outputs": [
    {
     "data": {
      "image/png": "[encoded data removed]",
      "text/plain": [
       "<Figure size 640x480 with 1 Axes>"
      ]
     },
     "metadata": {},
     "output_type": "display_data"
    }
   ],
   "source": [
    "plt.plot(history['loss'])\n",
    "plt.plot(history['val_loss'])\n",
    "plt.title('model loss')\n",
    "plt.ylabel('loss')\n",
    "plt.xlabel('epoch')\n",
    "plt.legend(['train', 'test'], loc='upper right');"
   ]
  },
  {
   "cell_type": "markdown",
   "id": "9812b662",
   "metadata": {},
   "source": [
    "### Test"
   ]
  },
  {
   "cell_type": "code",
   "execution_count": 50,
   "id": "099b2851",
   "metadata": {},
   "outputs": [],
   "source": [
    "autoencoder = load_model('fraudSpAE_L1.pth')"
   ]
  },
  {
   "cell_type": "code",
   "execution_count": 51,
   "id": "ac2e5cde",
   "metadata": {},
   "outputs": [
    {
     "name": "stdout",
     "output_type": "stream",
     "text": [
      "2671/2671 [==============================] - 7s 2ms/step\n"
     ]
    },
    {
     "data": {
      "text/html": [
       "<div>\n",
       "<style scoped>\n",
       "    .dataframe tbody tr th:only-of-type {\n",
       "        vertical-align: middle;\n",
       "    }\n",
       "\n",
       "    .dataframe tbody tr th {\n",
       "        vertical-align: top;\n",
       "    }\n",
       "\n",
       "    .dataframe thead th {\n",
       "        text-align: right;\n",
       "    }\n",
       "</style>\n",
       "<table border=\"1\" class=\"dataframe\">\n",
       "  <thead>\n",
       "    <tr style=\"text-align: right;\">\n",
       "      <th></th>\n",
       "      <th>reconstruction_error</th>\n",
       "      <th>true_class</th>\n",
       "    </tr>\n",
       "  </thead>\n",
       "  <tbody>\n",
       "    <tr>\n",
       "      <th>count</th>\n",
       "      <td>85443.000000</td>\n",
       "      <td>85443.00000</td>\n",
       "    </tr>\n",
       "    <tr>\n",
       "      <th>mean</th>\n",
       "      <td>0.259113</td>\n",
       "      <td>0.00165</td>\n",
       "    </tr>\n",
       "    <tr>\n",
       "      <th>std</th>\n",
       "      <td>2.965597</td>\n",
       "      <td>0.04059</td>\n",
       "    </tr>\n",
       "    <tr>\n",
       "      <th>min</th>\n",
       "      <td>0.000070</td>\n",
       "      <td>0.00000</td>\n",
       "    </tr>\n",
       "    <tr>\n",
       "      <th>25%</th>\n",
       "      <td>0.004801</td>\n",
       "      <td>0.00000</td>\n",
       "    </tr>\n",
       "    <tr>\n",
       "      <th>50%</th>\n",
       "      <td>0.028143</td>\n",
       "      <td>0.00000</td>\n",
       "    </tr>\n",
       "    <tr>\n",
       "      <th>75%</th>\n",
       "      <td>0.092230</td>\n",
       "      <td>0.00000</td>\n",
       "    </tr>\n",
       "    <tr>\n",
       "      <th>max</th>\n",
       "      <td>342.188955</td>\n",
       "      <td>1.00000</td>\n",
       "    </tr>\n",
       "  </tbody>\n",
       "</table>\n",
       "</div>"
      ],
      "text/plain": [
       "       reconstruction_error   true_class\n",
       "count          85443.000000  85443.00000\n",
       "mean               0.259113      0.00165\n",
       "std                2.965597      0.04059\n",
       "min                0.000070      0.00000\n",
       "25%                0.004801      0.00000\n",
       "50%                0.028143      0.00000\n",
       "75%                0.092230      0.00000\n",
       "max              342.188955      1.00000"
      ]
     },
     "execution_count": 51,
     "metadata": {},
     "output_type": "execute_result"
    }
   ],
   "source": [
    "predictions = autoencoder.predict(X_test)\n",
    "mse = np.mean(np.power(X_test - predictions, 2), axis=1)\n",
    "error_df = pd.DataFrame({'reconstruction_error': mse,\n",
    "                        'true_class': y_test})\n",
    "error_df.describe()"
   ]
  },
  {
   "cell_type": "code",
   "execution_count": 52,
   "id": "4da1351d",
   "metadata": {},
   "outputs": [],
   "source": [
    "threshold = 2.9"
   ]
  },
  {
   "cell_type": "code",
   "execution_count": 53,
   "id": "79018bfb",
   "metadata": {},
   "outputs": [
    {
     "data": {
      "image/png": "[encoded data removed]",
      "text/plain": [
       "<Figure size 640x480 with 1 Axes>"
      ]
     },
     "metadata": {},
     "output_type": "display_data"
    }
   ],
   "source": [
    "groups = error_df.groupby('true_class')\n",
    "fig, ax = plt.subplots()\n",
    "\n",
    "for name, group in groups:\n",
    "    ax.plot(group.index, group.reconstruction_error, marker='o', ms=3.5, linestyle='',\n",
    "            label= \"Fraud\" if name == 1 else \"Normal\")\n",
    "ax.hlines(threshold, ax.get_xlim()[0], ax.get_xlim()[1], colors=\"r\", zorder=100, label='Threshold')\n",
    "ax.legend()\n",
    "plt.title(\"Reconstruction error for different classes\")\n",
    "plt.ylabel(\"Reconstruction error\")\n",
    "plt.xlabel(\"Data point index\")\n",
    "plt.show();"
   ]
  },
  {
   "cell_type": "code",
   "execution_count": 54,
   "id": "a97a4779",
   "metadata": {
    "scrolled": true
   },
   "outputs": [
    {
     "data": {
      "image/png": "[encoded data removed]",
      "text/plain": [
       "<Figure size 1200x1200 with 2 Axes>"
      ]
     },
     "metadata": {},
     "output_type": "display_data"
    }
   ],
   "source": [
    "from sklearn.metrics import classification_report, confusion_matrix, ConfusionMatrixDisplay\n",
    "LABELS = ['Normal','Fraud']\n",
    "\n",
    "y_pred = [1 if e > threshold else 0 for e in error_df.reconstruction_error.values]\n",
    "conf_matrix = confusion_matrix(error_df.true_class, y_pred)\n",
    "plt.figure(figsize=(12, 12))\n",
    "sns.heatmap(conf_matrix, xticklabels=LABELS, yticklabels=LABELS, annot=True, fmt=\"d\");\n",
    "plt.title(\"Confusion matrix\")\n",
    "plt.ylabel('True class')\n",
    "plt.xlabel('Predicted class')\n",
    "plt.show()"
   ]
  },
  {
   "cell_type": "markdown",
   "id": "78da0e18",
   "metadata": {},
   "source": [
    "### Visualize the latent space"
   ]
  },
  {
   "cell_type": "code",
   "execution_count": 55,
   "id": "e8f06329",
   "metadata": {},
   "outputs": [],
   "source": [
    "inp_layer = autoencoder.input\n",
    "out_layer = autoencoder.layers[2].output\n",
    "\n",
    "encoder = Model(inputs=inp_layer, outputs=out_layer)"
   ]
  },
  {
   "cell_type": "code",
   "execution_count": 56,
   "id": "3ef81e12",
   "metadata": {},
   "outputs": [
    {
     "name": "stdout",
     "output_type": "stream",
     "text": [
      "Model: \"model_3\"\n",
      "_________________________________________________________________\n",
      " Layer (type)                Output Shape              Param #   \n",
      "=================================================================\n",
      " input_2 (InputLayer)        [(None, 28)]              0         \n",
      "                                                                 \n",
      " dense_4 (Dense)             (None, 40)                1160      \n",
      "                                                                 \n",
      " dense_5 (Dense)             (None, 56)                2296      \n",
      "                                                                 \n",
      "=================================================================\n",
      "Total params: 3456 (13.50 KB)\n",
      "Trainable params: 3456 (13.50 KB)\n",
      "Non-trainable params: 0 (0.00 Byte)\n",
      "_________________________________________________________________\n"
     ]
    }
   ],
   "source": [
    "encoder.summary()"
   ]
  },
  {
   "cell_type": "code",
   "execution_count": 57,
   "id": "4b500111",
   "metadata": {},
   "outputs": [
    {
     "name": "stdout",
     "output_type": "stream",
     "text": [
      "2671/2671 [==============================] - 6s 2ms/step\n"
     ]
    }
   ],
   "source": [
    "fraud = X_test[y_test==1]\n",
    "normal = X_test[y_test==0]\n",
    "\n",
    "features = np.append(fraud, normal, axis=0)\n",
    "labels = np.append(np.ones(len(fraud)), np.zeros(len(normal)))\n",
    "\n",
    "latent_vector = encoder.predict(features)"
   ]
  },
  {
   "cell_type": "code",
   "execution_count": 58,
   "id": "5496a3ea",
   "metadata": {
    "scrolled": false
   },
   "outputs": [
    {
     "data": {
      "image/png": "[encoded data removed]",
      "text/plain": [
       "<Figure size 800x800 with 1 Axes>"
      ]
     },
     "metadata": {},
     "output_type": "display_data"
    }
   ],
   "source": [
    "X = latent_vector[:,0]\n",
    "y = latent_vector[:,1]\n",
    "\n",
    "plt.subplots(figsize=(8, 8))\n",
    "plt.scatter(X[labels==0], y[labels==0], color=\"blue\", label='Normal')\n",
    "plt.scatter(X[labels==1], y[labels==1], color=\"red\", label='Fraud')\n",
    "\n",
    "plt.title('Latent Space')\n",
    "plt.show()"
   ]
  },
  {
   "cell_type": "markdown",
   "id": "f7795e24",
   "metadata": {},
   "source": [
    "### Sparse AutoEncoder Model(KL Reg)"
   ]
  },
  {
   "cell_type": "code",
   "execution_count": 45,
   "id": "d2bb54aa",
   "metadata": {},
   "outputs": [],
   "source": [
    "input_dim1 = X_train.shape[1]\n",
    "\n",
    "input_layer1 = Input(shape=(input_dim1, ))\n",
    "encoder1 = Dense(40, activation=\"relu\")(input_layer1)\n",
    "\n",
    "encoder1 = Dense(56, activation=\"relu\")(encoder1)\n",
    "\n",
    "decoder1 = Dense(40, activation='relu')(encoder1)\n",
    "decoder1 = Dense(input_dim1, activation='relu')(decoder1)\n",
    "\n",
    "autoencoder1 = Model(inputs=input_layer1, outputs=decoder1)"
   ]
  },
  {
   "cell_type": "markdown",
   "id": "34efd0ff",
   "metadata": {},
   "source": [
    "#### Def sparse_regularizer"
   ]
  },
  {
   "cell_type": "code",
   "execution_count": 62,
   "id": "fee4799d",
   "metadata": {},
   "outputs": [],
   "source": [
    "from keras import backend as K\n",
    "from keras.losses import mse, kld\n",
    "\n",
    "\n",
    "# def kl_divergence(rho, rho_hat):\n",
    "#     rho_hat = K.mean(K.sigmoid(rho_hat), axis=1)\n",
    "#     rho = K.constant([rho] * K.shape(rho_hat)[0])\n",
    "#     return K.sum(rho * K.log(rho / rho_hat) + (1 - rho) * K.log((1 - rho) / (1 - rho_hat)))\n",
    "\n",
    "# def sparse_loss(rho, data):\n",
    "#     values = data\n",
    "#     loss = 0\n",
    "#     for layer in autoencoder1.layers:\n",
    "#         values = layer(values)\n",
    "#         loss += kl_divergence(rho, values)\n",
    "#     return loss\n",
    "\n",
    "def custom_loss(y_true, y_pred):\n",
    "    mse_loss = mse(y_true, y_pred);\n",
    "    sparsity = kld(y_true, y_pred);\n",
    "    beta = 0.001\n",
    "    \n",
    "    loss = mse_loss + beta*sparsity\n",
    "    return loss;"
   ]
  },
  {
   "cell_type": "code",
   "execution_count": 63,
   "id": "b4d369a0",
   "metadata": {},
   "outputs": [],
   "source": [
    "epochs = 100\n",
    "batch_size = 32\n",
    "\n",
    "autoencoder1.compile(optimizer='adam', loss=custom_loss, metrics=['accuracy'])\n",
    "checkpointer1 = ModelCheckpoint(filepath=\"fraudSpAE_KL.pth\", verbose=0, save_best_only=True)"
   ]
  },
  {
   "cell_type": "markdown",
   "id": "3782ded0",
   "metadata": {},
   "source": [
    "### Training"
   ]
  },
  {
   "cell_type": "code",
   "execution_count": 64,
   "id": "28481866",
   "metadata": {},
   "outputs": [
    {
     "name": "stdout",
     "output_type": "stream",
     "text": [
      "Epoch 1/100\n",
      "5584/5598 [============================>.] - ETA: 0s - loss: 0.7079 - accuracy: 0.8099INFO:tensorflow:Assets written to: fraudSpAE_KL.pth\\assets\n"
     ]
    },
    {
     "name": "stderr",
     "output_type": "stream",
     "text": [
      "INFO:tensorflow:Assets written to: fraudSpAE_KL.pth\\assets\n"
     ]
    },
    {
     "name": "stdout",
     "output_type": "stream",
     "text": [
      "5598/5598 [==============================] - 17s 3ms/step - loss: 0.7078 - accuracy: 0.8100 - val_loss: 0.6735 - val_accuracy: 0.8433\n",
      "Epoch 2/100\n",
      "5581/5598 [============================>.] - ETA: 0s - loss: 0.6991 - accuracy: 0.8338INFO:tensorflow:Assets written to: fraudSpAE_KL.pth\\assets\n"
     ]
    },
    {
     "name": "stderr",
     "output_type": "stream",
     "text": [
      "INFO:tensorflow:Assets written to: fraudSpAE_KL.pth\\assets\n"
     ]
    },
    {
     "name": "stdout",
     "output_type": "stream",
     "text": [
      "5598/5598 [==============================] - 17s 3ms/step - loss: 0.6989 - accuracy: 0.8339 - val_loss: 0.6634 - val_accuracy: 0.8505\n",
      "Epoch 3/100\n",
      "5583/5598 [============================>.] - ETA: 0s - loss: 0.6822 - accuracy: 0.8429INFO:tensorflow:Assets written to: fraudSpAE_KL.pth\\assets\n"
     ]
    },
    {
     "name": "stderr",
     "output_type": "stream",
     "text": [
      "INFO:tensorflow:Assets written to: fraudSpAE_KL.pth\\assets\n"
     ]
    },
    {
     "name": "stdout",
     "output_type": "stream",
     "text": [
      "5598/5598 [==============================] - 15s 3ms/step - loss: 0.6819 - accuracy: 0.8430 - val_loss: 0.6399 - val_accuracy: 0.8846\n",
      "Epoch 4/100\n",
      "5598/5598 [==============================] - 18s 3ms/step - loss: 0.6729 - accuracy: 0.8672 - val_loss: 0.6413 - val_accuracy: 0.8813\n",
      "Epoch 5/100\n",
      "5598/5598 [==============================] - 14s 3ms/step - loss: 0.6712 - accuracy: 0.8755 - val_loss: 0.6404 - val_accuracy: 0.8913\n",
      "Epoch 6/100\n",
      "5598/5598 [==============================] - 14s 3ms/step - loss: 0.6696 - accuracy: 0.8844 - val_loss: 0.6452 - val_accuracy: 0.8569\n",
      "Epoch 7/100\n",
      "5593/5598 [============================>.] - ETA: 0s - loss: 0.6709 - accuracy: 0.8766INFO:tensorflow:Assets written to: fraudSpAE_KL.pth\\assets\n"
     ]
    },
    {
     "name": "stderr",
     "output_type": "stream",
     "text": [
      "INFO:tensorflow:Assets written to: fraudSpAE_KL.pth\\assets\n"
     ]
    },
    {
     "name": "stdout",
     "output_type": "stream",
     "text": [
      "5598/5598 [==============================] - 15s 3ms/step - loss: 0.6709 - accuracy: 0.8766 - val_loss: 0.6382 - val_accuracy: 0.8891\n",
      "Epoch 8/100\n",
      "5590/5598 [============================>.] - ETA: 0s - loss: 0.6641 - accuracy: 0.8917INFO:tensorflow:Assets written to: fraudSpAE_KL.pth\\assets\n"
     ]
    },
    {
     "name": "stderr",
     "output_type": "stream",
     "text": [
      "INFO:tensorflow:Assets written to: fraudSpAE_KL.pth\\assets\n"
     ]
    },
    {
     "name": "stdout",
     "output_type": "stream",
     "text": [
      "5598/5598 [==============================] - 15s 3ms/step - loss: 0.6640 - accuracy: 0.8918 - val_loss: 0.6300 - val_accuracy: 0.9055\n",
      "Epoch 9/100\n",
      "5598/5598 [==============================] - 13s 2ms/step - loss: 0.6623 - accuracy: 0.8828 - val_loss: 0.6334 - val_accuracy: 0.8758\n",
      "Epoch 10/100\n",
      "5587/5598 [============================>.] - ETA: 0s - loss: 0.6605 - accuracy: 0.8882INFO:tensorflow:Assets written to: fraudSpAE_KL.pth\\assets\n"
     ]
    },
    {
     "name": "stderr",
     "output_type": "stream",
     "text": [
      "INFO:tensorflow:Assets written to: fraudSpAE_KL.pth\\assets\n"
     ]
    },
    {
     "name": "stdout",
     "output_type": "stream",
     "text": [
      "5598/5598 [==============================] - 13s 2ms/step - loss: 0.6604 - accuracy: 0.8882 - val_loss: 0.6299 - val_accuracy: 0.9039\n",
      "Epoch 11/100\n",
      "5598/5598 [==============================] - 13s 2ms/step - loss: 0.6597 - accuracy: 0.8904 - val_loss: 0.6313 - val_accuracy: 0.8891\n",
      "Epoch 12/100\n",
      "5579/5598 [============================>.] - ETA: 0s - loss: 0.6595 - accuracy: 0.8905INFO:tensorflow:Assets written to: fraudSpAE_KL.pth\\assets\n"
     ]
    },
    {
     "name": "stderr",
     "output_type": "stream",
     "text": [
      "INFO:tensorflow:Assets written to: fraudSpAE_KL.pth\\assets\n"
     ]
    },
    {
     "name": "stdout",
     "output_type": "stream",
     "text": [
      "5598/5598 [==============================] - 14s 2ms/step - loss: 0.6599 - accuracy: 0.8905 - val_loss: 0.6294 - val_accuracy: 0.9138\n",
      "Epoch 13/100\n",
      "5598/5598 [==============================] - 13s 2ms/step - loss: 0.6600 - accuracy: 0.8914 - val_loss: 0.6310 - val_accuracy: 0.8988\n",
      "Epoch 14/100\n",
      "5598/5598 [==============================] - 13s 2ms/step - loss: 0.6601 - accuracy: 0.8885 - val_loss: 0.6306 - val_accuracy: 0.8899\n",
      "Epoch 15/100\n",
      "5598/5598 [==============================] - 13s 2ms/step - loss: 0.6612 - accuracy: 0.8817 - val_loss: 0.6316 - val_accuracy: 0.8796\n",
      "Epoch 16/100\n",
      "5598/5598 [==============================] - 14s 3ms/step - loss: 0.6601 - accuracy: 0.8885 - val_loss: 0.6307 - val_accuracy: 0.9097\n",
      "Epoch 17/100\n",
      "5598/5598 [==============================] - 15s 3ms/step - loss: 0.6590 - accuracy: 0.8939 - val_loss: 0.6332 - val_accuracy: 0.8729\n",
      "Epoch 18/100\n",
      "5598/5598 [==============================] - 15s 3ms/step - loss: 0.6588 - accuracy: 0.8960 - val_loss: 0.6326 - val_accuracy: 0.9016\n",
      "Epoch 19/100\n",
      "5598/5598 [==============================] - 14s 3ms/step - loss: 0.6597 - accuracy: 0.8912 - val_loss: 0.6296 - val_accuracy: 0.9096\n",
      "Epoch 20/100\n",
      "5598/5598 [==============================] - 13s 2ms/step - loss: 0.6581 - accuracy: 0.8993 - val_loss: 0.6308 - val_accuracy: 0.8811\n",
      "Epoch 21/100\n",
      "5598/5598 [==============================] - 12s 2ms/step - loss: 0.6579 - accuracy: 0.9012 - val_loss: 0.6299 - val_accuracy: 0.9108\n",
      "Epoch 22/100\n",
      "5598/5598 [==============================] - 13s 2ms/step - loss: 0.6580 - accuracy: 0.9020 - val_loss: 0.6318 - val_accuracy: 0.8699\n",
      "Epoch 23/100\n",
      "5598/5598 [==============================] - 13s 2ms/step - loss: 0.6577 - accuracy: 0.9034 - val_loss: 0.6299 - val_accuracy: 0.9058\n",
      "Epoch 24/100\n",
      "5598/5598 [==============================] - 13s 2ms/step - loss: 0.6580 - accuracy: 0.9006 - val_loss: 0.6298 - val_accuracy: 0.9110\n",
      "Epoch 25/100\n",
      "5598/5598 [==============================] - 12s 2ms/step - loss: 0.6574 - accuracy: 0.9061 - val_loss: 0.6300 - val_accuracy: 0.9070\n",
      "Epoch 26/100\n",
      "5574/5598 [============================>.] - ETA: 0s - loss: 0.6580 - accuracy: 0.9011INFO:tensorflow:Assets written to: fraudSpAE_KL.pth\\assets\n"
     ]
    },
    {
     "name": "stderr",
     "output_type": "stream",
     "text": [
      "INFO:tensorflow:Assets written to: fraudSpAE_KL.pth\\assets\n"
     ]
    },
    {
     "name": "stdout",
     "output_type": "stream",
     "text": [
      "5598/5598 [==============================] - 14s 2ms/step - loss: 0.6577 - accuracy: 0.9011 - val_loss: 0.6293 - val_accuracy: 0.9162\n",
      "Epoch 27/100\n",
      "5598/5598 [==============================] - 13s 2ms/step - loss: 0.6576 - accuracy: 0.9052 - val_loss: 0.6298 - val_accuracy: 0.8987\n",
      "Epoch 28/100\n",
      "5598/5598 [==============================] - 13s 2ms/step - loss: 0.6577 - accuracy: 0.9046 - val_loss: 0.6300 - val_accuracy: 0.9001\n",
      "Epoch 29/100\n",
      "5598/5598 [==============================] - 13s 2ms/step - loss: 0.6576 - accuracy: 0.9034 - val_loss: 0.6295 - val_accuracy: 0.9102\n",
      "Epoch 30/100\n",
      "5598/5598 [==============================] - 13s 2ms/step - loss: 0.6586 - accuracy: 0.8988 - val_loss: 0.6298 - val_accuracy: 0.9041\n",
      "Epoch 31/100\n",
      "5593/5598 [============================>.] - ETA: 0s - loss: 0.6577 - accuracy: 0.9022INFO:tensorflow:Assets written to: fraudSpAE_KL.pth\\assets\n"
     ]
    },
    {
     "name": "stderr",
     "output_type": "stream",
     "text": [
      "INFO:tensorflow:Assets written to: fraudSpAE_KL.pth\\assets\n"
     ]
    },
    {
     "name": "stdout",
     "output_type": "stream",
     "text": [
      "5598/5598 [==============================] - 14s 3ms/step - loss: 0.6577 - accuracy: 0.9022 - val_loss: 0.6293 - val_accuracy: 0.9177\n",
      "Epoch 32/100\n",
      "5598/5598 [==============================] - 13s 2ms/step - loss: 0.6592 - accuracy: 0.8949 - val_loss: 0.6304 - val_accuracy: 0.9066\n",
      "Epoch 33/100\n",
      "5598/5598 [==============================] - 14s 2ms/step - loss: 0.6588 - accuracy: 0.8983 - val_loss: 0.6314 - val_accuracy: 0.8826\n",
      "Epoch 34/100\n",
      "5598/5598 [==============================] - 15s 3ms/step - loss: 0.6574 - accuracy: 0.9043 - val_loss: 0.6299 - val_accuracy: 0.9031\n",
      "Epoch 35/100\n",
      "5598/5598 [==============================] - 14s 2ms/step - loss: 0.6582 - accuracy: 0.8993 - val_loss: 0.6299 - val_accuracy: 0.9043\n",
      "Epoch 36/100\n",
      "5598/5598 [==============================] - 14s 2ms/step - loss: 0.6576 - accuracy: 0.9041 - val_loss: 0.6301 - val_accuracy: 0.9058\n",
      "Epoch 37/100\n",
      "5598/5598 [==============================] - 14s 2ms/step - loss: 0.6576 - accuracy: 0.9039 - val_loss: 0.6300 - val_accuracy: 0.9022\n",
      "Epoch 38/100\n",
      "5598/5598 [==============================] - 14s 2ms/step - loss: 0.6576 - accuracy: 0.9036 - val_loss: 0.6318 - val_accuracy: 0.8795\n",
      "Epoch 39/100\n",
      "5598/5598 [==============================] - 14s 2ms/step - loss: 0.6573 - accuracy: 0.9063 - val_loss: 0.6329 - val_accuracy: 0.8674\n",
      "Epoch 40/100\n",
      "5598/5598 [==============================] - 14s 2ms/step - loss: 0.6573 - accuracy: 0.9072 - val_loss: 0.6293 - val_accuracy: 0.9107\n",
      "Epoch 41/100\n",
      "5598/5598 [==============================] - 14s 2ms/step - loss: 0.6585 - accuracy: 0.8996 - val_loss: 0.6336 - val_accuracy: 0.8581\n",
      "Epoch 42/100\n",
      "5598/5598 [==============================] - 14s 2ms/step - loss: 0.6573 - accuracy: 0.9058 - val_loss: 0.6293 - val_accuracy: 0.9148\n",
      "Epoch 43/100\n",
      "5585/5598 [============================>.] - ETA: 0s - loss: 0.6571 - accuracy: 0.9051INFO:tensorflow:Assets written to: fraudSpAE_KL.pth\\assets\n"
     ]
    },
    {
     "name": "stderr",
     "output_type": "stream",
     "text": [
      "INFO:tensorflow:Assets written to: fraudSpAE_KL.pth\\assets\n"
     ]
    },
    {
     "name": "stdout",
     "output_type": "stream",
     "text": [
      "5598/5598 [==============================] - 15s 3ms/step - loss: 0.6575 - accuracy: 0.9052 - val_loss: 0.6292 - val_accuracy: 0.9166\n",
      "Epoch 44/100\n",
      "5598/5598 [==============================] - 13s 2ms/step - loss: 0.6578 - accuracy: 0.9050 - val_loss: 0.6312 - val_accuracy: 0.8929\n",
      "Epoch 45/100\n",
      "5598/5598 [==============================] - 14s 2ms/step - loss: 0.6573 - accuracy: 0.9063 - val_loss: 0.6295 - val_accuracy: 0.9110\n",
      "Epoch 46/100\n",
      "5598/5598 [==============================] - 13s 2ms/step - loss: 0.6574 - accuracy: 0.9055 - val_loss: 0.6293 - val_accuracy: 0.9143\n",
      "Epoch 47/100\n",
      "5598/5598 [==============================] - 13s 2ms/step - loss: 0.6577 - accuracy: 0.9054 - val_loss: 0.6301 - val_accuracy: 0.9031\n",
      "Epoch 48/100\n",
      "5598/5598 [==============================] - 14s 3ms/step - loss: 0.6576 - accuracy: 0.9040 - val_loss: 0.6293 - val_accuracy: 0.9147\n",
      "Epoch 49/100\n",
      "5598/5598 [==============================] - 14s 3ms/step - loss: 0.6587 - accuracy: 0.9009 - val_loss: 0.6294 - val_accuracy: 0.9098\n",
      "Epoch 50/100\n",
      "5598/5598 [==============================] - 15s 3ms/step - loss: 0.6573 - accuracy: 0.9065 - val_loss: 0.6298 - val_accuracy: 0.9026\n",
      "Epoch 51/100\n",
      "5598/5598 [==============================] - 14s 2ms/step - loss: 0.6582 - accuracy: 0.9022 - val_loss: 0.6296 - val_accuracy: 0.9144\n",
      "Epoch 52/100\n",
      "5598/5598 [==============================] - 14s 2ms/step - loss: 0.6582 - accuracy: 0.9016 - val_loss: 0.6297 - val_accuracy: 0.9066\n",
      "Epoch 53/100\n",
      "5585/5598 [============================>.] - ETA: 0s - loss: 0.6577 - accuracy: 0.9070INFO:tensorflow:Assets written to: fraudSpAE_KL.pth\\assets\n"
     ]
    },
    {
     "name": "stderr",
     "output_type": "stream",
     "text": [
      "INFO:tensorflow:Assets written to: fraudSpAE_KL.pth\\assets\n"
     ]
    },
    {
     "name": "stdout",
     "output_type": "stream",
     "text": [
      "5598/5598 [==============================] - 15s 3ms/step - loss: 0.6573 - accuracy: 0.9070 - val_loss: 0.6292 - val_accuracy: 0.9190\n",
      "Epoch 54/100\n",
      "5598/5598 [==============================] - 14s 2ms/step - loss: 0.6578 - accuracy: 0.9033 - val_loss: 0.6293 - val_accuracy: 0.9151\n",
      "Epoch 55/100\n",
      "5598/5598 [==============================] - 14s 2ms/step - loss: 0.6574 - accuracy: 0.9061 - val_loss: 0.6293 - val_accuracy: 0.9166\n",
      "Epoch 56/100\n",
      "5598/5598 [==============================] - 14s 2ms/step - loss: 0.6575 - accuracy: 0.9062 - val_loss: 0.6298 - val_accuracy: 0.9048\n",
      "Epoch 57/100\n",
      "5598/5598 [==============================] - 14s 2ms/step - loss: 0.6574 - accuracy: 0.9062 - val_loss: 0.6308 - val_accuracy: 0.9017\n",
      "Epoch 58/100\n",
      "5598/5598 [==============================] - 14s 2ms/step - loss: 0.6573 - accuracy: 0.9060 - val_loss: 0.6332 - val_accuracy: 0.8925\n",
      "Epoch 59/100\n",
      "5598/5598 [==============================] - 14s 2ms/step - loss: 0.6577 - accuracy: 0.9051 - val_loss: 0.6297 - val_accuracy: 0.9091\n",
      "Epoch 60/100\n",
      "5598/5598 [==============================] - 14s 2ms/step - loss: 0.6575 - accuracy: 0.9056 - val_loss: 0.6305 - val_accuracy: 0.9026\n",
      "Epoch 61/100\n",
      "5598/5598 [==============================] - 14s 2ms/step - loss: 0.6576 - accuracy: 0.9035 - val_loss: 0.6296 - val_accuracy: 0.9027\n",
      "Epoch 62/100\n",
      "5598/5598 [==============================] - 14s 2ms/step - loss: 0.6577 - accuracy: 0.9027 - val_loss: 0.6293 - val_accuracy: 0.9119\n",
      "Epoch 63/100\n",
      "5598/5598 [==============================] - 14s 3ms/step - loss: 0.6573 - accuracy: 0.9073 - val_loss: 0.6293 - val_accuracy: 0.9180\n",
      "Epoch 64/100\n",
      "5598/5598 [==============================] - 15s 3ms/step - loss: 0.6582 - accuracy: 0.9028 - val_loss: 0.6298 - val_accuracy: 0.9024\n",
      "Epoch 65/100\n",
      "5598/5598 [==============================] - 14s 2ms/step - loss: 0.6576 - accuracy: 0.9027 - val_loss: 0.6292 - val_accuracy: 0.9162\n",
      "Epoch 66/100\n",
      "5598/5598 [==============================] - 14s 2ms/step - loss: 0.6576 - accuracy: 0.9037 - val_loss: 0.6311 - val_accuracy: 0.8922\n",
      "Epoch 67/100\n",
      "5598/5598 [==============================] - 14s 2ms/step - loss: 0.6575 - accuracy: 0.9026 - val_loss: 0.6296 - val_accuracy: 0.9097\n",
      "Epoch 68/100\n",
      "5598/5598 [==============================] - 14s 2ms/step - loss: 0.6571 - accuracy: 0.9095 - val_loss: 0.6294 - val_accuracy: 0.9136\n",
      "Epoch 69/100\n",
      "5598/5598 [==============================] - 14s 3ms/step - loss: 0.6573 - accuracy: 0.9056 - val_loss: 0.6295 - val_accuracy: 0.9079\n",
      "Epoch 70/100\n",
      "5577/5598 [============================>.] - ETA: 0s - loss: 0.6575 - accuracy: 0.9062INFO:tensorflow:Assets written to: fraudSpAE_KL.pth\\assets\n"
     ]
    },
    {
     "name": "stderr",
     "output_type": "stream",
     "text": [
      "INFO:tensorflow:Assets written to: fraudSpAE_KL.pth\\assets\n"
     ]
    },
    {
     "name": "stdout",
     "output_type": "stream",
     "text": [
      "5598/5598 [==============================] - 15s 3ms/step - loss: 0.6574 - accuracy: 0.9063 - val_loss: 0.6292 - val_accuracy: 0.9186\n",
      "Epoch 71/100\n",
      "5598/5598 [==============================] - 14s 2ms/step - loss: 0.6586 - accuracy: 0.9002 - val_loss: 0.6298 - val_accuracy: 0.9011\n",
      "Epoch 72/100\n",
      "5598/5598 [==============================] - 14s 2ms/step - loss: 0.6594 - accuracy: 0.8929 - val_loss: 0.6305 - val_accuracy: 0.8915\n",
      "Epoch 73/100\n",
      "5598/5598 [==============================] - 14s 2ms/step - loss: 0.6575 - accuracy: 0.8985 - val_loss: 0.6319 - val_accuracy: 0.9028\n",
      "Epoch 74/100\n",
      "5598/5598 [==============================] - 14s 2ms/step - loss: 0.6583 - accuracy: 0.9016 - val_loss: 0.6300 - val_accuracy: 0.9103\n",
      "Epoch 75/100\n",
      "5598/5598 [==============================] - 14s 2ms/step - loss: 0.6572 - accuracy: 0.9074 - val_loss: 0.6301 - val_accuracy: 0.9066\n",
      "Epoch 76/100\n",
      "5598/5598 [==============================] - 14s 2ms/step - loss: 0.6572 - accuracy: 0.9077 - val_loss: 0.6297 - val_accuracy: 0.9129\n",
      "Epoch 77/100\n",
      "5577/5598 [============================>.] - ETA: 0s - loss: 0.6442 - accuracy: 0.9015INFO:tensorflow:Assets written to: fraudSpAE_KL.pth\\assets\n"
     ]
    },
    {
     "name": "stderr",
     "output_type": "stream",
     "text": [
      "INFO:tensorflow:Assets written to: fraudSpAE_KL.pth\\assets\n"
     ]
    },
    {
     "name": "stdout",
     "output_type": "stream",
     "text": [
      "5598/5598 [==============================] - 15s 3ms/step - loss: 0.6439 - accuracy: 0.9016 - val_loss: 0.6029 - val_accuracy: 0.9262\n",
      "Epoch 78/100\n",
      "5596/5598 [============================>.] - ETA: 0s - loss: 0.6300 - accuracy: 0.9338INFO:tensorflow:Assets written to: fraudSpAE_KL.pth\\assets\n"
     ]
    },
    {
     "name": "stderr",
     "output_type": "stream",
     "text": [
      "INFO:tensorflow:Assets written to: fraudSpAE_KL.pth\\assets\n"
     ]
    },
    {
     "name": "stdout",
     "output_type": "stream",
     "text": [
      "5598/5598 [==============================] - 14s 3ms/step - loss: 0.6300 - accuracy: 0.9338 - val_loss: 0.6012 - val_accuracy: 0.9469\n",
      "Epoch 79/100\n",
      "5598/5598 [==============================] - 13s 2ms/step - loss: 0.6289 - accuracy: 0.9405 - val_loss: 0.6016 - val_accuracy: 0.9407\n",
      "Epoch 80/100\n",
      "5598/5598 [==============================] - 13s 2ms/step - loss: 0.6291 - accuracy: 0.9401 - val_loss: 0.6040 - val_accuracy: 0.9171\n",
      "Epoch 81/100\n",
      "5598/5598 [==============================] - 13s 2ms/step - loss: 0.6299 - accuracy: 0.9378 - val_loss: 0.6016 - val_accuracy: 0.9469\n",
      "Epoch 82/100\n",
      "5598/5598 [==============================] - 13s 2ms/step - loss: 0.6297 - accuracy: 0.9340 - val_loss: 0.6012 - val_accuracy: 0.9468\n",
      "Epoch 83/100\n",
      "5584/5598 [============================>.] - ETA: 0s - loss: 0.6292 - accuracy: 0.9440INFO:tensorflow:Assets written to: fraudSpAE_KL.pth\\assets\n"
     ]
    },
    {
     "name": "stderr",
     "output_type": "stream",
     "text": [
      "INFO:tensorflow:Assets written to: fraudSpAE_KL.pth\\assets\n"
     ]
    },
    {
     "name": "stdout",
     "output_type": "stream",
     "text": [
      "5598/5598 [==============================] - 14s 3ms/step - loss: 0.6290 - accuracy: 0.9440 - val_loss: 0.6011 - val_accuracy: 0.9542\n",
      "Epoch 84/100\n",
      "5598/5598 [==============================] - 14s 2ms/step - loss: 0.6293 - accuracy: 0.9399 - val_loss: 0.6012 - val_accuracy: 0.9510\n",
      "Epoch 85/100\n",
      "5591/5598 [============================>.] - ETA: 0s - loss: 0.6290 - accuracy: 0.9436INFO:tensorflow:Assets written to: fraudSpAE_KL.pth\\assets\n"
     ]
    },
    {
     "name": "stderr",
     "output_type": "stream",
     "text": [
      "INFO:tensorflow:Assets written to: fraudSpAE_KL.pth\\assets\n"
     ]
    },
    {
     "name": "stdout",
     "output_type": "stream",
     "text": [
      "5598/5598 [==============================] - 15s 3ms/step - loss: 0.6289 - accuracy: 0.9436 - val_loss: 0.6010 - val_accuracy: 0.9534\n",
      "Epoch 86/100\n",
      "5598/5598 [==============================] - 14s 3ms/step - loss: 0.6288 - accuracy: 0.9447 - val_loss: 0.6010 - val_accuracy: 0.9515\n",
      "Epoch 87/100\n",
      "5598/5598 [==============================] - 14s 3ms/step - loss: 0.6291 - accuracy: 0.9407 - val_loss: 0.6012 - val_accuracy: 0.9509\n",
      "Epoch 88/100\n",
      "5598/5598 [==============================] - 14s 3ms/step - loss: 0.6299 - accuracy: 0.9406 - val_loss: 0.6013 - val_accuracy: 0.9484\n",
      "Epoch 89/100\n",
      "5598/5598 [==============================] - 13s 2ms/step - loss: 0.6290 - accuracy: 0.9434 - val_loss: 0.6098 - val_accuracy: 0.8802\n",
      "Epoch 90/100\n",
      "5598/5598 [==============================] - 13s 2ms/step - loss: 0.6299 - accuracy: 0.9385 - val_loss: 0.6012 - val_accuracy: 0.9512\n",
      "Epoch 91/100\n",
      "5598/5598 [==============================] - 13s 2ms/step - loss: 0.6296 - accuracy: 0.9395 - val_loss: 0.6014 - val_accuracy: 0.9448\n",
      "Epoch 92/100\n",
      "5598/5598 [==============================] - 14s 2ms/step - loss: 0.6290 - accuracy: 0.9410 - val_loss: 0.6012 - val_accuracy: 0.9498\n",
      "Epoch 93/100\n",
      "5598/5598 [==============================] - 14s 2ms/step - loss: 0.6299 - accuracy: 0.9397 - val_loss: 0.6011 - val_accuracy: 0.9532\n",
      "Epoch 94/100\n",
      "5598/5598 [==============================] - 14s 2ms/step - loss: 0.6287 - accuracy: 0.9453 - val_loss: 0.6011 - val_accuracy: 0.9524\n",
      "Epoch 95/100\n",
      "5598/5598 [==============================] - 14s 3ms/step - loss: 0.6294 - accuracy: 0.9406 - val_loss: 0.6011 - val_accuracy: 0.9513\n",
      "Epoch 96/100\n",
      "5598/5598 [==============================] - 13s 2ms/step - loss: 0.6288 - accuracy: 0.9451 - val_loss: 0.6016 - val_accuracy: 0.9451\n",
      "Epoch 97/100\n",
      "5598/5598 [==============================] - 14s 3ms/step - loss: 0.6297 - accuracy: 0.9375 - val_loss: 0.6010 - val_accuracy: 0.9553\n",
      "Epoch 98/100\n",
      "5598/5598 [==============================] - 14s 2ms/step - loss: 0.6289 - accuracy: 0.9420 - val_loss: 0.6012 - val_accuracy: 0.9495\n",
      "Epoch 99/100\n",
      "5598/5598 [==============================] - 14s 2ms/step - loss: 0.6291 - accuracy: 0.9430 - val_loss: 0.6016 - val_accuracy: 0.9438\n",
      "Epoch 100/100\n",
      "5598/5598 [==============================] - 14s 2ms/step - loss: 0.6295 - accuracy: 0.9372 - val_loss: 0.6017 - val_accuracy: 0.9395\n"
     ]
    }
   ],
   "source": [
    "history1 = autoencoder1.fit(np.array(X_train), np.array(X_train),\n",
    "                    epochs=epochs,\n",
    "                    batch_size=batch_size,\n",
    "                    shuffle=True,\n",
    "                    validation_split=0.1,\n",
    "                    callbacks=[checkpointer1]).history"
   ]
  },
  {
   "cell_type": "code",
   "execution_count": 66,
   "id": "a6a47508",
   "metadata": {},
   "outputs": [
    {
     "data": {
      "image/png": "[encoded data removed]",
      "text/plain": [
       "<Figure size 640x480 with 1 Axes>"
      ]
     },
     "metadata": {},
     "output_type": "display_data"
    }
   ],
   "source": [
    "plt.plot(history1['loss'])\n",
    "plt.plot(history1['val_loss'])\n",
    "plt.title('model loss')\n",
    "plt.ylabel('loss')\n",
    "plt.xlabel('epoch')\n",
    "plt.legend(['train', 'test'], loc='upper right');"
   ]
  },
  {
   "cell_type": "markdown",
   "id": "babecffa",
   "metadata": {},
   "source": [
    "### Test"
   ]
  },
  {
   "cell_type": "code",
   "execution_count": 93,
   "id": "c327be78",
   "metadata": {},
   "outputs": [],
   "source": [
    "with keras.utils.custom_object_scope({\"custom_loss\": 'mse'}):\n",
    "    autoencoder1 = keras.models.load_model('fraudSpAE_KL.pth')"
   ]
  },
  {
   "cell_type": "code",
   "execution_count": 94,
   "id": "be804c4e",
   "metadata": {},
   "outputs": [
    {
     "name": "stdout",
     "output_type": "stream",
     "text": [
      "2671/2671 [==============================] - 4s 1ms/step\n"
     ]
    },
    {
     "data": {
      "text/html": [
       "<div>\n",
       "<style scoped>\n",
       "    .dataframe tbody tr th:only-of-type {\n",
       "        vertical-align: middle;\n",
       "    }\n",
       "\n",
       "    .dataframe tbody tr th {\n",
       "        vertical-align: top;\n",
       "    }\n",
       "\n",
       "    .dataframe thead th {\n",
       "        text-align: right;\n",
       "    }\n",
       "</style>\n",
       "<table border=\"1\" class=\"dataframe\">\n",
       "  <thead>\n",
       "    <tr style=\"text-align: right;\">\n",
       "      <th></th>\n",
       "      <th>reconstruction_error</th>\n",
       "      <th>true_class</th>\n",
       "    </tr>\n",
       "  </thead>\n",
       "  <tbody>\n",
       "    <tr>\n",
       "      <th>count</th>\n",
       "      <td>85443.000000</td>\n",
       "      <td>85443.00000</td>\n",
       "    </tr>\n",
       "    <tr>\n",
       "      <th>mean</th>\n",
       "      <td>0.643312</td>\n",
       "      <td>0.00165</td>\n",
       "    </tr>\n",
       "    <tr>\n",
       "      <th>std</th>\n",
       "      <td>3.428270</td>\n",
       "      <td>0.04059</td>\n",
       "    </tr>\n",
       "    <tr>\n",
       "      <th>min</th>\n",
       "      <td>0.021898</td>\n",
       "      <td>0.00000</td>\n",
       "    </tr>\n",
       "    <tr>\n",
       "      <th>25%</th>\n",
       "      <td>0.178658</td>\n",
       "      <td>0.00000</td>\n",
       "    </tr>\n",
       "    <tr>\n",
       "      <th>50%</th>\n",
       "      <td>0.310808</td>\n",
       "      <td>0.00000</td>\n",
       "    </tr>\n",
       "    <tr>\n",
       "      <th>75%</th>\n",
       "      <td>0.535037</td>\n",
       "      <td>0.00000</td>\n",
       "    </tr>\n",
       "    <tr>\n",
       "      <th>max</th>\n",
       "      <td>396.071389</td>\n",
       "      <td>1.00000</td>\n",
       "    </tr>\n",
       "  </tbody>\n",
       "</table>\n",
       "</div>"
      ],
      "text/plain": [
       "       reconstruction_error   true_class\n",
       "count          85443.000000  85443.00000\n",
       "mean               0.643312      0.00165\n",
       "std                3.428270      0.04059\n",
       "min                0.021898      0.00000\n",
       "25%                0.178658      0.00000\n",
       "50%                0.310808      0.00000\n",
       "75%                0.535037      0.00000\n",
       "max              396.071389      1.00000"
      ]
     },
     "execution_count": 94,
     "metadata": {},
     "output_type": "execute_result"
    }
   ],
   "source": [
    "predictions1 = autoencoder1.predict(X_test)\n",
    "mse1 = np.mean(np.power(X_test - predictions1, 2), axis=1)\n",
    "error_df1 = pd.DataFrame({'reconstruction_error': mse1,\n",
    "                        'true_class': y_test})\n",
    "error_df1.describe()"
   ]
  },
  {
   "cell_type": "code",
   "execution_count": 95,
   "id": "24a8eb5a",
   "metadata": {},
   "outputs": [],
   "source": [
    "threshold1 = 2.9"
   ]
  },
  {
   "cell_type": "code",
   "execution_count": 96,
   "id": "cbb70647",
   "metadata": {},
   "outputs": [
    {
     "data": {
      "image/png": "[encoded data removed]",
      "text/plain": [
       "<Figure size 640x480 with 1 Axes>"
      ]
     },
     "metadata": {},
     "output_type": "display_data"
    }
   ],
   "source": [
    "groups = error_df1.groupby('true_class')\n",
    "fig1, ax1 = plt.subplots()\n",
    "\n",
    "for name, group in groups:\n",
    "    ax1.plot(group.index, group.reconstruction_error, marker='o', ms=3.5, linestyle='',\n",
    "            label= \"Fraud\" if name == 1 else \"Normal\")\n",
    "ax1.hlines(threshold1, ax1.get_xlim()[0], ax1.get_xlim()[1], colors=\"r\", zorder=100, label='Threshold')\n",
    "ax1.legend()\n",
    "plt.title(\"Reconstruction error for different classes\")\n",
    "plt.ylabel(\"Reconstruction error\")\n",
    "plt.xlabel(\"Data point index\")\n",
    "plt.show();"
   ]
  },
  {
   "cell_type": "code",
   "execution_count": 97,
   "id": "4ee4f318",
   "metadata": {},
   "outputs": [
    {
     "data": {
      "image/png": "[encoded data removed]",
      "text/plain": [
       "<Figure size 1200x1200 with 2 Axes>"
      ]
     },
     "metadata": {},
     "output_type": "display_data"
    }
   ],
   "source": [
    "from sklearn.metrics import classification_report, confusion_matrix, ConfusionMatrixDisplay\n",
    "LABELS = ['Normal','Fraud']\n",
    "\n",
    "y_pred1 = [1 if e > threshold1 else 0 for e in error_df1.reconstruction_error.values]\n",
    "conf_matrix1 = confusion_matrix(error_df1.true_class, y_pred1)\n",
    "plt.figure(figsize=(12, 12))\n",
    "sns.heatmap(conf_matrix1, xticklabels=LABELS, yticklabels=LABELS, annot=True, fmt=\"d\");\n",
    "plt.title(\"Confusion matrix\")\n",
    "plt.ylabel('True class')\n",
    "plt.xlabel('Predicted class')\n",
    "plt.show()"
   ]
  },
  {
   "cell_type": "markdown",
   "id": "274aac86",
   "metadata": {},
   "source": [
    "### Visualize the latent space"
   ]
  },
  {
   "cell_type": "code",
   "execution_count": 98,
   "id": "a32d279a",
   "metadata": {},
   "outputs": [],
   "source": [
    "inp_layer1 = autoencoder1.input\n",
    "out_layer1 = autoencoder1.layers[2].output\n",
    "\n",
    "encoder1 = Model(inputs=inp_layer1, outputs=out_layer1)"
   ]
  },
  {
   "cell_type": "code",
   "execution_count": 99,
   "id": "a48b5345",
   "metadata": {},
   "outputs": [
    {
     "name": "stdout",
     "output_type": "stream",
     "text": [
      "Model: \"model_7\"\n",
      "_________________________________________________________________\n",
      " Layer (type)                Output Shape              Param #   \n",
      "=================================================================\n",
      " input_7 (InputLayer)        [(None, 28)]              0         \n",
      "                                                                 \n",
      " dense_19 (Dense)            (None, 40)                1160      \n",
      "                                                                 \n",
      " dense_20 (Dense)            (None, 56)                2296      \n",
      "                                                                 \n",
      "=================================================================\n",
      "Total params: 3456 (13.50 KB)\n",
      "Trainable params: 3456 (13.50 KB)\n",
      "Non-trainable params: 0 (0.00 Byte)\n",
      "_________________________________________________________________\n"
     ]
    }
   ],
   "source": [
    "encoder1.summary()"
   ]
  },
  {
   "cell_type": "code",
   "execution_count": 100,
   "id": "d964c161",
   "metadata": {},
   "outputs": [
    {
     "name": "stdout",
     "output_type": "stream",
     "text": [
      "2671/2671 [==============================] - 4s 1ms/step\n"
     ]
    }
   ],
   "source": [
    "fraud1 = X_test[y_test==1]\n",
    "normal1 = X_test[y_test==0]\n",
    "\n",
    "features1 = np.append(fraud1, normal1, axis=0)\n",
    "labels1 = np.append(np.ones(len(fraud1)), np.zeros(len(normal1)))\n",
    "\n",
    "latent_vector1 = encoder1.predict(features1)"
   ]
  },
  {
   "cell_type": "code",
   "execution_count": 101,
   "id": "a5778006",
   "metadata": {},
   "outputs": [
    {
     "name": "stdout",
     "output_type": "stream",
     "text": [
      "[0. 0. 0. ... 0. 0. 0.] [0. 0. 0. ... 0. 0. 0.]\n"
     ]
    },
    {
     "data": {
      "image/png": "[encoded data removed]",
      "text/plain": [
       "<Figure size 800x800 with 1 Axes>"
      ]
     },
     "metadata": {},
     "output_type": "display_data"
    }
   ],
   "source": [
    "X1 = latent_vector1[:,0]\n",
    "y1 = latent_vector1[:,1]\n",
    "\n",
    "print(X1,y1)\n",
    "\n",
    "plt.subplots(figsize=(8, 8))\n",
    "plt.scatter(X1[labels1==0], y1[labels1==0], color=\"blue\", label='Normal')\n",
    "plt.scatter(X1[labels1==1], y1[labels1==1], color=\"red\", label='Fraud')\n",
    "\n",
    "plt.title('Latent Space')\n",
    "plt.show()\n",
    "\n",
    "#TODO 어떤 부분이 문제인지 찾아보기"
   ]
  },
  {
   "cell_type": "code",
   "execution_count": null,
   "id": "cab0d01e",
   "metadata": {},
   "outputs": [],
   "source": []
  }
 ],
 "metadata": {
  "kernelspec": {
   "display_name": "Python 3 (ipykernel)",
   "language": "python",
   "name": "python3"
  },
  "language_info": {
   "codemirror_mode": {
    "name": "ipython",
    "version": 3
   },
   "file_extension": ".py",
   "mimetype": "text/x-python",
   "name": "python",
   "nbconvert_exporter": "python",
   "pygments_lexer": "ipython3",
   "version": "3.11.4"
  }
 },
 "nbformat": 4,
 "nbformat_minor": 5
}
