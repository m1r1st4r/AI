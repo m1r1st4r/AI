{
 "cells": [
  {
   "cell_type": "markdown",
   "id": "076b4dda",
   "metadata": {},
   "source": [
    "### Load required libraries"
   ]
  },
  {
   "cell_type": "code",
   "execution_count": 1,
   "id": "e8452b24",
   "metadata": {},
   "outputs": [],
   "source": [
    "import numpy as np\n",
    "import pandas as pd\n",
    "import seaborn as sns\n",
    "\n",
    "import tensorflow as tf\n",
    "import keras\n",
    "from tensorflow.keras import regularizers\n",
    "from tensorflow.keras.utils import plot_model\n",
    "from keras.models import Sequential, Model, load_model\n",
    "from keras.layers import Dense, Input, Lambda\n",
    "from keras.callbacks import ModelCheckpoint\n",
    "from keras import backend as K\n",
    "from keras import metrics\n",
    "from sklearn.model_selection import train_test_split\n",
    "\n",
    "from sklearn.manifold import TSNE\n",
    "from sklearn.decomposition import PCA\n",
    "\n",
    "import matplotlib.pyplot as plt\n",
    "%matplotlib inline\n",
    "\n",
    "import warnings\n",
    "warnings.filterwarnings(\"ignore\")\n",
    "\n",
    "tf.keras.backend.set_floatx('float32')"
   ]
  },
  {
   "cell_type": "markdown",
   "id": "f992f32f",
   "metadata": {},
   "source": [
    "### Load the data"
   ]
  },
  {
   "cell_type": "code",
   "execution_count": 2,
   "id": "cb25d899",
   "metadata": {},
   "outputs": [
    {
     "name": "stdout",
     "output_type": "stream",
     "text": [
      "(284807, 30)\n"
     ]
    },
    {
     "data": {
      "text/html": [
       "<div>\n",
       "<style scoped>\n",
       "    .dataframe tbody tr th:only-of-type {\n",
       "        vertical-align: middle;\n",
       "    }\n",
       "\n",
       "    .dataframe tbody tr th {\n",
       "        vertical-align: top;\n",
       "    }\n",
       "\n",
       "    .dataframe thead th {\n",
       "        text-align: right;\n",
       "    }\n",
       "</style>\n",
       "<table border=\"1\" class=\"dataframe\">\n",
       "  <thead>\n",
       "    <tr style=\"text-align: right;\">\n",
       "      <th></th>\n",
       "      <th>V1</th>\n",
       "      <th>V2</th>\n",
       "      <th>V3</th>\n",
       "      <th>V4</th>\n",
       "      <th>V5</th>\n",
       "      <th>V6</th>\n",
       "      <th>V7</th>\n",
       "      <th>V8</th>\n",
       "      <th>V9</th>\n",
       "      <th>V10</th>\n",
       "      <th>...</th>\n",
       "      <th>V21</th>\n",
       "      <th>V22</th>\n",
       "      <th>V23</th>\n",
       "      <th>V24</th>\n",
       "      <th>V25</th>\n",
       "      <th>V26</th>\n",
       "      <th>V27</th>\n",
       "      <th>V28</th>\n",
       "      <th>Amount</th>\n",
       "      <th>Class</th>\n",
       "    </tr>\n",
       "    <tr>\n",
       "      <th>Time</th>\n",
       "      <th></th>\n",
       "      <th></th>\n",
       "      <th></th>\n",
       "      <th></th>\n",
       "      <th></th>\n",
       "      <th></th>\n",
       "      <th></th>\n",
       "      <th></th>\n",
       "      <th></th>\n",
       "      <th></th>\n",
       "      <th></th>\n",
       "      <th></th>\n",
       "      <th></th>\n",
       "      <th></th>\n",
       "      <th></th>\n",
       "      <th></th>\n",
       "      <th></th>\n",
       "      <th></th>\n",
       "      <th></th>\n",
       "      <th></th>\n",
       "      <th></th>\n",
       "    </tr>\n",
       "  </thead>\n",
       "  <tbody>\n",
       "    <tr>\n",
       "      <th>0.0</th>\n",
       "      <td>-1.359807</td>\n",
       "      <td>-0.072781</td>\n",
       "      <td>2.536347</td>\n",
       "      <td>1.378155</td>\n",
       "      <td>-0.338321</td>\n",
       "      <td>0.462388</td>\n",
       "      <td>0.239599</td>\n",
       "      <td>0.098698</td>\n",
       "      <td>0.363787</td>\n",
       "      <td>0.090794</td>\n",
       "      <td>...</td>\n",
       "      <td>-0.018307</td>\n",
       "      <td>0.277838</td>\n",
       "      <td>-0.110474</td>\n",
       "      <td>0.066928</td>\n",
       "      <td>0.128539</td>\n",
       "      <td>-0.189115</td>\n",
       "      <td>0.133558</td>\n",
       "      <td>-0.021053</td>\n",
       "      <td>149.62</td>\n",
       "      <td>0</td>\n",
       "    </tr>\n",
       "    <tr>\n",
       "      <th>0.0</th>\n",
       "      <td>1.191857</td>\n",
       "      <td>0.266151</td>\n",
       "      <td>0.166480</td>\n",
       "      <td>0.448154</td>\n",
       "      <td>0.060018</td>\n",
       "      <td>-0.082361</td>\n",
       "      <td>-0.078803</td>\n",
       "      <td>0.085102</td>\n",
       "      <td>-0.255425</td>\n",
       "      <td>-0.166974</td>\n",
       "      <td>...</td>\n",
       "      <td>-0.225775</td>\n",
       "      <td>-0.638672</td>\n",
       "      <td>0.101288</td>\n",
       "      <td>-0.339846</td>\n",
       "      <td>0.167170</td>\n",
       "      <td>0.125895</td>\n",
       "      <td>-0.008983</td>\n",
       "      <td>0.014724</td>\n",
       "      <td>2.69</td>\n",
       "      <td>0</td>\n",
       "    </tr>\n",
       "    <tr>\n",
       "      <th>1.0</th>\n",
       "      <td>-1.358354</td>\n",
       "      <td>-1.340163</td>\n",
       "      <td>1.773209</td>\n",
       "      <td>0.379780</td>\n",
       "      <td>-0.503198</td>\n",
       "      <td>1.800499</td>\n",
       "      <td>0.791461</td>\n",
       "      <td>0.247676</td>\n",
       "      <td>-1.514654</td>\n",
       "      <td>0.207643</td>\n",
       "      <td>...</td>\n",
       "      <td>0.247998</td>\n",
       "      <td>0.771679</td>\n",
       "      <td>0.909412</td>\n",
       "      <td>-0.689281</td>\n",
       "      <td>-0.327642</td>\n",
       "      <td>-0.139097</td>\n",
       "      <td>-0.055353</td>\n",
       "      <td>-0.059752</td>\n",
       "      <td>378.66</td>\n",
       "      <td>0</td>\n",
       "    </tr>\n",
       "    <tr>\n",
       "      <th>1.0</th>\n",
       "      <td>-0.966272</td>\n",
       "      <td>-0.185226</td>\n",
       "      <td>1.792993</td>\n",
       "      <td>-0.863291</td>\n",
       "      <td>-0.010309</td>\n",
       "      <td>1.247203</td>\n",
       "      <td>0.237609</td>\n",
       "      <td>0.377436</td>\n",
       "      <td>-1.387024</td>\n",
       "      <td>-0.054952</td>\n",
       "      <td>...</td>\n",
       "      <td>-0.108300</td>\n",
       "      <td>0.005274</td>\n",
       "      <td>-0.190321</td>\n",
       "      <td>-1.175575</td>\n",
       "      <td>0.647376</td>\n",
       "      <td>-0.221929</td>\n",
       "      <td>0.062723</td>\n",
       "      <td>0.061458</td>\n",
       "      <td>123.50</td>\n",
       "      <td>0</td>\n",
       "    </tr>\n",
       "    <tr>\n",
       "      <th>2.0</th>\n",
       "      <td>-1.158233</td>\n",
       "      <td>0.877737</td>\n",
       "      <td>1.548718</td>\n",
       "      <td>0.403034</td>\n",
       "      <td>-0.407193</td>\n",
       "      <td>0.095921</td>\n",
       "      <td>0.592941</td>\n",
       "      <td>-0.270533</td>\n",
       "      <td>0.817739</td>\n",
       "      <td>0.753074</td>\n",
       "      <td>...</td>\n",
       "      <td>-0.009431</td>\n",
       "      <td>0.798278</td>\n",
       "      <td>-0.137458</td>\n",
       "      <td>0.141267</td>\n",
       "      <td>-0.206010</td>\n",
       "      <td>0.502292</td>\n",
       "      <td>0.219422</td>\n",
       "      <td>0.215153</td>\n",
       "      <td>69.99</td>\n",
       "      <td>0</td>\n",
       "    </tr>\n",
       "  </tbody>\n",
       "</table>\n",
       "<p>5 rows × 30 columns</p>\n",
       "</div>"
      ],
      "text/plain": [
       "            V1        V2        V3        V4        V5        V6        V7  \\\n",
       "Time                                                                         \n",
       "0.0  -1.359807 -0.072781  2.536347  1.378155 -0.338321  0.462388  0.239599   \n",
       "0.0   1.191857  0.266151  0.166480  0.448154  0.060018 -0.082361 -0.078803   \n",
       "1.0  -1.358354 -1.340163  1.773209  0.379780 -0.503198  1.800499  0.791461   \n",
       "1.0  -0.966272 -0.185226  1.792993 -0.863291 -0.010309  1.247203  0.237609   \n",
       "2.0  -1.158233  0.877737  1.548718  0.403034 -0.407193  0.095921  0.592941   \n",
       "\n",
       "            V8        V9       V10  ...       V21       V22       V23  \\\n",
       "Time                                ...                                 \n",
       "0.0   0.098698  0.363787  0.090794  ... -0.018307  0.277838 -0.110474   \n",
       "0.0   0.085102 -0.255425 -0.166974  ... -0.225775 -0.638672  0.101288   \n",
       "1.0   0.247676 -1.514654  0.207643  ...  0.247998  0.771679  0.909412   \n",
       "1.0   0.377436 -1.387024 -0.054952  ... -0.108300  0.005274 -0.190321   \n",
       "2.0  -0.270533  0.817739  0.753074  ... -0.009431  0.798278 -0.137458   \n",
       "\n",
       "           V24       V25       V26       V27       V28  Amount  Class  \n",
       "Time                                                                   \n",
       "0.0   0.066928  0.128539 -0.189115  0.133558 -0.021053  149.62      0  \n",
       "0.0  -0.339846  0.167170  0.125895 -0.008983  0.014724    2.69      0  \n",
       "1.0  -0.689281 -0.327642 -0.139097 -0.055353 -0.059752  378.66      0  \n",
       "1.0  -1.175575  0.647376 -0.221929  0.062723  0.061458  123.50      0  \n",
       "2.0   0.141267 -0.206010  0.502292  0.219422  0.215153   69.99      0  \n",
       "\n",
       "[5 rows x 30 columns]"
      ]
     },
     "execution_count": 2,
     "metadata": {},
     "output_type": "execute_result"
    }
   ],
   "source": [
    "df = pd.read_csv('./data/creditcard.csv', index_col=0)\n",
    "print(df.shape)\n",
    "df.head()"
   ]
  },
  {
   "cell_type": "markdown",
   "id": "745866b7",
   "metadata": {},
   "source": [
    "#### Data check"
   ]
  },
  {
   "cell_type": "code",
   "execution_count": 3,
   "id": "46528b9f",
   "metadata": {},
   "outputs": [
    {
     "data": {
      "text/plain": [
       "0    0.998273\n",
       "1    0.001727\n",
       "Name: Class, dtype: float64"
      ]
     },
     "execution_count": 3,
     "metadata": {},
     "output_type": "execute_result"
    }
   ],
   "source": [
    "df['Class'].value_counts(normalize=True)"
   ]
  },
  {
   "cell_type": "code",
   "execution_count": 4,
   "id": "85a6f8c4",
   "metadata": {},
   "outputs": [
    {
     "data": {
      "text/plain": [
       "Index(['V1', 'V2', 'V3', 'V4', 'V5', 'V6', 'V7', 'V8', 'V9', 'V10', 'V11',\n",
       "       'V12', 'V13', 'V14', 'V15', 'V16', 'V17', 'V18', 'V19', 'V20', 'V21',\n",
       "       'V22', 'V23', 'V24', 'V25', 'V26', 'V27', 'V28', 'Amount', 'Class'],\n",
       "      dtype='object')"
      ]
     },
     "execution_count": 4,
     "metadata": {},
     "output_type": "execute_result"
    }
   ],
   "source": [
    "df.columns"
   ]
  },
  {
   "cell_type": "code",
   "execution_count": 5,
   "id": "cebc4bcb",
   "metadata": {},
   "outputs": [
    {
     "data": {
      "text/plain": [
       "False"
      ]
     },
     "execution_count": 5,
     "metadata": {},
     "output_type": "execute_result"
    }
   ],
   "source": [
    "df.isnull().values.any()"
   ]
  },
  {
   "cell_type": "code",
   "execution_count": 6,
   "id": "85851fed",
   "metadata": {},
   "outputs": [],
   "source": [
    "df = df.drop(['Amount'], axis=1)"
   ]
  },
  {
   "cell_type": "markdown",
   "id": "bf0d4248",
   "metadata": {},
   "source": [
    "### Train/test split"
   ]
  },
  {
   "cell_type": "code",
   "execution_count": 7,
   "id": "1fc791be",
   "metadata": {},
   "outputs": [
    {
     "name": "stdout",
     "output_type": "stream",
     "text": [
      "Frauds shape: (492, 29)\n",
      "Normal shape: (284315, 29)\n"
     ]
    }
   ],
   "source": [
    "frauds = df[df.Class == 1]\n",
    "#normal = df[df.Class == 0].sample(1000)\n",
    "normal = df[df.Class == 0]\n",
    "print(\"Frauds shape: {}\".format(frauds.shape))\n",
    "print(\"Normal shape: {}\".format(normal.shape))"
   ]
  },
  {
   "cell_type": "code",
   "execution_count": 8,
   "id": "54c7a86c",
   "metadata": {},
   "outputs": [
    {
     "data": {
      "text/plain": [
       "(284807, 29)"
      ]
     },
     "execution_count": 8,
     "metadata": {},
     "output_type": "execute_result"
    }
   ],
   "source": [
    "data = pd.concat([frauds, normal])\n",
    "data.shape"
   ]
  },
  {
   "cell_type": "code",
   "execution_count": 9,
   "id": "93a3c174",
   "metadata": {},
   "outputs": [
    {
     "name": "stdout",
     "output_type": "stream",
     "text": [
      "X_train shape: (199013, 28)\n",
      "X_test shape: (85443, 28)\n"
     ]
    }
   ],
   "source": [
    "X_train, X_test = train_test_split(data, test_size=0.3, random_state=42)\n",
    "X_train, X_train_f = X_train[X_train.Class == 0], X_train[X_train.Class == 1]\n",
    "X_train, X_train_f = X_train.drop(['Class'], axis=1), X_train_f.drop(['Class'], axis=1)\n",
    "X_train = X_train.values\n",
    "\n",
    "X_test, y_test = X_test.drop(['Class'], axis=1).values, X_test['Class'].values\n",
    "\n",
    "print(\"X_train shape: {}\".format(X_train.shape))\n",
    "print(\"X_test shape: {}\".format(X_test.shape))"
   ]
  },
  {
   "cell_type": "markdown",
   "id": "746b84db",
   "metadata": {},
   "source": [
    "### Visualize the data with TSNE and PCA"
   ]
  },
  {
   "cell_type": "code",
   "execution_count": 17,
   "id": "fdf2812c",
   "metadata": {},
   "outputs": [],
   "source": [
    "x1 = df[df.Class == 1]\n",
    "x2 = df[df.Class == 0].sample(1000)\n",
    "\n",
    "dfd = x1.append(x2).sample(frac=1).reset_index(drop=True)\n",
    "x = dfd.drop(['Class'], axis=1).values\n",
    "y = dfd['Class'].values\n",
    "\n",
    "SEED = 42"
   ]
  },
  {
   "cell_type": "code",
   "execution_count": 18,
   "id": "71abd557",
   "metadata": {},
   "outputs": [
    {
     "data": {
      "image/png": "[encoded data removed]",
      "text/plain": [
       "<Figure size 1200x800 with 1 Axes>"
      ]
     },
     "metadata": {},
     "output_type": "display_data"
    }
   ],
   "source": [
    "tsne = TSNE(n_components=2, random_state=SEED)\n",
    "xtsne = tsne.fit_transform(x)\n",
    "plt.figure(figsize=(12,8));\n",
    "plt.scatter(xtsne[np.where(y==0), 0], y=xtsne[np.where(y==0), 1], color=\"blue\", label='Normal')\n",
    "plt.scatter(x=xtsne[np.where(y==1), 0], y=xtsne[np.where(y==1), 1], color=\"red\", label='Fraud')\n",
    "plt.title('t-SNE Plot')\n",
    "plt.legend()\n",
    "plt.show()"
   ]
  },
  {
   "cell_type": "code",
   "execution_count": 21,
   "id": "6c0d4dc3",
   "metadata": {},
   "outputs": [
    {
     "data": {
      "image/png": "[encoded data removed]",
      "text/plain": [
       "<Figure size 1200x800 with 1 Axes>"
      ]
     },
     "metadata": {},
     "output_type": "display_data"
    }
   ],
   "source": [
    "pca = PCA(n_components=2, random_state=SEED)\n",
    "xpca = pca.fit_transform(x)\n",
    "plt.figure(figsize=(12,8));\n",
    "plt.scatter(x=xpca[np.where(y==0), 0], y=xpca[np.where(y==0), 1], color=\"blue\", label='Normal')\n",
    "plt.scatter(x=xpca[np.where(y==1), 0], y=xpca[np.where(y==1), 1], color=\"red\", label='Fraud')\n",
    "plt.title('PCA Plot')\n",
    "plt.legend()\n",
    "plt.show()"
   ]
  },
  {
   "cell_type": "markdown",
   "id": "31a69585",
   "metadata": {},
   "source": [
    "#### Normalize the data"
   ]
  },
  {
   "cell_type": "code",
   "execution_count": 25,
   "id": "8e0631dd",
   "metadata": {},
   "outputs": [],
   "source": [
    "from sklearn.preprocessing import MinMaxScaler\n",
    "\n",
    "scaler = MinMaxScaler()\n",
    "\n",
    "scaler.fit_transform(X_train);\n",
    "scaler.transform(X_test);\n",
    "scaler.transform(X_train_f);"
   ]
  },
  {
   "cell_type": "markdown",
   "id": "95e19b52",
   "metadata": {},
   "source": [
    "### Variation AutoEncoder Model"
   ]
  },
  {
   "cell_type": "code",
   "execution_count": 11,
   "id": "277184b8",
   "metadata": {},
   "outputs": [],
   "source": [
    "def sampling(inputs):\n",
    "    z_mean, z_log_var = inputs\n",
    "    epsilon = K.random_normal(shape=(K.shape(z_mean)[0], latent_dim), mean=0.,\n",
    "                              stddev=1.)\n",
    "    return z_mean + K.exp(z_log_var / 2) * epsilon\n",
    "\n",
    "latent_dim = 7;"
   ]
  },
  {
   "cell_type": "code",
   "execution_count": 12,
   "id": "10aafb4a",
   "metadata": {},
   "outputs": [
    {
     "name": "stdout",
     "output_type": "stream",
     "text": [
      "Model: \"model\"\n",
      "__________________________________________________________________________________________________\n",
      " Layer (type)                Output Shape                 Param #   Connected to                  \n",
      "==================================================================================================\n",
      " input_1 (InputLayer)        [(None, 28)]                 0         []                            \n",
      "                                                                                                  \n",
      " dense (Dense)               (None, 14)                   406       ['input_1[0][0]']             \n",
      "                                                                                                  \n",
      " dense_1 (Dense)             (None, 7)                    105       ['dense[0][0]']               \n",
      "                                                                                                  \n",
      " dense_2 (Dense)             (None, 7)                    105       ['dense[0][0]']               \n",
      "                                                                                                  \n",
      " lambda (Lambda)             (None, 7)                    0         ['dense_1[0][0]',             \n",
      "                                                                     'dense_2[0][0]']             \n",
      "                                                                                                  \n",
      " dense_3 (Dense)             (None, 14)                   112       ['lambda[0][0]']              \n",
      "                                                                                                  \n",
      " dense_4 (Dense)             (None, 28)                   420       ['dense_3[0][0]']             \n",
      "                                                                                                  \n",
      "==================================================================================================\n",
      "Total params: 1148 (4.48 KB)\n",
      "Trainable params: 1148 (4.48 KB)\n",
      "Non-trainable params: 0 (0.00 Byte)\n",
      "__________________________________________________________________________________________________\n"
     ]
    }
   ],
   "source": [
    "input_dim = X_train.shape[1]\n",
    "\n",
    "input_layer = Input(shape=(input_dim, ))\n",
    "encoder = Dense(14, activation=\"relu\")(input_layer)\n",
    "\n",
    "z_mean = Dense(latent_dim)(encoder)\n",
    "z_log_var = Dense(latent_dim)(encoder)\n",
    "\n",
    "z = Lambda(sampling, output_shape=(latent_dim,))([z_mean, z_log_var])\n",
    "\n",
    "hid_decoder = Dense(14, activation='relu')(z)\n",
    "decoded_mean = Dense(input_dim)(hid_decoder)\n",
    "\n",
    "vae = Model(inputs=input_layer, outputs=decoded_mean)\n",
    "\n",
    "vae.summary()"
   ]
  },
  {
   "cell_type": "code",
   "execution_count": 13,
   "id": "0846de30",
   "metadata": {},
   "outputs": [],
   "source": [
    "# def vae_loss(x, decoded_mean):\n",
    "#     rec_loss = K.sum(K.square(x - decoded_mean), axis=-1)\n",
    "#     kl_loss = - 0.5 * K.sum(1 + z_log_var - K.square(z_mean) - K.exp(z_log_var), axis=-1)\n",
    "#     return K.mean((rec_loss + kl_loss) / 2)\n",
    "\n",
    "rec_loss = 28 * metrics.mean_squared_error(input_layer, decoded_mean)\n",
    "kl_loss = - 0.5 * K.sum(1 + z_log_var - K.square(z_mean) - K.exp(z_log_var), axis=-1)\n",
    "vae_loss = K.mean(rec_loss + kl_loss)"
   ]
  },
  {
   "cell_type": "code",
   "execution_count": 14,
   "id": "40a93f7c",
   "metadata": {},
   "outputs": [],
   "source": [
    "epochs = 100\n",
    "batch_size = 32\n",
    "\n",
    "vae.add_loss(vae_loss)\n",
    "vae.compile(optimizer='adam')\n",
    "checkpointer = ModelCheckpoint(filepath=\"fraudVAE.pth\", verbose=0, save_best_only=True)"
   ]
  },
  {
   "cell_type": "markdown",
   "id": "99bdb89e",
   "metadata": {},
   "source": [
    "### Training"
   ]
  },
  {
   "cell_type": "code",
   "execution_count": 15,
   "id": "c24d5c33",
   "metadata": {
    "scrolled": true
   },
   "outputs": [
    {
     "name": "stdout",
     "output_type": "stream",
     "text": [
      "Epoch 1/100\n",
      "5580/5598 [============================>.] - ETA: 0s - loss: 24.7412INFO:tensorflow:Assets written to: fraudVAE.pth\\assets\n"
     ]
    },
    {
     "name": "stderr",
     "output_type": "stream",
     "text": [
      "INFO:tensorflow:Assets written to: fraudVAE.pth\\assets\n"
     ]
    },
    {
     "name": "stdout",
     "output_type": "stream",
     "text": [
      "5598/5598 [==============================] - 17s 3ms/step - loss: 24.7297 - val_loss: 20.7688\n",
      "Epoch 2/100\n",
      "5588/5598 [============================>.] - ETA: 0s - loss: 19.9884INFO:tensorflow:Assets written to: fraudVAE.pth\\assets\n"
     ]
    },
    {
     "name": "stderr",
     "output_type": "stream",
     "text": [
      "INFO:tensorflow:Assets written to: fraudVAE.pth\\assets\n"
     ]
    },
    {
     "name": "stdout",
     "output_type": "stream",
     "text": [
      "5598/5598 [==============================] - 14s 3ms/step - loss: 19.9829 - val_loss: 18.8457\n",
      "Epoch 3/100\n",
      "5586/5598 [============================>.] - ETA: 0s - loss: 18.4667INFO:tensorflow:Assets written to: fraudVAE.pth\\assets\n"
     ]
    },
    {
     "name": "stderr",
     "output_type": "stream",
     "text": [
      "INFO:tensorflow:Assets written to: fraudVAE.pth\\assets\n"
     ]
    },
    {
     "name": "stdout",
     "output_type": "stream",
     "text": [
      "5598/5598 [==============================] - 15s 3ms/step - loss: 18.4645 - val_loss: 17.9729\n",
      "Epoch 4/100\n",
      "5593/5598 [============================>.] - ETA: 0s - loss: 17.8185INFO:tensorflow:Assets written to: fraudVAE.pth\\assets\n"
     ]
    },
    {
     "name": "stderr",
     "output_type": "stream",
     "text": [
      "INFO:tensorflow:Assets written to: fraudVAE.pth\\assets\n"
     ]
    },
    {
     "name": "stdout",
     "output_type": "stream",
     "text": [
      "5598/5598 [==============================] - 18s 3ms/step - loss: 17.8182 - val_loss: 17.6058\n",
      "Epoch 5/100\n",
      "5591/5598 [============================>.] - ETA: 0s - loss: 17.4716INFO:tensorflow:Assets written to: fraudVAE.pth\\assets\n"
     ]
    },
    {
     "name": "stderr",
     "output_type": "stream",
     "text": [
      "INFO:tensorflow:Assets written to: fraudVAE.pth\\assets\n"
     ]
    },
    {
     "name": "stdout",
     "output_type": "stream",
     "text": [
      "5598/5598 [==============================] - 16s 3ms/step - loss: 17.4681 - val_loss: 17.2786\n",
      "Epoch 6/100\n",
      "5589/5598 [============================>.] - ETA: 0s - loss: 17.2767INFO:tensorflow:Assets written to: fraudVAE.pth\\assets\n"
     ]
    },
    {
     "name": "stderr",
     "output_type": "stream",
     "text": [
      "INFO:tensorflow:Assets written to: fraudVAE.pth\\assets\n"
     ]
    },
    {
     "name": "stdout",
     "output_type": "stream",
     "text": [
      "5598/5598 [==============================] - 14s 3ms/step - loss: 17.2758 - val_loss: 17.2105\n",
      "Epoch 7/100\n",
      "5595/5598 [============================>.] - ETA: 0s - loss: 17.2034INFO:tensorflow:Assets written to: fraudVAE.pth\\assets\n"
     ]
    },
    {
     "name": "stderr",
     "output_type": "stream",
     "text": [
      "INFO:tensorflow:Assets written to: fraudVAE.pth\\assets\n"
     ]
    },
    {
     "name": "stdout",
     "output_type": "stream",
     "text": [
      "5598/5598 [==============================] - 15s 3ms/step - loss: 17.2036 - val_loss: 17.1520\n",
      "Epoch 8/100\n",
      "5598/5598 [==============================] - 12s 2ms/step - loss: 17.1644 - val_loss: 17.1750\n",
      "Epoch 9/100\n",
      "5579/5598 [============================>.] - ETA: 0s - loss: 17.1191INFO:tensorflow:Assets written to: fraudVAE.pth\\assets\n"
     ]
    },
    {
     "name": "stderr",
     "output_type": "stream",
     "text": [
      "INFO:tensorflow:Assets written to: fraudVAE.pth\\assets\n"
     ]
    },
    {
     "name": "stdout",
     "output_type": "stream",
     "text": [
      "5598/5598 [==============================] - 15s 3ms/step - loss: 17.1159 - val_loss: 17.1315\n",
      "Epoch 10/100\n",
      "5594/5598 [============================>.] - ETA: 0s - loss: 17.0794INFO:tensorflow:Assets written to: fraudVAE.pth\\assets\n"
     ]
    },
    {
     "name": "stderr",
     "output_type": "stream",
     "text": [
      "INFO:tensorflow:Assets written to: fraudVAE.pth\\assets\n"
     ]
    },
    {
     "name": "stdout",
     "output_type": "stream",
     "text": [
      "5598/5598 [==============================] - 15s 3ms/step - loss: 17.0785 - val_loss: 17.0660\n",
      "Epoch 11/100\n",
      "5593/5598 [============================>.] - ETA: 0s - loss: 17.0318INFO:tensorflow:Assets written to: fraudVAE.pth\\assets\n"
     ]
    },
    {
     "name": "stderr",
     "output_type": "stream",
     "text": [
      "INFO:tensorflow:Assets written to: fraudVAE.pth\\assets\n"
     ]
    },
    {
     "name": "stdout",
     "output_type": "stream",
     "text": [
      "5598/5598 [==============================] - 17s 3ms/step - loss: 17.0331 - val_loss: 17.0503\n",
      "Epoch 12/100\n",
      "5580/5598 [============================>.] - ETA: 0s - loss: 17.0177INFO:tensorflow:Assets written to: fraudVAE.pth\\assets\n"
     ]
    },
    {
     "name": "stderr",
     "output_type": "stream",
     "text": [
      "INFO:tensorflow:Assets written to: fraudVAE.pth\\assets\n"
     ]
    },
    {
     "name": "stdout",
     "output_type": "stream",
     "text": [
      "5598/5598 [==============================] - 16s 3ms/step - loss: 17.0156 - val_loss: 16.9929\n",
      "Epoch 13/100\n",
      "5582/5598 [============================>.] - ETA: 0s - loss: 16.9784INFO:tensorflow:Assets written to: fraudVAE.pth\\assets\n"
     ]
    },
    {
     "name": "stderr",
     "output_type": "stream",
     "text": [
      "INFO:tensorflow:Assets written to: fraudVAE.pth\\assets\n"
     ]
    },
    {
     "name": "stdout",
     "output_type": "stream",
     "text": [
      "5598/5598 [==============================] - 15s 3ms/step - loss: 16.9787 - val_loss: 16.9440\n",
      "Epoch 14/100\n",
      "5595/5598 [============================>.] - ETA: 0s - loss: 16.9452INFO:tensorflow:Assets written to: fraudVAE.pth\\assets\n"
     ]
    },
    {
     "name": "stderr",
     "output_type": "stream",
     "text": [
      "INFO:tensorflow:Assets written to: fraudVAE.pth\\assets\n"
     ]
    },
    {
     "name": "stdout",
     "output_type": "stream",
     "text": [
      "5598/5598 [==============================] - 15s 3ms/step - loss: 16.9439 - val_loss: 16.9283\n",
      "Epoch 15/100\n",
      "5592/5598 [============================>.] - ETA: 0s - loss: 16.9071INFO:tensorflow:Assets written to: fraudVAE.pth\\assets\n"
     ]
    },
    {
     "name": "stderr",
     "output_type": "stream",
     "text": [
      "INFO:tensorflow:Assets written to: fraudVAE.pth\\assets\n"
     ]
    },
    {
     "name": "stdout",
     "output_type": "stream",
     "text": [
      "5598/5598 [==============================] - 15s 3ms/step - loss: 16.9053 - val_loss: 16.8691\n",
      "Epoch 16/100\n",
      "5598/5598 [==============================] - 14s 2ms/step - loss: 16.8911 - val_loss: 16.8748\n",
      "Epoch 17/100\n",
      "5583/5598 [============================>.] - ETA: 0s - loss: 16.8785INFO:tensorflow:Assets written to: fraudVAE.pth\\assets\n"
     ]
    },
    {
     "name": "stderr",
     "output_type": "stream",
     "text": [
      "INFO:tensorflow:Assets written to: fraudVAE.pth\\assets\n"
     ]
    },
    {
     "name": "stdout",
     "output_type": "stream",
     "text": [
      "5598/5598 [==============================] - 15s 3ms/step - loss: 16.8777 - val_loss: 16.8495\n",
      "Epoch 18/100\n",
      "5575/5598 [============================>.] - ETA: 0s - loss: 16.8444INFO:tensorflow:Assets written to: fraudVAE.pth\\assets\n"
     ]
    },
    {
     "name": "stderr",
     "output_type": "stream",
     "text": [
      "INFO:tensorflow:Assets written to: fraudVAE.pth\\assets\n"
     ]
    },
    {
     "name": "stdout",
     "output_type": "stream",
     "text": [
      "5598/5598 [==============================] - 18s 3ms/step - loss: 16.8435 - val_loss: 16.8245\n",
      "Epoch 19/100\n",
      "5598/5598 [==============================] - 16s 3ms/step - loss: 16.8479 - val_loss: 16.8447\n",
      "Epoch 20/100\n",
      "5597/5598 [============================>.] - ETA: 0s - loss: 16.8497INFO:tensorflow:Assets written to: fraudVAE.pth\\assets\n"
     ]
    },
    {
     "name": "stderr",
     "output_type": "stream",
     "text": [
      "INFO:tensorflow:Assets written to: fraudVAE.pth\\assets\n"
     ]
    },
    {
     "name": "stdout",
     "output_type": "stream",
     "text": [
      "5598/5598 [==============================] - 15s 3ms/step - loss: 16.8498 - val_loss: 16.8014\n",
      "Epoch 21/100\n",
      "5598/5598 [==============================] - 14s 2ms/step - loss: 16.8176 - val_loss: 16.8330\n",
      "Epoch 22/100\n",
      "5598/5598 [==============================] - 14s 2ms/step - loss: 16.8091 - val_loss: 16.9780\n",
      "Epoch 23/100\n",
      "5598/5598 [==============================] - 15s 3ms/step - loss: 16.8008 - val_loss: 16.8574\n",
      "Epoch 24/100\n",
      "5575/5598 [============================>.] - ETA: 0s - loss: 16.7579INFO:tensorflow:Assets written to: fraudVAE.pth\\assets\n"
     ]
    },
    {
     "name": "stderr",
     "output_type": "stream",
     "text": [
      "INFO:tensorflow:Assets written to: fraudVAE.pth\\assets\n"
     ]
    },
    {
     "name": "stdout",
     "output_type": "stream",
     "text": [
      "5598/5598 [==============================] - 17s 3ms/step - loss: 16.7563 - val_loss: 16.7244\n",
      "Epoch 25/100\n",
      "5594/5598 [============================>.] - ETA: 0s - loss: 16.7469INFO:tensorflow:Assets written to: fraudVAE.pth\\assets\n"
     ]
    },
    {
     "name": "stderr",
     "output_type": "stream",
     "text": [
      "INFO:tensorflow:Assets written to: fraudVAE.pth\\assets\n"
     ]
    },
    {
     "name": "stdout",
     "output_type": "stream",
     "text": [
      "5598/5598 [==============================] - 16s 3ms/step - loss: 16.7461 - val_loss: 16.7171\n",
      "Epoch 26/100\n",
      "5598/5598 [==============================] - 15s 3ms/step - loss: 16.7210 - val_loss: 16.7408\n",
      "Epoch 27/100\n",
      "5595/5598 [============================>.] - ETA: 0s - loss: 16.6971INFO:tensorflow:Assets written to: fraudVAE.pth\\assets\n"
     ]
    },
    {
     "name": "stderr",
     "output_type": "stream",
     "text": [
      "INFO:tensorflow:Assets written to: fraudVAE.pth\\assets\n"
     ]
    },
    {
     "name": "stdout",
     "output_type": "stream",
     "text": [
      "5598/5598 [==============================] - 14s 3ms/step - loss: 16.6982 - val_loss: 16.7082\n",
      "Epoch 28/100\n",
      "5598/5598 [==============================] - 12s 2ms/step - loss: 16.6959 - val_loss: 16.7356\n",
      "Epoch 29/100\n",
      "5589/5598 [============================>.] - ETA: 0s - loss: 16.6771INFO:tensorflow:Assets written to: fraudVAE.pth\\assets\n"
     ]
    },
    {
     "name": "stderr",
     "output_type": "stream",
     "text": [
      "INFO:tensorflow:Assets written to: fraudVAE.pth\\assets\n"
     ]
    },
    {
     "name": "stdout",
     "output_type": "stream",
     "text": [
      "5598/5598 [==============================] - 14s 2ms/step - loss: 16.6763 - val_loss: 16.6946\n",
      "Epoch 30/100\n",
      "5593/5598 [============================>.] - ETA: 0s - loss: 16.6874INFO:tensorflow:Assets written to: fraudVAE.pth\\assets\n"
     ]
    },
    {
     "name": "stderr",
     "output_type": "stream",
     "text": [
      "INFO:tensorflow:Assets written to: fraudVAE.pth\\assets\n"
     ]
    },
    {
     "name": "stdout",
     "output_type": "stream",
     "text": [
      "5598/5598 [==============================] - 14s 2ms/step - loss: 16.6871 - val_loss: 16.6659\n",
      "Epoch 31/100\n",
      "5598/5598 [==============================] - 13s 2ms/step - loss: 16.6851 - val_loss: 16.6943\n",
      "Epoch 32/100\n",
      "5598/5598 [==============================] - 13s 2ms/step - loss: 16.6620 - val_loss: 16.6990\n",
      "Epoch 33/100\n",
      "5598/5598 [==============================] - 13s 2ms/step - loss: 16.6658 - val_loss: 16.6786\n",
      "Epoch 34/100\n",
      "5585/5598 [============================>.] - ETA: 0s - loss: 16.6870INFO:tensorflow:Assets written to: fraudVAE.pth\\assets\n"
     ]
    },
    {
     "name": "stderr",
     "output_type": "stream",
     "text": [
      "INFO:tensorflow:Assets written to: fraudVAE.pth\\assets\n"
     ]
    },
    {
     "name": "stdout",
     "output_type": "stream",
     "text": [
      "5598/5598 [==============================] - 14s 2ms/step - loss: 16.6875 - val_loss: 16.6530\n",
      "Epoch 35/100\n",
      "5598/5598 [==============================] - 16s 3ms/step - loss: 16.6596 - val_loss: 16.6918\n",
      "Epoch 36/100\n",
      "5598/5598 [==============================] - 11s 2ms/step - loss: 16.6649 - val_loss: 16.6866\n",
      "Epoch 37/100\n",
      "5576/5598 [============================>.] - ETA: 0s - loss: 16.6637INFO:tensorflow:Assets written to: fraudVAE.pth\\assets\n"
     ]
    },
    {
     "name": "stderr",
     "output_type": "stream",
     "text": [
      "INFO:tensorflow:Assets written to: fraudVAE.pth\\assets\n"
     ]
    },
    {
     "name": "stdout",
     "output_type": "stream",
     "text": [
      "5598/5598 [==============================] - 13s 2ms/step - loss: 16.6615 - val_loss: 16.6311\n",
      "Epoch 38/100\n",
      "5598/5598 [==============================] - 12s 2ms/step - loss: 16.6875 - val_loss: 16.6436\n",
      "Epoch 39/100\n",
      "5598/5598 [==============================] - 11s 2ms/step - loss: 16.6606 - val_loss: 16.6503\n",
      "Epoch 40/100\n",
      "5598/5598 [==============================] - 11s 2ms/step - loss: 16.6690 - val_loss: 16.7017\n",
      "Epoch 41/100\n",
      "5598/5598 [==============================] - 11s 2ms/step - loss: 16.6893 - val_loss: 16.6535\n",
      "Epoch 42/100\n",
      "5598/5598 [==============================] - 11s 2ms/step - loss: 16.6559 - val_loss: 16.6338\n",
      "Epoch 43/100\n",
      "5598/5598 [==============================] - 12s 2ms/step - loss: 16.6635 - val_loss: 16.7057\n",
      "Epoch 44/100\n",
      "5598/5598 [==============================] - 11s 2ms/step - loss: 16.6574 - val_loss: 16.6605\n",
      "Epoch 45/100\n",
      "5598/5598 [==============================] - 14s 3ms/step - loss: 16.6582 - val_loss: 16.6446\n",
      "Epoch 46/100\n",
      "5598/5598 [==============================] - 13s 2ms/step - loss: 16.6521 - val_loss: 16.6465\n",
      "Epoch 47/100\n",
      "5598/5598 [==============================] - 13s 2ms/step - loss: 16.6588 - val_loss: 16.6677\n",
      "Epoch 48/100\n",
      "5598/5598 [==============================] - 12s 2ms/step - loss: 16.6711 - val_loss: 16.6420\n",
      "Epoch 49/100\n",
      "5598/5598 [==============================] - 12s 2ms/step - loss: 16.6510 - val_loss: 16.6375\n",
      "Epoch 50/100\n",
      "5598/5598 [==============================] - 12s 2ms/step - loss: 16.6466 - val_loss: 16.6745\n",
      "Epoch 51/100\n",
      "5598/5598 [==============================] - 12s 2ms/step - loss: 16.6638 - val_loss: 16.6507\n",
      "Epoch 52/100\n",
      "5598/5598 [==============================] - 12s 2ms/step - loss: 16.6444 - val_loss: 16.6779\n",
      "Epoch 53/100\n",
      "5598/5598 [==============================] - 11s 2ms/step - loss: 16.6485 - val_loss: 16.6658\n",
      "Epoch 54/100\n",
      "5598/5598 [==============================] - 12s 2ms/step - loss: 16.6420 - val_loss: 16.6561\n",
      "Epoch 55/100\n",
      "5598/5598 [==============================] - 12s 2ms/step - loss: 16.6564 - val_loss: 16.6487\n",
      "Epoch 56/100\n",
      "5598/5598 [==============================] - 12s 2ms/step - loss: 16.6549 - val_loss: 16.6779\n",
      "Epoch 57/100\n",
      "5598/5598 [==============================] - 12s 2ms/step - loss: 16.6586 - val_loss: 16.6843\n",
      "Epoch 58/100\n",
      "5578/5598 [============================>.] - ETA: 0s - loss: 16.6390INFO:tensorflow:Assets written to: fraudVAE.pth\\assets\n"
     ]
    },
    {
     "name": "stderr",
     "output_type": "stream",
     "text": [
      "INFO:tensorflow:Assets written to: fraudVAE.pth\\assets\n"
     ]
    },
    {
     "name": "stdout",
     "output_type": "stream",
     "text": [
      "5598/5598 [==============================] - 14s 2ms/step - loss: 16.6414 - val_loss: 16.6007\n",
      "Epoch 59/100\n",
      "5598/5598 [==============================] - 12s 2ms/step - loss: 16.6559 - val_loss: 16.6806\n",
      "Epoch 60/100\n",
      "5598/5598 [==============================] - 12s 2ms/step - loss: 16.6325 - val_loss: 16.6057\n",
      "Epoch 61/100\n",
      "5598/5598 [==============================] - 13s 2ms/step - loss: 16.6459 - val_loss: 16.6387\n",
      "Epoch 62/100\n",
      "5598/5598 [==============================] - 13s 2ms/step - loss: 16.6640 - val_loss: 16.7116\n",
      "Epoch 63/100\n",
      "5598/5598 [==============================] - 13s 2ms/step - loss: 16.6436 - val_loss: 16.6649\n",
      "Epoch 64/100\n",
      "5598/5598 [==============================] - 16s 3ms/step - loss: 16.6478 - val_loss: 16.6306\n",
      "Epoch 65/100\n",
      "5598/5598 [==============================] - 15s 3ms/step - loss: 16.6468 - val_loss: 16.6713\n",
      "Epoch 66/100\n",
      "5598/5598 [==============================] - 13s 2ms/step - loss: 16.6494 - val_loss: 16.6672\n",
      "Epoch 67/100\n",
      "5598/5598 [==============================] - 13s 2ms/step - loss: 16.6423 - val_loss: 16.6224\n",
      "Epoch 68/100\n",
      "5598/5598 [==============================] - 14s 2ms/step - loss: 16.6467 - val_loss: 16.6274\n",
      "Epoch 69/100\n",
      "5598/5598 [==============================] - 14s 2ms/step - loss: 16.6472 - val_loss: 16.6764\n",
      "Epoch 70/100\n",
      "5598/5598 [==============================] - 13s 2ms/step - loss: 16.6376 - val_loss: 16.7708\n",
      "Epoch 71/100\n",
      "5598/5598 [==============================] - 13s 2ms/step - loss: 16.6430 - val_loss: 16.6326\n",
      "Epoch 72/100\n",
      "5598/5598 [==============================] - 15s 3ms/step - loss: 16.6462 - val_loss: 16.6546\n",
      "Epoch 73/100\n",
      "5598/5598 [==============================] - 12s 2ms/step - loss: 16.6398 - val_loss: 16.6393\n",
      "Epoch 74/100\n",
      "5598/5598 [==============================] - 12s 2ms/step - loss: 16.6362 - val_loss: 16.6323\n",
      "Epoch 75/100\n",
      "5598/5598 [==============================] - 12s 2ms/step - loss: 16.6381 - val_loss: 16.6759\n",
      "Epoch 76/100\n",
      "5598/5598 [==============================] - 13s 2ms/step - loss: 16.6519 - val_loss: 16.6363\n",
      "Epoch 77/100\n",
      "5598/5598 [==============================] - 13s 2ms/step - loss: 16.6294 - val_loss: 16.6429\n",
      "Epoch 78/100\n",
      "5598/5598 [==============================] - 15s 3ms/step - loss: 16.6399 - val_loss: 16.6234\n",
      "Epoch 79/100\n",
      "5598/5598 [==============================] - 13s 2ms/step - loss: 16.6381 - val_loss: 16.6153\n",
      "Epoch 80/100\n",
      "5598/5598 [==============================] - 14s 3ms/step - loss: 16.6445 - val_loss: 16.6381\n",
      "Epoch 81/100\n",
      "5598/5598 [==============================] - 12s 2ms/step - loss: 16.6375 - val_loss: 16.6420\n",
      "Epoch 82/100\n",
      "5579/5598 [============================>.] - ETA: 0s - loss: 16.6351INFO:tensorflow:Assets written to: fraudVAE.pth\\assets\n"
     ]
    },
    {
     "name": "stderr",
     "output_type": "stream",
     "text": [
      "INFO:tensorflow:Assets written to: fraudVAE.pth\\assets\n"
     ]
    },
    {
     "name": "stdout",
     "output_type": "stream",
     "text": [
      "5598/5598 [==============================] - 13s 2ms/step - loss: 16.6348 - val_loss: 16.5995\n",
      "Epoch 83/100\n",
      "5598/5598 [==============================] - 13s 2ms/step - loss: 16.6492 - val_loss: 16.6732\n",
      "Epoch 84/100\n",
      "5598/5598 [==============================] - 12s 2ms/step - loss: 16.6397 - val_loss: 16.7426\n",
      "Epoch 85/100\n",
      "5598/5598 [==============================] - 12s 2ms/step - loss: 16.6346 - val_loss: 16.6424\n",
      "Epoch 86/100\n",
      "5598/5598 [==============================] - 11s 2ms/step - loss: 16.6320 - val_loss: 16.6203\n",
      "Epoch 87/100\n",
      "5598/5598 [==============================] - 11s 2ms/step - loss: 16.6525 - val_loss: 16.6422\n",
      "Epoch 88/100\n",
      "5598/5598 [==============================] - 11s 2ms/step - loss: 16.6271 - val_loss: 16.6776\n",
      "Epoch 89/100\n",
      "5598/5598 [==============================] - 11s 2ms/step - loss: 16.6306 - val_loss: 16.6570\n",
      "Epoch 90/100\n",
      "5598/5598 [==============================] - 11s 2ms/step - loss: 16.6211 - val_loss: 16.6496\n",
      "Epoch 91/100\n",
      "5598/5598 [==============================] - 11s 2ms/step - loss: 16.6339 - val_loss: 16.6947\n",
      "Epoch 92/100\n",
      "5598/5598 [==============================] - 11s 2ms/step - loss: 16.6338 - val_loss: 16.6074\n",
      "Epoch 93/100\n",
      "5598/5598 [==============================] - 11s 2ms/step - loss: 16.6169 - val_loss: 16.7371\n",
      "Epoch 94/100\n",
      "5598/5598 [==============================] - 11s 2ms/step - loss: 16.6271 - val_loss: 16.6693\n",
      "Epoch 95/100\n",
      "5598/5598 [==============================] - 11s 2ms/step - loss: 16.6458 - val_loss: 16.6626\n",
      "Epoch 96/100\n",
      "5598/5598 [==============================] - 11s 2ms/step - loss: 16.6391 - val_loss: 16.6488\n",
      "Epoch 97/100\n",
      "5598/5598 [==============================] - 11s 2ms/step - loss: 16.6375 - val_loss: 16.6170\n",
      "Epoch 98/100\n",
      "5598/5598 [==============================] - 11s 2ms/step - loss: 16.6342 - val_loss: 16.6243\n",
      "Epoch 99/100\n",
      "5598/5598 [==============================] - 11s 2ms/step - loss: 16.6341 - val_loss: 16.6098\n",
      "Epoch 100/100\n",
      "5598/5598 [==============================] - 11s 2ms/step - loss: 16.6237 - val_loss: 16.6587\n"
     ]
    }
   ],
   "source": [
    "history = vae.fit(X_train, X_train,\n",
    "                    epochs=epochs,\n",
    "                    batch_size=batch_size,\n",
    "                    shuffle=True,\n",
    "                    validation_split=0.1,\n",
    "                    callbacks=[checkpointer]).history"
   ]
  },
  {
   "cell_type": "code",
   "execution_count": 16,
   "id": "e5436792",
   "metadata": {},
   "outputs": [
    {
     "data": {
      "image/png": "[encoded data removed]",
      "text/plain": [
       "<Figure size 640x480 with 1 Axes>"
      ]
     },
     "metadata": {},
     "output_type": "display_data"
    }
   ],
   "source": [
    "plt.plot(history['loss'])\n",
    "plt.plot(history['val_loss'])\n",
    "plt.title('model loss')\n",
    "plt.ylabel('loss')\n",
    "plt.xlabel('epoch')\n",
    "plt.legend(['train', 'test'], loc='upper right');"
   ]
  },
  {
   "cell_type": "markdown",
   "id": "9812b662",
   "metadata": {},
   "source": [
    "### Test"
   ]
  },
  {
   "cell_type": "code",
   "execution_count": 17,
   "id": "d8ef9f82",
   "metadata": {},
   "outputs": [],
   "source": [
    "#vae = load_model('fraudVAE.pth') \n",
    "# ISSUE: fail to load model using lambda layer  // ref (NameError: Exception encountered when calling layer \"lambda\"0"
   ]
  },
  {
   "cell_type": "code",
   "execution_count": 18,
   "id": "ac2e5cde",
   "metadata": {},
   "outputs": [
    {
     "name": "stdout",
     "output_type": "stream",
     "text": [
      "2671/2671 [==============================] - 4s 1ms/step\n"
     ]
    },
    {
     "data": {
      "text/html": [
       "<div>\n",
       "<style scoped>\n",
       "    .dataframe tbody tr th:only-of-type {\n",
       "        vertical-align: middle;\n",
       "    }\n",
       "\n",
       "    .dataframe tbody tr th {\n",
       "        vertical-align: top;\n",
       "    }\n",
       "\n",
       "    .dataframe thead th {\n",
       "        text-align: right;\n",
       "    }\n",
       "</style>\n",
       "<table border=\"1\" class=\"dataframe\">\n",
       "  <thead>\n",
       "    <tr style=\"text-align: right;\">\n",
       "      <th></th>\n",
       "      <th>reconstruction_error</th>\n",
       "      <th>true_class</th>\n",
       "    </tr>\n",
       "  </thead>\n",
       "  <tbody>\n",
       "    <tr>\n",
       "      <th>count</th>\n",
       "      <td>85443.000000</td>\n",
       "      <td>85443.00000</td>\n",
       "    </tr>\n",
       "    <tr>\n",
       "      <th>mean</th>\n",
       "      <td>0.452781</td>\n",
       "      <td>0.00165</td>\n",
       "    </tr>\n",
       "    <tr>\n",
       "      <th>std</th>\n",
       "      <td>1.451049</td>\n",
       "      <td>0.04059</td>\n",
       "    </tr>\n",
       "    <tr>\n",
       "      <th>min</th>\n",
       "      <td>0.030951</td>\n",
       "      <td>0.00000</td>\n",
       "    </tr>\n",
       "    <tr>\n",
       "      <th>25%</th>\n",
       "      <td>0.231820</td>\n",
       "      <td>0.00000</td>\n",
       "    </tr>\n",
       "    <tr>\n",
       "      <th>50%</th>\n",
       "      <td>0.327128</td>\n",
       "      <td>0.00000</td>\n",
       "    </tr>\n",
       "    <tr>\n",
       "      <th>75%</th>\n",
       "      <td>0.499623</td>\n",
       "      <td>0.00000</td>\n",
       "    </tr>\n",
       "    <tr>\n",
       "      <th>max</th>\n",
       "      <td>73.997036</td>\n",
       "      <td>1.00000</td>\n",
       "    </tr>\n",
       "  </tbody>\n",
       "</table>\n",
       "</div>"
      ],
      "text/plain": [
       "       reconstruction_error   true_class\n",
       "count          85443.000000  85443.00000\n",
       "mean               0.452781      0.00165\n",
       "std                1.451049      0.04059\n",
       "min                0.030951      0.00000\n",
       "25%                0.231820      0.00000\n",
       "50%                0.327128      0.00000\n",
       "75%                0.499623      0.00000\n",
       "max               73.997036      1.00000"
      ]
     },
     "execution_count": 18,
     "metadata": {},
     "output_type": "execute_result"
    }
   ],
   "source": [
    "predictions = vae.predict(X_test)\n",
    "mse = np.mean(np.power(X_test - predictions, 2), axis=1)\n",
    "error_df = pd.DataFrame({'reconstruction_error': mse,\n",
    "                        'true_class': y_test})\n",
    "error_df.describe()"
   ]
  },
  {
   "cell_type": "code",
   "execution_count": 19,
   "id": "4da1351d",
   "metadata": {},
   "outputs": [],
   "source": [
    "threshold = 2.9"
   ]
  },
  {
   "cell_type": "code",
   "execution_count": 20,
   "id": "79018bfb",
   "metadata": {},
   "outputs": [
    {
     "data": {
      "image/png": "[encoded data removed]",
      "text/plain": [
       "<Figure size 640x480 with 1 Axes>"
      ]
     },
     "metadata": {},
     "output_type": "display_data"
    }
   ],
   "source": [
    "groups = error_df.groupby('true_class')\n",
    "fig, ax = plt.subplots()\n",
    "\n",
    "for name, group in groups:\n",
    "    ax.plot(group.index, group.reconstruction_error, marker='o', ms=3.5, linestyle='',\n",
    "            label= \"Fraud\" if name == 1 else \"Normal\")\n",
    "ax.hlines(threshold, ax.get_xlim()[0], ax.get_xlim()[1], colors=\"r\", zorder=100, label='Threshold')\n",
    "ax.legend()\n",
    "plt.title(\"Reconstruction error for different classes\")\n",
    "plt.ylabel(\"Reconstruction error\")\n",
    "plt.xlabel(\"Data point index\")\n",
    "plt.show();"
   ]
  },
  {
   "cell_type": "code",
   "execution_count": 21,
   "id": "a97a4779",
   "metadata": {
    "scrolled": true
   },
   "outputs": [
    {
     "data": {
      "image/png": "[encoded data removed]",
      "text/plain": [
       "<Figure size 1200x1200 with 2 Axes>"
      ]
     },
     "metadata": {},
     "output_type": "display_data"
    }
   ],
   "source": [
    "from sklearn.metrics import classification_report, confusion_matrix, ConfusionMatrixDisplay\n",
    "LABELS = ['Normal','Fraud']\n",
    "\n",
    "y_pred = [1 if e > threshold else 0 for e in error_df.reconstruction_error.values]\n",
    "conf_matrix = confusion_matrix(error_df.true_class, y_pred)\n",
    "plt.figure(figsize=(12, 12))\n",
    "sns.heatmap(conf_matrix, xticklabels=LABELS, yticklabels=LABELS, annot=True, fmt=\"d\");\n",
    "plt.title(\"Confusion matrix\")\n",
    "plt.ylabel('True class')\n",
    "plt.xlabel('Predicted class')\n",
    "plt.show()"
   ]
  },
  {
   "cell_type": "markdown",
   "id": "78da0e18",
   "metadata": {},
   "source": [
    "### Visualize the latent space"
   ]
  },
  {
   "cell_type": "code",
   "execution_count": 22,
   "id": "e8f06329",
   "metadata": {},
   "outputs": [],
   "source": [
    "inp_layer = vae.input\n",
    "out_layer = vae.layers[4].output\n",
    "\n",
    "encoder = Model(inputs=inp_layer, outputs=out_layer)"
   ]
  },
  {
   "cell_type": "code",
   "execution_count": 23,
   "id": "3ef81e12",
   "metadata": {},
   "outputs": [
    {
     "name": "stdout",
     "output_type": "stream",
     "text": [
      "Model: \"model_1\"\n",
      "__________________________________________________________________________________________________\n",
      " Layer (type)                Output Shape                 Param #   Connected to                  \n",
      "==================================================================================================\n",
      " input_1 (InputLayer)        [(None, 28)]                 0         []                            \n",
      "                                                                                                  \n",
      " dense (Dense)               (None, 14)                   406       ['input_1[0][0]']             \n",
      "                                                                                                  \n",
      " dense_1 (Dense)             (None, 7)                    105       ['dense[0][0]']               \n",
      "                                                                                                  \n",
      " dense_2 (Dense)             (None, 7)                    105       ['dense[0][0]']               \n",
      "                                                                                                  \n",
      " lambda (Lambda)             (None, 7)                    0         ['dense_1[0][0]',             \n",
      "                                                                     'dense_2[0][0]']             \n",
      "                                                                                                  \n",
      "==================================================================================================\n",
      "Total params: 616 (2.41 KB)\n",
      "Trainable params: 616 (2.41 KB)\n",
      "Non-trainable params: 0 (0.00 Byte)\n",
      "__________________________________________________________________________________________________\n"
     ]
    }
   ],
   "source": [
    "encoder.summary()"
   ]
  },
  {
   "cell_type": "code",
   "execution_count": 26,
   "id": "c880a548",
   "metadata": {},
   "outputs": [
    {
     "name": "stdout",
     "output_type": "stream",
     "text": [
      "6220/6220 [==============================] - 8s 1ms/step\n",
      "11/11 [==============================] - 0s 2ms/step\n",
      "2671/2671 [==============================] - 4s 1ms/step\n"
     ]
    },
    {
     "data": {
      "image/png": "[encoded data removed]",
      "text/plain": [
       "<Figure size 800x800 with 1 Axes>"
      ]
     },
     "metadata": {},
     "output_type": "display_data"
    }
   ],
   "source": [
    "X_train_encoded = encoder.predict(X_train)\n",
    "X_train_f_encoded = encoder.predict(X_train_f)\n",
    "X_test_encoded = encoder.predict(X_test)\n",
    "\n",
    "X_encoded = np.vstack((X_train_encoded, X_test_encoded))\n",
    "X_encoded = np.vstack((X_encoded, X_train_f_encoded))\n",
    "y_main = np.hstack((np.zeros(len(X_train)), y_test))\n",
    "y_main = np.hstack((y_main, np.ones(len(X_train_f_encoded))))\n",
    "\n",
    "encoded_df = pd.DataFrame(np.hstack((X_encoded, y_main[np.newaxis].transpose())))\n",
    "\n",
    "plt.subplots(figsize=(8,8))\n",
    "plt.scatter(encoded_df[encoded_df[7]==0][0],encoded_df[encoded_df[7]==0][1], color='blue', label='Normal')\n",
    "plt.scatter(encoded_df[encoded_df[7]==1][1],encoded_df[encoded_df[7]==1][1], color='red', label='Fraud');"
   ]
  },
  {
   "cell_type": "markdown",
   "id": "76315e2f",
   "metadata": {},
   "source": [
    "### Generate Fraud data"
   ]
  },
  {
   "cell_type": "code",
   "execution_count": 27,
   "id": "be8e4e14",
   "metadata": {},
   "outputs": [
    {
     "name": "stdout",
     "output_type": "stream",
     "text": [
      "3/3 [==============================] - 0s 3ms/step\n"
     ]
    }
   ],
   "source": [
    "fraud_encodings = encoder.predict(X_train_f,batch_size=128)"
   ]
  },
  {
   "cell_type": "code",
   "execution_count": 28,
   "id": "c57d398e",
   "metadata": {},
   "outputs": [
    {
     "data": {
      "text/plain": [
       "(351, 7)"
      ]
     },
     "execution_count": 28,
     "metadata": {},
     "output_type": "execute_result"
    }
   ],
   "source": [
    "fraud_encodings.shape"
   ]
  },
  {
   "cell_type": "code",
   "execution_count": 31,
   "id": "12e7ce7c",
   "metadata": {},
   "outputs": [
    {
     "name": "stdout",
     "output_type": "stream",
     "text": [
      "Model: \"model_3\"\n",
      "_________________________________________________________________\n",
      " Layer (type)                Output Shape              Param #   \n",
      "=================================================================\n",
      " input_3 (InputLayer)        [(None, 7)]               0         \n",
      "                                                                 \n",
      " dense_3 (Dense)             (None, 14)                112       \n",
      "                                                                 \n",
      " dense_4 (Dense)             (None, 28)                420       \n",
      "                                                                 \n",
      "=================================================================\n",
      "Total params: 532 (2.08 KB)\n",
      "Trainable params: 532 (2.08 KB)\n",
      "Non-trainable params: 0 (0.00 Byte)\n",
      "_________________________________________________________________\n"
     ]
    }
   ],
   "source": [
    "inp_layer = Input(shape=(latent_dim,))\n",
    "h_decoded = vae.layers[5](inp_layer)\n",
    "x_decoded_mean = vae.layers[6](h_decoded)\n",
    "\n",
    "generator = Model(inputs=inp_layer, outputs=x_decoded_mean )\n",
    "\n",
    "generator.summary()"
   ]
  },
  {
   "cell_type": "code",
   "execution_count": 32,
   "id": "f854f78e",
   "metadata": {},
   "outputs": [
    {
     "name": "stdout",
     "output_type": "stream",
     "text": [
      "11/11 [==============================] - 0s 2ms/step\n"
     ]
    }
   ],
   "source": [
    "more_frauds = generator.predict(fraud_encodings)"
   ]
  },
  {
   "cell_type": "code",
   "execution_count": 53,
   "id": "d88eae8f",
   "metadata": {},
   "outputs": [],
   "source": [
    "x3 = more_frauds\n",
    "\n",
    "genClass = np.full((x3.shape[0], 1), 2)\n",
    "x3 = np.hstack((x3, genClass))\n",
    "\n",
    "x3 = pd.DataFrame(x3)\n",
    "\n",
    "x3.columns = ['V1','V2','V3','V4','V5','V6','V7','V8','V9','V10',\n",
    "              'V11','V12','V13','V14','V15','V16','V17','V18','V19','V20',\n",
    "              'V21','V22','V23','V24','V25','V26','V27','V28','Class']"
   ]
  },
  {
   "cell_type": "code",
   "execution_count": 54,
   "id": "21472ca5",
   "metadata": {},
   "outputs": [
    {
     "data": {
      "text/html": [
       "<div>\n",
       "<style scoped>\n",
       "    .dataframe tbody tr th:only-of-type {\n",
       "        vertical-align: middle;\n",
       "    }\n",
       "\n",
       "    .dataframe tbody tr th {\n",
       "        vertical-align: top;\n",
       "    }\n",
       "\n",
       "    .dataframe thead th {\n",
       "        text-align: right;\n",
       "    }\n",
       "</style>\n",
       "<table border=\"1\" class=\"dataframe\">\n",
       "  <thead>\n",
       "    <tr style=\"text-align: right;\">\n",
       "      <th></th>\n",
       "      <th>V1</th>\n",
       "      <th>V2</th>\n",
       "      <th>V3</th>\n",
       "      <th>V4</th>\n",
       "      <th>V5</th>\n",
       "      <th>V6</th>\n",
       "      <th>V7</th>\n",
       "      <th>V8</th>\n",
       "      <th>V9</th>\n",
       "      <th>V10</th>\n",
       "      <th>...</th>\n",
       "      <th>V20</th>\n",
       "      <th>V21</th>\n",
       "      <th>V22</th>\n",
       "      <th>V23</th>\n",
       "      <th>V24</th>\n",
       "      <th>V25</th>\n",
       "      <th>V26</th>\n",
       "      <th>V27</th>\n",
       "      <th>V28</th>\n",
       "      <th>Class</th>\n",
       "    </tr>\n",
       "  </thead>\n",
       "  <tbody>\n",
       "    <tr>\n",
       "      <th>0</th>\n",
       "      <td>-2.581928</td>\n",
       "      <td>2.704674</td>\n",
       "      <td>-3.330681</td>\n",
       "      <td>-0.367649</td>\n",
       "      <td>-0.251604</td>\n",
       "      <td>-1.336160</td>\n",
       "      <td>-0.372700</td>\n",
       "      <td>1.532759</td>\n",
       "      <td>-0.072532</td>\n",
       "      <td>-1.342818</td>\n",
       "      <td>...</td>\n",
       "      <td>-0.178790</td>\n",
       "      <td>0.149397</td>\n",
       "      <td>-0.003829</td>\n",
       "      <td>-0.084779</td>\n",
       "      <td>-0.122519</td>\n",
       "      <td>0.064003</td>\n",
       "      <td>0.038014</td>\n",
       "      <td>-0.111928</td>\n",
       "      <td>-0.031978</td>\n",
       "      <td>2.0</td>\n",
       "    </tr>\n",
       "    <tr>\n",
       "      <th>1</th>\n",
       "      <td>-3.731385</td>\n",
       "      <td>1.248842</td>\n",
       "      <td>-2.943464</td>\n",
       "      <td>1.450462</td>\n",
       "      <td>0.976391</td>\n",
       "      <td>-1.205422</td>\n",
       "      <td>-1.132689</td>\n",
       "      <td>0.247417</td>\n",
       "      <td>-0.431154</td>\n",
       "      <td>-0.597348</td>\n",
       "      <td>...</td>\n",
       "      <td>-1.886240</td>\n",
       "      <td>-0.899697</td>\n",
       "      <td>0.376252</td>\n",
       "      <td>-0.089358</td>\n",
       "      <td>-0.091137</td>\n",
       "      <td>0.133788</td>\n",
       "      <td>-0.020744</td>\n",
       "      <td>0.028054</td>\n",
       "      <td>0.022995</td>\n",
       "      <td>2.0</td>\n",
       "    </tr>\n",
       "    <tr>\n",
       "      <th>2</th>\n",
       "      <td>-11.368033</td>\n",
       "      <td>4.041985</td>\n",
       "      <td>-11.594732</td>\n",
       "      <td>1.226524</td>\n",
       "      <td>-1.979849</td>\n",
       "      <td>0.991889</td>\n",
       "      <td>-6.693286</td>\n",
       "      <td>8.321036</td>\n",
       "      <td>-2.774864</td>\n",
       "      <td>-0.815930</td>\n",
       "      <td>...</td>\n",
       "      <td>-0.398868</td>\n",
       "      <td>0.791185</td>\n",
       "      <td>-0.819754</td>\n",
       "      <td>-0.026452</td>\n",
       "      <td>0.295966</td>\n",
       "      <td>0.293447</td>\n",
       "      <td>-0.094465</td>\n",
       "      <td>-0.467262</td>\n",
       "      <td>-0.328767</td>\n",
       "      <td>2.0</td>\n",
       "    </tr>\n",
       "    <tr>\n",
       "      <th>3</th>\n",
       "      <td>-0.726672</td>\n",
       "      <td>1.290514</td>\n",
       "      <td>1.225336</td>\n",
       "      <td>2.757220</td>\n",
       "      <td>0.645075</td>\n",
       "      <td>0.371755</td>\n",
       "      <td>0.665076</td>\n",
       "      <td>0.066785</td>\n",
       "      <td>-1.370964</td>\n",
       "      <td>0.805101</td>\n",
       "      <td>...</td>\n",
       "      <td>-0.018431</td>\n",
       "      <td>0.034664</td>\n",
       "      <td>0.128342</td>\n",
       "      <td>-0.038838</td>\n",
       "      <td>-0.037353</td>\n",
       "      <td>-0.117493</td>\n",
       "      <td>-0.172137</td>\n",
       "      <td>0.009423</td>\n",
       "      <td>0.005840</td>\n",
       "      <td>2.0</td>\n",
       "    </tr>\n",
       "    <tr>\n",
       "      <th>4</th>\n",
       "      <td>1.094130</td>\n",
       "      <td>0.913824</td>\n",
       "      <td>-1.427350</td>\n",
       "      <td>2.581344</td>\n",
       "      <td>0.945777</td>\n",
       "      <td>-0.376949</td>\n",
       "      <td>0.532624</td>\n",
       "      <td>-0.128809</td>\n",
       "      <td>-0.648908</td>\n",
       "      <td>0.113497</td>\n",
       "      <td>...</td>\n",
       "      <td>0.004006</td>\n",
       "      <td>0.048201</td>\n",
       "      <td>0.108831</td>\n",
       "      <td>-0.057503</td>\n",
       "      <td>-0.083553</td>\n",
       "      <td>0.007871</td>\n",
       "      <td>-0.112939</td>\n",
       "      <td>0.018052</td>\n",
       "      <td>0.011396</td>\n",
       "      <td>2.0</td>\n",
       "    </tr>\n",
       "    <tr>\n",
       "      <th>...</th>\n",
       "      <td>...</td>\n",
       "      <td>...</td>\n",
       "      <td>...</td>\n",
       "      <td>...</td>\n",
       "      <td>...</td>\n",
       "      <td>...</td>\n",
       "      <td>...</td>\n",
       "      <td>...</td>\n",
       "      <td>...</td>\n",
       "      <td>...</td>\n",
       "      <td>...</td>\n",
       "      <td>...</td>\n",
       "      <td>...</td>\n",
       "      <td>...</td>\n",
       "      <td>...</td>\n",
       "      <td>...</td>\n",
       "      <td>...</td>\n",
       "      <td>...</td>\n",
       "      <td>...</td>\n",
       "      <td>...</td>\n",
       "      <td>...</td>\n",
       "    </tr>\n",
       "    <tr>\n",
       "      <th>346</th>\n",
       "      <td>0.141897</td>\n",
       "      <td>0.705428</td>\n",
       "      <td>-0.487458</td>\n",
       "      <td>-0.110273</td>\n",
       "      <td>0.718068</td>\n",
       "      <td>-0.763892</td>\n",
       "      <td>0.757603</td>\n",
       "      <td>-0.146103</td>\n",
       "      <td>-0.128316</td>\n",
       "      <td>-0.547947</td>\n",
       "      <td>...</td>\n",
       "      <td>-0.056643</td>\n",
       "      <td>-0.009966</td>\n",
       "      <td>-0.045179</td>\n",
       "      <td>-0.013882</td>\n",
       "      <td>-0.047404</td>\n",
       "      <td>-0.061351</td>\n",
       "      <td>0.032390</td>\n",
       "      <td>-0.003306</td>\n",
       "      <td>0.017164</td>\n",
       "      <td>2.0</td>\n",
       "    </tr>\n",
       "    <tr>\n",
       "      <th>347</th>\n",
       "      <td>-16.379808</td>\n",
       "      <td>5.959908</td>\n",
       "      <td>-10.464544</td>\n",
       "      <td>0.236681</td>\n",
       "      <td>-8.616181</td>\n",
       "      <td>2.121989</td>\n",
       "      <td>-14.124516</td>\n",
       "      <td>-4.659420</td>\n",
       "      <td>-2.999813</td>\n",
       "      <td>-3.427755</td>\n",
       "      <td>...</td>\n",
       "      <td>2.853714</td>\n",
       "      <td>-6.251483</td>\n",
       "      <td>1.302073</td>\n",
       "      <td>0.291136</td>\n",
       "      <td>-0.003233</td>\n",
       "      <td>0.311270</td>\n",
       "      <td>-0.016590</td>\n",
       "      <td>-0.669065</td>\n",
       "      <td>-0.234157</td>\n",
       "      <td>2.0</td>\n",
       "    </tr>\n",
       "    <tr>\n",
       "      <th>348</th>\n",
       "      <td>0.030221</td>\n",
       "      <td>1.963742</td>\n",
       "      <td>-3.789804</td>\n",
       "      <td>1.958025</td>\n",
       "      <td>2.409731</td>\n",
       "      <td>-1.202701</td>\n",
       "      <td>1.291569</td>\n",
       "      <td>-0.104759</td>\n",
       "      <td>-0.510761</td>\n",
       "      <td>-2.280032</td>\n",
       "      <td>...</td>\n",
       "      <td>0.109681</td>\n",
       "      <td>0.170345</td>\n",
       "      <td>0.452584</td>\n",
       "      <td>-0.186057</td>\n",
       "      <td>-0.294366</td>\n",
       "      <td>0.037769</td>\n",
       "      <td>-0.062999</td>\n",
       "      <td>0.064035</td>\n",
       "      <td>0.012876</td>\n",
       "      <td>2.0</td>\n",
       "    </tr>\n",
       "    <tr>\n",
       "      <th>349</th>\n",
       "      <td>-9.232622</td>\n",
       "      <td>4.332595</td>\n",
       "      <td>-8.778335</td>\n",
       "      <td>1.863233</td>\n",
       "      <td>-0.552695</td>\n",
       "      <td>2.917660</td>\n",
       "      <td>-6.144680</td>\n",
       "      <td>7.445211</td>\n",
       "      <td>-2.925618</td>\n",
       "      <td>0.394219</td>\n",
       "      <td>...</td>\n",
       "      <td>-0.750163</td>\n",
       "      <td>0.534243</td>\n",
       "      <td>-0.630465</td>\n",
       "      <td>-0.010535</td>\n",
       "      <td>0.479870</td>\n",
       "      <td>0.225663</td>\n",
       "      <td>-0.182818</td>\n",
       "      <td>-0.415844</td>\n",
       "      <td>-0.235804</td>\n",
       "      <td>2.0</td>\n",
       "    </tr>\n",
       "    <tr>\n",
       "      <th>350</th>\n",
       "      <td>0.025778</td>\n",
       "      <td>0.797512</td>\n",
       "      <td>-0.107607</td>\n",
       "      <td>0.440006</td>\n",
       "      <td>0.683307</td>\n",
       "      <td>-0.547540</td>\n",
       "      <td>0.745587</td>\n",
       "      <td>-0.119334</td>\n",
       "      <td>-0.416165</td>\n",
       "      <td>-0.171950</td>\n",
       "      <td>...</td>\n",
       "      <td>-0.056257</td>\n",
       "      <td>-0.010264</td>\n",
       "      <td>-0.037833</td>\n",
       "      <td>-0.009830</td>\n",
       "      <td>-0.036556</td>\n",
       "      <td>-0.077251</td>\n",
       "      <td>-0.009348</td>\n",
       "      <td>-0.002468</td>\n",
       "      <td>0.014894</td>\n",
       "      <td>2.0</td>\n",
       "    </tr>\n",
       "  </tbody>\n",
       "</table>\n",
       "<p>351 rows × 29 columns</p>\n",
       "</div>"
      ],
      "text/plain": [
       "            V1        V2         V3        V4        V5        V6         V7  \\\n",
       "0    -2.581928  2.704674  -3.330681 -0.367649 -0.251604 -1.336160  -0.372700   \n",
       "1    -3.731385  1.248842  -2.943464  1.450462  0.976391 -1.205422  -1.132689   \n",
       "2   -11.368033  4.041985 -11.594732  1.226524 -1.979849  0.991889  -6.693286   \n",
       "3    -0.726672  1.290514   1.225336  2.757220  0.645075  0.371755   0.665076   \n",
       "4     1.094130  0.913824  -1.427350  2.581344  0.945777 -0.376949   0.532624   \n",
       "..         ...       ...        ...       ...       ...       ...        ...   \n",
       "346   0.141897  0.705428  -0.487458 -0.110273  0.718068 -0.763892   0.757603   \n",
       "347 -16.379808  5.959908 -10.464544  0.236681 -8.616181  2.121989 -14.124516   \n",
       "348   0.030221  1.963742  -3.789804  1.958025  2.409731 -1.202701   1.291569   \n",
       "349  -9.232622  4.332595  -8.778335  1.863233 -0.552695  2.917660  -6.144680   \n",
       "350   0.025778  0.797512  -0.107607  0.440006  0.683307 -0.547540   0.745587   \n",
       "\n",
       "           V8        V9       V10  ...       V20       V21       V22  \\\n",
       "0    1.532759 -0.072532 -1.342818  ... -0.178790  0.149397 -0.003829   \n",
       "1    0.247417 -0.431154 -0.597348  ... -1.886240 -0.899697  0.376252   \n",
       "2    8.321036 -2.774864 -0.815930  ... -0.398868  0.791185 -0.819754   \n",
       "3    0.066785 -1.370964  0.805101  ... -0.018431  0.034664  0.128342   \n",
       "4   -0.128809 -0.648908  0.113497  ...  0.004006  0.048201  0.108831   \n",
       "..        ...       ...       ...  ...       ...       ...       ...   \n",
       "346 -0.146103 -0.128316 -0.547947  ... -0.056643 -0.009966 -0.045179   \n",
       "347 -4.659420 -2.999813 -3.427755  ...  2.853714 -6.251483  1.302073   \n",
       "348 -0.104759 -0.510761 -2.280032  ...  0.109681  0.170345  0.452584   \n",
       "349  7.445211 -2.925618  0.394219  ... -0.750163  0.534243 -0.630465   \n",
       "350 -0.119334 -0.416165 -0.171950  ... -0.056257 -0.010264 -0.037833   \n",
       "\n",
       "          V23       V24       V25       V26       V27       V28  Class  \n",
       "0   -0.084779 -0.122519  0.064003  0.038014 -0.111928 -0.031978    2.0  \n",
       "1   -0.089358 -0.091137  0.133788 -0.020744  0.028054  0.022995    2.0  \n",
       "2   -0.026452  0.295966  0.293447 -0.094465 -0.467262 -0.328767    2.0  \n",
       "3   -0.038838 -0.037353 -0.117493 -0.172137  0.009423  0.005840    2.0  \n",
       "4   -0.057503 -0.083553  0.007871 -0.112939  0.018052  0.011396    2.0  \n",
       "..        ...       ...       ...       ...       ...       ...    ...  \n",
       "346 -0.013882 -0.047404 -0.061351  0.032390 -0.003306  0.017164    2.0  \n",
       "347  0.291136 -0.003233  0.311270 -0.016590 -0.669065 -0.234157    2.0  \n",
       "348 -0.186057 -0.294366  0.037769 -0.062999  0.064035  0.012876    2.0  \n",
       "349 -0.010535  0.479870  0.225663 -0.182818 -0.415844 -0.235804    2.0  \n",
       "350 -0.009830 -0.036556 -0.077251 -0.009348 -0.002468  0.014894    2.0  \n",
       "\n",
       "[351 rows x 29 columns]"
      ]
     },
     "execution_count": 54,
     "metadata": {},
     "output_type": "execute_result"
    }
   ],
   "source": [
    "x3"
   ]
  },
  {
   "cell_type": "code",
   "execution_count": 55,
   "id": "62540edf",
   "metadata": {},
   "outputs": [],
   "source": [
    "x1 = df[df.Class == 1]\n",
    "x2 = df[df.Class == 0].sample(1000)\n",
    "x3 = x3\n",
    "\n",
    "dfd = x1.append(x2).sample(frac=1).reset_index(drop=True)\n",
    "dfd = dfd.append(x3).sample(frac=1).reset_index(drop=True)\n",
    "x, y = dfd.drop(['Class'], axis=1).values, dfd['Class'].values\n",
    "\n",
    "SEED = 42"
   ]
  },
  {
   "cell_type": "code",
   "execution_count": 57,
   "id": "2164fee0",
   "metadata": {},
   "outputs": [
    {
     "data": {
      "text/html": [
       "<div>\n",
       "<style scoped>\n",
       "    .dataframe tbody tr th:only-of-type {\n",
       "        vertical-align: middle;\n",
       "    }\n",
       "\n",
       "    .dataframe tbody tr th {\n",
       "        vertical-align: top;\n",
       "    }\n",
       "\n",
       "    .dataframe thead th {\n",
       "        text-align: right;\n",
       "    }\n",
       "</style>\n",
       "<table border=\"1\" class=\"dataframe\">\n",
       "  <thead>\n",
       "    <tr style=\"text-align: right;\">\n",
       "      <th></th>\n",
       "      <th>V1</th>\n",
       "      <th>V2</th>\n",
       "      <th>V3</th>\n",
       "      <th>V4</th>\n",
       "      <th>V5</th>\n",
       "      <th>V6</th>\n",
       "      <th>V7</th>\n",
       "      <th>V8</th>\n",
       "      <th>V9</th>\n",
       "      <th>V10</th>\n",
       "      <th>...</th>\n",
       "      <th>V20</th>\n",
       "      <th>V21</th>\n",
       "      <th>V22</th>\n",
       "      <th>V23</th>\n",
       "      <th>V24</th>\n",
       "      <th>V25</th>\n",
       "      <th>V26</th>\n",
       "      <th>V27</th>\n",
       "      <th>V28</th>\n",
       "      <th>Class</th>\n",
       "    </tr>\n",
       "  </thead>\n",
       "  <tbody>\n",
       "    <tr>\n",
       "      <th>0</th>\n",
       "      <td>-0.981073</td>\n",
       "      <td>-1.054425</td>\n",
       "      <td>1.535837</td>\n",
       "      <td>-1.286927</td>\n",
       "      <td>-1.056164</td>\n",
       "      <td>-0.221630</td>\n",
       "      <td>-1.688985</td>\n",
       "      <td>0.735623</td>\n",
       "      <td>-2.607306</td>\n",
       "      <td>1.190766</td>\n",
       "      <td>...</td>\n",
       "      <td>-0.079825</td>\n",
       "      <td>0.232926</td>\n",
       "      <td>0.660218</td>\n",
       "      <td>-0.043841</td>\n",
       "      <td>0.006211</td>\n",
       "      <td>-0.529942</td>\n",
       "      <td>-0.012445</td>\n",
       "      <td>0.090579</td>\n",
       "      <td>-0.058876</td>\n",
       "      <td>0.0</td>\n",
       "    </tr>\n",
       "    <tr>\n",
       "      <th>1</th>\n",
       "      <td>-1.742875</td>\n",
       "      <td>0.129421</td>\n",
       "      <td>0.437505</td>\n",
       "      <td>1.594440</td>\n",
       "      <td>-0.186034</td>\n",
       "      <td>-0.441448</td>\n",
       "      <td>-0.493048</td>\n",
       "      <td>0.952185</td>\n",
       "      <td>0.082712</td>\n",
       "      <td>-0.795485</td>\n",
       "      <td>...</td>\n",
       "      <td>-0.073099</td>\n",
       "      <td>-0.231754</td>\n",
       "      <td>-1.079812</td>\n",
       "      <td>0.112445</td>\n",
       "      <td>-0.085211</td>\n",
       "      <td>-0.862918</td>\n",
       "      <td>-1.033244</td>\n",
       "      <td>-0.136979</td>\n",
       "      <td>-0.045538</td>\n",
       "      <td>0.0</td>\n",
       "    </tr>\n",
       "    <tr>\n",
       "      <th>2</th>\n",
       "      <td>1.269019</td>\n",
       "      <td>-1.049485</td>\n",
       "      <td>0.690348</td>\n",
       "      <td>-0.368530</td>\n",
       "      <td>-1.446805</td>\n",
       "      <td>0.081722</td>\n",
       "      <td>-1.061758</td>\n",
       "      <td>0.248508</td>\n",
       "      <td>0.079047</td>\n",
       "      <td>0.634561</td>\n",
       "      <td>...</td>\n",
       "      <td>-0.565449</td>\n",
       "      <td>-0.507644</td>\n",
       "      <td>-0.851706</td>\n",
       "      <td>-0.004601</td>\n",
       "      <td>0.017472</td>\n",
       "      <td>0.221532</td>\n",
       "      <td>1.072242</td>\n",
       "      <td>-0.042064</td>\n",
       "      <td>-0.004055</td>\n",
       "      <td>0.0</td>\n",
       "    </tr>\n",
       "    <tr>\n",
       "      <th>3</th>\n",
       "      <td>-1.548788</td>\n",
       "      <td>1.808698</td>\n",
       "      <td>-0.953509</td>\n",
       "      <td>2.213085</td>\n",
       "      <td>-2.015728</td>\n",
       "      <td>-0.913457</td>\n",
       "      <td>-2.356013</td>\n",
       "      <td>1.197169</td>\n",
       "      <td>-1.678374</td>\n",
       "      <td>-3.538650</td>\n",
       "      <td>...</td>\n",
       "      <td>0.390786</td>\n",
       "      <td>0.855138</td>\n",
       "      <td>0.774745</td>\n",
       "      <td>0.059037</td>\n",
       "      <td>0.343200</td>\n",
       "      <td>-0.468938</td>\n",
       "      <td>-0.278338</td>\n",
       "      <td>0.625922</td>\n",
       "      <td>0.395573</td>\n",
       "      <td>1.0</td>\n",
       "    </tr>\n",
       "    <tr>\n",
       "      <th>4</th>\n",
       "      <td>-0.059124</td>\n",
       "      <td>1.614806</td>\n",
       "      <td>-0.649401</td>\n",
       "      <td>2.066073</td>\n",
       "      <td>2.652684</td>\n",
       "      <td>-0.446829</td>\n",
       "      <td>2.456776</td>\n",
       "      <td>-0.731886</td>\n",
       "      <td>-0.910232</td>\n",
       "      <td>0.418503</td>\n",
       "      <td>...</td>\n",
       "      <td>-0.221121</td>\n",
       "      <td>0.261565</td>\n",
       "      <td>1.074848</td>\n",
       "      <td>-0.226621</td>\n",
       "      <td>0.449134</td>\n",
       "      <td>-0.244955</td>\n",
       "      <td>-0.136384</td>\n",
       "      <td>-0.061163</td>\n",
       "      <td>0.016408</td>\n",
       "      <td>0.0</td>\n",
       "    </tr>\n",
       "    <tr>\n",
       "      <th>...</th>\n",
       "      <td>...</td>\n",
       "      <td>...</td>\n",
       "      <td>...</td>\n",
       "      <td>...</td>\n",
       "      <td>...</td>\n",
       "      <td>...</td>\n",
       "      <td>...</td>\n",
       "      <td>...</td>\n",
       "      <td>...</td>\n",
       "      <td>...</td>\n",
       "      <td>...</td>\n",
       "      <td>...</td>\n",
       "      <td>...</td>\n",
       "      <td>...</td>\n",
       "      <td>...</td>\n",
       "      <td>...</td>\n",
       "      <td>...</td>\n",
       "      <td>...</td>\n",
       "      <td>...</td>\n",
       "      <td>...</td>\n",
       "      <td>...</td>\n",
       "    </tr>\n",
       "    <tr>\n",
       "      <th>1838</th>\n",
       "      <td>-4.806649</td>\n",
       "      <td>4.493135</td>\n",
       "      <td>-2.941746</td>\n",
       "      <td>-1.533288</td>\n",
       "      <td>-0.748879</td>\n",
       "      <td>-0.412758</td>\n",
       "      <td>-0.626433</td>\n",
       "      <td>1.414857</td>\n",
       "      <td>2.479406</td>\n",
       "      <td>3.543429</td>\n",
       "      <td>...</td>\n",
       "      <td>1.436092</td>\n",
       "      <td>-0.655500</td>\n",
       "      <td>-1.661810</td>\n",
       "      <td>0.597773</td>\n",
       "      <td>-0.002850</td>\n",
       "      <td>-0.357817</td>\n",
       "      <td>-0.201918</td>\n",
       "      <td>0.577284</td>\n",
       "      <td>0.865760</td>\n",
       "      <td>0.0</td>\n",
       "    </tr>\n",
       "    <tr>\n",
       "      <th>1839</th>\n",
       "      <td>1.397040</td>\n",
       "      <td>-1.127020</td>\n",
       "      <td>-1.319603</td>\n",
       "      <td>1.276149</td>\n",
       "      <td>-0.111331</td>\n",
       "      <td>0.388876</td>\n",
       "      <td>0.046203</td>\n",
       "      <td>0.086879</td>\n",
       "      <td>0.605192</td>\n",
       "      <td>0.262953</td>\n",
       "      <td>...</td>\n",
       "      <td>0.340824</td>\n",
       "      <td>0.225587</td>\n",
       "      <td>0.014675</td>\n",
       "      <td>-0.133403</td>\n",
       "      <td>0.152982</td>\n",
       "      <td>-0.089531</td>\n",
       "      <td>-0.705534</td>\n",
       "      <td>-0.038416</td>\n",
       "      <td>0.004198</td>\n",
       "      <td>0.0</td>\n",
       "    </tr>\n",
       "    <tr>\n",
       "      <th>1840</th>\n",
       "      <td>-0.639191</td>\n",
       "      <td>-0.085595</td>\n",
       "      <td>1.265452</td>\n",
       "      <td>1.401166</td>\n",
       "      <td>-0.260542</td>\n",
       "      <td>1.009795</td>\n",
       "      <td>1.301999</td>\n",
       "      <td>-0.135258</td>\n",
       "      <td>-0.431521</td>\n",
       "      <td>-0.091353</td>\n",
       "      <td>...</td>\n",
       "      <td>0.861307</td>\n",
       "      <td>0.340331</td>\n",
       "      <td>0.760170</td>\n",
       "      <td>0.353377</td>\n",
       "      <td>-0.778893</td>\n",
       "      <td>-0.070681</td>\n",
       "      <td>-0.033355</td>\n",
       "      <td>-0.061962</td>\n",
       "      <td>-0.062687</td>\n",
       "      <td>1.0</td>\n",
       "    </tr>\n",
       "    <tr>\n",
       "      <th>1841</th>\n",
       "      <td>-0.278910</td>\n",
       "      <td>0.971748</td>\n",
       "      <td>0.426315</td>\n",
       "      <td>-0.765525</td>\n",
       "      <td>1.617922</td>\n",
       "      <td>-0.574353</td>\n",
       "      <td>1.546111</td>\n",
       "      <td>-0.653585</td>\n",
       "      <td>-0.196572</td>\n",
       "      <td>-0.696537</td>\n",
       "      <td>...</td>\n",
       "      <td>0.132742</td>\n",
       "      <td>-0.372875</td>\n",
       "      <td>-0.719818</td>\n",
       "      <td>-0.148126</td>\n",
       "      <td>0.404917</td>\n",
       "      <td>-0.297241</td>\n",
       "      <td>0.089815</td>\n",
       "      <td>-0.386614</td>\n",
       "      <td>-0.269385</td>\n",
       "      <td>0.0</td>\n",
       "    </tr>\n",
       "    <tr>\n",
       "      <th>1842</th>\n",
       "      <td>2.072492</td>\n",
       "      <td>-0.039817</td>\n",
       "      <td>-1.122372</td>\n",
       "      <td>0.379965</td>\n",
       "      <td>-0.053946</td>\n",
       "      <td>-1.124611</td>\n",
       "      <td>0.195711</td>\n",
       "      <td>-0.337264</td>\n",
       "      <td>0.520589</td>\n",
       "      <td>0.067410</td>\n",
       "      <td>...</td>\n",
       "      <td>-0.206121</td>\n",
       "      <td>-0.296498</td>\n",
       "      <td>-0.709571</td>\n",
       "      <td>0.319356</td>\n",
       "      <td>-0.104751</td>\n",
       "      <td>-0.271829</td>\n",
       "      <td>0.204377</td>\n",
       "      <td>-0.069622</td>\n",
       "      <td>-0.060961</td>\n",
       "      <td>0.0</td>\n",
       "    </tr>\n",
       "  </tbody>\n",
       "</table>\n",
       "<p>1843 rows × 29 columns</p>\n",
       "</div>"
      ],
      "text/plain": [
       "            V1        V2        V3        V4        V5        V6        V7  \\\n",
       "0    -0.981073 -1.054425  1.535837 -1.286927 -1.056164 -0.221630 -1.688985   \n",
       "1    -1.742875  0.129421  0.437505  1.594440 -0.186034 -0.441448 -0.493048   \n",
       "2     1.269019 -1.049485  0.690348 -0.368530 -1.446805  0.081722 -1.061758   \n",
       "3    -1.548788  1.808698 -0.953509  2.213085 -2.015728 -0.913457 -2.356013   \n",
       "4    -0.059124  1.614806 -0.649401  2.066073  2.652684 -0.446829  2.456776   \n",
       "...        ...       ...       ...       ...       ...       ...       ...   \n",
       "1838 -4.806649  4.493135 -2.941746 -1.533288 -0.748879 -0.412758 -0.626433   \n",
       "1839  1.397040 -1.127020 -1.319603  1.276149 -0.111331  0.388876  0.046203   \n",
       "1840 -0.639191 -0.085595  1.265452  1.401166 -0.260542  1.009795  1.301999   \n",
       "1841 -0.278910  0.971748  0.426315 -0.765525  1.617922 -0.574353  1.546111   \n",
       "1842  2.072492 -0.039817 -1.122372  0.379965 -0.053946 -1.124611  0.195711   \n",
       "\n",
       "            V8        V9       V10  ...       V20       V21       V22  \\\n",
       "0     0.735623 -2.607306  1.190766  ... -0.079825  0.232926  0.660218   \n",
       "1     0.952185  0.082712 -0.795485  ... -0.073099 -0.231754 -1.079812   \n",
       "2     0.248508  0.079047  0.634561  ... -0.565449 -0.507644 -0.851706   \n",
       "3     1.197169 -1.678374 -3.538650  ...  0.390786  0.855138  0.774745   \n",
       "4    -0.731886 -0.910232  0.418503  ... -0.221121  0.261565  1.074848   \n",
       "...        ...       ...       ...  ...       ...       ...       ...   \n",
       "1838  1.414857  2.479406  3.543429  ...  1.436092 -0.655500 -1.661810   \n",
       "1839  0.086879  0.605192  0.262953  ...  0.340824  0.225587  0.014675   \n",
       "1840 -0.135258 -0.431521 -0.091353  ...  0.861307  0.340331  0.760170   \n",
       "1841 -0.653585 -0.196572 -0.696537  ...  0.132742 -0.372875 -0.719818   \n",
       "1842 -0.337264  0.520589  0.067410  ... -0.206121 -0.296498 -0.709571   \n",
       "\n",
       "           V23       V24       V25       V26       V27       V28  Class  \n",
       "0    -0.043841  0.006211 -0.529942 -0.012445  0.090579 -0.058876    0.0  \n",
       "1     0.112445 -0.085211 -0.862918 -1.033244 -0.136979 -0.045538    0.0  \n",
       "2    -0.004601  0.017472  0.221532  1.072242 -0.042064 -0.004055    0.0  \n",
       "3     0.059037  0.343200 -0.468938 -0.278338  0.625922  0.395573    1.0  \n",
       "4    -0.226621  0.449134 -0.244955 -0.136384 -0.061163  0.016408    0.0  \n",
       "...        ...       ...       ...       ...       ...       ...    ...  \n",
       "1838  0.597773 -0.002850 -0.357817 -0.201918  0.577284  0.865760    0.0  \n",
       "1839 -0.133403  0.152982 -0.089531 -0.705534 -0.038416  0.004198    0.0  \n",
       "1840  0.353377 -0.778893 -0.070681 -0.033355 -0.061962 -0.062687    1.0  \n",
       "1841 -0.148126  0.404917 -0.297241  0.089815 -0.386614 -0.269385    0.0  \n",
       "1842  0.319356 -0.104751 -0.271829  0.204377 -0.069622 -0.060961    0.0  \n",
       "\n",
       "[1843 rows x 29 columns]"
      ]
     },
     "execution_count": 57,
     "metadata": {},
     "output_type": "execute_result"
    }
   ],
   "source": [
    "dfd"
   ]
  },
  {
   "cell_type": "code",
   "execution_count": 58,
   "id": "5c1dec5b",
   "metadata": {},
   "outputs": [
    {
     "data": {
      "image/png": "[encoded data removed]",
      "text/plain": [
       "<Figure size 1200x800 with 1 Axes>"
      ]
     },
     "metadata": {},
     "output_type": "display_data"
    }
   ],
   "source": [
    "tsne = TSNE(n_components=2, random_state=SEED)\n",
    "xtsne = tsne.fit_transform(x)\n",
    "plt.figure(figsize=(12,8));\n",
    "plt.scatter(x=xtsne[np.where(y==0), 0], y=xtsne[np.where(y==0), 1], color=\"blue\", label='Normal')\n",
    "plt.scatter(x=xtsne[np.where(y==1), 0], y=xtsne[np.where(y==1), 1], color=\"red\", label='Fraud')\n",
    "plt.scatter(x=xtsne[np.where(y==2), 0], y=xtsne[np.where(y==2), 1], color=\"yellow\", label='Generated Fraud')\n",
    "plt.title('t-SNE Plot')\n",
    "plt.legend()\n",
    "plt.show()"
   ]
  },
  {
   "cell_type": "code",
   "execution_count": null,
   "id": "a276674a",
   "metadata": {},
   "outputs": [],
   "source": []
  }
 ],
 "metadata": {
  "kernelspec": {
   "display_name": "Python 3 (ipykernel)",
   "language": "python",
   "name": "python3"
  },
  "language_info": {
   "codemirror_mode": {
    "name": "ipython",
    "version": 3
   },
   "file_extension": ".py",
   "mimetype": "text/x-python",
   "name": "python",
   "nbconvert_exporter": "python",
   "pygments_lexer": "ipython3",
   "version": "3.11.4"
  }
 },
 "nbformat": 4,
 "nbformat_minor": 5
}
