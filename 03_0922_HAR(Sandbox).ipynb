{
 "cells": [
  {
   "cell_type": "code",
   "execution_count": 71,
   "id": "7b2a6f9a",
   "metadata": {},
   "outputs": [],
   "source": [
    "import numpy as np\n",
    "from numpy import mean, std, dstack\n",
    "import pandas as pd\n",
    "from pandas import read_csv\n",
    "from matplotlib import pyplot as plt\n",
    "import keras\n",
    "from keras.utils import to_categorical\n",
    "\n",
    "from tensorflow.keras.models import Model\n",
    "from tensorflow.keras.layers import Activation\n",
    "from tensorflow.keras.models import Sequential\n",
    "from tensorflow.keras.layers import Conv1D, MaxPooling1D, GlobalAveragePooling1D, GRU\n",
    "from tensorflow.keras.layers import Dropout, BatchNormalization, Flatten, Add, Reshape\n",
    "from tensorflow.keras.layers import Dense, Input, Bidirectional\n",
    "from tensorflow.keras.layers import concatenate, Dropout\n",
    "from tensorflow.keras import optimizers\n",
    "\n",
    "import zipfile\n",
    "from sklearn.metrics import confusion_matrix, classification_report\n",
    "import seaborn as sns"
   ]
  },
  {
   "cell_type": "code",
   "execution_count": 72,
   "id": "56c7e60f",
   "metadata": {},
   "outputs": [],
   "source": [
    "def load_file(filepath):\n",
    "    dataframe = read_csv(filepath, header=None, delim_whitespace=True)\n",
    "    return dataframe.values\n",
    " \n",
    "\n",
    "def load_group(filenames, prefix=''):\n",
    "    loaded = list()\n",
    "    for name in filenames:\n",
    "        data = load_file(prefix + name)\n",
    "        loaded.append(data)\n",
    "    loaded = dstack(loaded)\n",
    "    return loaded\n",
    " \n",
    "def load_dataset_group(group, prefix=''):\n",
    "    filepath = prefix + group + '/Inertial Signals/'\n",
    "    filenames = list()\n",
    "    filenames += ['total_acc_x_'+group+'.txt', 'total_acc_y_'+group+'.txt', 'total_acc_z_'+group+'.txt']\n",
    "    filenames += ['body_acc_x_'+group+'.txt', 'body_acc_y_'+group+'.txt', 'body_acc_z_'+group+'.txt']\n",
    "    filenames += ['body_gyro_x_'+group+'.txt', 'body_gyro_y_'+group+'.txt', 'body_gyro_z_'+group+'.txt']\n",
    "    X = load_group(filenames, filepath)\n",
    "    y = load_file(prefix + group + '/y_'+group+'.txt')\n",
    "    return X, y\n",
    "\n",
    "def load_dataset(prefix=''):\n",
    "    trainX, trainy = load_dataset_group('train', prefix + 'HAR/')\n",
    "    testX, testy = load_dataset_group('test', prefix + 'HAR/')\n",
    "    trainy = trainy - 1\n",
    "    testy = testy - 1\n",
    "    trainy = to_categorical(trainy)\n",
    "    testy = to_categorical(testy)\n",
    "    print(\"trainX shape: \",trainX.shape)\n",
    "    print(\"trainy shape: \", trainy.shape)\n",
    "    print(\"testX shape: \", testX.shape)\n",
    "    print(\"testy shape: \", testy.shape)\n",
    "    return trainX, trainy, testX, testy"
   ]
  },
  {
   "cell_type": "code",
   "execution_count": 73,
   "id": "dfdbe93c",
   "metadata": {},
   "outputs": [
    {
     "name": "stdout",
     "output_type": "stream",
     "text": [
      "trainX shape:  (7352, 128, 9)\n",
      "trainy shape:  (7352, 6)\n",
      "testX shape:  (2947, 128, 9)\n",
      "testy shape:  (2947, 6)\n"
     ]
    }
   ],
   "source": [
    "trainX, trainy, testX, testy = load_dataset('data/')"
   ]
  },
  {
   "cell_type": "code",
   "execution_count": 74,
   "id": "c4ed210d",
   "metadata": {},
   "outputs": [],
   "source": [
    "batch_size = 32\n",
    "validation_split = 0.2"
   ]
  },
  {
   "cell_type": "code",
   "execution_count": 75,
   "id": "927b8cdb",
   "metadata": {},
   "outputs": [],
   "source": [
    "n_timesteps, n_features, n_outputs = trainX.shape[1], trainX.shape[2], trainy.shape[1]\n",
    "model = Sequential()\n",
    "\n",
    "model.add(Conv1D(filters=32, kernel_size=2, activation='relu', input_shape=(n_timesteps,n_features)))\n",
    "model.add(Conv1D(filters=64, kernel_size=2, strides=2))  \n",
    "model.add(BatchNormalization())\n",
    "model.add(Activation('relu'))\n",
    "\n",
    "model.add(Conv1D(filters=64, kernel_size=3, activation='relu'))\n",
    "model.add(Conv1D(filters=128, kernel_size=3, strides=3))  \n",
    "model.add(BatchNormalization())\n",
    "model.add(Activation('relu'))\n",
    "\n",
    "model.add(GRU(64, return_sequences=True))\n",
    "model.add(GRU(32))\n",
    "model.add(Dropout(0.3))\n",
    "\n",
    "model.add(Dense(n_outputs, activation='softmax'))"
   ]
  },
  {
   "cell_type": "code",
   "execution_count": 76,
   "id": "adb6e811",
   "metadata": {},
   "outputs": [
    {
     "name": "stdout",
     "output_type": "stream",
     "text": [
      "Model: \"sequential_8\"\n",
      "_________________________________________________________________\n",
      " Layer (type)                Output Shape              Param #   \n",
      "=================================================================\n",
      " conv1d_30 (Conv1D)          (None, 127, 32)           608       \n",
      "                                                                 \n",
      " conv1d_31 (Conv1D)          (None, 63, 64)            4160      \n",
      "                                                                 \n",
      " batch_normalization_15 (Ba  (None, 63, 64)            256       \n",
      " tchNormalization)                                               \n",
      "                                                                 \n",
      " activation_15 (Activation)  (None, 63, 64)            0         \n",
      "                                                                 \n",
      " conv1d_32 (Conv1D)          (None, 61, 64)            12352     \n",
      "                                                                 \n",
      " conv1d_33 (Conv1D)          (None, 20, 128)           24704     \n",
      "                                                                 \n",
      " batch_normalization_16 (Ba  (None, 20, 128)           512       \n",
      " tchNormalization)                                               \n",
      "                                                                 \n",
      " activation_16 (Activation)  (None, 20, 128)           0         \n",
      "                                                                 \n",
      " gru_16 (GRU)                (None, 20, 64)            37248     \n",
      "                                                                 \n",
      " gru_17 (GRU)                (None, 32)                9408      \n",
      "                                                                 \n",
      " dropout_5 (Dropout)         (None, 32)                0         \n",
      "                                                                 \n",
      " dense_8 (Dense)             (None, 6)                 198       \n",
      "                                                                 \n",
      "=================================================================\n",
      "Total params: 89446 (349.40 KB)\n",
      "Trainable params: 89062 (347.90 KB)\n",
      "Non-trainable params: 384 (1.50 KB)\n",
      "_________________________________________________________________\n"
     ]
    }
   ],
   "source": [
    "model.summary()"
   ]
  },
  {
   "cell_type": "code",
   "execution_count": 77,
   "id": "1e613358",
   "metadata": {},
   "outputs": [],
   "source": [
    "model.compile(loss='categorical_crossentropy', optimizer='adam', metrics=['accuracy'])"
   ]
  },
  {
   "cell_type": "code",
   "execution_count": 78,
   "id": "76ecbc1f",
   "metadata": {
    "scrolled": true
   },
   "outputs": [
    {
     "name": "stdout",
     "output_type": "stream",
     "text": [
      "Epoch 1/50\n",
      "184/184 [==============================] - 17s 48ms/step - loss: 0.3896 - accuracy: 0.8618 - val_loss: 1.6187 - val_accuracy: 0.5309\n",
      "Epoch 2/50\n",
      "184/184 [==============================] - 7s 36ms/step - loss: 0.1421 - accuracy: 0.9459 - val_loss: 0.2411 - val_accuracy: 0.9137\n",
      "Epoch 3/50\n",
      "184/184 [==============================] - 7s 36ms/step - loss: 0.1255 - accuracy: 0.9493 - val_loss: 0.2458 - val_accuracy: 0.9177\n",
      "Epoch 4/50\n",
      "184/184 [==============================] - 7s 41ms/step - loss: 0.1152 - accuracy: 0.9527 - val_loss: 0.3053 - val_accuracy: 0.9082\n",
      "Epoch 5/50\n",
      "184/184 [==============================] - 7s 39ms/step - loss: 0.1018 - accuracy: 0.9548 - val_loss: 0.2623 - val_accuracy: 0.9245\n",
      "Epoch 6/50\n",
      "184/184 [==============================] - 9s 48ms/step - loss: 0.0952 - accuracy: 0.9531 - val_loss: 0.2515 - val_accuracy: 0.9164\n",
      "Epoch 7/50\n",
      "184/184 [==============================] - 10s 56ms/step - loss: 0.1047 - accuracy: 0.9522 - val_loss: 0.2341 - val_accuracy: 0.9171\n",
      "Epoch 8/50\n",
      "184/184 [==============================] - 9s 49ms/step - loss: 0.1025 - accuracy: 0.9587 - val_loss: 0.3804 - val_accuracy: 0.9157\n",
      "Epoch 9/50\n",
      "184/184 [==============================] - 10s 52ms/step - loss: 0.0906 - accuracy: 0.9585 - val_loss: 0.2823 - val_accuracy: 0.9143\n",
      "Epoch 10/50\n",
      "184/184 [==============================] - 10s 56ms/step - loss: 0.0922 - accuracy: 0.9578 - val_loss: 0.3263 - val_accuracy: 0.8872\n",
      "Epoch 11/50\n",
      "184/184 [==============================] - 8s 43ms/step - loss: 0.0906 - accuracy: 0.9589 - val_loss: 0.3510 - val_accuracy: 0.9089\n",
      "Epoch 12/50\n",
      "184/184 [==============================] - 8s 43ms/step - loss: 0.0855 - accuracy: 0.9585 - val_loss: 0.2915 - val_accuracy: 0.9055\n",
      "Epoch 13/50\n",
      "184/184 [==============================] - 8s 44ms/step - loss: 0.0798 - accuracy: 0.9614 - val_loss: 0.3036 - val_accuracy: 0.9103\n",
      "Epoch 14/50\n",
      "184/184 [==============================] - 8s 43ms/step - loss: 0.1101 - accuracy: 0.9565 - val_loss: 0.2713 - val_accuracy: 0.9164\n",
      "Epoch 15/50\n",
      "184/184 [==============================] - 8s 43ms/step - loss: 0.0805 - accuracy: 0.9624 - val_loss: 0.2343 - val_accuracy: 0.9205\n",
      "Epoch 16/50\n",
      "184/184 [==============================] - 9s 46ms/step - loss: 0.0762 - accuracy: 0.9648 - val_loss: 0.2740 - val_accuracy: 0.9232\n",
      "Epoch 17/50\n",
      "184/184 [==============================] - 9s 46ms/step - loss: 0.0794 - accuracy: 0.9612 - val_loss: 0.3744 - val_accuracy: 0.9082\n",
      "Epoch 18/50\n",
      "184/184 [==============================] - 7s 37ms/step - loss: 0.0835 - accuracy: 0.9650 - val_loss: 0.2729 - val_accuracy: 0.9171\n",
      "Epoch 19/50\n",
      "184/184 [==============================] - 8s 45ms/step - loss: 0.0749 - accuracy: 0.9658 - val_loss: 0.4440 - val_accuracy: 0.8878\n",
      "Epoch 20/50\n",
      "184/184 [==============================] - 9s 51ms/step - loss: 0.0818 - accuracy: 0.9650 - val_loss: 0.4174 - val_accuracy: 0.8980\n",
      "Epoch 21/50\n",
      "184/184 [==============================] - 8s 42ms/step - loss: 0.0727 - accuracy: 0.9662 - val_loss: 0.4524 - val_accuracy: 0.8804\n",
      "Epoch 22/50\n",
      "184/184 [==============================] - 7s 39ms/step - loss: 0.0827 - accuracy: 0.9623 - val_loss: 0.2414 - val_accuracy: 0.9279\n",
      "Epoch 23/50\n",
      "184/184 [==============================] - 7s 38ms/step - loss: 0.0729 - accuracy: 0.9657 - val_loss: 0.2934 - val_accuracy: 0.9225\n",
      "Epoch 24/50\n",
      "184/184 [==============================] - 8s 43ms/step - loss: 0.0709 - accuracy: 0.9658 - val_loss: 0.3621 - val_accuracy: 0.9150\n",
      "Epoch 25/50\n",
      "184/184 [==============================] - 8s 46ms/step - loss: 0.0686 - accuracy: 0.9701 - val_loss: 0.3787 - val_accuracy: 0.9157\n",
      "Epoch 26/50\n",
      "184/184 [==============================] - 8s 45ms/step - loss: 0.0649 - accuracy: 0.9716 - val_loss: 0.2636 - val_accuracy: 0.9273\n",
      "Epoch 27/50\n",
      "184/184 [==============================] - 10s 55ms/step - loss: 0.0707 - accuracy: 0.9672 - val_loss: 0.4373 - val_accuracy: 0.9137\n",
      "Epoch 28/50\n",
      "184/184 [==============================] - 8s 41ms/step - loss: 0.0626 - accuracy: 0.9738 - val_loss: 0.2732 - val_accuracy: 0.9171\n",
      "Epoch 29/50\n",
      "184/184 [==============================] - 8s 41ms/step - loss: 0.0627 - accuracy: 0.9723 - val_loss: 0.2390 - val_accuracy: 0.9415\n",
      "Epoch 30/50\n",
      "184/184 [==============================] - 8s 42ms/step - loss: 0.0573 - accuracy: 0.9709 - val_loss: 0.2880 - val_accuracy: 0.9422\n",
      "Epoch 31/50\n",
      "184/184 [==============================] - 8s 43ms/step - loss: 0.0562 - accuracy: 0.9745 - val_loss: 0.2717 - val_accuracy: 0.9375\n",
      "Epoch 32/50\n",
      "184/184 [==============================] - 9s 47ms/step - loss: 0.0586 - accuracy: 0.9731 - val_loss: 0.2869 - val_accuracy: 0.9381\n",
      "Epoch 33/50\n",
      "184/184 [==============================] - 9s 49ms/step - loss: 0.0567 - accuracy: 0.9745 - val_loss: 0.2914 - val_accuracy: 0.9375\n",
      "Epoch 34/50\n",
      "184/184 [==============================] - 8s 44ms/step - loss: 0.0581 - accuracy: 0.9743 - val_loss: 0.3080 - val_accuracy: 0.9252\n",
      "Epoch 35/50\n",
      "184/184 [==============================] - 8s 41ms/step - loss: 0.0678 - accuracy: 0.9753 - val_loss: 0.2479 - val_accuracy: 0.9490\n",
      "Epoch 36/50\n",
      "184/184 [==============================] - 7s 37ms/step - loss: 0.0513 - accuracy: 0.9787 - val_loss: 0.2938 - val_accuracy: 0.9436\n",
      "Epoch 37/50\n",
      "184/184 [==============================] - 7s 39ms/step - loss: 0.0505 - accuracy: 0.9772 - val_loss: 0.4750 - val_accuracy: 0.9184\n",
      "Epoch 38/50\n",
      "184/184 [==============================] - 7s 38ms/step - loss: 0.0614 - accuracy: 0.9750 - val_loss: 0.2628 - val_accuracy: 0.9021\n",
      "Epoch 39/50\n",
      "184/184 [==============================] - 7s 39ms/step - loss: 0.0488 - accuracy: 0.9803 - val_loss: 0.3352 - val_accuracy: 0.9375\n",
      "Epoch 40/50\n",
      "184/184 [==============================] - 7s 39ms/step - loss: 0.0498 - accuracy: 0.9791 - val_loss: 0.4429 - val_accuracy: 0.9239\n",
      "Epoch 41/50\n",
      "184/184 [==============================] - 7s 39ms/step - loss: 0.0459 - accuracy: 0.9793 - val_loss: 0.5938 - val_accuracy: 0.9007\n",
      "Epoch 42/50\n",
      "184/184 [==============================] - 8s 45ms/step - loss: 0.0520 - accuracy: 0.9789 - val_loss: 0.4690 - val_accuracy: 0.9218\n",
      "Epoch 43/50\n",
      "184/184 [==============================] - 8s 45ms/step - loss: 0.0461 - accuracy: 0.9789 - val_loss: 0.4763 - val_accuracy: 0.9150\n",
      "Epoch 44/50\n",
      "184/184 [==============================] - 8s 45ms/step - loss: 0.0451 - accuracy: 0.9818 - val_loss: 0.4782 - val_accuracy: 0.9239\n",
      "Epoch 45/50\n",
      "184/184 [==============================] - 8s 43ms/step - loss: 0.0486 - accuracy: 0.9798 - val_loss: 0.4648 - val_accuracy: 0.9259\n",
      "Epoch 46/50\n",
      "184/184 [==============================] - 9s 46ms/step - loss: 0.0410 - accuracy: 0.9827 - val_loss: 0.4897 - val_accuracy: 0.9184\n",
      "Epoch 47/50\n",
      "184/184 [==============================] - 8s 45ms/step - loss: 0.0428 - accuracy: 0.9794 - val_loss: 0.4679 - val_accuracy: 0.9279\n",
      "Epoch 48/50\n",
      "184/184 [==============================] - 8s 44ms/step - loss: 0.0450 - accuracy: 0.9801 - val_loss: 0.4669 - val_accuracy: 0.9211\n",
      "Epoch 49/50\n",
      "184/184 [==============================] - 9s 49ms/step - loss: 0.0463 - accuracy: 0.9803 - val_loss: 0.4093 - val_accuracy: 0.9137\n",
      "Epoch 50/50\n",
      "184/184 [==============================] - 8s 44ms/step - loss: 0.0404 - accuracy: 0.9835 - val_loss: 0.4582 - val_accuracy: 0.9191\n"
     ]
    }
   ],
   "source": [
    "train_epochs = 50\n",
    "history = model.fit(trainX, trainy, epochs=train_epochs, batch_size=batch_size, verbose=True,  validation_split=validation_split, shuffle=True)"
   ]
  },
  {
   "cell_type": "code",
   "execution_count": 79,
   "id": "44b427f5",
   "metadata": {},
   "outputs": [
    {
     "data": {
      "text/plain": [
       "<matplotlib.legend.Legend at 0x1b0f0ae1610>"
      ]
     },
     "execution_count": 79,
     "metadata": {},
     "output_type": "execute_result"
    },
    {
     "data": {
      "image/png": "[encoded data removed]",
      "text/plain": [
       "<Figure size 640x480 with 1 Axes>"
      ]
     },
     "metadata": {},
     "output_type": "display_data"
    }
   ],
   "source": [
    "plt.plot(history.history['loss'])\n",
    "plt.plot(history.history['val_loss'])\n",
    "plt.title('model loss')\n",
    "plt.ylabel('loss')\n",
    "plt.xlabel('epoch')\n",
    "plt.legend(['train', 'Validation'], loc='upper left')"
   ]
  },
  {
   "cell_type": "code",
   "execution_count": 80,
   "id": "2018bb25",
   "metadata": {},
   "outputs": [
    {
     "name": "stdout",
     "output_type": "stream",
     "text": [
      "Accuracy of the Sandbox model 0.9545300602912903\n",
      "93/93 [==============================] - 3s 12ms/step\n"
     ]
    }
   ],
   "source": [
    "test_loss, test_accuracy = model.evaluate(testX, testy, batch_size=batch_size, verbose=0)\n",
    "print(\"Accuracy of the Sandbox model\", test_accuracy)\n",
    "predictions=model.predict(testX)"
   ]
  },
  {
   "cell_type": "code",
   "execution_count": 81,
   "id": "10c48889",
   "metadata": {},
   "outputs": [
    {
     "data": {
      "text/plain": [
       "array([[3.3034391e-06, 1.5835456e-05, 1.1390556e-05, 4.2961386e-04,\n",
       "        9.9953449e-01, 5.3307608e-06],\n",
       "       [3.0508227e-06, 3.3669967e-06, 3.5657968e-06, 2.1541075e-04,\n",
       "        9.9977273e-01, 1.8995088e-06],\n",
       "       [2.9093196e-06, 2.8872410e-06, 3.1541597e-06, 2.0525313e-04,\n",
       "        9.9978417e-01, 1.6834413e-06],\n",
       "       ...,\n",
       "       [6.1645555e-06, 9.9997711e-01, 4.7925205e-06, 4.9757255e-06,\n",
       "        4.3696487e-06, 2.5892373e-06],\n",
       "       [5.2746173e-06, 9.9997485e-01, 4.2805068e-06, 6.2692729e-06,\n",
       "        6.7048591e-06, 2.6136288e-06],\n",
       "       [2.3265097e-06, 9.9998319e-01, 3.6602457e-06, 4.5634461e-06,\n",
       "        3.5626008e-06, 2.7093276e-06]], dtype=float32)"
      ]
     },
     "execution_count": 81,
     "metadata": {},
     "output_type": "execute_result"
    }
   ],
   "source": [
    "predictions"
   ]
  },
  {
   "cell_type": "code",
   "execution_count": 82,
   "id": "5b221a24",
   "metadata": {},
   "outputs": [],
   "source": [
    "def display_results(testy,predictions,classNames):\n",
    "    y_test=np.argmax(testy, axis=1)\n",
    "    y_scores=np.argmax(predictions, axis=1)\n",
    "    classes = len(classNames)\n",
    "    cm = confusion_matrix(y_test, y_scores)\n",
    "    print(\"**** Confusion Matrix ****\")\n",
    "    print(cm)\n",
    "    print(\"**** Classification Report ****\")\n",
    "    print(classification_report(y_test, y_scores, target_names=classNames))\n",
    "    con = np.zeros((classes,classes))\n",
    "    for x in range(classes):\n",
    "        for y in range(classes):\n",
    "            con[x,y] = cm[x,y]\n",
    "\n",
    "    plt.figure(figsize=(10,8))\n",
    "    df = sns.heatmap(con, annot=True, fmt='g', cmap='Blues',xticklabels= classNames , yticklabels= classNames)\n",
    "    plt.xlabel('Predicted')\n",
    "    plt.ylabel('Actual')\n",
    "    plt.show()"
   ]
  },
  {
   "cell_type": "code",
   "execution_count": 83,
   "id": "32d67897",
   "metadata": {},
   "outputs": [
    {
     "name": "stdout",
     "output_type": "stream",
     "text": [
      "**** Confusion Matrix ****\n",
      "[[482   0  14   0   0   0]\n",
      " [  1 454  16   0   0   0]\n",
      " [  0   1 419   0   0   0]\n",
      " [  0   0   0 415  76   0]\n",
      " [  1   0   0  25 506   0]\n",
      " [  0   0   0   0   0 537]]\n",
      "**** Classification Report ****\n",
      "              precision    recall  f1-score   support\n",
      "\n",
      "     Walking       1.00      0.97      0.98       496\n",
      "      Walkup       1.00      0.96      0.98       471\n",
      "    Walkdown       0.93      1.00      0.96       420\n",
      "     Sitting       0.94      0.85      0.89       491\n",
      "    Standing       0.87      0.95      0.91       532\n",
      "      Laying       1.00      1.00      1.00       537\n",
      "\n",
      "    accuracy                           0.95      2947\n",
      "   macro avg       0.96      0.95      0.95      2947\n",
      "weighted avg       0.96      0.95      0.95      2947\n",
      "\n"
     ]
    },
    {
     "data": {
      "image/png": "[encoded data removed]",
      "text/plain": [
       "<Figure size 1000x800 with 2 Axes>"
      ]
     },
     "metadata": {},
     "output_type": "display_data"
    }
   ],
   "source": [
    "classNames=[\"Walking\",\"Walkup\",\"Walkdown\",\"Sitting\",\"Standing\",\"Laying\"]\n",
    "display_results(testy,predictions,classNames)"
   ]
  },
  {
   "cell_type": "code",
   "execution_count": null,
   "id": "9d382b23",
   "metadata": {},
   "outputs": [],
   "source": []
  },
  {
   "cell_type": "code",
   "execution_count": null,
   "id": "9cd47a2c",
   "metadata": {},
   "outputs": [],
   "source": []
  }
 ],
 "metadata": {
  "kernelspec": {
   "display_name": "Python 3 (ipykernel)",
   "language": "python",
   "name": "python3"
  },
  "language_info": {
   "codemirror_mode": {
    "name": "ipython",
    "version": 3
   },
   "file_extension": ".py",
   "mimetype": "text/x-python",
   "name": "python",
   "nbconvert_exporter": "python",
   "pygments_lexer": "ipython3",
   "version": "3.11.4"
  }
 },
 "nbformat": 4,
 "nbformat_minor": 5
}
