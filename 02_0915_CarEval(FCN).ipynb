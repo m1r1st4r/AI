{
 "cells": [
  {
   "cell_type": "code",
   "execution_count": 22,
   "id": "0a2e1659",
   "metadata": {},
   "outputs": [],
   "source": [
    "import numpy as np\n",
    "import pandas as pd\n",
    "import os\n",
    "import matplotlib.pyplot as plt\n",
    "import seaborn as sns\n",
    "from pandas import Series, DataFrame\n",
    "from sklearn.preprocessing import LabelEncoder\n",
    "from sklearn.model_selection import train_test_split\n",
    "from sklearn import metrics\n",
    "import tensorflow as tf\n",
    "from tensorflow import keras"
   ]
  },
  {
   "cell_type": "code",
   "execution_count": 23,
   "id": "ada7da23",
   "metadata": {},
   "outputs": [],
   "source": [
    "label = LabelEncoder()\n",
    "df = pd.read_csv('data/car/car.data', header=None)\n",
    "header = [\"buying\",\"maint\",\"doors\",\"persons\",\"lug_boot\",\"safety\",\"class\"]\n",
    "\n",
    "\n",
    "df.columns = header"
   ]
  },
  {
   "cell_type": "code",
   "execution_count": 24,
   "id": "0cac52dd",
   "metadata": {},
   "outputs": [
    {
     "data": {
      "text/html": [
       "<div>\n",
       "<style scoped>\n",
       "    .dataframe tbody tr th:only-of-type {\n",
       "        vertical-align: middle;\n",
       "    }\n",
       "\n",
       "    .dataframe tbody tr th {\n",
       "        vertical-align: top;\n",
       "    }\n",
       "\n",
       "    .dataframe thead th {\n",
       "        text-align: right;\n",
       "    }\n",
       "</style>\n",
       "<table border=\"1\" class=\"dataframe\">\n",
       "  <thead>\n",
       "    <tr style=\"text-align: right;\">\n",
       "      <th></th>\n",
       "      <th>buying</th>\n",
       "      <th>maint</th>\n",
       "      <th>doors</th>\n",
       "      <th>persons</th>\n",
       "      <th>lug_boot</th>\n",
       "      <th>safety</th>\n",
       "      <th>class</th>\n",
       "    </tr>\n",
       "  </thead>\n",
       "  <tbody>\n",
       "    <tr>\n",
       "      <th>0</th>\n",
       "      <td>vhigh</td>\n",
       "      <td>vhigh</td>\n",
       "      <td>2</td>\n",
       "      <td>2</td>\n",
       "      <td>small</td>\n",
       "      <td>low</td>\n",
       "      <td>unacc</td>\n",
       "    </tr>\n",
       "    <tr>\n",
       "      <th>1</th>\n",
       "      <td>vhigh</td>\n",
       "      <td>vhigh</td>\n",
       "      <td>2</td>\n",
       "      <td>2</td>\n",
       "      <td>small</td>\n",
       "      <td>med</td>\n",
       "      <td>unacc</td>\n",
       "    </tr>\n",
       "    <tr>\n",
       "      <th>2</th>\n",
       "      <td>vhigh</td>\n",
       "      <td>vhigh</td>\n",
       "      <td>2</td>\n",
       "      <td>2</td>\n",
       "      <td>small</td>\n",
       "      <td>high</td>\n",
       "      <td>unacc</td>\n",
       "    </tr>\n",
       "    <tr>\n",
       "      <th>3</th>\n",
       "      <td>vhigh</td>\n",
       "      <td>vhigh</td>\n",
       "      <td>2</td>\n",
       "      <td>2</td>\n",
       "      <td>med</td>\n",
       "      <td>low</td>\n",
       "      <td>unacc</td>\n",
       "    </tr>\n",
       "    <tr>\n",
       "      <th>4</th>\n",
       "      <td>vhigh</td>\n",
       "      <td>vhigh</td>\n",
       "      <td>2</td>\n",
       "      <td>2</td>\n",
       "      <td>med</td>\n",
       "      <td>med</td>\n",
       "      <td>unacc</td>\n",
       "    </tr>\n",
       "    <tr>\n",
       "      <th>...</th>\n",
       "      <td>...</td>\n",
       "      <td>...</td>\n",
       "      <td>...</td>\n",
       "      <td>...</td>\n",
       "      <td>...</td>\n",
       "      <td>...</td>\n",
       "      <td>...</td>\n",
       "    </tr>\n",
       "    <tr>\n",
       "      <th>1723</th>\n",
       "      <td>low</td>\n",
       "      <td>low</td>\n",
       "      <td>5more</td>\n",
       "      <td>more</td>\n",
       "      <td>med</td>\n",
       "      <td>med</td>\n",
       "      <td>good</td>\n",
       "    </tr>\n",
       "    <tr>\n",
       "      <th>1724</th>\n",
       "      <td>low</td>\n",
       "      <td>low</td>\n",
       "      <td>5more</td>\n",
       "      <td>more</td>\n",
       "      <td>med</td>\n",
       "      <td>high</td>\n",
       "      <td>vgood</td>\n",
       "    </tr>\n",
       "    <tr>\n",
       "      <th>1725</th>\n",
       "      <td>low</td>\n",
       "      <td>low</td>\n",
       "      <td>5more</td>\n",
       "      <td>more</td>\n",
       "      <td>big</td>\n",
       "      <td>low</td>\n",
       "      <td>unacc</td>\n",
       "    </tr>\n",
       "    <tr>\n",
       "      <th>1726</th>\n",
       "      <td>low</td>\n",
       "      <td>low</td>\n",
       "      <td>5more</td>\n",
       "      <td>more</td>\n",
       "      <td>big</td>\n",
       "      <td>med</td>\n",
       "      <td>good</td>\n",
       "    </tr>\n",
       "    <tr>\n",
       "      <th>1727</th>\n",
       "      <td>low</td>\n",
       "      <td>low</td>\n",
       "      <td>5more</td>\n",
       "      <td>more</td>\n",
       "      <td>big</td>\n",
       "      <td>high</td>\n",
       "      <td>vgood</td>\n",
       "    </tr>\n",
       "  </tbody>\n",
       "</table>\n",
       "<p>1728 rows × 7 columns</p>\n",
       "</div>"
      ],
      "text/plain": [
       "     buying  maint  doors persons lug_boot safety  class\n",
       "0     vhigh  vhigh      2       2    small    low  unacc\n",
       "1     vhigh  vhigh      2       2    small    med  unacc\n",
       "2     vhigh  vhigh      2       2    small   high  unacc\n",
       "3     vhigh  vhigh      2       2      med    low  unacc\n",
       "4     vhigh  vhigh      2       2      med    med  unacc\n",
       "...     ...    ...    ...     ...      ...    ...    ...\n",
       "1723    low    low  5more    more      med    med   good\n",
       "1724    low    low  5more    more      med   high  vgood\n",
       "1725    low    low  5more    more      big    low  unacc\n",
       "1726    low    low  5more    more      big    med   good\n",
       "1727    low    low  5more    more      big   high  vgood\n",
       "\n",
       "[1728 rows x 7 columns]"
      ]
     },
     "execution_count": 24,
     "metadata": {},
     "output_type": "execute_result"
    }
   ],
   "source": [
    "df"
   ]
  },
  {
   "cell_type": "code",
   "execution_count": 25,
   "id": "eda19110",
   "metadata": {},
   "outputs": [],
   "source": [
    "for column in df.columns:\n",
    "    df[column] = label.fit_transform(df[column])"
   ]
  },
  {
   "cell_type": "code",
   "execution_count": 26,
   "id": "80b98468",
   "metadata": {},
   "outputs": [
    {
     "data": {
      "text/html": [
       "<div>\n",
       "<style scoped>\n",
       "    .dataframe tbody tr th:only-of-type {\n",
       "        vertical-align: middle;\n",
       "    }\n",
       "\n",
       "    .dataframe tbody tr th {\n",
       "        vertical-align: top;\n",
       "    }\n",
       "\n",
       "    .dataframe thead th {\n",
       "        text-align: right;\n",
       "    }\n",
       "</style>\n",
       "<table border=\"1\" class=\"dataframe\">\n",
       "  <thead>\n",
       "    <tr style=\"text-align: right;\">\n",
       "      <th></th>\n",
       "      <th>buying</th>\n",
       "      <th>maint</th>\n",
       "      <th>doors</th>\n",
       "      <th>persons</th>\n",
       "      <th>lug_boot</th>\n",
       "      <th>safety</th>\n",
       "      <th>class</th>\n",
       "    </tr>\n",
       "  </thead>\n",
       "  <tbody>\n",
       "    <tr>\n",
       "      <th>0</th>\n",
       "      <td>3</td>\n",
       "      <td>3</td>\n",
       "      <td>0</td>\n",
       "      <td>0</td>\n",
       "      <td>2</td>\n",
       "      <td>1</td>\n",
       "      <td>2</td>\n",
       "    </tr>\n",
       "    <tr>\n",
       "      <th>1</th>\n",
       "      <td>3</td>\n",
       "      <td>3</td>\n",
       "      <td>0</td>\n",
       "      <td>0</td>\n",
       "      <td>2</td>\n",
       "      <td>2</td>\n",
       "      <td>2</td>\n",
       "    </tr>\n",
       "    <tr>\n",
       "      <th>2</th>\n",
       "      <td>3</td>\n",
       "      <td>3</td>\n",
       "      <td>0</td>\n",
       "      <td>0</td>\n",
       "      <td>2</td>\n",
       "      <td>0</td>\n",
       "      <td>2</td>\n",
       "    </tr>\n",
       "    <tr>\n",
       "      <th>3</th>\n",
       "      <td>3</td>\n",
       "      <td>3</td>\n",
       "      <td>0</td>\n",
       "      <td>0</td>\n",
       "      <td>1</td>\n",
       "      <td>1</td>\n",
       "      <td>2</td>\n",
       "    </tr>\n",
       "    <tr>\n",
       "      <th>4</th>\n",
       "      <td>3</td>\n",
       "      <td>3</td>\n",
       "      <td>0</td>\n",
       "      <td>0</td>\n",
       "      <td>1</td>\n",
       "      <td>2</td>\n",
       "      <td>2</td>\n",
       "    </tr>\n",
       "    <tr>\n",
       "      <th>...</th>\n",
       "      <td>...</td>\n",
       "      <td>...</td>\n",
       "      <td>...</td>\n",
       "      <td>...</td>\n",
       "      <td>...</td>\n",
       "      <td>...</td>\n",
       "      <td>...</td>\n",
       "    </tr>\n",
       "    <tr>\n",
       "      <th>1723</th>\n",
       "      <td>1</td>\n",
       "      <td>1</td>\n",
       "      <td>3</td>\n",
       "      <td>2</td>\n",
       "      <td>1</td>\n",
       "      <td>2</td>\n",
       "      <td>1</td>\n",
       "    </tr>\n",
       "    <tr>\n",
       "      <th>1724</th>\n",
       "      <td>1</td>\n",
       "      <td>1</td>\n",
       "      <td>3</td>\n",
       "      <td>2</td>\n",
       "      <td>1</td>\n",
       "      <td>0</td>\n",
       "      <td>3</td>\n",
       "    </tr>\n",
       "    <tr>\n",
       "      <th>1725</th>\n",
       "      <td>1</td>\n",
       "      <td>1</td>\n",
       "      <td>3</td>\n",
       "      <td>2</td>\n",
       "      <td>0</td>\n",
       "      <td>1</td>\n",
       "      <td>2</td>\n",
       "    </tr>\n",
       "    <tr>\n",
       "      <th>1726</th>\n",
       "      <td>1</td>\n",
       "      <td>1</td>\n",
       "      <td>3</td>\n",
       "      <td>2</td>\n",
       "      <td>0</td>\n",
       "      <td>2</td>\n",
       "      <td>1</td>\n",
       "    </tr>\n",
       "    <tr>\n",
       "      <th>1727</th>\n",
       "      <td>1</td>\n",
       "      <td>1</td>\n",
       "      <td>3</td>\n",
       "      <td>2</td>\n",
       "      <td>0</td>\n",
       "      <td>0</td>\n",
       "      <td>3</td>\n",
       "    </tr>\n",
       "  </tbody>\n",
       "</table>\n",
       "<p>1728 rows × 7 columns</p>\n",
       "</div>"
      ],
      "text/plain": [
       "      buying  maint  doors  persons  lug_boot  safety  class\n",
       "0          3      3      0        0         2       1      2\n",
       "1          3      3      0        0         2       2      2\n",
       "2          3      3      0        0         2       0      2\n",
       "3          3      3      0        0         1       1      2\n",
       "4          3      3      0        0         1       2      2\n",
       "...      ...    ...    ...      ...       ...     ...    ...\n",
       "1723       1      1      3        2         1       2      1\n",
       "1724       1      1      3        2         1       0      3\n",
       "1725       1      1      3        2         0       1      2\n",
       "1726       1      1      3        2         0       2      1\n",
       "1727       1      1      3        2         0       0      3\n",
       "\n",
       "[1728 rows x 7 columns]"
      ]
     },
     "execution_count": 26,
     "metadata": {},
     "output_type": "execute_result"
    }
   ],
   "source": [
    "df"
   ]
  },
  {
   "cell_type": "code",
   "execution_count": 27,
   "id": "3f098d91",
   "metadata": {},
   "outputs": [
    {
     "data": {
      "text/plain": [
       "pandas.core.frame.DataFrame"
      ]
     },
     "execution_count": 27,
     "metadata": {},
     "output_type": "execute_result"
    }
   ],
   "source": [
    "type(df)"
   ]
  },
  {
   "cell_type": "code",
   "execution_count": 28,
   "id": "58fe7c3b",
   "metadata": {},
   "outputs": [
    {
     "data": {
      "text/plain": [
       "buying      0\n",
       "maint       0\n",
       "doors       0\n",
       "persons     0\n",
       "lug_boot    0\n",
       "safety      0\n",
       "class       0\n",
       "dtype: int64"
      ]
     },
     "execution_count": 28,
     "metadata": {},
     "output_type": "execute_result"
    }
   ],
   "source": [
    "df.isnull().sum()"
   ]
  },
  {
   "cell_type": "code",
   "execution_count": 29,
   "id": "12109b3e",
   "metadata": {},
   "outputs": [
    {
     "data": {
      "text/plain": [
       "Index(['buying', 'maint', 'doors', 'persons', 'lug_boot', 'safety', 'class'], dtype='object')"
      ]
     },
     "execution_count": 29,
     "metadata": {},
     "output_type": "execute_result"
    }
   ],
   "source": [
    "df.columns"
   ]
  },
  {
   "cell_type": "code",
   "execution_count": 30,
   "id": "0709a60b",
   "metadata": {},
   "outputs": [
    {
     "data": {
      "text/plain": [
       "Text(0.5, 1.0, 'car type')"
      ]
     },
     "execution_count": 30,
     "metadata": {},
     "output_type": "execute_result"
    },
    {
     "data": {
      "image/png": "[encoded data removed]",
      "text/plain": [
       "<Figure size 640x480 with 1 Axes>"
      ]
     },
     "metadata": {},
     "output_type": "display_data"
    }
   ],
   "source": [
    "sns.countplot(data = df, x=\"class\")\n",
    "plt.xlabel(\"unacc\")\n",
    "plt.ylabel(\"Count\")\n",
    "plt.title(\"car type\")"
   ]
  },
  {
   "cell_type": "code",
   "execution_count": 31,
   "id": "c0501e1b",
   "metadata": {},
   "outputs": [],
   "source": [
    "X = df.iloc[:,:6].values\n",
    "y = df.iloc[:,-1].values"
   ]
  },
  {
   "cell_type": "code",
   "execution_count": 32,
   "id": "9333d306",
   "metadata": {
    "scrolled": true
   },
   "outputs": [
    {
     "data": {
      "text/plain": [
       "array([[3, 3, 0, 0, 2, 1],\n",
       "       [3, 3, 0, 0, 2, 2],\n",
       "       [3, 3, 0, 0, 2, 0],\n",
       "       ...,\n",
       "       [1, 1, 3, 2, 0, 1],\n",
       "       [1, 1, 3, 2, 0, 2],\n",
       "       [1, 1, 3, 2, 0, 0]])"
      ]
     },
     "execution_count": 32,
     "metadata": {},
     "output_type": "execute_result"
    }
   ],
   "source": [
    "X"
   ]
  },
  {
   "cell_type": "code",
   "execution_count": 33,
   "id": "9edb8854",
   "metadata": {},
   "outputs": [
    {
     "data": {
      "text/plain": [
       "array([2, 2, 2, ..., 2, 1, 3])"
      ]
     },
     "execution_count": 33,
     "metadata": {},
     "output_type": "execute_result"
    }
   ],
   "source": [
    "y"
   ]
  },
  {
   "cell_type": "code",
   "execution_count": 34,
   "id": "4bfb0bcd",
   "metadata": {},
   "outputs": [],
   "source": [
    "X_train,X_test,y_train,y_test = train_test_split(X,y,test_size=0.2,random_state=0) "
   ]
  },
  {
   "cell_type": "code",
   "execution_count": 35,
   "id": "d16e4e8c",
   "metadata": {},
   "outputs": [
    {
     "name": "stdout",
     "output_type": "stream",
     "text": [
      "New y_train shape:  (1382, 4)\n",
      "New y_train shape:  (346, 4)\n"
     ]
    }
   ],
   "source": [
    "from tensorflow.python.keras.utils import np_utils\n",
    "\n",
    "y_train = np_utils.to_categorical(y_train,4)\n",
    "y_test = np_utils.to_categorical(y_test,4)\n",
    "\n",
    "print('New y_train shape: ', y_train.shape)\n",
    "print('New y_train shape: ', y_test.shape)"
   ]
  },
  {
   "cell_type": "code",
   "execution_count": 36,
   "id": "8cdc91ff",
   "metadata": {},
   "outputs": [
    {
     "data": {
      "text/plain": [
       "array([[0., 0., 1., 0.],\n",
       "       [0., 0., 1., 0.],\n",
       "       [0., 0., 1., 0.],\n",
       "       ...,\n",
       "       [0., 0., 1., 0.],\n",
       "       [0., 0., 1., 0.],\n",
       "       [0., 0., 1., 0.]], dtype=float32)"
      ]
     },
     "execution_count": 36,
     "metadata": {},
     "output_type": "execute_result"
    }
   ],
   "source": [
    "y_train"
   ]
  },
  {
   "cell_type": "code",
   "execution_count": 37,
   "id": "718143ca",
   "metadata": {},
   "outputs": [
    {
     "name": "stdout",
     "output_type": "stream",
     "text": [
      "Model: \"sequential_1\"\n",
      "_________________________________________________________________\n",
      " Layer (type)                Output Shape              Param #   \n",
      "=================================================================\n",
      " dense_4 (Dense)             (None, 6)                 42        \n",
      "                                                                 \n",
      " dense_5 (Dense)             (None, 12)                84        \n",
      "                                                                 \n",
      " dense_6 (Dense)             (None, 24)                312       \n",
      "                                                                 \n",
      " dense_7 (Dense)             (None, 4)                 100       \n",
      "                                                                 \n",
      "=================================================================\n",
      "Total params: 538 (2.10 KB)\n",
      "Trainable params: 538 (2.10 KB)\n",
      "Non-trainable params: 0 (0.00 Byte)\n",
      "_________________________________________________________________\n"
     ]
    }
   ],
   "source": [
    "from keras.models import Sequential\n",
    "from keras.layers import Dense\n",
    "from keras.optimizers import SGD,Adam\n",
    "\n",
    "\n",
    "model = Sequential()\n",
    "\n",
    "model.add(Dense(6,input_shape=(6,),activation='relu'))\n",
    "model.add(Dense(12,activation='relu'))\n",
    "model.add(Dense(24,activation='relu'))\n",
    "model.add(Dense(4,activation='sigmoid'))\n",
    "\n",
    "model.compile(Adam(learning_rate=0.02),'binary_crossentropy',metrics=['accuracy'])\n",
    "\n",
    "model.summary()"
   ]
  },
  {
   "cell_type": "code",
   "execution_count": 38,
   "id": "a9088a2e",
   "metadata": {
    "scrolled": true
   },
   "outputs": [
    {
     "name": "stdout",
     "output_type": "stream",
     "text": [
      "Epoch 1/100\n",
      "44/44 [==============================] - 2s 10ms/step - loss: 0.3522 - accuracy: 0.7026 - val_loss: 0.3208 - val_accuracy: 0.6705\n",
      "Epoch 2/100\n",
      "44/44 [==============================] - 0s 4ms/step - loss: 0.2597 - accuracy: 0.7511 - val_loss: 0.2336 - val_accuracy: 0.7775\n",
      "Epoch 3/100\n",
      "44/44 [==============================] - 0s 4ms/step - loss: 0.2060 - accuracy: 0.8025 - val_loss: 0.2179 - val_accuracy: 0.7832\n",
      "Epoch 4/100\n",
      "44/44 [==============================] - 0s 4ms/step - loss: 0.1865 - accuracy: 0.8205 - val_loss: 0.1877 - val_accuracy: 0.8295\n",
      "Epoch 5/100\n",
      "44/44 [==============================] - 0s 3ms/step - loss: 0.1805 - accuracy: 0.8278 - val_loss: 0.1727 - val_accuracy: 0.8613\n",
      "Epoch 6/100\n",
      "44/44 [==============================] - 0s 4ms/step - loss: 0.1611 - accuracy: 0.8509 - val_loss: 0.1754 - val_accuracy: 0.8468\n",
      "Epoch 7/100\n",
      "44/44 [==============================] - 0s 3ms/step - loss: 0.1513 - accuracy: 0.8647 - val_loss: 0.1443 - val_accuracy: 0.8786\n",
      "Epoch 8/100\n",
      "44/44 [==============================] - 0s 4ms/step - loss: 0.1404 - accuracy: 0.8828 - val_loss: 0.1390 - val_accuracy: 0.8671\n",
      "Epoch 9/100\n",
      "44/44 [==============================] - 0s 6ms/step - loss: 0.1224 - accuracy: 0.8994 - val_loss: 0.1343 - val_accuracy: 0.8728\n",
      "Epoch 10/100\n",
      "44/44 [==============================] - 0s 5ms/step - loss: 0.1203 - accuracy: 0.8893 - val_loss: 0.1393 - val_accuracy: 0.8642\n",
      "Epoch 11/100\n",
      "44/44 [==============================] - 0s 3ms/step - loss: 0.1171 - accuracy: 0.8973 - val_loss: 0.1501 - val_accuracy: 0.8671\n",
      "Epoch 12/100\n",
      "44/44 [==============================] - 0s 3ms/step - loss: 0.1262 - accuracy: 0.8871 - val_loss: 0.1496 - val_accuracy: 0.8728\n",
      "Epoch 13/100\n",
      "44/44 [==============================] - 0s 4ms/step - loss: 0.1088 - accuracy: 0.9139 - val_loss: 0.1589 - val_accuracy: 0.8584\n",
      "Epoch 14/100\n",
      "44/44 [==============================] - 0s 4ms/step - loss: 0.1101 - accuracy: 0.9045 - val_loss: 0.1121 - val_accuracy: 0.9046\n",
      "Epoch 15/100\n",
      "44/44 [==============================] - 0s 3ms/step - loss: 0.1042 - accuracy: 0.9110 - val_loss: 0.0856 - val_accuracy: 0.9364\n",
      "Epoch 16/100\n",
      "44/44 [==============================] - 0s 3ms/step - loss: 0.0873 - accuracy: 0.9269 - val_loss: 0.1586 - val_accuracy: 0.8757\n",
      "Epoch 17/100\n",
      "44/44 [==============================] - 0s 3ms/step - loss: 0.1023 - accuracy: 0.9124 - val_loss: 0.2278 - val_accuracy: 0.8468\n",
      "Epoch 18/100\n",
      "44/44 [==============================] - 0s 3ms/step - loss: 0.1113 - accuracy: 0.9117 - val_loss: 0.1108 - val_accuracy: 0.8988\n",
      "Epoch 19/100\n",
      "44/44 [==============================] - 0s 3ms/step - loss: 0.0744 - accuracy: 0.9370 - val_loss: 0.1127 - val_accuracy: 0.8960\n",
      "Epoch 20/100\n",
      "44/44 [==============================] - 0s 4ms/step - loss: 0.0975 - accuracy: 0.9276 - val_loss: 0.1371 - val_accuracy: 0.8786\n",
      "Epoch 21/100\n",
      "44/44 [==============================] - 0s 4ms/step - loss: 0.0833 - accuracy: 0.9269 - val_loss: 0.0837 - val_accuracy: 0.9393\n",
      "Epoch 22/100\n",
      "44/44 [==============================] - 0s 4ms/step - loss: 0.0782 - accuracy: 0.9363 - val_loss: 0.0917 - val_accuracy: 0.9277\n",
      "Epoch 23/100\n",
      "44/44 [==============================] - 0s 4ms/step - loss: 0.0659 - accuracy: 0.9501 - val_loss: 0.0779 - val_accuracy: 0.9393\n",
      "Epoch 24/100\n",
      "44/44 [==============================] - 0s 4ms/step - loss: 0.0613 - accuracy: 0.9566 - val_loss: 0.1175 - val_accuracy: 0.9335\n",
      "Epoch 25/100\n",
      "44/44 [==============================] - 0s 4ms/step - loss: 0.1232 - accuracy: 0.9016 - val_loss: 0.1155 - val_accuracy: 0.8960\n",
      "Epoch 26/100\n",
      "44/44 [==============================] - 0s 4ms/step - loss: 0.0762 - accuracy: 0.9385 - val_loss: 0.0766 - val_accuracy: 0.9422\n",
      "Epoch 27/100\n",
      "44/44 [==============================] - 0s 4ms/step - loss: 0.0696 - accuracy: 0.9399 - val_loss: 0.1056 - val_accuracy: 0.9104\n",
      "Epoch 28/100\n",
      "44/44 [==============================] - 0s 7ms/step - loss: 0.0867 - accuracy: 0.9305 - val_loss: 0.0895 - val_accuracy: 0.9249\n",
      "Epoch 29/100\n",
      "44/44 [==============================] - 0s 6ms/step - loss: 0.0643 - accuracy: 0.9399 - val_loss: 0.0607 - val_accuracy: 0.9624\n",
      "Epoch 30/100\n",
      "44/44 [==============================] - 0s 5ms/step - loss: 0.0597 - accuracy: 0.9544 - val_loss: 0.1257 - val_accuracy: 0.9046\n",
      "Epoch 31/100\n",
      "44/44 [==============================] - 0s 4ms/step - loss: 0.0543 - accuracy: 0.9580 - val_loss: 0.0559 - val_accuracy: 0.9480\n",
      "Epoch 32/100\n",
      "44/44 [==============================] - 0s 4ms/step - loss: 0.0744 - accuracy: 0.9436 - val_loss: 0.0958 - val_accuracy: 0.9364\n",
      "Epoch 33/100\n",
      "44/44 [==============================] - 0s 4ms/step - loss: 0.0818 - accuracy: 0.9313 - val_loss: 0.0803 - val_accuracy: 0.9364\n",
      "Epoch 34/100\n",
      "44/44 [==============================] - 0s 5ms/step - loss: 0.0781 - accuracy: 0.9407 - val_loss: 0.0841 - val_accuracy: 0.9249\n",
      "Epoch 35/100\n",
      "44/44 [==============================] - 0s 5ms/step - loss: 0.0594 - accuracy: 0.9530 - val_loss: 0.1054 - val_accuracy: 0.9249\n",
      "Epoch 36/100\n",
      "44/44 [==============================] - 0s 4ms/step - loss: 0.1145 - accuracy: 0.9081 - val_loss: 0.1022 - val_accuracy: 0.9075\n",
      "Epoch 37/100\n",
      "44/44 [==============================] - 0s 4ms/step - loss: 0.0682 - accuracy: 0.9378 - val_loss: 0.0666 - val_accuracy: 0.9509\n",
      "Epoch 38/100\n",
      "44/44 [==============================] - 0s 4ms/step - loss: 0.0577 - accuracy: 0.9486 - val_loss: 0.1029 - val_accuracy: 0.9191\n",
      "Epoch 39/100\n",
      "44/44 [==============================] - 0s 4ms/step - loss: 0.0637 - accuracy: 0.9443 - val_loss: 0.0951 - val_accuracy: 0.9133\n",
      "Epoch 40/100\n",
      "44/44 [==============================] - 0s 4ms/step - loss: 0.0977 - accuracy: 0.9161 - val_loss: 0.1051 - val_accuracy: 0.9104\n",
      "Epoch 41/100\n",
      "44/44 [==============================] - 0s 4ms/step - loss: 0.0743 - accuracy: 0.9262 - val_loss: 0.0695 - val_accuracy: 0.9364\n",
      "Epoch 42/100\n",
      "44/44 [==============================] - 0s 4ms/step - loss: 0.0605 - accuracy: 0.9522 - val_loss: 0.0811 - val_accuracy: 0.9220\n",
      "Epoch 43/100\n",
      "44/44 [==============================] - 0s 3ms/step - loss: 0.0655 - accuracy: 0.9443 - val_loss: 0.0720 - val_accuracy: 0.9393\n",
      "Epoch 44/100\n",
      "44/44 [==============================] - 0s 4ms/step - loss: 0.0590 - accuracy: 0.9501 - val_loss: 0.0994 - val_accuracy: 0.9220\n",
      "Epoch 45/100\n",
      "44/44 [==============================] - 0s 4ms/step - loss: 0.1153 - accuracy: 0.9168 - val_loss: 0.1409 - val_accuracy: 0.8902\n",
      "Epoch 46/100\n",
      "44/44 [==============================] - 0s 4ms/step - loss: 0.0648 - accuracy: 0.9457 - val_loss: 0.0992 - val_accuracy: 0.9133\n",
      "Epoch 47/100\n",
      "44/44 [==============================] - 0s 5ms/step - loss: 0.0725 - accuracy: 0.9465 - val_loss: 0.0831 - val_accuracy: 0.9364\n",
      "Epoch 48/100\n",
      "44/44 [==============================] - 0s 5ms/step - loss: 0.0505 - accuracy: 0.9588 - val_loss: 0.0593 - val_accuracy: 0.9595\n",
      "Epoch 49/100\n",
      "44/44 [==============================] - 0s 5ms/step - loss: 0.0480 - accuracy: 0.9602 - val_loss: 0.0778 - val_accuracy: 0.9335\n",
      "Epoch 50/100\n",
      "44/44 [==============================] - 0s 4ms/step - loss: 0.0682 - accuracy: 0.9501 - val_loss: 0.0668 - val_accuracy: 0.9480\n",
      "Epoch 51/100\n",
      "44/44 [==============================] - 0s 4ms/step - loss: 0.0501 - accuracy: 0.9624 - val_loss: 0.0643 - val_accuracy: 0.9509\n",
      "Epoch 52/100\n",
      "44/44 [==============================] - 0s 4ms/step - loss: 0.0630 - accuracy: 0.9493 - val_loss: 0.0773 - val_accuracy: 0.9335\n",
      "Epoch 53/100\n",
      "44/44 [==============================] - 0s 4ms/step - loss: 0.0632 - accuracy: 0.9486 - val_loss: 0.0527 - val_accuracy: 0.9538\n",
      "Epoch 54/100\n",
      "44/44 [==============================] - 0s 4ms/step - loss: 0.0407 - accuracy: 0.9660 - val_loss: 0.0570 - val_accuracy: 0.9509\n",
      "Epoch 55/100\n",
      "44/44 [==============================] - 0s 5ms/step - loss: 0.0417 - accuracy: 0.9682 - val_loss: 0.0579 - val_accuracy: 0.9480\n",
      "Epoch 56/100\n",
      "44/44 [==============================] - 0s 4ms/step - loss: 0.0603 - accuracy: 0.9457 - val_loss: 0.0754 - val_accuracy: 0.9335\n",
      "Epoch 57/100\n",
      "44/44 [==============================] - 0s 4ms/step - loss: 0.0450 - accuracy: 0.9645 - val_loss: 0.0769 - val_accuracy: 0.9480\n",
      "Epoch 58/100\n",
      "44/44 [==============================] - 0s 4ms/step - loss: 0.0582 - accuracy: 0.9479 - val_loss: 0.0680 - val_accuracy: 0.9306\n"
     ]
    },
    {
     "name": "stdout",
     "output_type": "stream",
     "text": [
      "Epoch 59/100\n",
      "44/44 [==============================] - 0s 4ms/step - loss: 0.0449 - accuracy: 0.9638 - val_loss: 0.0508 - val_accuracy: 0.9624\n",
      "Epoch 60/100\n",
      "44/44 [==============================] - 0s 4ms/step - loss: 0.0459 - accuracy: 0.9616 - val_loss: 0.0660 - val_accuracy: 0.9480\n",
      "Epoch 61/100\n",
      "44/44 [==============================] - 0s 4ms/step - loss: 0.0465 - accuracy: 0.9602 - val_loss: 0.1068 - val_accuracy: 0.9133\n",
      "Epoch 62/100\n",
      "44/44 [==============================] - 0s 4ms/step - loss: 0.0640 - accuracy: 0.9486 - val_loss: 0.0497 - val_accuracy: 0.9653\n",
      "Epoch 63/100\n",
      "44/44 [==============================] - 0s 4ms/step - loss: 0.0450 - accuracy: 0.9689 - val_loss: 0.1148 - val_accuracy: 0.8988\n",
      "Epoch 64/100\n",
      "44/44 [==============================] - 0s 4ms/step - loss: 0.0570 - accuracy: 0.9566 - val_loss: 0.1227 - val_accuracy: 0.9133\n",
      "Epoch 65/100\n",
      "44/44 [==============================] - 0s 5ms/step - loss: 0.0724 - accuracy: 0.9421 - val_loss: 0.0761 - val_accuracy: 0.9364\n",
      "Epoch 66/100\n",
      "44/44 [==============================] - 0s 4ms/step - loss: 0.0656 - accuracy: 0.9407 - val_loss: 0.0721 - val_accuracy: 0.9451\n",
      "Epoch 67/100\n",
      "44/44 [==============================] - 0s 4ms/step - loss: 0.0458 - accuracy: 0.9609 - val_loss: 0.0551 - val_accuracy: 0.9595\n",
      "Epoch 68/100\n",
      "44/44 [==============================] - 0s 4ms/step - loss: 0.0450 - accuracy: 0.9588 - val_loss: 0.0732 - val_accuracy: 0.9422\n",
      "Epoch 69/100\n",
      "44/44 [==============================] - 0s 4ms/step - loss: 0.0504 - accuracy: 0.9631 - val_loss: 0.0562 - val_accuracy: 0.9653\n",
      "Epoch 70/100\n",
      "44/44 [==============================] - 0s 4ms/step - loss: 0.0454 - accuracy: 0.9631 - val_loss: 0.0557 - val_accuracy: 0.9624\n",
      "Epoch 71/100\n",
      "44/44 [==============================] - 0s 4ms/step - loss: 0.0342 - accuracy: 0.9711 - val_loss: 0.0515 - val_accuracy: 0.9682\n",
      "Epoch 72/100\n",
      "44/44 [==============================] - 0s 4ms/step - loss: 0.0389 - accuracy: 0.9667 - val_loss: 0.0568 - val_accuracy: 0.9624\n",
      "Epoch 73/100\n",
      "44/44 [==============================] - 0s 4ms/step - loss: 0.0553 - accuracy: 0.9551 - val_loss: 0.0540 - val_accuracy: 0.9624\n",
      "Epoch 74/100\n",
      "44/44 [==============================] - 0s 4ms/step - loss: 0.0340 - accuracy: 0.9740 - val_loss: 0.0569 - val_accuracy: 0.9595\n",
      "Epoch 75/100\n",
      "44/44 [==============================] - 0s 4ms/step - loss: 0.0351 - accuracy: 0.9711 - val_loss: 0.0844 - val_accuracy: 0.9509\n",
      "Epoch 76/100\n",
      "44/44 [==============================] - 0s 4ms/step - loss: 0.1075 - accuracy: 0.9124 - val_loss: 0.0724 - val_accuracy: 0.9566\n",
      "Epoch 77/100\n",
      "44/44 [==============================] - 0s 4ms/step - loss: 0.0679 - accuracy: 0.9443 - val_loss: 0.0695 - val_accuracy: 0.9422\n",
      "Epoch 78/100\n",
      "44/44 [==============================] - 0s 4ms/step - loss: 0.0501 - accuracy: 0.9624 - val_loss: 0.0422 - val_accuracy: 0.9624\n",
      "Epoch 79/100\n",
      "44/44 [==============================] - 0s 4ms/step - loss: 0.0572 - accuracy: 0.9522 - val_loss: 0.1274 - val_accuracy: 0.9249\n",
      "Epoch 80/100\n",
      "44/44 [==============================] - 0s 4ms/step - loss: 0.0632 - accuracy: 0.9515 - val_loss: 0.0544 - val_accuracy: 0.9566\n",
      "Epoch 81/100\n",
      "44/44 [==============================] - 0s 4ms/step - loss: 0.0385 - accuracy: 0.9674 - val_loss: 0.0419 - val_accuracy: 0.9740\n",
      "Epoch 82/100\n",
      "44/44 [==============================] - 0s 5ms/step - loss: 0.0378 - accuracy: 0.9703 - val_loss: 0.0576 - val_accuracy: 0.9566\n",
      "Epoch 83/100\n",
      "44/44 [==============================] - 0s 6ms/step - loss: 0.0677 - accuracy: 0.9414 - val_loss: 0.0720 - val_accuracy: 0.9480\n",
      "Epoch 84/100\n",
      "44/44 [==============================] - 0s 5ms/step - loss: 0.0568 - accuracy: 0.9522 - val_loss: 0.0553 - val_accuracy: 0.9653\n",
      "Epoch 85/100\n",
      "44/44 [==============================] - 0s 4ms/step - loss: 0.0700 - accuracy: 0.9436 - val_loss: 0.0709 - val_accuracy: 0.9538\n",
      "Epoch 86/100\n",
      "44/44 [==============================] - 0s 4ms/step - loss: 0.0658 - accuracy: 0.9486 - val_loss: 0.0900 - val_accuracy: 0.9249\n",
      "Epoch 87/100\n",
      "44/44 [==============================] - 0s 4ms/step - loss: 0.0441 - accuracy: 0.9653 - val_loss: 0.0707 - val_accuracy: 0.9480\n",
      "Epoch 88/100\n",
      "44/44 [==============================] - 0s 4ms/step - loss: 0.0372 - accuracy: 0.9682 - val_loss: 0.0518 - val_accuracy: 0.9653\n",
      "Epoch 89/100\n",
      "44/44 [==============================] - 0s 4ms/step - loss: 0.0366 - accuracy: 0.9674 - val_loss: 0.0702 - val_accuracy: 0.9595\n",
      "Epoch 90/100\n",
      "44/44 [==============================] - 0s 5ms/step - loss: 0.0345 - accuracy: 0.9732 - val_loss: 0.0409 - val_accuracy: 0.9769\n",
      "Epoch 91/100\n",
      "44/44 [==============================] - 0s 4ms/step - loss: 0.0354 - accuracy: 0.9696 - val_loss: 0.0329 - val_accuracy: 0.9769\n",
      "Epoch 92/100\n",
      "44/44 [==============================] - 0s 4ms/step - loss: 0.0492 - accuracy: 0.9616 - val_loss: 0.0538 - val_accuracy: 0.9624\n",
      "Epoch 93/100\n",
      "44/44 [==============================] - 0s 3ms/step - loss: 0.0510 - accuracy: 0.9602 - val_loss: 0.0951 - val_accuracy: 0.9335\n",
      "Epoch 94/100\n",
      "44/44 [==============================] - 0s 5ms/step - loss: 0.0446 - accuracy: 0.9631 - val_loss: 0.0738 - val_accuracy: 0.9509\n",
      "Epoch 95/100\n",
      "44/44 [==============================] - 0s 3ms/step - loss: 0.0373 - accuracy: 0.9667 - val_loss: 0.0375 - val_accuracy: 0.9740\n",
      "Epoch 96/100\n",
      "44/44 [==============================] - 0s 4ms/step - loss: 0.0371 - accuracy: 0.9689 - val_loss: 0.0488 - val_accuracy: 0.9595\n",
      "Epoch 97/100\n",
      "44/44 [==============================] - 0s 4ms/step - loss: 0.0437 - accuracy: 0.9711 - val_loss: 0.0801 - val_accuracy: 0.9277\n",
      "Epoch 98/100\n",
      "44/44 [==============================] - 0s 4ms/step - loss: 0.0424 - accuracy: 0.9667 - val_loss: 0.0389 - val_accuracy: 0.9740\n",
      "Epoch 99/100\n",
      "44/44 [==============================] - 0s 4ms/step - loss: 0.0888 - accuracy: 0.9436 - val_loss: 0.1140 - val_accuracy: 0.9335\n",
      "Epoch 100/100\n",
      "44/44 [==============================] - 0s 4ms/step - loss: 0.0582 - accuracy: 0.9559 - val_loss: 0.0863 - val_accuracy: 0.9393\n",
      "11/11 [==============================] - 0s 2ms/step\n"
     ]
    }
   ],
   "source": [
    "model_history=model.fit(x=X_train, y=y_train, epochs=100, batch_size=32,validation_data= (X_test,y_test))\n",
    "y_pred = model.predict(X_test)"
   ]
  },
  {
   "cell_type": "code",
   "execution_count": 39,
   "id": "8340fb76",
   "metadata": {},
   "outputs": [],
   "source": [
    "y_test_class = np.argmax(y_test,axis=1)\n",
    "y_pred_class = np.argmax(y_pred,axis=1)"
   ]
  },
  {
   "cell_type": "code",
   "execution_count": 40,
   "id": "699a2199",
   "metadata": {},
   "outputs": [
    {
     "data": {
      "text/plain": [
       "<matplotlib.legend.Legend at 0x2c89bb3a050>"
      ]
     },
     "execution_count": 40,
     "metadata": {},
     "output_type": "execute_result"
    },
    {
     "data": {
      "image/png": "[encoded data removed]",
      "text/plain": [
       "<Figure size 640x480 with 1 Axes>"
      ]
     },
     "metadata": {},
     "output_type": "display_data"
    }
   ],
   "source": [
    "import matplotlib.pyplot as plt\n",
    "import seaborn as sns\n",
    "\n",
    "loss =model_history.history['loss']\n",
    "val_loss =model_history.history['val_loss']\n",
    "epochs = range(1, len(loss) + 1)\n",
    "plt.plot(epochs, loss, 'y', label='Training loss')\n",
    "plt.plot(epochs, val_loss, 'r', label='Validation loss')\n",
    "plt.title('Training and validation loss')\n",
    "plt.xlabel('Epochs')\n",
    "plt.ylabel('Loss')\n",
    "plt.legend()"
   ]
  },
  {
   "cell_type": "code",
   "execution_count": 41,
   "id": "8e643144",
   "metadata": {},
   "outputs": [
    {
     "data": {
      "image/png": "[encoded data removed]",
      "text/plain": [
       "<Figure size 640x480 with 1 Axes>"
      ]
     },
     "metadata": {},
     "output_type": "display_data"
    }
   ],
   "source": [
    "acc =model_history.history['accuracy']\n",
    "val_acc =model_history.history['val_accuracy']\n",
    "plt.plot(epochs, acc, 'y', label='Training acc')\n",
    "plt.plot(epochs, val_acc, 'r', label='Validation acc')\n",
    "plt.title('Training and validation accuracy')\n",
    "plt.xlabel('Epochs')\n",
    "plt.ylabel('Accuracy')\n",
    "plt.legend()\n",
    "plt.show()"
   ]
  },
  {
   "cell_type": "code",
   "execution_count": 42,
   "id": "8ccaa2f6",
   "metadata": {},
   "outputs": [
    {
     "name": "stdout",
     "output_type": "stream",
     "text": [
      "              precision    recall  f1-score   support\n",
      "\n",
      "           0       0.93      0.82      0.87        79\n",
      "           1       0.88      0.88      0.88        17\n",
      "           2       0.96      0.98      0.97       240\n",
      "           3       0.75      0.90      0.82        10\n",
      "\n",
      "    accuracy                           0.94       346\n",
      "   macro avg       0.88      0.90      0.89       346\n",
      "weighted avg       0.94      0.94      0.94       346\n",
      "\n",
      "[[ 65   2  11   1]\n",
      " [  0  15   0   2]\n",
      " [  4   0 236   0]\n",
      " [  1   0   0   9]]\n"
     ]
    }
   ],
   "source": [
    "#Accuracy of the predicted values\n",
    "from sklearn.metrics import classification_report,confusion_matrix\n",
    "print(classification_report(y_test_class,y_pred_class))\n",
    "print(confusion_matrix(y_test_class,y_pred_class))"
   ]
  },
  {
   "cell_type": "code",
   "execution_count": null,
   "id": "bcf2f729",
   "metadata": {},
   "outputs": [],
   "source": []
  }
 ],
 "metadata": {
  "kernelspec": {
   "display_name": "Python 3 (ipykernel)",
   "language": "python",
   "name": "python3"
  },
  "language_info": {
   "codemirror_mode": {
    "name": "ipython",
    "version": 3
   },
   "file_extension": ".py",
   "mimetype": "text/x-python",
   "name": "python",
   "nbconvert_exporter": "python",
   "pygments_lexer": "ipython3",
   "version": "3.11.4"
  }
 },
 "nbformat": 4,
 "nbformat_minor": 5
}
