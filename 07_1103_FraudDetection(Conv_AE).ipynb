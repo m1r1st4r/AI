{
 "cells": [
  {
   "cell_type": "markdown",
   "id": "076b4dda",
   "metadata": {},
   "source": [
    "### Load required libraries"
   ]
  },
  {
   "cell_type": "code",
   "execution_count": 1,
   "id": "e8452b24",
   "metadata": {},
   "outputs": [],
   "source": [
    "import numpy as np\n",
    "import pandas as pd\n",
    "import seaborn as sns\n",
    "\n",
    "import tensorflow as tf\n",
    "import keras\n",
    "from tensorflow.keras import regularizers\n",
    "from keras.models import Sequential, Model, load_model\n",
    "from keras.layers import Dense, Input, Conv1D, MaxPool1D, Conv1DTranspose, UpSampling1D, SeparableConv1D, Flatten, Reshape\n",
    "from keras.callbacks import ModelCheckpoint\n",
    "from sklearn.model_selection import train_test_split\n",
    "\n",
    "from sklearn.manifold import TSNE\n",
    "from sklearn.decomposition import PCA\n",
    "\n",
    "import matplotlib.pyplot as plt\n",
    "%matplotlib inline\n",
    "\n",
    "import warnings\n",
    "warnings.filterwarnings(\"ignore\")"
   ]
  },
  {
   "cell_type": "markdown",
   "id": "f992f32f",
   "metadata": {},
   "source": [
    "### Load the data"
   ]
  },
  {
   "cell_type": "code",
   "execution_count": 2,
   "id": "cb25d899",
   "metadata": {},
   "outputs": [
    {
     "name": "stdout",
     "output_type": "stream",
     "text": [
      "(284807, 30)\n"
     ]
    },
    {
     "data": {
      "text/html": [
       "<div>\n",
       "<style scoped>\n",
       "    .dataframe tbody tr th:only-of-type {\n",
       "        vertical-align: middle;\n",
       "    }\n",
       "\n",
       "    .dataframe tbody tr th {\n",
       "        vertical-align: top;\n",
       "    }\n",
       "\n",
       "    .dataframe thead th {\n",
       "        text-align: right;\n",
       "    }\n",
       "</style>\n",
       "<table border=\"1\" class=\"dataframe\">\n",
       "  <thead>\n",
       "    <tr style=\"text-align: right;\">\n",
       "      <th></th>\n",
       "      <th>V1</th>\n",
       "      <th>V2</th>\n",
       "      <th>V3</th>\n",
       "      <th>V4</th>\n",
       "      <th>V5</th>\n",
       "      <th>V6</th>\n",
       "      <th>V7</th>\n",
       "      <th>V8</th>\n",
       "      <th>V9</th>\n",
       "      <th>V10</th>\n",
       "      <th>...</th>\n",
       "      <th>V21</th>\n",
       "      <th>V22</th>\n",
       "      <th>V23</th>\n",
       "      <th>V24</th>\n",
       "      <th>V25</th>\n",
       "      <th>V26</th>\n",
       "      <th>V27</th>\n",
       "      <th>V28</th>\n",
       "      <th>Amount</th>\n",
       "      <th>Class</th>\n",
       "    </tr>\n",
       "    <tr>\n",
       "      <th>Time</th>\n",
       "      <th></th>\n",
       "      <th></th>\n",
       "      <th></th>\n",
       "      <th></th>\n",
       "      <th></th>\n",
       "      <th></th>\n",
       "      <th></th>\n",
       "      <th></th>\n",
       "      <th></th>\n",
       "      <th></th>\n",
       "      <th></th>\n",
       "      <th></th>\n",
       "      <th></th>\n",
       "      <th></th>\n",
       "      <th></th>\n",
       "      <th></th>\n",
       "      <th></th>\n",
       "      <th></th>\n",
       "      <th></th>\n",
       "      <th></th>\n",
       "      <th></th>\n",
       "    </tr>\n",
       "  </thead>\n",
       "  <tbody>\n",
       "    <tr>\n",
       "      <th>0.0</th>\n",
       "      <td>-1.359807</td>\n",
       "      <td>-0.072781</td>\n",
       "      <td>2.536347</td>\n",
       "      <td>1.378155</td>\n",
       "      <td>-0.338321</td>\n",
       "      <td>0.462388</td>\n",
       "      <td>0.239599</td>\n",
       "      <td>0.098698</td>\n",
       "      <td>0.363787</td>\n",
       "      <td>0.090794</td>\n",
       "      <td>...</td>\n",
       "      <td>-0.018307</td>\n",
       "      <td>0.277838</td>\n",
       "      <td>-0.110474</td>\n",
       "      <td>0.066928</td>\n",
       "      <td>0.128539</td>\n",
       "      <td>-0.189115</td>\n",
       "      <td>0.133558</td>\n",
       "      <td>-0.021053</td>\n",
       "      <td>149.62</td>\n",
       "      <td>0</td>\n",
       "    </tr>\n",
       "    <tr>\n",
       "      <th>0.0</th>\n",
       "      <td>1.191857</td>\n",
       "      <td>0.266151</td>\n",
       "      <td>0.166480</td>\n",
       "      <td>0.448154</td>\n",
       "      <td>0.060018</td>\n",
       "      <td>-0.082361</td>\n",
       "      <td>-0.078803</td>\n",
       "      <td>0.085102</td>\n",
       "      <td>-0.255425</td>\n",
       "      <td>-0.166974</td>\n",
       "      <td>...</td>\n",
       "      <td>-0.225775</td>\n",
       "      <td>-0.638672</td>\n",
       "      <td>0.101288</td>\n",
       "      <td>-0.339846</td>\n",
       "      <td>0.167170</td>\n",
       "      <td>0.125895</td>\n",
       "      <td>-0.008983</td>\n",
       "      <td>0.014724</td>\n",
       "      <td>2.69</td>\n",
       "      <td>0</td>\n",
       "    </tr>\n",
       "    <tr>\n",
       "      <th>1.0</th>\n",
       "      <td>-1.358354</td>\n",
       "      <td>-1.340163</td>\n",
       "      <td>1.773209</td>\n",
       "      <td>0.379780</td>\n",
       "      <td>-0.503198</td>\n",
       "      <td>1.800499</td>\n",
       "      <td>0.791461</td>\n",
       "      <td>0.247676</td>\n",
       "      <td>-1.514654</td>\n",
       "      <td>0.207643</td>\n",
       "      <td>...</td>\n",
       "      <td>0.247998</td>\n",
       "      <td>0.771679</td>\n",
       "      <td>0.909412</td>\n",
       "      <td>-0.689281</td>\n",
       "      <td>-0.327642</td>\n",
       "      <td>-0.139097</td>\n",
       "      <td>-0.055353</td>\n",
       "      <td>-0.059752</td>\n",
       "      <td>378.66</td>\n",
       "      <td>0</td>\n",
       "    </tr>\n",
       "    <tr>\n",
       "      <th>1.0</th>\n",
       "      <td>-0.966272</td>\n",
       "      <td>-0.185226</td>\n",
       "      <td>1.792993</td>\n",
       "      <td>-0.863291</td>\n",
       "      <td>-0.010309</td>\n",
       "      <td>1.247203</td>\n",
       "      <td>0.237609</td>\n",
       "      <td>0.377436</td>\n",
       "      <td>-1.387024</td>\n",
       "      <td>-0.054952</td>\n",
       "      <td>...</td>\n",
       "      <td>-0.108300</td>\n",
       "      <td>0.005274</td>\n",
       "      <td>-0.190321</td>\n",
       "      <td>-1.175575</td>\n",
       "      <td>0.647376</td>\n",
       "      <td>-0.221929</td>\n",
       "      <td>0.062723</td>\n",
       "      <td>0.061458</td>\n",
       "      <td>123.50</td>\n",
       "      <td>0</td>\n",
       "    </tr>\n",
       "    <tr>\n",
       "      <th>2.0</th>\n",
       "      <td>-1.158233</td>\n",
       "      <td>0.877737</td>\n",
       "      <td>1.548718</td>\n",
       "      <td>0.403034</td>\n",
       "      <td>-0.407193</td>\n",
       "      <td>0.095921</td>\n",
       "      <td>0.592941</td>\n",
       "      <td>-0.270533</td>\n",
       "      <td>0.817739</td>\n",
       "      <td>0.753074</td>\n",
       "      <td>...</td>\n",
       "      <td>-0.009431</td>\n",
       "      <td>0.798278</td>\n",
       "      <td>-0.137458</td>\n",
       "      <td>0.141267</td>\n",
       "      <td>-0.206010</td>\n",
       "      <td>0.502292</td>\n",
       "      <td>0.219422</td>\n",
       "      <td>0.215153</td>\n",
       "      <td>69.99</td>\n",
       "      <td>0</td>\n",
       "    </tr>\n",
       "  </tbody>\n",
       "</table>\n",
       "<p>5 rows × 30 columns</p>\n",
       "</div>"
      ],
      "text/plain": [
       "            V1        V2        V3        V4        V5        V6        V7  \\\n",
       "Time                                                                         \n",
       "0.0  -1.359807 -0.072781  2.536347  1.378155 -0.338321  0.462388  0.239599   \n",
       "0.0   1.191857  0.266151  0.166480  0.448154  0.060018 -0.082361 -0.078803   \n",
       "1.0  -1.358354 -1.340163  1.773209  0.379780 -0.503198  1.800499  0.791461   \n",
       "1.0  -0.966272 -0.185226  1.792993 -0.863291 -0.010309  1.247203  0.237609   \n",
       "2.0  -1.158233  0.877737  1.548718  0.403034 -0.407193  0.095921  0.592941   \n",
       "\n",
       "            V8        V9       V10  ...       V21       V22       V23  \\\n",
       "Time                                ...                                 \n",
       "0.0   0.098698  0.363787  0.090794  ... -0.018307  0.277838 -0.110474   \n",
       "0.0   0.085102 -0.255425 -0.166974  ... -0.225775 -0.638672  0.101288   \n",
       "1.0   0.247676 -1.514654  0.207643  ...  0.247998  0.771679  0.909412   \n",
       "1.0   0.377436 -1.387024 -0.054952  ... -0.108300  0.005274 -0.190321   \n",
       "2.0  -0.270533  0.817739  0.753074  ... -0.009431  0.798278 -0.137458   \n",
       "\n",
       "           V24       V25       V26       V27       V28  Amount  Class  \n",
       "Time                                                                   \n",
       "0.0   0.066928  0.128539 -0.189115  0.133558 -0.021053  149.62      0  \n",
       "0.0  -0.339846  0.167170  0.125895 -0.008983  0.014724    2.69      0  \n",
       "1.0  -0.689281 -0.327642 -0.139097 -0.055353 -0.059752  378.66      0  \n",
       "1.0  -1.175575  0.647376 -0.221929  0.062723  0.061458  123.50      0  \n",
       "2.0   0.141267 -0.206010  0.502292  0.219422  0.215153   69.99      0  \n",
       "\n",
       "[5 rows x 30 columns]"
      ]
     },
     "execution_count": 2,
     "metadata": {},
     "output_type": "execute_result"
    }
   ],
   "source": [
    "df = pd.read_csv('./data/creditcard.csv', index_col=0)\n",
    "print(df.shape)\n",
    "df.head()"
   ]
  },
  {
   "cell_type": "markdown",
   "id": "745866b7",
   "metadata": {},
   "source": [
    "#### Data check"
   ]
  },
  {
   "cell_type": "code",
   "execution_count": 3,
   "id": "46528b9f",
   "metadata": {},
   "outputs": [
    {
     "data": {
      "text/plain": [
       "0    0.998273\n",
       "1    0.001727\n",
       "Name: Class, dtype: float64"
      ]
     },
     "execution_count": 3,
     "metadata": {},
     "output_type": "execute_result"
    }
   ],
   "source": [
    "df['Class'].value_counts(normalize=True)"
   ]
  },
  {
   "cell_type": "code",
   "execution_count": 4,
   "id": "85a6f8c4",
   "metadata": {},
   "outputs": [
    {
     "data": {
      "text/plain": [
       "Index(['V1', 'V2', 'V3', 'V4', 'V5', 'V6', 'V7', 'V8', 'V9', 'V10', 'V11',\n",
       "       'V12', 'V13', 'V14', 'V15', 'V16', 'V17', 'V18', 'V19', 'V20', 'V21',\n",
       "       'V22', 'V23', 'V24', 'V25', 'V26', 'V27', 'V28', 'Amount', 'Class'],\n",
       "      dtype='object')"
      ]
     },
     "execution_count": 4,
     "metadata": {},
     "output_type": "execute_result"
    }
   ],
   "source": [
    "df.columns"
   ]
  },
  {
   "cell_type": "code",
   "execution_count": 5,
   "id": "cebc4bcb",
   "metadata": {},
   "outputs": [
    {
     "data": {
      "text/plain": [
       "False"
      ]
     },
     "execution_count": 5,
     "metadata": {},
     "output_type": "execute_result"
    }
   ],
   "source": [
    "df.isnull().values.any()"
   ]
  },
  {
   "cell_type": "code",
   "execution_count": 6,
   "id": "85851fed",
   "metadata": {},
   "outputs": [],
   "source": [
    "df = df.drop(['Amount'], axis=1)"
   ]
  },
  {
   "cell_type": "markdown",
   "id": "bf0d4248",
   "metadata": {},
   "source": [
    "### Train/test split"
   ]
  },
  {
   "cell_type": "code",
   "execution_count": 7,
   "id": "1fc791be",
   "metadata": {},
   "outputs": [
    {
     "name": "stdout",
     "output_type": "stream",
     "text": [
      "Frauds shape: (492, 29)\n",
      "Normal shape: (284315, 29)\n"
     ]
    }
   ],
   "source": [
    "frauds = df[df.Class == 1]\n",
    "#normal = df[df.Class == 0].sample(1000)\n",
    "normal = df[df.Class == 0]\n",
    "print(\"Frauds shape: {}\".format(frauds.shape))\n",
    "print(\"Normal shape: {}\".format(normal.shape))"
   ]
  },
  {
   "cell_type": "code",
   "execution_count": 8,
   "id": "54c7a86c",
   "metadata": {},
   "outputs": [
    {
     "data": {
      "text/plain": [
       "(284807, 29)"
      ]
     },
     "execution_count": 8,
     "metadata": {},
     "output_type": "execute_result"
    }
   ],
   "source": [
    "data = pd.concat([frauds, normal])\n",
    "data.shape"
   ]
  },
  {
   "cell_type": "code",
   "execution_count": 9,
   "id": "93a3c174",
   "metadata": {},
   "outputs": [
    {
     "name": "stdout",
     "output_type": "stream",
     "text": [
      "X_train shape: (199013, 28)\n",
      "X_test shape: (85443, 28)\n"
     ]
    }
   ],
   "source": [
    "X_train, X_test = train_test_split(data, test_size=0.3, random_state=42)\n",
    "X_train = X_train[X_train.Class == 0]\n",
    "X_train = X_train.drop(['Class'], axis=1)\n",
    "X_train = X_train.values\n",
    "\n",
    "X_test, y_test = X_test.drop(['Class'], axis=1).values, X_test['Class'].values\n",
    "\n",
    "print(\"X_train shape: {}\".format(X_train.shape))\n",
    "print(\"X_test shape: {}\".format(X_test.shape))"
   ]
  },
  {
   "cell_type": "markdown",
   "id": "746b84db",
   "metadata": {},
   "source": [
    "### Visualize the data with TSNE and PCA"
   ]
  },
  {
   "cell_type": "code",
   "execution_count": null,
   "id": "fdf2812c",
   "metadata": {},
   "outputs": [],
   "source": [
    "x1 = df[df.Class == 1]\n",
    "x2 = df[df.Class == 0].sample(1000)\n",
    "\n",
    "dfd = x1.append(x2).sample(frac=1).reset_index(drop=True)\n",
    "x = dfd.drop(['Class'], axis=1).values\n",
    "y = dfd['Class'].values\n",
    "\n",
    "SEED = 42"
   ]
  },
  {
   "cell_type": "code",
   "execution_count": null,
   "id": "71abd557",
   "metadata": {},
   "outputs": [],
   "source": [
    "tsne = TSNE(n_components=2, random_state=SEED, init='random', learning_rate=200)\n",
    "xtsne = tsne.fit_transform(x)\n",
    "plt.figure(figsize=(12,8));\n",
    "plt.scatter(xtsne[np.where(y==0), 0], y=xtsne[np.where(y==0), 1], color=\"blue\", label='Normal')\n",
    "plt.scatter(x=xtsne[np.where(y==1), 0], y=xtsne[np.where(y==1), 1], color=\"red\", label='Fraud')\n",
    "plt.title('t-SNE Plot')\n",
    "plt.legend()\n",
    "plt.show()"
   ]
  },
  {
   "cell_type": "code",
   "execution_count": null,
   "id": "6c0d4dc3",
   "metadata": {},
   "outputs": [],
   "source": [
    "pca = PCA(n_components=2, random_state=SEED)\n",
    "xpca = pca.fit_transform(x)\n",
    "plt.figure(figsize=(12,8));\n",
    "plt.scatter(x=xpca[np.where(y==0), 0], y=xpca[np.where(y==0), 1], color=\"blue\", label='Normal')\n",
    "plt.scatter(x=xpca[np.where(y==1), 0], y=xpca[np.where(y==1), 1], color=\"red\", label='Fraud')\n",
    "plt.title('PCA Plot')\n",
    "plt.legend()\n",
    "plt.show()"
   ]
  },
  {
   "cell_type": "markdown",
   "id": "31a69585",
   "metadata": {},
   "source": [
    "#### Normalize the data"
   ]
  },
  {
   "cell_type": "code",
   "execution_count": 10,
   "id": "8e0631dd",
   "metadata": {},
   "outputs": [],
   "source": [
    "from sklearn.preprocessing import MinMaxScaler\n",
    "\n",
    "scaler = MinMaxScaler()\n",
    "\n",
    "scaler.fit_transform(X_train);\n",
    "scaler.transform(X_test);"
   ]
  },
  {
   "cell_type": "markdown",
   "id": "95e19b52",
   "metadata": {},
   "source": [
    "### AutoEncoder Model"
   ]
  },
  {
   "cell_type": "code",
   "execution_count": 11,
   "id": "10aafb4a",
   "metadata": {},
   "outputs": [
    {
     "name": "stdout",
     "output_type": "stream",
     "text": [
      "Model: \"model\"\n",
      "_________________________________________________________________\n",
      " Layer (type)                Output Shape              Param #   \n",
      "=================================================================\n",
      " input_1 (InputLayer)        [(None, 28)]              0         \n",
      "                                                                 \n",
      " reshape (Reshape)           (None, 28, 1)             0         \n",
      "                                                                 \n",
      " conv1d (Conv1D)             (None, 28, 14)            56        \n",
      "                                                                 \n",
      " max_pooling1d (MaxPooling1  (None, 14, 14)            0         \n",
      " D)                                                              \n",
      "                                                                 \n",
      " conv1d_1 (Conv1D)           (None, 14, 7)             301       \n",
      "                                                                 \n",
      " flatten (Flatten)           (None, 98)                0         \n",
      "                                                                 \n",
      " reshape_1 (Reshape)         (None, 14, 7)             0         \n",
      "                                                                 \n",
      " conv1d_transpose (Conv1DTr  (None, 14, 14)            308       \n",
      " anspose)                                                        \n",
      "                                                                 \n",
      " up_sampling1d (UpSampling1  (None, 28, 14)            0         \n",
      " D)                                                              \n",
      "                                                                 \n",
      " conv1d_transpose_1 (Conv1D  (None, 28, 1)             43        \n",
      " Transpose)                                                      \n",
      "                                                                 \n",
      " reshape_2 (Reshape)         (None, 28)                0         \n",
      "                                                                 \n",
      " dense (Dense)               (None, 28)                812       \n",
      "                                                                 \n",
      "=================================================================\n",
      "Total params: 1520 (5.94 KB)\n",
      "Trainable params: 1520 (5.94 KB)\n",
      "Non-trainable params: 0 (0.00 Byte)\n",
      "_________________________________________________________________\n"
     ]
    }
   ],
   "source": [
    "input_dim = X_train.shape[1]\n",
    "\n",
    "input_layer = Input(shape=(input_dim,))\n",
    "encoder = Reshape((input_dim, 1,))(input_layer)\n",
    "encoder = Conv1D(14, 3, padding='SAME', activation=\"relu\")(encoder)\n",
    "encoder = MaxPool1D(pool_size=2)(encoder)\n",
    "encoder = Conv1D(7, 3, padding='SAME', activation=\"relu\")(encoder)\n",
    "encoder = Flatten()(encoder)\n",
    "\n",
    "decoder = Reshape((14,7,))(encoder)\n",
    "decoder = Conv1DTranspose(14, 3, padding='SAME', activation=\"relu\")(decoder)\n",
    "decoder = UpSampling1D(2)(decoder)\n",
    "decoder = Conv1DTranspose(1, 3, padding='SAME', activation=\"relu\")(decoder)\n",
    "decoder = Reshape((input_dim,))(decoder)\n",
    "\n",
    "decoder = Dense(input_dim)(decoder)\n",
    "cae = Model(inputs=input_layer, outputs=decoder)\n",
    "\n",
    "cae.summary()"
   ]
  },
  {
   "cell_type": "code",
   "execution_count": 14,
   "id": "40a93f7c",
   "metadata": {},
   "outputs": [],
   "source": [
    "epochs = 100\n",
    "batch_size = 32\n",
    "cae.compile(optimizer='adam', loss='mse', metrics=['accuracy'])\n",
    "checkpointer = ModelCheckpoint(filepath=\"./pth/fraudConv_AE.h5\", verbose=0, save_best_only=True)"
   ]
  },
  {
   "cell_type": "markdown",
   "id": "99bdb89e",
   "metadata": {},
   "source": [
    "### Training"
   ]
  },
  {
   "cell_type": "code",
   "execution_count": 15,
   "id": "c24d5c33",
   "metadata": {
    "scrolled": true
   },
   "outputs": [
    {
     "name": "stdout",
     "output_type": "stream",
     "text": [
      "Epoch 1/100\n",
      "5598/5598 [==============================] - 35s 6ms/step - loss: 0.1582 - accuracy: 0.7604 - val_loss: 0.0945 - val_accuracy: 0.7510\n",
      "Epoch 2/100\n",
      "5598/5598 [==============================] - 34s 6ms/step - loss: 0.0579 - accuracy: 0.8716 - val_loss: 0.0412 - val_accuracy: 0.9058\n",
      "Epoch 3/100\n",
      "5598/5598 [==============================] - 28s 5ms/step - loss: 0.0417 - accuracy: 0.9025 - val_loss: 0.0315 - val_accuracy: 0.9259\n",
      "Epoch 4/100\n",
      "5598/5598 [==============================] - 28s 5ms/step - loss: 0.0359 - accuracy: 0.9153 - val_loss: 0.0295 - val_accuracy: 0.9242\n",
      "Epoch 5/100\n",
      "5598/5598 [==============================] - 28s 5ms/step - loss: 0.0301 - accuracy: 0.9250 - val_loss: 0.0267 - val_accuracy: 0.9327\n",
      "Epoch 6/100\n",
      "5598/5598 [==============================] - 28s 5ms/step - loss: 0.0268 - accuracy: 0.9300 - val_loss: 0.0261 - val_accuracy: 0.9357\n",
      "Epoch 7/100\n",
      "5598/5598 [==============================] - 28s 5ms/step - loss: 0.0241 - accuracy: 0.9358 - val_loss: 0.0193 - val_accuracy: 0.9506\n",
      "Epoch 8/100\n",
      "5598/5598 [==============================] - 28s 5ms/step - loss: 0.0222 - accuracy: 0.9385 - val_loss: 0.0200 - val_accuracy: 0.9475\n",
      "Epoch 9/100\n",
      "5598/5598 [==============================] - 29s 5ms/step - loss: 0.0209 - accuracy: 0.9430 - val_loss: 0.0307 - val_accuracy: 0.9165\n",
      "Epoch 10/100\n",
      "5598/5598 [==============================] - 34s 6ms/step - loss: 0.0196 - accuracy: 0.9448 - val_loss: 0.0196 - val_accuracy: 0.9485\n",
      "Epoch 11/100\n",
      "5598/5598 [==============================] - 33s 6ms/step - loss: 0.0191 - accuracy: 0.9468 - val_loss: 0.0214 - val_accuracy: 0.9335\n",
      "Epoch 12/100\n",
      "5598/5598 [==============================] - 27s 5ms/step - loss: 0.0181 - accuracy: 0.9495 - val_loss: 0.0185 - val_accuracy: 0.9525\n",
      "Epoch 13/100\n",
      "5598/5598 [==============================] - 27s 5ms/step - loss: 0.0177 - accuracy: 0.9516 - val_loss: 0.0167 - val_accuracy: 0.9513\n",
      "Epoch 14/100\n",
      "5598/5598 [==============================] - 27s 5ms/step - loss: 0.0174 - accuracy: 0.9509 - val_loss: 0.0139 - val_accuracy: 0.9650\n",
      "Epoch 15/100\n",
      "5598/5598 [==============================] - 27s 5ms/step - loss: 0.0168 - accuracy: 0.9520 - val_loss: 0.0161 - val_accuracy: 0.9553\n",
      "Epoch 16/100\n",
      "5598/5598 [==============================] - 29s 5ms/step - loss: 0.0167 - accuracy: 0.9521 - val_loss: 0.0143 - val_accuracy: 0.9565\n",
      "Epoch 17/100\n",
      "5598/5598 [==============================] - 26s 5ms/step - loss: 0.0162 - accuracy: 0.9536 - val_loss: 0.0141 - val_accuracy: 0.9624\n",
      "Epoch 18/100\n",
      "5598/5598 [==============================] - 32s 6ms/step - loss: 0.0156 - accuracy: 0.9564 - val_loss: 0.0187 - val_accuracy: 0.9396\n",
      "Epoch 19/100\n",
      "5598/5598 [==============================] - 30s 5ms/step - loss: 0.0154 - accuracy: 0.9553 - val_loss: 0.0138 - val_accuracy: 0.9640\n",
      "Epoch 20/100\n",
      "5598/5598 [==============================] - 27s 5ms/step - loss: 0.0151 - accuracy: 0.9569 - val_loss: 0.0170 - val_accuracy: 0.9473\n",
      "Epoch 21/100\n",
      "5598/5598 [==============================] - 27s 5ms/step - loss: 0.0151 - accuracy: 0.9560 - val_loss: 0.0133 - val_accuracy: 0.9721\n",
      "Epoch 22/100\n",
      "5598/5598 [==============================] - 27s 5ms/step - loss: 0.0150 - accuracy: 0.9578 - val_loss: 0.0134 - val_accuracy: 0.9627\n",
      "Epoch 23/100\n",
      "5598/5598 [==============================] - 27s 5ms/step - loss: 0.0148 - accuracy: 0.9572 - val_loss: 0.0152 - val_accuracy: 0.9524\n",
      "Epoch 24/100\n",
      "5598/5598 [==============================] - 29s 5ms/step - loss: 0.0147 - accuracy: 0.9565 - val_loss: 0.0161 - val_accuracy: 0.9305\n",
      "Epoch 25/100\n",
      "5598/5598 [==============================] - 27s 5ms/step - loss: 0.0148 - accuracy: 0.9575 - val_loss: 0.0138 - val_accuracy: 0.9675\n",
      "Epoch 26/100\n",
      "5598/5598 [==============================] - 28s 5ms/step - loss: 0.0146 - accuracy: 0.9580 - val_loss: 0.0122 - val_accuracy: 0.9729\n",
      "Epoch 27/100\n",
      "5598/5598 [==============================] - 26s 5ms/step - loss: 0.0145 - accuracy: 0.9586 - val_loss: 0.0141 - val_accuracy: 0.9715\n",
      "Epoch 28/100\n",
      "5598/5598 [==============================] - 27s 5ms/step - loss: 0.0151 - accuracy: 0.9573 - val_loss: 0.0129 - val_accuracy: 0.9653\n",
      "Epoch 29/100\n",
      "5598/5598 [==============================] - 27s 5ms/step - loss: 0.0146 - accuracy: 0.9590 - val_loss: 0.0133 - val_accuracy: 0.9693\n",
      "Epoch 30/100\n",
      "5598/5598 [==============================] - 28s 5ms/step - loss: 0.0141 - accuracy: 0.9585 - val_loss: 0.0125 - val_accuracy: 0.9668\n",
      "Epoch 31/100\n",
      "5598/5598 [==============================] - 27s 5ms/step - loss: 0.0141 - accuracy: 0.9592 - val_loss: 0.0126 - val_accuracy: 0.9656\n",
      "Epoch 32/100\n",
      "5598/5598 [==============================] - 30s 5ms/step - loss: 0.0138 - accuracy: 0.9591 - val_loss: 0.0138 - val_accuracy: 0.9543\n",
      "Epoch 33/100\n",
      "5598/5598 [==============================] - 27s 5ms/step - loss: 0.0145 - accuracy: 0.9599 - val_loss: 0.0140 - val_accuracy: 0.9523\n",
      "Epoch 34/100\n",
      "5598/5598 [==============================] - 30s 5ms/step - loss: 0.0134 - accuracy: 0.9598 - val_loss: 0.0162 - val_accuracy: 0.9322\n",
      "Epoch 35/100\n",
      "5598/5598 [==============================] - 31s 6ms/step - loss: 0.0144 - accuracy: 0.9586 - val_loss: 0.0124 - val_accuracy: 0.9680\n",
      "Epoch 36/100\n",
      "5598/5598 [==============================] - 27s 5ms/step - loss: 0.0134 - accuracy: 0.9604 - val_loss: 0.0131 - val_accuracy: 0.9661\n",
      "Epoch 37/100\n",
      "5598/5598 [==============================] - 26s 5ms/step - loss: 0.0148 - accuracy: 0.9582 - val_loss: 0.0144 - val_accuracy: 0.9459\n",
      "Epoch 38/100\n",
      "5598/5598 [==============================] - 26s 5ms/step - loss: 0.0135 - accuracy: 0.9589 - val_loss: 0.0174 - val_accuracy: 0.9371\n",
      "Epoch 39/100\n",
      "5598/5598 [==============================] - 27s 5ms/step - loss: 0.0143 - accuracy: 0.9574 - val_loss: 0.0167 - val_accuracy: 0.9656\n",
      "Epoch 40/100\n",
      "5598/5598 [==============================] - 27s 5ms/step - loss: 0.0137 - accuracy: 0.9588 - val_loss: 0.0118 - val_accuracy: 0.9715\n",
      "Epoch 41/100\n",
      "5598/5598 [==============================] - 27s 5ms/step - loss: 0.0135 - accuracy: 0.9597 - val_loss: 0.0128 - val_accuracy: 0.9463\n",
      "Epoch 42/100\n",
      "5598/5598 [==============================] - 27s 5ms/step - loss: 0.0142 - accuracy: 0.9573 - val_loss: 0.0129 - val_accuracy: 0.9507\n",
      "Epoch 43/100\n",
      "5598/5598 [==============================] - 26s 5ms/step - loss: 0.0136 - accuracy: 0.9592 - val_loss: 0.0126 - val_accuracy: 0.9615\n",
      "Epoch 44/100\n",
      "5598/5598 [==============================] - 26s 5ms/step - loss: 0.0129 - accuracy: 0.9596 - val_loss: 0.0133 - val_accuracy: 0.9567\n",
      "Epoch 45/100\n",
      "5598/5598 [==============================] - 27s 5ms/step - loss: 0.0135 - accuracy: 0.9580 - val_loss: 0.0116 - val_accuracy: 0.9601\n",
      "Epoch 46/100\n",
      "5598/5598 [==============================] - 27s 5ms/step - loss: 0.0138 - accuracy: 0.9586 - val_loss: 0.0114 - val_accuracy: 0.9659\n",
      "Epoch 47/100\n",
      "5598/5598 [==============================] - 27s 5ms/step - loss: 0.0126 - accuracy: 0.9595 - val_loss: 0.0122 - val_accuracy: 0.9635\n",
      "Epoch 48/100\n",
      "5598/5598 [==============================] - 29s 5ms/step - loss: 0.0128 - accuracy: 0.9583 - val_loss: 0.0117 - val_accuracy: 0.9564\n",
      "Epoch 49/100\n",
      "5598/5598 [==============================] - 32s 6ms/step - loss: 0.0134 - accuracy: 0.9578 - val_loss: 0.0110 - val_accuracy: 0.9705\n",
      "Epoch 50/100\n",
      "5598/5598 [==============================] - 44s 8ms/step - loss: 0.0127 - accuracy: 0.9588 - val_loss: 0.0103 - val_accuracy: 0.9684\n",
      "Epoch 51/100\n",
      "5598/5598 [==============================] - 39s 7ms/step - loss: 0.0128 - accuracy: 0.9583 - val_loss: 0.0099 - val_accuracy: 0.9749\n",
      "Epoch 52/100\n",
      "5598/5598 [==============================] - 40s 7ms/step - loss: 0.0121 - accuracy: 0.9599 - val_loss: 0.0107 - val_accuracy: 0.9682\n",
      "Epoch 53/100\n",
      "5598/5598 [==============================] - 30s 5ms/step - loss: 0.0118 - accuracy: 0.9600 - val_loss: 0.0111 - val_accuracy: 0.9571\n",
      "Epoch 54/100\n",
      "5598/5598 [==============================] - 26s 5ms/step - loss: 0.0117 - accuracy: 0.9598 - val_loss: 0.0099 - val_accuracy: 0.9702\n",
      "Epoch 55/100\n",
      "5598/5598 [==============================] - 25s 5ms/step - loss: 0.0113 - accuracy: 0.9599 - val_loss: 0.0107 - val_accuracy: 0.9669\n",
      "Epoch 56/100\n",
      "5598/5598 [==============================] - 23s 4ms/step - loss: 0.0114 - accuracy: 0.9596 - val_loss: 0.0093 - val_accuracy: 0.9592\n"
     ]
    },
    {
     "name": "stdout",
     "output_type": "stream",
     "text": [
      "Epoch 57/100\n",
      "5598/5598 [==============================] - 23s 4ms/step - loss: 0.0109 - accuracy: 0.9609 - val_loss: 0.0238 - val_accuracy: 0.8949\n",
      "Epoch 58/100\n",
      "5598/5598 [==============================] - 23s 4ms/step - loss: 0.0113 - accuracy: 0.9601 - val_loss: 0.0090 - val_accuracy: 0.9718\n",
      "Epoch 59/100\n",
      "5598/5598 [==============================] - 23s 4ms/step - loss: 0.0110 - accuracy: 0.9611 - val_loss: 0.0081 - val_accuracy: 0.9686\n",
      "Epoch 60/100\n",
      "5598/5598 [==============================] - 25s 4ms/step - loss: 0.0100 - accuracy: 0.9607 - val_loss: 0.0077 - val_accuracy: 0.9769\n",
      "Epoch 61/100\n",
      "5598/5598 [==============================] - 25s 5ms/step - loss: 0.0098 - accuracy: 0.9623 - val_loss: 0.0086 - val_accuracy: 0.9670\n",
      "Epoch 62/100\n",
      "5598/5598 [==============================] - 28s 5ms/step - loss: 0.0094 - accuracy: 0.9627 - val_loss: 0.0072 - val_accuracy: 0.9790\n",
      "Epoch 63/100\n",
      "5598/5598 [==============================] - 24s 4ms/step - loss: 0.0093 - accuracy: 0.9630 - val_loss: 0.0074 - val_accuracy: 0.9763\n",
      "Epoch 64/100\n",
      "5598/5598 [==============================] - 24s 4ms/step - loss: 0.0093 - accuracy: 0.9642 - val_loss: 0.0071 - val_accuracy: 0.9733\n",
      "Epoch 65/100\n",
      "5598/5598 [==============================] - 25s 4ms/step - loss: 0.0100 - accuracy: 0.9624 - val_loss: 0.0118 - val_accuracy: 0.9428\n",
      "Epoch 66/100\n",
      "5598/5598 [==============================] - 24s 4ms/step - loss: 0.0084 - accuracy: 0.9672 - val_loss: 0.0068 - val_accuracy: 0.9698\n",
      "Epoch 67/100\n",
      "5598/5598 [==============================] - 24s 4ms/step - loss: 0.0082 - accuracy: 0.9658 - val_loss: 0.0067 - val_accuracy: 0.9771\n",
      "Epoch 68/100\n",
      "5598/5598 [==============================] - 24s 4ms/step - loss: 0.0082 - accuracy: 0.9670 - val_loss: 0.0067 - val_accuracy: 0.9799\n",
      "Epoch 69/100\n",
      "5598/5598 [==============================] - 27s 5ms/step - loss: 0.0084 - accuracy: 0.9664 - val_loss: 0.0071 - val_accuracy: 0.9780\n",
      "Epoch 70/100\n",
      "5598/5598 [==============================] - 28s 5ms/step - loss: 0.0087 - accuracy: 0.9670 - val_loss: 0.0123 - val_accuracy: 0.9444\n",
      "Epoch 71/100\n",
      "5598/5598 [==============================] - 33s 6ms/step - loss: 0.0080 - accuracy: 0.9674 - val_loss: 0.0061 - val_accuracy: 0.9816\n",
      "Epoch 72/100\n",
      "5598/5598 [==============================] - 35s 6ms/step - loss: 0.0081 - accuracy: 0.9683 - val_loss: 0.0071 - val_accuracy: 0.9703\n",
      "Epoch 73/100\n",
      "5598/5598 [==============================] - 26s 5ms/step - loss: 0.0079 - accuracy: 0.9678 - val_loss: 0.0068 - val_accuracy: 0.9624\n",
      "Epoch 74/100\n",
      "5598/5598 [==============================] - 26s 5ms/step - loss: 0.0078 - accuracy: 0.9683 - val_loss: 0.0058 - val_accuracy: 0.9768\n",
      "Epoch 75/100\n",
      "5598/5598 [==============================] - 26s 5ms/step - loss: 0.0080 - accuracy: 0.9671 - val_loss: 0.0077 - val_accuracy: 0.9620\n",
      "Epoch 76/100\n",
      "5598/5598 [==============================] - 27s 5ms/step - loss: 0.0076 - accuracy: 0.9701 - val_loss: 0.0058 - val_accuracy: 0.9820\n",
      "Epoch 77/100\n",
      "5598/5598 [==============================] - 27s 5ms/step - loss: 0.0079 - accuracy: 0.9683 - val_loss: 0.0077 - val_accuracy: 0.9537\n",
      "Epoch 78/100\n",
      "5598/5598 [==============================] - 27s 5ms/step - loss: 0.0076 - accuracy: 0.9698 - val_loss: 0.0080 - val_accuracy: 0.9694\n",
      "Epoch 79/100\n",
      "5598/5598 [==============================] - 27s 5ms/step - loss: 0.0076 - accuracy: 0.9705 - val_loss: 0.0062 - val_accuracy: 0.9777\n",
      "Epoch 80/100\n",
      "5598/5598 [==============================] - 28s 5ms/step - loss: 0.0075 - accuracy: 0.9692 - val_loss: 0.0175 - val_accuracy: 0.9271\n",
      "Epoch 81/100\n",
      "5598/5598 [==============================] - 29s 5ms/step - loss: 0.0088 - accuracy: 0.9670 - val_loss: 0.0060 - val_accuracy: 0.9757\n",
      "Epoch 82/100\n",
      "5598/5598 [==============================] - 28s 5ms/step - loss: 0.0075 - accuracy: 0.9704 - val_loss: 0.0063 - val_accuracy: 0.9749\n",
      "Epoch 83/100\n",
      "5598/5598 [==============================] - 26s 5ms/step - loss: 0.0082 - accuracy: 0.9688 - val_loss: 0.0059 - val_accuracy: 0.9834\n",
      "Epoch 84/100\n",
      "5598/5598 [==============================] - 26s 5ms/step - loss: 0.0074 - accuracy: 0.9689 - val_loss: 0.0056 - val_accuracy: 0.9871\n",
      "Epoch 85/100\n",
      "5598/5598 [==============================] - 27s 5ms/step - loss: 0.0072 - accuracy: 0.9696 - val_loss: 0.0056 - val_accuracy: 0.9831\n",
      "Epoch 86/100\n",
      "5598/5598 [==============================] - 27s 5ms/step - loss: 0.0071 - accuracy: 0.9710 - val_loss: 0.0061 - val_accuracy: 0.9786\n",
      "Epoch 87/100\n",
      "5598/5598 [==============================] - 27s 5ms/step - loss: 0.0070 - accuracy: 0.9716 - val_loss: 0.0059 - val_accuracy: 0.9739\n",
      "Epoch 88/100\n",
      "5598/5598 [==============================] - 27s 5ms/step - loss: 0.0076 - accuracy: 0.9696 - val_loss: 0.0081 - val_accuracy: 0.9522\n",
      "Epoch 89/100\n",
      "5598/5598 [==============================] - 27s 5ms/step - loss: 0.0070 - accuracy: 0.9711 - val_loss: 0.0069 - val_accuracy: 0.9690\n",
      "Epoch 90/100\n",
      "5598/5598 [==============================] - 27s 5ms/step - loss: 0.0075 - accuracy: 0.9706 - val_loss: 0.0059 - val_accuracy: 0.9761\n",
      "Epoch 91/100\n",
      "5598/5598 [==============================] - 27s 5ms/step - loss: 0.0070 - accuracy: 0.9716 - val_loss: 0.0084 - val_accuracy: 0.9600\n",
      "Epoch 92/100\n",
      "5598/5598 [==============================] - 28s 5ms/step - loss: 0.0069 - accuracy: 0.9713 - val_loss: 0.0054 - val_accuracy: 0.9826\n",
      "Epoch 93/100\n",
      "5598/5598 [==============================] - 27s 5ms/step - loss: 0.0072 - accuracy: 0.9717 - val_loss: 0.0054 - val_accuracy: 0.9819\n",
      "Epoch 94/100\n",
      "5598/5598 [==============================] - 28s 5ms/step - loss: 0.0073 - accuracy: 0.9725 - val_loss: 0.0066 - val_accuracy: 0.9632\n",
      "Epoch 95/100\n",
      "5598/5598 [==============================] - 28s 5ms/step - loss: 0.0071 - accuracy: 0.9717 - val_loss: 0.0054 - val_accuracy: 0.9811\n",
      "Epoch 96/100\n",
      "5598/5598 [==============================] - 30s 5ms/step - loss: 0.0072 - accuracy: 0.9720 - val_loss: 0.0055 - val_accuracy: 0.9878\n",
      "Epoch 97/100\n",
      "5598/5598 [==============================] - 30s 5ms/step - loss: 0.0070 - accuracy: 0.9720 - val_loss: 0.0056 - val_accuracy: 0.9830\n",
      "Epoch 98/100\n",
      "5598/5598 [==============================] - 31s 6ms/step - loss: 0.0067 - accuracy: 0.9729 - val_loss: 0.0160 - val_accuracy: 0.9312\n",
      "Epoch 99/100\n",
      "5598/5598 [==============================] - 27s 5ms/step - loss: 0.0082 - accuracy: 0.9701 - val_loss: 0.0077 - val_accuracy: 0.9550\n",
      "Epoch 100/100\n",
      "5598/5598 [==============================] - 26s 5ms/step - loss: 0.0070 - accuracy: 0.9725 - val_loss: 0.0053 - val_accuracy: 0.9794\n"
     ]
    }
   ],
   "source": [
    "history = cae.fit(X_train, X_train,\n",
    "                    epochs=epochs,\n",
    "                    batch_size=batch_size,\n",
    "                    shuffle=True,\n",
    "                    validation_split=0.1,\n",
    "                    callbacks=[checkpointer]).history"
   ]
  },
  {
   "cell_type": "code",
   "execution_count": 16,
   "id": "70cc9a1b",
   "metadata": {},
   "outputs": [
    {
     "data": {
      "image/png": "[encoded data removed]",
      "text/plain": [
       "<Figure size 640x480 with 1 Axes>"
      ]
     },
     "metadata": {},
     "output_type": "display_data"
    }
   ],
   "source": [
    "plt.plot(history['loss'])\n",
    "plt.plot(history['val_loss'])\n",
    "plt.title('model loss')\n",
    "plt.ylabel('loss')\n",
    "plt.xlabel('epoch')\n",
    "plt.legend(['train', 'test'], loc='upper right');"
   ]
  },
  {
   "cell_type": "markdown",
   "id": "9812b662",
   "metadata": {},
   "source": [
    "### Test"
   ]
  },
  {
   "cell_type": "code",
   "execution_count": 17,
   "id": "099b2851",
   "metadata": {},
   "outputs": [],
   "source": [
    "cae = load_model('./pth/fraudConv_AE.h5')"
   ]
  },
  {
   "cell_type": "code",
   "execution_count": 18,
   "id": "ac2e5cde",
   "metadata": {},
   "outputs": [
    {
     "name": "stdout",
     "output_type": "stream",
     "text": [
      "2671/2671 [==============================] - 9s 3ms/step\n"
     ]
    },
    {
     "data": {
      "text/html": [
       "<div>\n",
       "<style scoped>\n",
       "    .dataframe tbody tr th:only-of-type {\n",
       "        vertical-align: middle;\n",
       "    }\n",
       "\n",
       "    .dataframe tbody tr th {\n",
       "        vertical-align: top;\n",
       "    }\n",
       "\n",
       "    .dataframe thead th {\n",
       "        text-align: right;\n",
       "    }\n",
       "</style>\n",
       "<table border=\"1\" class=\"dataframe\">\n",
       "  <thead>\n",
       "    <tr style=\"text-align: right;\">\n",
       "      <th></th>\n",
       "      <th>reconstruction_error</th>\n",
       "      <th>true_class</th>\n",
       "    </tr>\n",
       "  </thead>\n",
       "  <tbody>\n",
       "    <tr>\n",
       "      <th>count</th>\n",
       "      <td>85443.000000</td>\n",
       "      <td>85443.00000</td>\n",
       "    </tr>\n",
       "    <tr>\n",
       "      <th>mean</th>\n",
       "      <td>0.006492</td>\n",
       "      <td>0.00165</td>\n",
       "    </tr>\n",
       "    <tr>\n",
       "      <th>std</th>\n",
       "      <td>0.251311</td>\n",
       "      <td>0.04059</td>\n",
       "    </tr>\n",
       "    <tr>\n",
       "      <th>min</th>\n",
       "      <td>0.000063</td>\n",
       "      <td>0.00000</td>\n",
       "    </tr>\n",
       "    <tr>\n",
       "      <th>25%</th>\n",
       "      <td>0.000384</td>\n",
       "      <td>0.00000</td>\n",
       "    </tr>\n",
       "    <tr>\n",
       "      <th>50%</th>\n",
       "      <td>0.000639</td>\n",
       "      <td>0.00000</td>\n",
       "    </tr>\n",
       "    <tr>\n",
       "      <th>75%</th>\n",
       "      <td>0.001676</td>\n",
       "      <td>0.00000</td>\n",
       "    </tr>\n",
       "    <tr>\n",
       "      <th>max</th>\n",
       "      <td>47.167931</td>\n",
       "      <td>1.00000</td>\n",
       "    </tr>\n",
       "  </tbody>\n",
       "</table>\n",
       "</div>"
      ],
      "text/plain": [
       "       reconstruction_error   true_class\n",
       "count          85443.000000  85443.00000\n",
       "mean               0.006492      0.00165\n",
       "std                0.251311      0.04059\n",
       "min                0.000063      0.00000\n",
       "25%                0.000384      0.00000\n",
       "50%                0.000639      0.00000\n",
       "75%                0.001676      0.00000\n",
       "max               47.167931      1.00000"
      ]
     },
     "execution_count": 18,
     "metadata": {},
     "output_type": "execute_result"
    }
   ],
   "source": [
    "predictions = cae.predict(X_test)\n",
    "mse = np.mean(np.power(X_test - predictions, 2), axis=1)\n",
    "error_df = pd.DataFrame({'reconstruction_error': mse,\n",
    "                        'true_class': y_test})\n",
    "error_df.describe()"
   ]
  },
  {
   "cell_type": "code",
   "execution_count": 25,
   "id": "4da1351d",
   "metadata": {},
   "outputs": [],
   "source": [
    "threshold = 1"
   ]
  },
  {
   "cell_type": "code",
   "execution_count": 26,
   "id": "79018bfb",
   "metadata": {},
   "outputs": [
    {
     "data": {
      "image/png": "[encoded data removed]",
      "text/plain": [
       "<Figure size 640x480 with 1 Axes>"
      ]
     },
     "metadata": {},
     "output_type": "display_data"
    }
   ],
   "source": [
    "groups = error_df.groupby('true_class')\n",
    "fig, ax = plt.subplots()\n",
    "\n",
    "for name, group in groups:\n",
    "    ax.plot(group.index, group.reconstruction_error, marker='o', ms=3.5, linestyle='',\n",
    "            label= \"Fraud\" if name == 1 else \"Normal\")\n",
    "ax.hlines(threshold, ax.get_xlim()[0], ax.get_xlim()[1], colors=\"r\", zorder=100, label='Threshold')\n",
    "ax.legend()\n",
    "plt.title(\"Reconstruction error for different classes\")\n",
    "plt.ylabel(\"Reconstruction error\")\n",
    "plt.xlabel(\"Data point index\")\n",
    "plt.show();"
   ]
  },
  {
   "cell_type": "code",
   "execution_count": 27,
   "id": "a97a4779",
   "metadata": {
    "scrolled": false
   },
   "outputs": [
    {
     "data": {
      "image/png": "[encoded data removed]",
      "text/plain": [
       "<Figure size 1200x1200 with 2 Axes>"
      ]
     },
     "metadata": {},
     "output_type": "display_data"
    }
   ],
   "source": [
    "from sklearn.metrics import classification_report, confusion_matrix, ConfusionMatrixDisplay\n",
    "LABELS = ['Normal','Fraud']\n",
    "\n",
    "y_pred = [1 if e > threshold else 0 for e in error_df.reconstruction_error.values]\n",
    "conf_matrix = confusion_matrix(error_df.true_class, y_pred)\n",
    "plt.figure(figsize=(12, 12))\n",
    "sns.heatmap(conf_matrix, xticklabels=LABELS, yticklabels=LABELS, annot=True, fmt=\"d\");\n",
    "plt.title(\"Confusion matrix\")\n",
    "plt.ylabel('True class')\n",
    "plt.xlabel('Predicted class')\n",
    "plt.show()"
   ]
  },
  {
   "cell_type": "markdown",
   "id": "78da0e18",
   "metadata": {},
   "source": [
    "### Visualize the latent space"
   ]
  },
  {
   "cell_type": "code",
   "execution_count": 22,
   "id": "e8f06329",
   "metadata": {},
   "outputs": [],
   "source": [
    "inp_layer = cae.input\n",
    "out_layer = cae.layers[5].output\n",
    "\n",
    "encoder = Model(inputs=inp_layer, outputs=out_layer)"
   ]
  },
  {
   "cell_type": "code",
   "execution_count": 23,
   "id": "3ef81e12",
   "metadata": {},
   "outputs": [
    {
     "name": "stdout",
     "output_type": "stream",
     "text": [
      "Model: \"model_1\"\n",
      "_________________________________________________________________\n",
      " Layer (type)                Output Shape              Param #   \n",
      "=================================================================\n",
      " input_1 (InputLayer)        [(None, 28)]              0         \n",
      "                                                                 \n",
      " reshape (Reshape)           (None, 28, 1)             0         \n",
      "                                                                 \n",
      " conv1d (Conv1D)             (None, 28, 14)            56        \n",
      "                                                                 \n",
      " max_pooling1d (MaxPooling1  (None, 14, 14)            0         \n",
      " D)                                                              \n",
      "                                                                 \n",
      " conv1d_1 (Conv1D)           (None, 14, 7)             301       \n",
      "                                                                 \n",
      " flatten (Flatten)           (None, 98)                0         \n",
      "                                                                 \n",
      "=================================================================\n",
      "Total params: 357 (1.39 KB)\n",
      "Trainable params: 357 (1.39 KB)\n",
      "Non-trainable params: 0 (0.00 Byte)\n",
      "_________________________________________________________________\n"
     ]
    }
   ],
   "source": [
    "encoder.summary()"
   ]
  },
  {
   "cell_type": "code",
   "execution_count": 24,
   "id": "4b500111",
   "metadata": {},
   "outputs": [
    {
     "name": "stdout",
     "output_type": "stream",
     "text": [
      "6220/6220 [==============================] - 12s 2ms/step\n",
      "2671/2671 [==============================] - 5s 2ms/step\n"
     ]
    },
    {
     "data": {
      "image/png": "[encoded data removed]",
      "text/plain": [
       "<Figure size 800x800 with 1 Axes>"
      ]
     },
     "metadata": {},
     "output_type": "display_data"
    }
   ],
   "source": [
    "X_train_encoded = encoder.predict(X_train)\n",
    "X_test_encoded = encoder.predict(X_test)\n",
    "\n",
    "X_encoded = np.vstack((X_train_encoded, X_test_encoded))\n",
    "y_main = np.hstack((np.zeros(len(X_train)), y_test))\n",
    "\n",
    "encoded_df = pd.DataFrame(np.hstack((X_encoded, y_main[np.newaxis].transpose())))\n",
    "\n",
    "label = 98;\n",
    "\n",
    "plt.subplots(figsize=(8,8))\n",
    "plt.scatter(encoded_df[encoded_df[label]==0][0],encoded_df[encoded_df[label]==0][1], color='blue', label='Normal')\n",
    "plt.scatter(encoded_df[encoded_df[label]==1][0],encoded_df[encoded_df[label]==1][1], color='red', label='Fraud');"
   ]
  },
  {
   "cell_type": "code",
   "execution_count": null,
   "id": "6349ac65",
   "metadata": {},
   "outputs": [],
   "source": []
  }
 ],
 "metadata": {
  "kernelspec": {
   "display_name": "Python 3 (ipykernel)",
   "language": "python",
   "name": "python3"
  },
  "language_info": {
   "codemirror_mode": {
    "name": "ipython",
    "version": 3
   },
   "file_extension": ".py",
   "mimetype": "text/x-python",
   "name": "python",
   "nbconvert_exporter": "python",
   "pygments_lexer": "ipython3",
   "version": "3.11.4"
  }
 },
 "nbformat": 4,
 "nbformat_minor": 5
}
